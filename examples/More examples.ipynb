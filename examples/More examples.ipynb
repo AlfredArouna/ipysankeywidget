{
 "cells": [
  {
   "cell_type": "markdown",
   "metadata": {},
   "source": [
    "# More examples\n",
    "\n",
    "> [<i class=\"fa fa-2x fa-paper-plane text-info fa-fw\"> </i> Simple example](./Simple example.ipynb)\n",
    ">\n",
    "> <i class=\"fa fa-2x fa-space-shuttle text-info fa-fw\"> </i> Advanced examples\n",
    ">\n",
    "> [<i class=\"fa fa-2x fa-link text-info fa-fw\"> </i> Linking and Layout](./Linking and Layout.ipynb)\n",
    ">\n",
    "> [<i class=\"fa fa-2x fa-image text-info fa-fw\"> </i> Exporting Images](./Exporting Images.ipynb)"
   ]
  },
  {
   "cell_type": "code",
   "execution_count": 1,
   "metadata": {},
   "outputs": [],
   "source": [
    "from ipysankeywidget import SankeyWidget\n",
    "from ipywidgets import Layout"
   ]
  },
  {
   "cell_type": "markdown",
   "metadata": {},
   "source": [
    "> <i class=\"fa fa-gears fa-2x fa-fw text-info\"></i> A convenience factory function"
   ]
  },
  {
   "cell_type": "code",
   "execution_count": 2,
   "metadata": {},
   "outputs": [],
   "source": [
    "layout = Layout(width=\"300\", height=\"200\")\n",
    "def sankey(**value):\n",
    "    \"\"\"Show SankeyWidget with default values for size and margins\"\"\"\n",
    "    return SankeyWidget(layout=layout,\n",
    "                        margins=dict(top=10, bottom=0, left=30, right=60),\n",
    "                        **value)"
   ]
  },
  {
   "cell_type": "markdown",
   "metadata": {},
   "source": [
    "## Rank assignment"
   ]
  },
  {
   "cell_type": "markdown",
   "metadata": {},
   "source": [
    "### Rank sets"
   ]
  },
  {
   "cell_type": "markdown",
   "metadata": {},
   "source": [
    "You can adjust the left-right placement of nodes by putting them in rank sets: all nodes in the same set end up with the same rank."
   ]
  },
  {
   "cell_type": "code",
   "execution_count": 3,
   "metadata": {},
   "outputs": [
    {
     "data": {
      "application/vnd.jupyter.widget-view+json": {
       "model_id": "7500d58362374389afcfaabfae48081f"
      }
     },
     "metadata": {},
     "output_type": "display_data"
    }
   ],
   "source": [
    "links = [\n",
    "    {'source': 'A', 'target': 'B', 'value': 1},\n",
    "    {'source': 'B', 'target': 'C', 'value': 1},\n",
    "    {'source': 'A', 'target': 'D', 'value': 1},\n",
    "]\n",
    "sankey(links=links)"
   ]
  },
  {
   "cell_type": "code",
   "execution_count": 4,
   "metadata": {},
   "outputs": [
    {
     "data": {
      "application/vnd.jupyter.widget-view+json": {
       "model_id": "f521c2561cb749939d9b9c50cb848a85"
      }
     },
     "metadata": {},
     "output_type": "display_data"
    }
   ],
   "source": [
    "rank_sets = [\n",
    "    { 'type': 'same', 'nodes': ['C', 'D'] }\n",
    "]\n",
    "sankey(links=links, rank_sets=rank_sets)"
   ]
  },
  {
   "cell_type": "code",
   "execution_count": 5,
   "metadata": {},
   "outputs": [
    {
     "data": {
      "application/vnd.jupyter.widget-view+json": {
       "model_id": "40b51546bdaf49678f235ff054a3939d"
      }
     },
     "metadata": {},
     "output_type": "display_data"
    }
   ],
   "source": [
    "order = [\n",
    "    ['A'],\n",
    "    ['D', 'B'],\n",
    "    ['C'],\n",
    "]\n",
    "sankey(links=links, order=order)"
   ]
  },
  {
   "cell_type": "code",
   "execution_count": 6,
   "metadata": {},
   "outputs": [
    {
     "data": {
      "application/vnd.jupyter.widget-view+json": {
       "model_id": "8e62f6aa1e684e25877c08ead055960a"
      }
     },
     "metadata": {},
     "output_type": "display_data"
    }
   ],
   "source": [
    "order = [\n",
    "    [ [   ], ['A'], [],   ],\n",
    "    [ ['B'], [   ], ['D'] ],\n",
    "    [ [   ], ['C'], []    ],\n",
    "]\n",
    "sankey(links=links, order=order)"
   ]
  },
  {
   "cell_type": "markdown",
   "metadata": {},
   "source": [
    "### Reversed nodes"
   ]
  },
  {
   "cell_type": "markdown",
   "metadata": {},
   "source": [
    "Most nodes are assumed to link from left to right, but sometimes there are return links which should be shown from right to left."
   ]
  },
  {
   "cell_type": "code",
   "execution_count": 7,
   "metadata": {},
   "outputs": [
    {
     "data": {
      "application/vnd.jupyter.widget-view+json": {
       "model_id": "47dece7cc75042cc93eee6f2ef0f2ba3"
      }
     },
     "metadata": {},
     "output_type": "display_data"
    }
   ],
   "source": [
    "links = [\n",
    "    {'source': 'A', 'target': 'B', 'value': 1},\n",
    "    {'source': 'B', 'target': 'C', 'value': 1},\n",
    "    {'source': 'C', 'target': 'D', 'value': 1},\n",
    "    {'source': 'A', 'target': 'E', 'value': 0.5},\n",
    "]\n",
    "\n",
    "nodes = [\n",
    "    {'id': 'C', 'backwards': True},\n",
    "    {'id': 'D', 'backwards': True},\n",
    "]\n",
    "\n",
    "sankey(links=links, nodes=nodes)"
   ]
  },
  {
   "cell_type": "markdown",
   "metadata": {},
   "source": [
    "Variations:"
   ]
  },
  {
   "cell_type": "code",
   "execution_count": 8,
   "metadata": {},
   "outputs": [
    {
     "data": {
      "application/vnd.jupyter.widget-view+json": {
       "model_id": "4fca8b3f3c31472aa735eb1df0a15743"
      }
     },
     "metadata": {},
     "output_type": "display_data"
    }
   ],
   "source": [
    "nodes = [\n",
    "    {'id': 'C', 'backwards': False},\n",
    "    {'id': 'D', 'backwards': True},\n",
    "]\n",
    "sankey(links=links, nodes=nodes)"
   ]
  },
  {
   "cell_type": "code",
   "execution_count": 9,
   "metadata": {},
   "outputs": [
    {
     "data": {
      "application/vnd.jupyter.widget-view+json": {
       "model_id": "40ed46db9cad44e5baa73e20319cdc54"
      }
     },
     "metadata": {},
     "output_type": "display_data"
    }
   ],
   "source": [
    "nodes = [\n",
    "    {'id': 'C', 'backwards': True},\n",
    "    {'id': 'D', 'backwards': False},\n",
    "]\n",
    "sankey(links=links, nodes=nodes)"
   ]
  },
  {
   "cell_type": "markdown",
   "metadata": {},
   "source": [
    "## Styling"
   ]
  },
  {
   "cell_type": "markdown",
   "metadata": {},
   "source": [
    "By default, the links are coloured according to their type:"
   ]
  },
  {
   "cell_type": "code",
   "execution_count": 10,
   "metadata": {},
   "outputs": [
    {
     "data": {
      "application/vnd.jupyter.widget-view+json": {
       "model_id": "69c841f1713f474280525c3ffabca041"
      }
     },
     "metadata": {},
     "output_type": "display_data"
    }
   ],
   "source": [
    "links = [\n",
    "    {'source': 'A', 'target': 'B', 'value': 3, 'type': 'x'},\n",
    "    {'source': 'B', 'target': 'C', 'value': 2, 'type': 'y'},\n",
    "    {'source': 'B', 'target': 'D', 'value': 1, 'type': 'z'},\n",
    "]\n",
    "sankey(links=links)"
   ]
  },
  {
   "cell_type": "markdown",
   "metadata": {},
   "source": [
    "You can also set the colours directly:"
   ]
  },
  {
   "cell_type": "code",
   "execution_count": 11,
   "metadata": {},
   "outputs": [
    {
     "data": {
      "application/vnd.jupyter.widget-view+json": {
       "model_id": "c94af7dc323541a49362041b2002ad4f"
      }
     },
     "metadata": {},
     "output_type": "display_data"
    }
   ],
   "source": [
    "links = [\n",
    "    {'source': 'A', 'target': 'B', 'value': 3, 'color': 'steelblue'},\n",
    "    {'source': 'B', 'target': 'C', 'value': 2, 'color': '#aaa'},\n",
    "    {'source': 'B', 'target': 'D', 'value': 1, 'color': 'goldenrod'},\n",
    "]\n",
    "sankey(links=links)"
   ]
  },
  {
   "cell_type": "markdown",
   "metadata": {},
   "source": [
    "Process titles default to their ids, but can be overridden. There are also one built-in alternative \"style\" of node:\n",
    "- `process` is drawn with a thicker line"
   ]
  },
  {
   "cell_type": "code",
   "execution_count": 12,
   "metadata": {},
   "outputs": [
    {
     "data": {
      "application/vnd.jupyter.widget-view+json": {
       "model_id": "c0c06c5f22944c10b3bff1cd3b300205"
      }
     },
     "metadata": {},
     "output_type": "display_data"
    }
   ],
   "source": [
    "nodes = [\n",
    "    {'id': 'B', 'title': 'Middle node', 'style': 'process' },\n",
    "]\n",
    "sankey(links=links, nodes=nodes)"
   ]
  },
  {
   "cell_type": "markdown",
   "metadata": {},
   "source": [
    "Of course, you can also use CSS to adjust the styling:"
   ]
  },
  {
   "cell_type": "code",
   "execution_count": 13,
   "metadata": {},
   "outputs": [
    {
     "data": {
      "text/html": [
       "<style>\n",
       ".sankey .node {\n",
       "    font-style: italic;\n",
       "}\n",
       "</style>"
      ],
      "text/plain": [
       "<IPython.core.display.HTML object>"
      ]
     },
     "metadata": {},
     "output_type": "display_data"
    }
   ],
   "source": [
    "%%html\n",
    "<style>\n",
    ".sankey .node {\n",
    "    font-style: italic;\n",
    "}\n",
    "</style>"
   ]
  },
  {
   "cell_type": "markdown",
   "metadata": {},
   "source": [
    "## Aligning link types"
   ]
  },
  {
   "cell_type": "code",
   "execution_count": 14,
   "metadata": {},
   "outputs": [
    {
     "data": {
      "application/vnd.jupyter.widget-view+json": {
       "model_id": "a59e794e69944bc899ab4e351b61187d"
      }
     },
     "metadata": {},
     "output_type": "display_data"
    }
   ],
   "source": [
    "links = [\n",
    "    {'source': 'A1', 'target': 'B', 'value': 1.5, 'type': 'x'},\n",
    "    {'source': 'A1', 'target': 'B', 'value': 0.5, 'type': 'y'},\n",
    "    {'source': 'A2', 'target': 'B', 'value': 0.5, 'type': 'x'},\n",
    "    {'source': 'A2', 'target': 'B', 'value': 1.5, 'type': 'y'},\n",
    "    {'source': 'B',  'target': 'C', 'value': 2.0, 'type': 'x'},\n",
    "    {'source': 'B',  'target': 'C', 'value': 2.0, 'type': 'y'},\n",
    "]\n",
    "sankey(links=links, nodes=[])"
   ]
  },
  {
   "cell_type": "code",
   "execution_count": 15,
   "metadata": {},
   "outputs": [
    {
     "data": {
      "application/vnd.jupyter.widget-view+json": {
       "model_id": "f35b8b755e7c4d43bb1b89a523df5649"
      }
     },
     "metadata": {},
     "output_type": "display_data"
    }
   ],
   "source": [
    "sankey(links=links, align_link_types=True)"
   ]
  },
  {
   "cell_type": "code",
   "execution_count": 16,
   "metadata": {},
   "outputs": [
    {
     "data": {
      "application/vnd.jupyter.widget-view+json": {
       "model_id": "f40fa681e22b4ce0968dd286ef4c8d7f"
      }
     },
     "metadata": {},
     "output_type": "display_data"
    }
   ],
   "source": [
    "order = [\n",
    "    ['A2', 'A1'],\n",
    "    ['B'],\n",
    "    ['C'],\n",
    "]\n",
    "sankey(links=links, align_link_types=True, order=order)"
   ]
  },
  {
   "cell_type": "markdown",
   "metadata": {},
   "source": [
    "## Dynamic updating"
   ]
  },
  {
   "cell_type": "code",
   "execution_count": 17,
   "metadata": {},
   "outputs": [
    {
     "data": {
      "application/vnd.jupyter.widget-view+json": {
       "model_id": "09703df5ae144fc2820f3f3d2457fff7"
      }
     },
     "metadata": {},
     "output_type": "display_data"
    }
   ],
   "source": [
    "from ipywidgets import Button, VBox\n",
    "\n",
    "links = [\n",
    "    {'source': 'A', 'target': 'B', 'value': 1},\n",
    "    {'source': 'B', 'target': 'C', 'value': 1},\n",
    "    {'source': 'A', 'target': 'D', 'value': 1},\n",
    "]\n",
    "order = [\n",
    "    ['A'],\n",
    "    ['D', 'B'],\n",
    "    ['C'],\n",
    "]\n",
    "s = sankey(links=links, order=order)\n",
    "\n",
    "def swap(x):\n",
    "    global order\n",
    "    order = [list(reversed(o)) for o in order]\n",
    "    s.order = order\n",
    "b = Button(description='Swap')\n",
    "b.on_click(swap)\n",
    "\n",
    "VBox([b, s])"
   ]
  },
  {
   "cell_type": "markdown",
   "metadata": {
    "collapsed": true
   },
   "source": [
    "## Node groups"
   ]
  },
  {
   "cell_type": "code",
   "execution_count": 18,
   "metadata": {},
   "outputs": [
    {
     "data": {
      "application/vnd.jupyter.widget-view+json": {
       "model_id": "a33ad34836bd4ed496af0dcd89df32cb"
      }
     },
     "metadata": {},
     "output_type": "display_data"
    }
   ],
   "source": [
    "links = [\n",
    "    {'source': 'A', 'target': 'B', 'value': 3, 'type': 'x'},\n",
    "    {'source': 'B', 'target': 'C', 'value': 2, 'type': 'y'},\n",
    "    {'source': 'B', 'target': 'D', 'value': 1, 'type': 'z'},\n",
    "]\n",
    "groups = [\n",
    "    {'id': 'G', 'title': 'Group', 'nodes': ['C', 'D']}\n",
    "]\n",
    "sankey(links=links, nodes=[], groups=groups, margin_top=50)"
   ]
  }
 ],
 "metadata": {
  "anaconda-cloud": {},
  "hide_input": true,
  "kernelspec": {
   "display_name": "Python 3",
   "language": "python",
   "name": "python3"
  },
  "language_info": {
   "codemirror_mode": {
    "name": "ipython",
    "version": 3
   },
   "file_extension": ".py",
   "mimetype": "text/x-python",
   "name": "python",
   "nbconvert_exporter": "python",
   "pygments_lexer": "ipython3",
   "version": "3.5.2"
  },
  "widgets": {
   "application/vnd.jupyter.widget-state+json": {
    "state": {
     "03d61cdaaa8540ba92e31202d2b0f3f4": {
      "model_module": "jupyter-js-widgets",
      "model_module_version": "~2.1.4",
      "model_name": "LayoutModel",
      "state": {
       "_model_module_version": "~2.1.4",
       "_view_module_version": "~2.1.4"
      }
     },
     "079d75434462430bb173c361013bad55": {
      "model_module": "jupyter-sankey-widget",
      "model_module_version": "^0.2.0",
      "model_name": "SankeyModel",
      "state": {
       "_dom_classes": [],
       "_model_module_version": "^0.2.0",
       "_view_module_version": "^0.2.0",
       "align_link_types": true,
       "layout": "IPY_MODEL_73d879c5e19d4280945904f358b1ad45",
       "links": [
        {
         "source": "A1",
         "target": "B",
         "type": "x",
         "value": 1.5
        },
        {
         "source": "A1",
         "target": "B",
         "type": "y",
         "value": 0.5
        },
        {
         "source": "A2",
         "target": "B",
         "type": "x",
         "value": 0.5
        },
        {
         "source": "A2",
         "target": "B",
         "type": "y",
         "value": 1.5
        },
        {
         "source": "B",
         "target": "C",
         "type": "x",
         "value": 2
        },
        {
         "source": "B",
         "target": "C",
         "type": "y",
         "value": 2
        }
       ],
       "margins": {
        "bottom": 0,
        "left": 30,
        "right": 60,
        "top": 10
       },
       "msg_throttle": 1,
       "order": [
        [
         "A2",
         "A1"
        ],
        [
         "B"
        ],
        [
         "C"
        ]
       ],
       "png": "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",
       "scale": 23.75,
       "svg": "<?xml version=\"1.0\" standalone=\"no\"?><!DOCTYPE svg PUBLIC \"-//W3C//DTD SVG 1.1//EN\" \"http://www.w3.org/Graphics/SVG/1.1/DTD/svg11.dtd\"><svg xmlns=\"http://www.w3.org/2000/svg\" width=\"300\" height=\"200\" viewBox=\"0 0 300 200\" style=\"font-family: &quot;Helvetica Neue&quot;,Helvetica,Arial,sans-serif;\"><g class=\"sankey\" transform=\"translate(30,10)\"><g class=\"groups\"/><g class=\"links\"><g class=\"link\" style=\"opacity: 0.8;\"><path d=\"M0,159.125 A77.72123766447369 77.72123766447369 0.25306827522518294 0 0 19.459507730729978,156.64948210067485 L117.45533209577687,131.30650567938838 A21.396518640350877 21.396518640350877 0.25306827522518294 0 1 122.8125,130.625 L122.8125,142.5 A9.521518640350877 9.521518640350877 0.25306827522518294 0 0 120.42854329578387,142.80327218828788 L22.43271893073697,168.14624860957434 A89.59623766447369 89.59623766447369 0.25306827522518294 0 1 0,171 Z\" style=\"fill: rgb(174, 199, 232);\"/><title>A1 → B\n500m</title></g><g class=\"link\" style=\"opacity: 0.8;\"><path d=\"M0,19 A89.59623766447369 89.59623766447369 0.27957664378928837 0 1 24.723970238161634,22.478811441372063 L101.36542122772394,44.48226691351374 A77.72123766447369 77.72123766447369 0.27957664378928837 0 0 122.8125,47.5 L122.8125,59.375 A89.59623766447369 89.59623766447369 0.27957664378928837 0 1 98.08852976183837,55.89618855862794 L21.447078772276058,33.89273308648626 A77.72123766447369 77.72123766447369 0.27957664378928837 0 0 0,30.875 Z\" style=\"fill: rgb(31, 119, 180);\"/><title>A2 → B\n500m</title></g><g class=\"link\" style=\"opacity: 0.8;\"><path d=\"M0,123.5 A27.087911184210526 27.087911184210526 0.6680873534090849 0 0 16.780573032680792,117.67631466623001 L65.41930856136892,79.29326420876473 A92.64651864035088 92.64651864035088 0.6680873534090849 0 1 122.8125,59.375 L122.8125,95 A57.02151864035088 57.02151864035088 0.6680873534090849 0 0 87.48848584949124,107.25917271940367 L38.849750320803096,145.64222317686895 A62.712911184210526 62.712911184210526 0.6680873534090849 0 1 0,159.125 Z\" style=\"fill: rgb(31, 119, 180);\"/><title>A1 → B\n1.50</title></g><g class=\"link\" style=\"opacity: 0.8;\"><path d=\"M0,30.875 A62.712911184210526 62.712911184210526 0.5809703016644223 0 1 34.41905941034765,41.16427549852352 L111.06933527760921,91.48948404973275 A21.396518640350877 21.396518640350877 0.5809703016644223 0 0 122.8125,95 L122.8125,130.625 A57.02151864035088 57.02151864035088 0.5809703016644223 0 1 91.51707772267122,121.26950838661621 L14.866801855409667,70.94429983540697 A27.087911184210526 27.087911184210526 0.5809703016644223 0 0 0,66.5 Z\" style=\"fill: rgb(174, 199, 232);\"/><title>A2 → B\n1.50</title></g><g class=\"link\" style=\"opacity: 0.8;\"><path d=\"M122.8125,47.5 A0 0 0 0 0 122.8125,47.5 L210,47.5 A0 0 0 0 0 210,47.5 L210,95 A0 0 0 0 0 210,95 L122.8125,95 A0 0 0 0 0 122.8125,95 Z\" style=\"fill: rgb(31, 119, 180);\"/><title>B → C\n2.00</title></g><g class=\"link\" style=\"opacity: 0.8;\"><path d=\"M122.8125,95 A0 0 0 0 0 122.8125,95 L210,95 A0 0 0 0 0 210,95 L210,142.5 A0 0 0 0 0 210,142.5 L122.8125,142.5 A0 0 0 0 0 122.8125,142.5 Z\" style=\"fill: rgb(174, 199, 232);\"/><title>B → C\n2.00</title></g></g><g class=\"nodes\"><g class=\"node\" transform=\"translate(0,123.5)\"><title>A1</title><text dy=\".35em\" text-anchor=\"end\" transform=\"translate(-4, 23.75)\">A1</text><line x1=\"0\" x2=\"0\" y1=\"0\" y2=\"47.5\" style=\"stroke: rgb(0, 0, 0);\"/><rect x=\"-5\" y=\"-5\" width=\"10\" style=\"fill: none; visibility: hidden; pointer-events: all;\" height=\"52.5\"/></g><g class=\"node\" transform=\"translate(122.8125,47.5)\"><title>B</title><text dy=\".35em\" text-anchor=\"start\" transform=\"translate(-4, -10)\">B</text><line x1=\"0\" x2=\"0\" y1=\"-5\" y2=\"95\" style=\"stroke: rgb(0, 0, 0);\"/><rect x=\"-5\" y=\"-5\" width=\"10\" style=\"fill: none; visibility: hidden; pointer-events: all;\" height=\"100\"/></g><g class=\"node\" transform=\"translate(0,19)\"><title>A2</title><text dy=\".35em\" text-anchor=\"end\" transform=\"translate(-4, 23.75)\">A2</text><line x1=\"0\" x2=\"0\" y1=\"0\" y2=\"47.5\" style=\"stroke: rgb(0, 0, 0);\"/><rect x=\"-5\" y=\"-5\" width=\"10\" style=\"fill: none; visibility: hidden; pointer-events: all;\" height=\"52.5\"/></g><g class=\"node\" transform=\"translate(210,47.5)\"><title>C</title><text dy=\".35em\" text-anchor=\"start\" transform=\"translate(4, 47.5)\">C</text><line x1=\"0\" x2=\"0\" y1=\"0\" y2=\"95\" style=\"stroke: rgb(0, 0, 0);\"/><rect x=\"-5\" y=\"-5\" width=\"10\" style=\"fill: none; visibility: hidden; pointer-events: all;\" height=\"100\"/></g></g><g class=\"slice-titles\"/></g></svg>"
      }
     },
     "086720dddb1b481cb53c584a7da07221": {
      "model_module": "jupyter-sankey-widget",
      "model_module_version": "^0.2.0",
      "model_name": "SankeyModel",
      "state": {
       "_dom_classes": [],
       "_model_module_version": "^0.2.0",
       "_view_module_version": "^0.2.0",
       "layout": "IPY_MODEL_73d879c5e19d4280945904f358b1ad45",
       "links": [
        {
         "color": "steelblue",
         "source": "A",
         "target": "B",
         "value": 3
        },
        {
         "color": "#aaa",
         "source": "B",
         "target": "C",
         "value": 2
        },
        {
         "color": "goldenrod",
         "source": "B",
         "target": "D",
         "value": 1
        }
       ],
       "margins": {
        "bottom": 0,
        "left": 30,
        "right": 60,
        "top": 10
       },
       "msg_throttle": 1,
       "nodes": [
        {
         "id": "B",
         "style": "process",
         "title": "Middle node"
        }
       ],
       "order": [],
       "png": "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",
       "scale": 31.666666666666668,
       "svg": "<?xml version=\"1.0\" standalone=\"no\"?><!DOCTYPE svg PUBLIC \"-//W3C//DTD SVG 1.1//EN\" \"http://www.w3.org/Graphics/SVG/1.1/DTD/svg11.dtd\"><svg xmlns=\"http://www.w3.org/2000/svg\" width=\"300\" height=\"200\" viewBox=\"0 0 300 200\" style=\"font-family: &quot;Helvetica Neue&quot;,Helvetica,Arial,sans-serif;\"><g class=\"sankey\" transform=\"translate(30,10)\"><g class=\"groups\"/><g class=\"links\"><g class=\"link\" style=\"opacity: 0.8;\"><path d=\"M78.5531192765574,110.83333333333334 A111.04666202766458 111.04666202766458 0.2617589573498933 0 1 107.28977359613057,114.61599466177117 L189.45804542949668,136.62935616534955 A79.37999536099792 79.37999536099792 0.2617589573498933 0 0 210,139.33333333333334 L210,171.00000000000003 A111.04666202766458 111.04666202766458 0.2617589573498933 0 1 181.26334568042682,167.2173386715622 L99.09507384706069,145.20397716798382 A79.37999536099792 79.37999536099792 0.2617589573498933 0 0 78.5531192765574,142.5 Z\" style=\"fill: rgb(218, 165, 32);\"/><title>Middle node → D\n1.00</title></g><g class=\"link\" style=\"opacity: 0.8;\"><path d=\"M78.5531192765574,47.5 A63.54666202766464 63.54666202766464 0.2617589573498931 0 0 94.99772397252575,45.33536491224318 L177.1659958058919,23.322003408664823 A126.87999536099798 126.87999536099798 0.2617589573498931 0 1 210,19.000000000000004 L210,82.33333333333334 A63.54666202766464 63.54666202766464 0.2617589573498931 0 0 193.55539530403166,84.49796842109015 L111.38712347066549,106.51132992466852 A126.87999536099798 126.87999536099798 0.2617589573498931 0 1 78.5531192765574,110.83333333333334 Z\" style=\"fill: rgb(170, 170, 170);\"/><title>Middle node → C\n2.00</title></g><g class=\"link\" style=\"opacity: 0.8;\"><path d=\"M0,47.5 A0 0 0 0 0 0,47.5 L78.5531192765574,47.5 A0 0 0 0 0 78.5531192765574,47.5 L78.5531192765574,142.5 A0 0 0 0 0 78.5531192765574,142.5 L0,142.5 A0 0 0 0 0 0,142.5 Z\" style=\"fill: rgb(70, 130, 180);\"/><title>A → Middle node\n3.00</title></g></g><g class=\"nodes\"><g class=\"node\" transform=\"translate(78.5531192765574,47.5)\"><title>Middle node</title><text dy=\".35em\" text-anchor=\"start\" transform=\"translate(-4, -10)\">Middle node</text><line x1=\"0\" x2=\"0\" y1=\"-5\" y2=\"95\" style=\"stroke: rgb(136, 136, 136); stroke-width: 4px;\"/><rect x=\"-5\" y=\"-5\" width=\"10\" style=\"fill: none; visibility: hidden; pointer-events: all;\" height=\"100\"/></g><g class=\"node\" transform=\"translate(0,47.5)\"><title>A</title><text dy=\".35em\" text-anchor=\"end\" transform=\"translate(-4, 47.5)\">A</text><line x1=\"0\" x2=\"0\" y1=\"0\" y2=\"95\" style=\"stroke: rgb(0, 0, 0);\"/><rect x=\"-5\" y=\"-5\" width=\"10\" style=\"fill: none; visibility: hidden; pointer-events: all;\" height=\"100\"/></g><g class=\"node\" transform=\"translate(210,19)\"><title>C</title><text dy=\".35em\" text-anchor=\"start\" transform=\"translate(4, 31.66666603088379)\">C</text><line x1=\"0\" x2=\"0\" y1=\"0\" y2=\"63.333333333333336\" style=\"stroke: rgb(0, 0, 0);\"/><rect x=\"-5\" y=\"-5\" width=\"10\" style=\"fill: none; visibility: hidden; pointer-events: all;\" height=\"68.33333333333334\"/></g><g class=\"node\" transform=\"translate(210,139.33333333333334)\"><title>D</title><text dy=\".35em\" text-anchor=\"start\" transform=\"translate(4, 15.833333015441895)\">D</text><line x1=\"0\" x2=\"0\" y1=\"0\" y2=\"31.666666666666668\" style=\"stroke: rgb(0, 0, 0);\"/><rect x=\"-5\" y=\"-5\" width=\"10\" style=\"fill: none; visibility: hidden; pointer-events: all;\" height=\"36.66666666666667\"/></g></g><g class=\"slice-titles\"/></g></svg>"
      }
     },
     "09703df5ae144fc2820f3f3d2457fff7": {
      "model_module": "jupyter-js-widgets",
      "model_module_version": "~2.1.4",
      "model_name": "VBoxModel",
      "state": {
       "_model_module_version": "~2.1.4",
       "_view_module_version": "~2.1.4",
       "children": [
        "IPY_MODEL_4b81ad1518484898af240f5ef3d64d9e",
        "IPY_MODEL_fa3b869895414ddaaf419566330aa2a4"
       ],
       "layout": "IPY_MODEL_155ca8829e9f4854a65b76b89c03d62e"
      }
     },
     "1189e88a02f644fea5de54f18e35c451": {
      "model_module": "jupyter-sankey-widget",
      "model_module_version": "^0.2.0",
      "model_name": "SankeyModel",
      "state": {
       "_dom_classes": [],
       "_model_module_version": "^0.2.0",
       "_view_module_version": "^0.2.0",
       "layout": "IPY_MODEL_f29a72bd6abe47d38206af795394ddc5",
       "links": [
        {
         "source": "A",
         "target": "B",
         "value": 1
        },
        {
         "source": "B",
         "target": "C",
         "value": 1
        },
        {
         "source": "C",
         "target": "D",
         "value": 1
        },
        {
         "source": "A",
         "target": "E",
         "value": 0.5
        }
       ],
       "margins": {
        "bottom": 0,
        "left": 30,
        "right": 60,
        "top": 10
       },
       "msg_throttle": 1,
       "nodes": [
        {
         "backwards": false,
         "id": "C"
        },
        {
         "backwards": true,
         "id": "D"
        }
       ],
       "order": [],
       "png": "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",
       "scale": 97.5,
       "svg": "<?xml version=\"1.0\" standalone=\"no\"?><!DOCTYPE svg PUBLIC \"-//W3C//DTD SVG 1.1//EN\" \"http://www.w3.org/Graphics/SVG/1.1/DTD/svg11.dtd\"><svg xmlns=\"http://www.w3.org/2000/svg\" width=\"600\" height=\"400\" viewBox=\"0 0 600 400\" style=\"font-family: &quot;Helvetica Neue&quot;,Helvetica,Arial,sans-serif;\"><g class=\"sankey\" transform=\"translate(30,10)\"><g class=\"groups\"/><g class=\"links\"><g class=\"link\" style=\"opacity: 0.8;\"><path d=\"M0,219.375 A203.19411504219934 203.19411504219934 0.327232653785686 0 1 65.31141732935578,230.15740241998583 L253.5564335149851,294.0544939468954 A154.44411504219934 154.44411504219934 0.327232653785686 0 0 303.19844233738263,302.25 L303.19844233738263,351 A203.19411504219934 203.19411504219934 0.327232653785686 0 1 237.88702500802685,340.21759758001417 L49.642008822397514,276.3205060531046 A154.44411504219934 154.44411504219934 0.327232653785686 0 0 0,268.125 Z\" style=\"fill: rgb(31, 119, 180);\"/><title>A → E\n500m</title></g><g class=\"link\" style=\"opacity: 0.8;\"><path d=\"M0,121.875 A130.06911504219934 130.06911504219934 0.327232653785686 0 0 41.80730456891838,114.972942130336 L230.0523207545477,51.07585060342646 A227.56911504219934 227.56911504219934 0.327232653785686 0 1 303.19844233738263,39 L303.19844233738263,136.5 A130.06911504219934 130.06911504219934 0.327232653785686 0 0 261.3911377684642,143.40205786966402 L73.14612158283491,207.29914939657357 A227.56911504219934 227.56911504219934 0.327232653785686 0 1 0,219.375 Z\" style=\"fill: rgb(31, 119, 180);\"/><title>A → B\n1.00</title></g><g class=\"link\" style=\"opacity: 0.8;\"><path d=\"M303.19844233738263,39 A0 0 0 0 0 303.19844233738263,39 L510,39 A0 0 0 0 0 510,39 L510,136.5 A0 0 0 0 0 510,136.5 L303.19844233738263,136.5 A0 0 0 0 0 303.19844233738263,136.5 Z\" style=\"fill: rgb(31, 119, 180);\"/><title>B → C\n1.00</title></g><g class=\"link\" style=\"opacity: 0.8;\"><path d=\"M510,39 A102.5 102.5 1.5707963267948966 0 1 612.5,141.5 L612.5,248.5 A102.5 102.5 1.5707963267948966 0 1 510,351 L510,253.5 A5 5 1.5707963267948966 0 0 515,248.5 L515,141.5 A5 5 1.5707963267948966 0 0 510,136.5 Z\" style=\"fill: rgb(31, 119, 180);\"/><title>C → D\n1.00</title></g></g><g class=\"nodes\"><g class=\"node\" transform=\"translate(510,39)\"><title>C</title><text dy=\".35em\" text-anchor=\"start\" transform=\"translate(-4, -10)\">C</text><line x1=\"0\" x2=\"0\" y1=\"-5\" y2=\"97.5\" style=\"stroke: rgb(0, 0, 0);\"/><rect x=\"-5\" y=\"-5\" width=\"10\" style=\"fill: none; visibility: hidden; pointer-events: all;\" height=\"102.5\"/></g><g class=\"node\" transform=\"translate(510,253.5)\"><title>D</title><text dy=\".35em\" text-anchor=\"start\" transform=\"translate(4, 48.75)\">D</text><line x1=\"0\" x2=\"0\" y1=\"0\" y2=\"97.5\" style=\"stroke: rgb(0, 0, 0);\"/><rect x=\"-5\" y=\"-5\" width=\"10\" style=\"fill: none; visibility: hidden; pointer-events: all;\" height=\"102.5\"/></g><g class=\"node\" transform=\"translate(0,121.875)\"><title>A</title><text dy=\".35em\" text-anchor=\"end\" transform=\"translate(-4, 73.125)\">A</text><line x1=\"0\" x2=\"0\" y1=\"0\" y2=\"146.25\" style=\"stroke: rgb(0, 0, 0);\"/><rect x=\"-5\" y=\"-5\" width=\"10\" style=\"fill: none; visibility: hidden; pointer-events: all;\" height=\"151.25\"/></g><g class=\"node\" transform=\"translate(303.19844233738263,39)\"><title>B</title><text dy=\".35em\" text-anchor=\"start\" transform=\"translate(-4, -10)\">B</text><line x1=\"0\" x2=\"0\" y1=\"-5\" y2=\"97.5\" style=\"stroke: rgb(0, 0, 0);\"/><rect x=\"-5\" y=\"-5\" width=\"10\" style=\"fill: none; visibility: hidden; pointer-events: all;\" height=\"102.5\"/></g><g class=\"node\" transform=\"translate(303.19844233738263,302.25)\"><title>E</title><text dy=\".35em\" text-anchor=\"start\" transform=\"translate(4, 24.375)\">E</text><line x1=\"0\" x2=\"0\" y1=\"0\" y2=\"48.75\" style=\"stroke: rgb(0, 0, 0);\"/><rect x=\"-5\" y=\"-5\" width=\"10\" style=\"fill: none; visibility: hidden; pointer-events: all;\" height=\"53.75\"/></g></g><g class=\"slice-titles\"/></g></svg>"
      }
     },
     "131fc2ae98bd4be89e6db2152c3fb431": {
      "model_module": "jupyter-sankey-widget",
      "model_module_version": "^0.2.0",
      "model_name": "SankeyModel",
      "state": {
       "_dom_classes": [],
       "_model_module_version": "^0.2.0",
       "_view_module_version": "^0.2.0",
       "layout": "IPY_MODEL_918c2d53b8df4c6b932133cdb78b2959",
       "links": [
        {
         "source": "A",
         "target": "B",
         "value": 1
        },
        {
         "source": "B",
         "target": "C",
         "value": 1
        },
        {
         "source": "C",
         "target": "D",
         "value": 1
        },
        {
         "source": "A",
         "target": "E",
         "value": 0.5
        }
       ],
       "margins": {
        "bottom": 0,
        "left": 30,
        "right": 60,
        "top": 10
       },
       "msg_throttle": 1,
       "nodes": [
        {
         "backwards": true,
         "id": "C"
        },
        {
         "backwards": false,
         "id": "D"
        }
       ],
       "order": [],
       "png": "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",
       "scale": 27.142857142857142,
       "svg": "<?xml version=\"1.0\" standalone=\"no\"?><!DOCTYPE svg PUBLIC \"-//W3C//DTD SVG 1.1//EN\" \"http://www.w3.org/Graphics/SVG/1.1/DTD/svg11.dtd\"><svg xmlns=\"http://www.w3.org/2000/svg\" width=\"300\" height=\"200\" viewBox=\"0 0 300 200\" style=\"font-family: &quot;Helvetica Neue&quot;,Helvetica,Arial,sans-serif;\"><g class=\"sankey\" transform=\"translate(30,10)\"><g class=\"groups\"/><g class=\"links\"><g class=\"link\" style=\"opacity: 0.8;\"><path d=\"M0,101.78571428571428 A134.01532642582066 134.01532642582066 0.31764191228594685 0 1 41.856646096858995,108.4898907892223 L172.38208165087747,151.40331169506408 A120.44389785439209 120.44389785439209 0.31764191228594685 0 0 210,157.42857142857142 L210,170.99999999999997 A134.01532642582066 134.01532642582066 0.31764191228594685 0 1 168.14335390314102,164.29582349649195 L37.61791834912253,121.38240259065017 A120.44389785439209 120.44389785439209 0.31764191228594685 0 0 0,115.35714285714286 Z\" style=\"fill: rgb(31, 119, 180);\"/><title>A → E\n500m</title></g><g class=\"link\" style=\"opacity: 0.8;\"><path d=\"M0,74.64285714285714 A113.6581835686778 113.6581835686778 0.3176419122859466 0 0 35.49855447525427,68.95705579435018 L166.0239900292728,26.043634888508375 A140.80104071153494 140.80104071153494 0.3176419122859466 0 1 210,19 L210,46.14285714285714 A113.6581835686778 113.6581835686778 0.3176419122859466 0 0 174.50144552474575,51.828658491364095 L43.97600997072719,94.7420793972059 A140.80104071153494 140.80104071153494 0.3176419122859466 0 1 0,101.78571428571428 Z\" style=\"fill: rgb(31, 119, 180);\"/><title>A → B\n1.00</title></g><g class=\"link\" style=\"opacity: 0.8;\"><path d=\"M210,19 A32.14285714285714 32.14285714285714 1.5707963267948966 0 1 242.14285714285714,51.14285714285714 L242.14285714285714,60.14285714285714 A32.14285714285714 32.14285714285714 1.5707963267948966 0 1 210,92.28571428571428 L210,65.14285714285714 A4.999999999999998 4.999999999999998 1.5707963267948966 0 0 214.99999999999997,60.14285714285714 L214.99999999999997,51.14285714285714 A4.999999999999998 4.999999999999998 1.5707963267948966 0 0 210,46.14285714285714 Z\" style=\"fill: rgb(31, 119, 180);\"/><title>B → C\n1.00</title></g><g class=\"link\" style=\"opacity: 0.8;\"><path d=\"M210,65.14285714285714 A32.14285714285714 32.14285714285714 1.5707963267948966 0 0 177.85714285714286,97.28571428571428 L177.85714285714286,106.28571428571428 A32.14285714285714 32.14285714285714 1.5707963267948966 0 0 210,138.42857142857142 L210,111.28571428571428 A4.999999999999998 4.999999999999998 1.5707963267948966 0 1 205.00000000000003,106.28571428571428 L205.00000000000003,97.28571428571428 A4.999999999999998 4.999999999999998 1.5707963267948966 0 1 210,92.28571428571428 Z\" style=\"fill: rgb(31, 119, 180);\"/><title>C → D\n1.00</title></g></g><g class=\"nodes\"><g class=\"node\" transform=\"translate(210,65.14285714285714)\"><title>C</title><text dy=\".35em\" text-anchor=\"start\" transform=\"translate(4, 13.571428298950195)\">C</text><line x1=\"0\" x2=\"0\" y1=\"0\" y2=\"27.142857142857142\" style=\"stroke: rgb(0, 0, 0);\"/><rect x=\"-5\" y=\"-5\" width=\"10\" style=\"fill: none; visibility: hidden; pointer-events: all;\" height=\"32.14285714285714\"/></g><g class=\"node\" transform=\"translate(210,111.28571428571428)\"><title>D</title><text dy=\".35em\" text-anchor=\"start\" transform=\"translate(4, 13.571428298950195)\">D</text><line x1=\"0\" x2=\"0\" y1=\"0\" y2=\"27.142857142857142\" style=\"stroke: rgb(0, 0, 0);\"/><rect x=\"-5\" y=\"-5\" width=\"10\" style=\"fill: none; visibility: hidden; pointer-events: all;\" height=\"32.14285714285714\"/></g><g class=\"node\" transform=\"translate(0,74.64285714285714)\"><title>A</title><text dy=\".35em\" text-anchor=\"end\" transform=\"translate(-4, 20.35714340209961)\">A</text><line x1=\"0\" x2=\"0\" y1=\"0\" y2=\"40.714285714285715\" style=\"stroke: rgb(0, 0, 0);\"/><rect x=\"-5\" y=\"-5\" width=\"10\" style=\"fill: none; visibility: hidden; pointer-events: all;\" height=\"45.714285714285715\"/></g><g class=\"node\" transform=\"translate(210,19)\"><title>B</title><text dy=\".35em\" text-anchor=\"start\" transform=\"translate(-4, -10)\">B</text><line x1=\"0\" x2=\"0\" y1=\"-5\" y2=\"27.142857142857142\" style=\"stroke: rgb(0, 0, 0);\"/><rect x=\"-5\" y=\"-5\" width=\"10\" style=\"fill: none; visibility: hidden; pointer-events: all;\" height=\"32.14285714285714\"/></g><g class=\"node\" transform=\"translate(210,157.42857142857142)\"><title>E</title><text dy=\".35em\" text-anchor=\"start\" transform=\"translate(4, 6.785714149475098)\">E</text><line x1=\"0\" x2=\"0\" y1=\"0\" y2=\"13.571428571428571\" style=\"stroke: rgb(0, 0, 0);\"/><rect x=\"-5\" y=\"-5\" width=\"10\" style=\"fill: none; visibility: hidden; pointer-events: all;\" height=\"18.57142857142857\"/></g></g><g class=\"slice-titles\"/></g></svg>"
      }
     },
     "155ca8829e9f4854a65b76b89c03d62e": {
      "model_module": "jupyter-js-widgets",
      "model_module_version": "~2.1.4",
      "model_name": "LayoutModel",
      "state": {
       "_model_module_version": "~2.1.4",
       "_view_module_version": "~2.1.4"
      }
     },
     "1becf6feb6bc4ccb9c250998cdf669d5": {
      "model_module": "jupyter-js-widgets",
      "model_module_version": "~2.1.4",
      "model_name": "ButtonStyleModel",
      "state": {
       "_model_module_version": "~2.1.4",
       "_view_module_version": "~2.1.4"
      }
     },
     "1c626794941447f29a3afdf55045769b": {
      "model_module": "jupyter-sankey-widget",
      "model_module_version": "^0.2.0",
      "model_name": "SankeyModel",
      "state": {
       "_dom_classes": [],
       "_model_module_version": "^0.2.0",
       "_view_module_version": "^0.2.0",
       "layout": "IPY_MODEL_73d879c5e19d4280945904f358b1ad45",
       "links": [
        {
         "source": "A",
         "target": "B",
         "value": 1
        },
        {
         "source": "B",
         "target": "C",
         "value": 1
        },
        {
         "source": "A",
         "target": "D",
         "value": 1
        }
       ],
       "margins": {
        "bottom": 0,
        "left": 30,
        "right": 60,
        "top": 10
       },
       "msg_throttle": 1,
       "order": [
        [
         "A"
        ],
        [
         "D",
         "B"
        ],
        [
         "C"
        ]
       ],
       "png": "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",
       "scale": 47.5,
       "svg": "<?xml version=\"1.0\" standalone=\"no\"?><!DOCTYPE svg PUBLIC \"-//W3C//DTD SVG 1.1//EN\" \"http://www.w3.org/Graphics/SVG/1.1/DTD/svg11.dtd\"><svg xmlns=\"http://www.w3.org/2000/svg\" width=\"300\" height=\"200\" viewBox=\"0 0 300 200\" style=\"font-family: &quot;Helvetica Neue&quot;,Helvetica,Arial,sans-serif;\"><g class=\"sankey\" transform=\"translate(30,10)\"><g class=\"groups\"/><g class=\"links\"><g class=\"link\" style=\"opacity: 0.8;\"><path d=\"M0,95 A84.00969923423352 84.00969923423352 0.33065803274531924 0 1 27.275049749441177,99.55089716302253 L91.28284370943088,121.52222971654 A36.50969923423352 36.50969923423352 0.33065803274531924 0 0 103.13628291975802,123.5 L103.13628291975802,171 A84.00969923423352 84.00969923423352 0.33065803274531924 0 1 75.86123317031685,166.44910283697746 L11.853439210327142,144.47777028346 A36.50969923423352 36.50969923423352 0.33065803274531924 0 0 0,142.5 Z\" style=\"fill: rgb(31, 119, 180);\"/><title>A → B\n1.00</title></g><g class=\"link\" style=\"opacity: 0.8;\"><path d=\"M103.13628291975802,123.5 A16.8717699374335 16.8717699374335 0.5588572848257416 0 0 112.08199363430236,120.93315511072288 L175.86894948313412,81.0434211579677 A64.3717699374335 64.3717699374335 0.5588572848257416 0 1 210,71.25 L210,118.75 A16.8717699374335 16.8717699374335 0.5588572848257416 0 0 201.05428928545567,121.31684488927714 L137.26733343662391,161.20657884203231 A64.3717699374335 64.3717699374335 0.5588572848257416 0 1 103.13628291975802,171 Z\" style=\"fill: rgb(31, 119, 180);\"/><title>B → C\n1.00</title></g><g class=\"link\" style=\"opacity: 0.8;\"><path d=\"M0,47.5 A36.50969923423352 36.50969923423352 0.33065803274531924 0 0 11.853439210327142,45.52222971654 L75.86123317031685,23.55089716302253 A84.00969923423352 84.00969923423352 0.33065803274531924 0 1 103.13628291975802,19 L103.13628291975802,66.5 A36.50969923423352 36.50969923423352 0.33065803274531924 0 0 91.28284370943088,68.47777028346 L27.275049749441177,90.44910283697747 A84.00969923423352 84.00969923423352 0.33065803274531924 0 1 0,95 Z\" style=\"fill: rgb(31, 119, 180);\"/><title>A → D\n1.00</title></g></g><g class=\"nodes\"><g class=\"node\" transform=\"translate(0,47.5)\"><title>A</title><text dy=\".35em\" text-anchor=\"end\" transform=\"translate(-4, 47.5)\">A</text><line x1=\"0\" x2=\"0\" y1=\"0\" y2=\"95\" style=\"stroke: rgb(0, 0, 0);\"/><rect x=\"-5\" y=\"-5\" width=\"10\" style=\"fill: none; visibility: hidden; pointer-events: all;\" height=\"100\"/></g><g class=\"node\" transform=\"translate(103.13628387451172, 123.5)\"><title>B</title><text dy=\".35em\" text-anchor=\"start\" transform=\"translate(-4, -10)\">B</text><line x1=\"0\" x2=\"0\" y1=\"-5\" y2=\"47.5\" style=\"stroke: rgb(0, 0, 0);\"/><rect x=\"-5\" y=\"-5\" width=\"10\" style=\"fill: none; visibility: hidden; pointer-events: all;\" height=\"52.5\"/></g><g class=\"node\" transform=\"translate(210,71.25)\"><title>C</title><text dy=\".35em\" text-anchor=\"start\" transform=\"translate(4, 23.75)\">C</text><line x1=\"0\" x2=\"0\" y1=\"0\" y2=\"47.5\" style=\"stroke: rgb(0, 0, 0);\"/><rect x=\"-5\" y=\"-5\" width=\"10\" style=\"fill: none; visibility: hidden; pointer-events: all;\" height=\"52.5\"/></g><g class=\"node\" transform=\"translate(103.13628387451172, 19)\"><title>D</title><text dy=\".35em\" text-anchor=\"start\" transform=\"translate(4, 23.75)\">D</text><line x1=\"0\" x2=\"0\" y1=\"0\" y2=\"47.5\" style=\"stroke: rgb(0, 0, 0);\"/><rect x=\"-5\" y=\"-5\" width=\"10\" style=\"fill: none; visibility: hidden; pointer-events: all;\" height=\"52.5\"/></g></g><g class=\"slice-titles\"/></g></svg>"
      }
     },
     "1e0cdcd3c22245edac0337217dd496fd": {
      "model_module": "jupyter-js-widgets",
      "model_module_version": "~2.1.4",
      "model_name": "ButtonModel",
      "state": {
       "_model_module_version": "~2.1.4",
       "_view_module_version": "~2.1.4",
       "description": "Swap",
       "layout": "IPY_MODEL_9a048603413545f7b04f6a0a77c6c8d9",
       "style": "IPY_MODEL_1becf6feb6bc4ccb9c250998cdf669d5"
      }
     },
     "1e37d5087b114821bf0b526674079263": {
      "model_module": "jupyter-js-widgets",
      "model_module_version": "~2.1.4",
      "model_name": "LayoutModel",
      "state": {
       "_model_module_version": "~2.1.4",
       "_view_module_version": "~2.1.4"
      }
     },
     "1ef2637788814dcd8a239d89bcd39ca0": {
      "model_module": "jupyter-js-widgets",
      "model_module_version": "~2.1.4",
      "model_name": "LayoutModel",
      "state": {
       "_model_module_version": "~2.1.4",
       "_view_module_version": "~2.1.4"
      }
     },
     "201e0f92294e49899a2c8f02a65b77dc": {
      "model_module": "jupyter-js-widgets",
      "model_module_version": "~2.1.4",
      "model_name": "LayoutModel",
      "state": {
       "_model_module_version": "~2.1.4",
       "_view_module_version": "~2.1.4"
      }
     },
     "231ef657e2004c7793af06b1590b9a25": {
      "model_module": "jupyter-js-widgets",
      "model_module_version": "~2.1.4",
      "model_name": "ButtonStyleModel",
      "state": {
       "_model_module_version": "~2.1.4",
       "_view_module_version": "~2.1.4"
      }
     },
     "23d5153382f54439885ba2856d93c1ce": {
      "model_module": "jupyter-js-widgets",
      "model_module_version": "~2.1.4",
      "model_name": "ButtonModel",
      "state": {
       "_model_module_version": "~2.1.4",
       "_view_module_version": "~2.1.4",
       "description": "Swap",
       "layout": "IPY_MODEL_c417829430fb40348a9893c2e4266d94",
       "style": "IPY_MODEL_231ef657e2004c7793af06b1590b9a25"
      }
     },
     "26209e91316d4512a0fbff76e78f963d": {
      "model_module": "jupyter-sankey-widget",
      "model_module_version": "^0.2.0",
      "model_name": "SankeyModel",
      "state": {
       "_dom_classes": [],
       "_model_module_version": "^0.2.0",
       "_view_module_version": "^0.2.0",
       "layout": "IPY_MODEL_918c2d53b8df4c6b932133cdb78b2959",
       "links": [
        {
         "source": "A1",
         "target": "B",
         "type": "x",
         "value": 1.5
        },
        {
         "source": "A1",
         "target": "B",
         "type": "y",
         "value": 0.5
        },
        {
         "source": "A2",
         "target": "B",
         "type": "x",
         "value": 0.5
        },
        {
         "source": "A2",
         "target": "B",
         "type": "y",
         "value": 1.5
        },
        {
         "source": "B",
         "target": "C",
         "type": "x",
         "value": 2
        },
        {
         "source": "B",
         "target": "C",
         "type": "y",
         "value": 2
        }
       ],
       "margins": {
        "bottom": 0,
        "left": 30,
        "right": 60,
        "top": 10
       },
       "msg_throttle": 1,
       "order": [],
       "png": "iVBORw0KGgoAAAANSUhEUgAAASwAAADICAYAAABS39xVAAAPU0lEQVR4nO3df2zc9X3H8VdSJNrIMOiSTo5jQzVkfnRFECOqTSBb2iqyYSq07EfSsECV2WujwCon5xtpG1tmGlTx3LUplY0iVcoRQzx/7cyXM25SCI2J77xYKwiFkbRBJZC7izxpqFVbdfzw/vj6m5jLnePY9/l8v9/7Ph/S+w/7e06N8vWz3/fXlzsJAAAAAAAAAAAAAAAAAAAAAAAAAAAAAAAAAAAAAAAAAAAAAAAAAAAAAAAAAAAAAAAAAAD4ouOaux7M1sUPTbmTHKmLp3ovmfZkR118tKU2fmjD6tjY2tWxsbV+f+MAoqcgWFc+N8SS+72oeUFbtXWgyu//MACVZ8nBKj3JkdpYsrsuPtqyJjbSuHLnWLXf/7EAws1gsIpejR2tjSW7a+OHNhAwAFfKarCKXYXVtSc7amIjzQQMwOX4HKxL74fV7ki2cVMfQDGBClbh+uhdfXETH4AU4GBdOqle7n0B0RaiYM2d5AirIxA9IQ3WxWF1BKIj9MG6dFgdgUpVgcGaO6yOQCWp8GBdHG91XBMbaYzo6viQpJmC+UDSaUmbffy+gAWLTLAKJ4LPuP+upPckPTI7X5H0z5L+W2687vTrGwMWKrLBKrj62l+7I9lW05aq9/svxKAJSS8U+fwfyw3WX9v9doArR7AujVclro5XSfqNpF1Fjj0s6UNJN9r8hoDFIFiXmQpZHe/QxauolbPzh3Jj9T+SHvfvW0NUPCL3JDy3gMf+iaS3inyeYF3BhHh1bNGlN9y92ePj94WIWCHpXUm/lHvSrZjnsTdKelPSQJFjBGvx8QrT6viMpLcl/dmc+ZKkvXLPn7/371tDFHxD0q8lbZN7wt1W5DEbJE3KvT8xI6m9yGMIVpmmNpbsDvDL5PxU0oEin18m92kNB+1+O4iSz0j6ldwbqGvlxuiBIo/7c0k7JPXMPuZPizyGYBkY92WjR1sCsjp+StL7kuJFji2T9I7cKzDAiB/IXQdXyL15OiPp6/M8/m9nH3N9kWMEy/i4L1K4JjbSWPYzYWG8py18scixB2ePNVv9jhAZt8h9dvKm2Y+XyV0NvzfP1+yW9LMSxwiW5fFhdXxMbpTadPFJo1skfUfS7yT1yz2PgLIbkXs/4lpJVbNzSlJqnq85Kun5EscIlo9jaXXcp0t/M/i+pP+Se8tgucH/bURYo0r/avrNEl+zXO5vEneUOE6wAjPGV8dhuSsgYNxySVNy/2nFPQUzKPfSvtj/U94sN2hNJf5cghXQMbA6EixYs0nSR5I+X+TY43KjVFvi62Yk/V6JP5dghWIuXn0t4TlfBAtWfFLSLyQ9W+K497IhTUWOfUfuPa5SCFYoJzlSF0/1em9Su8DX+yJYsKJd7m8Gbypx3Lu3taXIsXG5vwUqhWBV2Lg38lO9dfFUb117sqMuPtpSFx9t+cR1q6eu/cJfPe19zJRvrm/aslulb7ugjAhWRObqNbed+/37t//c7++jEueaux48J6nT7x/mKCBYERmCZW4Ilj0EKyJDsMwNwbKHYEVkCJa5IVj2EKyIDMEyNwTLHoIVkSFY5oZg2dPx6Yb737i947BTOLd+ayzp94nAlG8IlrkhWPZ0PLChNTuUzk3NN10HTw92HTw9uLnvRGL9nnTi7ieOHCBo4RqCZW4Ilj0LCtblYra570RiXc+xxO0dhx2/Tx6m+BAsc0Ow7FlysArn2ZffOdbe//qBdT3HElyFBWcIlrkhWPaUPVilAtb45Ev9n/2nQ+N+n1xRHYJlbgiWPcaDVTg9qTMjXH3ZH4JlbgiWPdaDNXd6f/z24c19JxJ3P3HkgN8nXaUPwTI3BMseX4NVuDp+bd9r+1kdzQzBMjcEy57ABKtwug6eHlzXcyxx087Rw36fkJUwBMvcECx7AhusYqsjT5tY/BAsc0Ow7AlFsFgdlz4Ey9wQLHtCF6zCYXVc2BAsc0Ow7Gn8u0d3dTuZbKuTybY66Vynk8n3XZiJ3Mt+B+lKhtWx9BAsc0OwAsaZmq4ezmQbhibzzW7cgh8zVsePD8EyNwQrJAZOzlQNZ7INTibbOjSR7/c7UvON98+Foro6EixzQ7BCauDkTNXweK7JOZ7bHuSA9aTOjGzuOxGpZ9sTLHNDsCqEMzVdPTiR3zicPt/td6Qutzre/cSRA5W8OhIsc0OwKtCFq690rjPI978qdXUkWOaGYEXA0OR0PaujvSFY5oZgRYy3OjqZfJ/fkarU1ZFgESwYMHBypmpoMt/M6kiwwjIECxcMZ7INzvHc9sGJXNLvSIV5dSRYBAuWhWF17P3x24e91dHvHySCRbAQEGFaHRuffKnf79WRYBEsBEhYVsf1e9K+rI4Ei2AhoMKwOs59dyEbV18Ei2AhBLzVcTh9vjvIq6N376vxyZf6TVyBESyChRDy/q1jkFdHb7oOnh782r7X9pfjTWoJFsFCyA1NTtcPTuQ3BvnZ9sVWya6Dpwe7Dp4eXL8nnVi/J524+4kjB27vOOzMFzWCRbBQQcKyOi526m5tIFgEC5UqTKsjwSJYwAVhXB0JFsECQrs6EiyCBYRmdSRYBAv4mKHJ6fqgvr49wSJYQEnO1HS1tzr6HSuCFZhg3SFpn6R3Jf1GUkbSLklXGzsRgcXw+805CJbvwXpU0geSJiTFJH1V0rOSZuRGDAimue8uZOveF8HyNVgb5YZph6RlBcf6Zo+tMXKyAeXmTE1XD4/nmky+SS3B8i1YqyS9J2lvieP3yl0N7yr/mQVYMvdNap10rnOprzxBsHwLVoek9yXdYO3kAYJkaHK6fjiTbRiazDe7V2WzV2YFM3fdJFi+BesNSY69swMImJq2VP3q2NjamthIc118tKV2R7KtLp7qLZwbYsmj3g/V9Z+9/dxju/b83O/fVlbifGnjV0sF69Ny70/tsnqCALat2jpQtTo2trYuPtpS157scCO0+KsAguVLsP5IbrA2l/hrvkrSU5K+bOYsAgxYuXOs2rtaKrwyKtcQLF+CVSM3WN8q8Vf/D7PH7zFzZgFlsGrrQNWa2Eije+WUHLFxn4Vg+RKsZZLOSnpH0nUFx74o97eHPAcLwbMmNtJYuyPZdkMsud+PG8MEy5dgSe5zsD6S9JaknXKfi+VI+lDS85KqLJx+wPy8Na82luz2+7dYBMvXYEnSOknjkv5X7hXXf0jaoEufRArYU9OWqq+Lj7b4dRVFsAIbLCAYbN+LIljBG4KFwFq1daDKW/VM/DaPYIVvCBYCpaYtVV8bP7QhiKsewfJ/CBZ85/1WL+irHsHyfwgWrAvrqkew/B+CBSvCuOrd/M0Xxu/recW5r+cVJ/7cyUT8uZOJ74+9dWDvi2edvS+edUr9UN16xxcIFsFC2IRp1buv5xXn4WdO9HcNnUrMF6OFDMEiWAiBsKx6d3b+6MjDz5zo3506s3/f0XfL/iqkBItgIaBW7hyrro0f2rDUVzgwvdqtfzrzfNfQqcRz4+cOm/6hIlgECwGyOja2Nuir3r3fPpqMP3cyYeIKimARLASYt+rVtSc7grzqrX868/zu1Jn9Nq6iCBbBQoCEYdXz7kV9f+ytA37/IBEsggXLwrLqbUu86suqR7D8H4IVYWFa9WzdMCdYwR6CFTFhWPVu/uYL496q9+/Hs8f8/iG50iFYBAtLUNOWqmfVszcEy9wQrAo093XMWfXsD8EyNwSrQnirXlBeJrgSV72FDsEyNwQrpLyrKD/fbCFqq95Ch2CZG4IVEit3jlV7b/YZ5EDVxd1/SFyJq95Ch2CZG4IVMF6YTL/Zp4lVb3fqzP5KXvUWOgTL3BAsexqvb9qy243QaIt7rynV603Qo1Q4d3b+6Mi2xKtLfimWShyCZW4Ilj0d19z1YNbv0Cxlor7qLXQIlrkhWPaELliseosbgmVuCJY9oQgWq97Sh2CZG4JlT2CDxapX3iFY5oZg2ROYYLHqmR2CZW4Ilj2+Bstb9YL22lGVOATL3BAse6wH695vH012DZ2K1LPMgzAEy9wQLHuMB8t7swVWPX+HYJkbgmVP2YM1991guIoKzhAsc0Ow7FlysO7recXZlng1UY43+2TMDcEyNwTLngUFy3tr9G2JVy+8NTpXT+EagmVuCJY9HY3Nm97Y++JZp3B4/lNlDcEyNwTLno4HNrRm/f4LZ8wPwTI3BMseghWRIVjmhmDZQ7AiMgTL3BAsewhWRIZgmRuCZQ/BisgQLHNDsBbmEUkzks6VOL5M0t9I+k9Jv5T0jqTvSvrUnMcQrIgMwTI3BOvyVkh6V26IZmY/LtQ2e+yHkh6S9C+SPpT0r3MeQ7AqbSby/U4m3+dk8n1OOtfpZLKtTibbuu4vH3k69tTeXd7HTPnm4cc6dktqMvkDH3bfkPRrSdvkRum2guM1kv5P0q6Cz++T9LM5HxOsEM7gRC7pRinbOjyeaxrOZBtMnWjAUn1G0q/kxmit3GA9UPCYRyX9VtJ1BZ//N0mvz/mYYIVgBidySSed6xwezzUNnJypMnReAUb8QO46uELSSrnB+nrBY6ol3VjwuT+QlJf01JzPEayAznD6fPfQZL7ZmZquNnMaAebdIukDSZtmP14mdzX83mW+rkHSWUmv6eNXXQQrIDP3KqrM5wzgmxFJP5V0raSq2TklKVXi8aslPSM3co7cK7K5CJafM5HvdzLZ1qHJ6Xozpwvgn0a561+xebPgscslbZX7W8TXJf1FiT+TYFkeVj1EwXJJU5JekHRPwQxK+t3sYyTpKrlPZfitpH+U9Il5/lyCZXhY9RBFmyR9JOnzRY49Lvcqq3b24za5v0X83AL+XIJlYlj1EGGflPQLSc+WOP6Q3GA1Sbpa0nuSfiJpR5G5peBrCVaZZjh9vntwIr+RVQ9R1y73pvlNJY5797a2SLpfpe9zzUi6o+BrCdYix5nIvcxzowC7CNaVzES+3zme286qB/iDYF1mWPWA4CBYBcOqBwQXwUrnWPWAkIhssFj1gPCJTLBY9YDwq+hgDU7kks7x3HZeLwqoDBUXLCeT72PVAypT6IPlrXpDk/lmVj2gsoUyWKx6QDSFJlisegACGyxWPQCFghWs2SdwsuoBKMbXYHkvbscrcAJYCKvBciZyL/MSwQAWy1iwBidyyeH0+W7vzT4JFIClWnqwvLdGT+c6ByfyG4cz2QZukgMw4WPBuvgW6AWTznU6mWyrFyRuigMAAAAAAAAAAAAAAAAAAAAAAAAAAAAAAAAAAAAAAAAAAACw7P8BL7jL1cGetn8AAAAASUVORK5CYII=",
       "scale": 23.75,
       "svg": "<?xml version=\"1.0\" standalone=\"no\"?><!DOCTYPE svg PUBLIC \"-//W3C//DTD SVG 1.1//EN\" \"http://www.w3.org/Graphics/SVG/1.1/DTD/svg11.dtd\"><svg xmlns=\"http://www.w3.org/2000/svg\" width=\"300\" height=\"200\" viewBox=\"0 0 300 200\" style=\"font-family: &quot;Helvetica Neue&quot;,Helvetica,Arial,sans-serif;\"><g class=\"sankey\" transform=\"translate(30,10)\"><g class=\"groups\"/><g class=\"links\"><g class=\"link\" style=\"opacity: 0.8;\"><path d=\"M0,54.625 A89.59623766447369 89.59623766447369 0.2923908868640279 0 1 25.825439800354374,58.42769208704038 L93.56418100713228,78.81830272579194 A101.47123766447369 101.47123766447369 0.2923908868640279 0 0 122.8125,83.125 L122.8125,95 A113.34623766447369 113.34623766447369 0.2923908868640279 0 1 90.14130181461891,90.18929753862423 L22.402560607841018,69.79868689987268 A77.72123766447369 77.72123766447369 0.2923908868640279 0 0 0,66.5 Z\" style=\"fill: rgb(174, 199, 232);\"/><title>A1 → B\n500m</title></g><g class=\"link\" style=\"opacity: 0.8;\"><path d=\"M0,123.5 A77.72123766447369 77.72123766447369 0.2923908868640279 0 0 22.402560607841018,120.20131310012732 L90.14130181461891,99.81070246137577 A113.34623766447369 113.34623766447369 0.2923908868640279 0 1 122.8125,95 L122.8125,106.875 A101.47123766447369 101.47123766447369 0.2923908868640279 0 0 93.56418100713228,111.18169727420806 L25.825439800354374,131.57230791295962 A89.59623766447369 89.59623766447369 0.2923908868640279 0 1 0,135.375 Z\" style=\"fill: rgb(31, 119, 180);\"/><title>A2 → B\n500m</title></g><g class=\"link\" style=\"opacity: 0.8;\"><path d=\"M0,19 A125.22123766447369 125.22123766447369 0.2923908868640279 0 1 36.09407737789443,24.314707648543468 L103.83281858467234,44.705318287295015 A65.84623766447369 65.84623766447369 0.2923908868640279 0 0 122.8125,47.5 L122.8125,83.125 A101.47123766447369 101.47123766447369 0.2923908868640279 0 1 93.56418100713228,78.81830272579192 L25.825439800354374,58.42769208704038 A89.59623766447369 89.59623766447369 0.2923908868640279 0 0 0,54.625 Z\" style=\"fill: rgb(31, 119, 180);\"/><title>A1 → B\n1.50</title></g><g class=\"link\" style=\"opacity: 0.8;\"><path d=\"M0,135.375 A89.59623766447369 89.59623766447369 0.2923908868640279 0 0 25.825439800354374,131.57230791295962 L93.56418100713228,111.18169727420808 A101.47123766447369 101.47123766447369 0.2923908868640279 0 1 122.8125,106.875 L122.8125,142.5 A65.84623766447369 65.84623766447369 0.2923908868640279 0 0 103.83281858467234,145.29468171270497 L36.09407737789443,165.68529235145655 A125.22123766447369 125.22123766447369 0.2923908868640279 0 1 0,171 Z\" style=\"fill: rgb(174, 199, 232);\"/><title>A2 → B\n1.50</title></g><g class=\"link\" style=\"opacity: 0.8;\"><path d=\"M122.8125,47.5 A0 0 0 0 0 122.8125,47.5 L210,47.5 A0 0 0 0 0 210,47.5 L210,95 A0 0 0 0 0 210,95 L122.8125,95 A0 0 0 0 0 122.8125,95 Z\" style=\"fill: rgb(31, 119, 180);\"/><title>B → C\n2.00</title></g><g class=\"link\" style=\"opacity: 0.8;\"><path d=\"M122.8125,95 A0 0 0 0 0 122.8125,95 L210,95 A0 0 0 0 0 210,95 L210,142.5 A0 0 0 0 0 210,142.5 L122.8125,142.5 A0 0 0 0 0 122.8125,142.5 Z\" style=\"fill: rgb(174, 199, 232);\"/><title>B → C\n2.00</title></g></g><g class=\"nodes\"><g class=\"node\" transform=\"translate(0,19)\"><title>A1</title><text dy=\".35em\" text-anchor=\"end\" transform=\"translate(-4, 23.75)\">A1</text><line x1=\"0\" x2=\"0\" y1=\"0\" y2=\"47.5\" style=\"stroke: rgb(0, 0, 0);\"/><rect x=\"-5\" y=\"-5\" width=\"10\" style=\"fill: none; visibility: hidden; pointer-events: all;\" height=\"52.5\"/></g><g class=\"node\" transform=\"translate(122.8125,47.5)\"><title>B</title><text dy=\".35em\" text-anchor=\"start\" transform=\"translate(-4, -10)\">B</text><line x1=\"0\" x2=\"0\" y1=\"-5\" y2=\"95\" style=\"stroke: rgb(0, 0, 0);\"/><rect x=\"-5\" y=\"-5\" width=\"10\" style=\"fill: none; visibility: hidden; pointer-events: all;\" height=\"100\"/></g><g class=\"node\" transform=\"translate(0,123.5)\"><title>A2</title><text dy=\".35em\" text-anchor=\"end\" transform=\"translate(-4, 23.75)\">A2</text><line x1=\"0\" x2=\"0\" y1=\"0\" y2=\"47.5\" style=\"stroke: rgb(0, 0, 0);\"/><rect x=\"-5\" y=\"-5\" width=\"10\" style=\"fill: none; visibility: hidden; pointer-events: all;\" height=\"52.5\"/></g><g class=\"node\" transform=\"translate(210,47.5)\"><title>C</title><text dy=\".35em\" text-anchor=\"start\" transform=\"translate(4, 47.5)\">C</text><line x1=\"0\" x2=\"0\" y1=\"0\" y2=\"95\" style=\"stroke: rgb(0, 0, 0);\"/><rect x=\"-5\" y=\"-5\" width=\"10\" style=\"fill: none; visibility: hidden; pointer-events: all;\" height=\"100\"/></g></g><g class=\"slice-titles\"/></g></svg>"
      }
     },
     "293708d7403d41f8a89aa6ce4c6b2e2c": {
      "model_module": "jupyter-sankey-widget",
      "model_module_version": "^0.2.0",
      "model_name": "SankeyModel",
      "state": {
       "_dom_classes": [],
       "_model_module_version": "^0.2.0",
       "_view_module_version": "^0.2.0",
       "layout": "IPY_MODEL_918c2d53b8df4c6b932133cdb78b2959",
       "links": [
        {
         "color": "steelblue",
         "source": "A",
         "target": "B",
         "value": 3
        },
        {
         "color": "#aaa",
         "source": "B",
         "target": "C",
         "value": 2
        },
        {
         "color": "goldenrod",
         "source": "B",
         "target": "D",
         "value": 1
        }
       ],
       "margins": {
        "bottom": 0,
        "left": 30,
        "right": 60,
        "top": 10
       },
       "msg_throttle": 1,
       "nodes": [
        {
         "id": "B",
         "style": "process",
         "title": "Middle node"
        }
       ],
       "order": [],
       "png": "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",
       "scale": 31.666666666666668,
       "svg": "<?xml version=\"1.0\" standalone=\"no\"?><!DOCTYPE svg PUBLIC \"-//W3C//DTD SVG 1.1//EN\" \"http://www.w3.org/Graphics/SVG/1.1/DTD/svg11.dtd\"><svg xmlns=\"http://www.w3.org/2000/svg\" width=\"300\" height=\"200\" viewBox=\"0 0 300 200\" style=\"font-family: &quot;Helvetica Neue&quot;,Helvetica,Arial,sans-serif;\"><g class=\"sankey\" transform=\"translate(30,10)\"><g class=\"groups\"/><g class=\"links\"><g class=\"link\" style=\"opacity: 0.8;\"><path d=\"M78.5531192765574,110.83333333333334 A111.04666202766458 111.04666202766458 0.2617589573498933 0 1 107.28977359613057,114.61599466177117 L189.45804542949668,136.62935616534955 A79.37999536099792 79.37999536099792 0.2617589573498933 0 0 210,139.33333333333334 L210,171.00000000000003 A111.04666202766458 111.04666202766458 0.2617589573498933 0 1 181.26334568042682,167.2173386715622 L99.09507384706069,145.20397716798382 A79.37999536099792 79.37999536099792 0.2617589573498933 0 0 78.5531192765574,142.5 Z\" style=\"fill: rgb(218, 165, 32);\"/><title>Middle node → D\n1.00</title></g><g class=\"link\" style=\"opacity: 0.8;\"><path d=\"M78.5531192765574,47.5 A63.54666202766464 63.54666202766464 0.2617589573498931 0 0 94.99772397252575,45.33536491224318 L177.1659958058919,23.322003408664823 A126.87999536099798 126.87999536099798 0.2617589573498931 0 1 210,19.000000000000004 L210,82.33333333333334 A63.54666202766464 63.54666202766464 0.2617589573498931 0 0 193.55539530403166,84.49796842109015 L111.38712347066549,106.51132992466852 A126.87999536099798 126.87999536099798 0.2617589573498931 0 1 78.5531192765574,110.83333333333334 Z\" style=\"fill: rgb(170, 170, 170);\"/><title>Middle node → C\n2.00</title></g><g class=\"link\" style=\"opacity: 0.8;\"><path d=\"M0,47.5 A0 0 0 0 0 0,47.5 L78.5531192765574,47.5 A0 0 0 0 0 78.5531192765574,47.5 L78.5531192765574,142.5 A0 0 0 0 0 78.5531192765574,142.5 L0,142.5 A0 0 0 0 0 0,142.5 Z\" style=\"fill: rgb(70, 130, 180);\"/><title>A → Middle node\n3.00</title></g></g><g class=\"nodes\"><g class=\"node\" transform=\"translate(78.5531192765574,47.5)\"><title>Middle node</title><text dy=\".35em\" text-anchor=\"start\" transform=\"translate(-4, -10)\">Middle node</text><line x1=\"0\" x2=\"0\" y1=\"-5\" y2=\"95\" style=\"stroke: rgb(136, 136, 136); stroke-width: 4px;\"/><rect x=\"-5\" y=\"-5\" width=\"10\" style=\"fill: none; visibility: hidden; pointer-events: all;\" height=\"100\"/></g><g class=\"node\" transform=\"translate(0,47.5)\"><title>A</title><text dy=\".35em\" text-anchor=\"end\" transform=\"translate(-4, 47.5)\">A</text><line x1=\"0\" x2=\"0\" y1=\"0\" y2=\"95\" style=\"stroke: rgb(0, 0, 0);\"/><rect x=\"-5\" y=\"-5\" width=\"10\" style=\"fill: none; visibility: hidden; pointer-events: all;\" height=\"100\"/></g><g class=\"node\" transform=\"translate(210,19)\"><title>C</title><text dy=\".35em\" text-anchor=\"start\" transform=\"translate(4, 31.66666603088379)\">C</text><line x1=\"0\" x2=\"0\" y1=\"0\" y2=\"63.333333333333336\" style=\"stroke: rgb(0, 0, 0);\"/><rect x=\"-5\" y=\"-5\" width=\"10\" style=\"fill: none; visibility: hidden; pointer-events: all;\" height=\"68.33333333333334\"/></g><g class=\"node\" transform=\"translate(210,139.33333333333334)\"><title>D</title><text dy=\".35em\" text-anchor=\"start\" transform=\"translate(4, 15.833333015441895)\">D</text><line x1=\"0\" x2=\"0\" y1=\"0\" y2=\"31.666666666666668\" style=\"stroke: rgb(0, 0, 0);\"/><rect x=\"-5\" y=\"-5\" width=\"10\" style=\"fill: none; visibility: hidden; pointer-events: all;\" height=\"36.66666666666667\"/></g></g><g class=\"slice-titles\"/></g></svg>"
      }
     },
     "2bd1c1e12f5a4087a88ca40090c6e474": {
      "model_module": "jupyter-js-widgets",
      "model_module_version": "~2.1.4",
      "model_name": "LayoutModel",
      "state": {
       "_model_module_version": "~2.1.4",
       "_view_module_version": "~2.1.4"
      }
     },
     "2c9c863299e9457184907685e7dfbbe0": {
      "model_module": "jupyter-js-widgets",
      "model_module_version": "~2.1.4",
      "model_name": "LayoutModel",
      "state": {
       "_model_module_version": "~2.1.4",
       "_view_module_version": "~2.1.4"
      }
     },
     "35061a7766894db78f3d0518afb49838": {
      "model_module": "jupyter-js-widgets",
      "model_module_version": "~2.1.4",
      "model_name": "LayoutModel",
      "state": {
       "_model_module_version": "~2.1.4",
       "_view_module_version": "~2.1.4",
       "height": "200",
       "width": "300"
      }
     },
     "35832a0c3f7045eaab2fc657d22433eb": {
      "model_module": "jupyter-sankey-widget",
      "model_module_version": "^0.2.0",
      "model_name": "SankeyModel",
      "state": {
       "_dom_classes": [],
       "_model_module_version": "^0.2.0",
       "_view_module_version": "^0.2.0",
       "layout": "IPY_MODEL_918c2d53b8df4c6b932133cdb78b2959",
       "links": [
        {
         "source": "A",
         "target": "B",
         "value": 1
        },
        {
         "source": "B",
         "target": "C",
         "value": 1
        },
        {
         "source": "A",
         "target": "D",
         "value": 1
        }
       ],
       "margins": {
        "bottom": 0,
        "left": 30,
        "right": 60,
        "top": 10
       },
       "msg_throttle": 1,
       "order": [],
       "png": "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",
       "rank_sets": [
        {
         "nodes": [
          "C",
          "D"
         ],
         "type": "same"
        }
       ],
       "scale": 47.5,
       "svg": "<?xml version=\"1.0\" standalone=\"no\"?><!DOCTYPE svg PUBLIC \"-//W3C//DTD SVG 1.1//EN\" \"http://www.w3.org/Graphics/SVG/1.1/DTD/svg11.dtd\"><svg xmlns=\"http://www.w3.org/2000/svg\" width=\"300\" height=\"200\" viewBox=\"0 0 300 200\" style=\"font-family: &quot;Helvetica Neue&quot;,Helvetica,Arial,sans-serif;\"><g class=\"sankey\" transform=\"translate(30,10)\"><g class=\"groups\"/><g class=\"links\"><g class=\"link\" style=\"opacity: 0.8;\"><path d=\"M0,47.5 A41.65014127778379 41.65014127778379 0.3170595794814113 0 0 12.9854333731973,45.42400165127536 L79.97253363867428,23.44357546945384 A89.15014127778379 89.15014127778379 0.3170595794814113 0 1 107.76723455104023,19 L107.76723455104023,66.5 A41.65014127778379 41.65014127778379 0.3170595794814113 0 0 94.78180117784292,68.57599834872462 L27.79470091236595,90.55642453054615 A89.15014127778379 89.15014127778379 0.3170595794814113 0 1 0,95 Z\" style=\"fill: rgb(31, 119, 180);\"/><title>A → B\n1.00</title></g><g class=\"link\" style=\"opacity: 0.8;\"><path d=\"M107.76723455104023,19 A0 0 0 0 0 107.76723455104023,19 L210,19 A0 0 0 0 0 210,19 L210,66.5 A0 0 0 0 0 210,66.5 L107.76723455104023,66.5 A0 0 0 0 0 107.76723455104023,66.5 Z\" style=\"fill: rgb(31, 119, 180);\"/><title>B → C\n1.00</title></g><g class=\"link\" style=\"opacity: 0.8;\"><path d=\"M0,95 A89.15014127778379 89.15014127778379 0.2988356646966688 0 1 26.24648578357839,98.95114085018942 L104.18358318207966,122.96051782194795 A12.172411517013408 12.172411517013408 0.2988356646966688 0 0 107.76723455104023,123.5 L107.76723455104023,171 A59.67241151701341 59.67241151701341 0.2988356646966688 0 1 90.1992186387264,168.3553143113982 L12.262121240225131,144.34593733963965 A41.65014127778379 41.65014127778379 0.2988356646966688 0 0 0,142.5 ZM107.76723455104023,123.5 A0 0 0 0 0 107.76723455104023,123.5 L210,123.5 A0 0 0 0 0 210,123.5 L210,171 A0 0 0 0 0 210,171 L107.76723455104023,171 A0 0 0 0 0 107.76723455104023,171 Z\" style=\"fill: rgb(31, 119, 180);\"/><title>A → D\n1.00</title></g></g><g class=\"nodes\"><g class=\"node\" transform=\"translate(0,47.5)\"><title>A</title><text dy=\".35em\" text-anchor=\"end\" transform=\"translate(-4, 47.5)\">A</text><line x1=\"0\" x2=\"0\" y1=\"0\" y2=\"95\" style=\"stroke: rgb(0, 0, 0);\"/><rect x=\"-5\" y=\"-5\" width=\"10\" style=\"fill: none; visibility: hidden; pointer-events: all;\" height=\"100\"/></g><g class=\"node\" transform=\"translate(107.76723455104023,19)\"><title>B</title><text dy=\".35em\" text-anchor=\"start\" transform=\"translate(-4, -10)\">B</text><line x1=\"0\" x2=\"0\" y1=\"-5\" y2=\"47.5\" style=\"stroke: rgb(0, 0, 0);\"/><rect x=\"-5\" y=\"-5\" width=\"10\" style=\"fill: none; visibility: hidden; pointer-events: all;\" height=\"52.5\"/></g><g class=\"node\" transform=\"translate(210,19)\"><title>C</title><text dy=\".35em\" text-anchor=\"start\" transform=\"translate(4, 23.75)\">C</text><line x1=\"0\" x2=\"0\" y1=\"0\" y2=\"47.5\" style=\"stroke: rgb(0, 0, 0);\"/><rect x=\"-5\" y=\"-5\" width=\"10\" style=\"fill: none; visibility: hidden; pointer-events: all;\" height=\"52.5\"/></g><g class=\"node\" transform=\"translate(210,123.5)\"><title>D</title><text dy=\".35em\" text-anchor=\"start\" transform=\"translate(4, 23.75)\">D</text><line x1=\"0\" x2=\"0\" y1=\"0\" y2=\"47.5\" style=\"stroke: rgb(0, 0, 0);\"/><rect x=\"-5\" y=\"-5\" width=\"10\" style=\"fill: none; visibility: hidden; pointer-events: all;\" height=\"52.5\"/></g></g><g class=\"slice-titles\"/></g></svg>"
      }
     },
     "37037c23505f4083ba9866f00f4a3254": {
      "model_module": "jupyter-sankey-widget",
      "model_module_version": "^0.2.0",
      "model_name": "SankeyModel",
      "state": {
       "_dom_classes": [],
       "_model_module_version": "^0.2.0",
       "_view_module_version": "^0.2.0",
       "layout": "IPY_MODEL_918c2d53b8df4c6b932133cdb78b2959",
       "links": [
        {
         "source": "A",
         "target": "B",
         "type": "x",
         "value": 3
        },
        {
         "source": "B",
         "target": "C",
         "type": "y",
         "value": 2
        },
        {
         "source": "B",
         "target": "D",
         "type": "z",
         "value": 1
        }
       ],
       "margins": {
        "bottom": 0,
        "left": 30,
        "right": 60,
        "top": 10
       },
       "msg_throttle": 1,
       "order": [],
       "png": "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",
       "scale": 31.666666666666668,
       "svg": "<?xml version=\"1.0\" standalone=\"no\"?><!DOCTYPE svg PUBLIC \"-//W3C//DTD SVG 1.1//EN\" \"http://www.w3.org/Graphics/SVG/1.1/DTD/svg11.dtd\"><svg xmlns=\"http://www.w3.org/2000/svg\" width=\"300\" height=\"200\" viewBox=\"0 0 300 200\" style=\"font-family: &quot;Helvetica Neue&quot;,Helvetica,Arial,sans-serif;\"><g class=\"sankey\" transform=\"translate(30,10)\"><g class=\"groups\"/><g class=\"links\"><g class=\"link\" style=\"opacity: 0.8;\"><path d=\"M78.5531192765574,110.83333333333334 A111.04666202766458 111.04666202766458 0.2617589573498933 0 1 107.28977359613057,114.61599466177117 L189.45804542949668,136.62935616534955 A79.37999536099792 79.37999536099792 0.2617589573498933 0 0 210,139.33333333333334 L210,171.00000000000003 A111.04666202766458 111.04666202766458 0.2617589573498933 0 1 181.26334568042682,167.2173386715622 L99.09507384706069,145.20397716798382 A79.37999536099792 79.37999536099792 0.2617589573498933 0 0 78.5531192765574,142.5 Z\" style=\"fill: rgb(255, 127, 14);\"/><title>B → D\n1.00</title></g><g class=\"link\" style=\"opacity: 0.8;\"><path d=\"M78.5531192765574,47.5 A63.54666202766464 63.54666202766464 0.2617589573498931 0 0 94.99772397252575,45.33536491224318 L177.1659958058919,23.322003408664823 A126.87999536099798 126.87999536099798 0.2617589573498931 0 1 210,19.000000000000004 L210,82.33333333333334 A63.54666202766464 63.54666202766464 0.2617589573498931 0 0 193.55539530403166,84.49796842109015 L111.38712347066549,106.51132992466852 A126.87999536099798 126.87999536099798 0.2617589573498931 0 1 78.5531192765574,110.83333333333334 Z\" style=\"fill: rgb(174, 199, 232);\"/><title>B → C\n2.00</title></g><g class=\"link\" style=\"opacity: 0.8;\"><path d=\"M0,47.5 A0 0 0 0 0 0,47.5 L78.5531192765574,47.5 A0 0 0 0 0 78.5531192765574,47.5 L78.5531192765574,142.5 A0 0 0 0 0 78.5531192765574,142.5 L0,142.5 A0 0 0 0 0 0,142.5 Z\" style=\"fill: rgb(31, 119, 180);\"/><title>A → B\n3.00</title></g></g><g class=\"nodes\"><g class=\"node\" transform=\"translate(0,47.5)\"><title>A</title><text dy=\".35em\" text-anchor=\"end\" transform=\"translate(-4, 47.5)\">A</text><line x1=\"0\" x2=\"0\" y1=\"0\" y2=\"95\" style=\"stroke: rgb(0, 0, 0);\"/><rect x=\"-5\" y=\"-5\" width=\"10\" style=\"fill: none; visibility: hidden; pointer-events: all;\" height=\"100\"/></g><g class=\"node\" transform=\"translate(78.5531192765574,47.5)\"><title>B</title><text dy=\".35em\" text-anchor=\"start\" transform=\"translate(-4, -10)\">B</text><line x1=\"0\" x2=\"0\" y1=\"-5\" y2=\"95\" style=\"stroke: rgb(0, 0, 0);\"/><rect x=\"-5\" y=\"-5\" width=\"10\" style=\"fill: none; visibility: hidden; pointer-events: all;\" height=\"100\"/></g><g class=\"node\" transform=\"translate(210,19)\"><title>C</title><text dy=\".35em\" text-anchor=\"start\" transform=\"translate(4, 31.66666603088379)\">C</text><line x1=\"0\" x2=\"0\" y1=\"0\" y2=\"63.333333333333336\" style=\"stroke: rgb(0, 0, 0);\"/><rect x=\"-5\" y=\"-5\" width=\"10\" style=\"fill: none; visibility: hidden; pointer-events: all;\" height=\"68.33333333333334\"/></g><g class=\"node\" transform=\"translate(210,139.33333333333334)\"><title>D</title><text dy=\".35em\" text-anchor=\"start\" transform=\"translate(4, 15.833333015441895)\">D</text><line x1=\"0\" x2=\"0\" y1=\"0\" y2=\"31.666666666666668\" style=\"stroke: rgb(0, 0, 0);\"/><rect x=\"-5\" y=\"-5\" width=\"10\" style=\"fill: none; visibility: hidden; pointer-events: all;\" height=\"36.66666666666667\"/></g></g><g class=\"slice-titles\"/></g></svg>"
      }
     },
     "3d2ff9a256d04566ace2a5e41c2fb21e": {
      "model_module": "jupyter-js-widgets",
      "model_module_version": "~2.1.4",
      "model_name": "LayoutModel",
      "state": {
       "_model_module_version": "~2.1.4",
       "_view_module_version": "~2.1.4"
      }
     },
     "3f735ef215c8466d8ec0a8c64bbf1e49": {
      "model_module": "jupyter-sankey-widget",
      "model_module_version": "^0.2.0",
      "model_name": "SankeyModel",
      "state": {
       "_dom_classes": [],
       "_model_module_version": "^0.2.0",
       "_view_module_version": "^0.2.0",
       "layout": "IPY_MODEL_3d2ff9a256d04566ace2a5e41c2fb21e",
       "links": [
        {
         "source": "A",
         "target": "B",
         "type": "x",
         "value": 3
        },
        {
         "source": "B",
         "target": "C",
         "type": "y",
         "value": 2
        },
        {
         "source": "B",
         "target": "D",
         "type": "z",
         "value": 1
        }
       ],
       "margins": {
        "bottom": 0,
        "left": 30,
        "right": 60,
        "top": 50
       },
       "msg_throttle": 1,
       "order": [],
       "png": "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",
       "scale": 58.333333333333336,
       "svg": "<?xml version=\"1.0\" standalone=\"no\"?><!DOCTYPE svg PUBLIC \"-//W3C//DTD SVG 1.1//EN\" \"http://www.w3.org/Graphics/SVG/1.1/DTD/svg11.dtd\"><svg xmlns=\"http://www.w3.org/2000/svg\" width=\"600\" height=\"400\" viewBox=\"0 0 600 400\" style=\"font-family: &quot;Helvetica Neue&quot;,Helvetica,Arial,sans-serif;\"><g class=\"sankey\" transform=\"translate(30,50)\"><g class=\"groups\"/><g class=\"links\"><g class=\"link\" style=\"opacity: 0.8;\"><path d=\"M206.2820618252373,204.16666666666669 A300.59762657846363 300.59762657846363 0.2097936782233214 0 1 268.88395430515175,210.75759916736155 L459.5464970562722,251.35475644873816 A242.2642932451303 242.2642932451303 0.2097936782233214 0 0 510,256.6666666666667 L510,315.00000000000006 A300.59762657846363 300.59762657846363 0.2097936782233214 0 1 447.39810752008555,308.40906749930514 L256.7355647689651,267.8119102179285 A242.2642932451303 242.2642932451303 0.2097936782233214 0 0 206.2820618252373,262.5 Z\" style=\"fill: rgb(255, 127, 14);\"/><title>B → D\n1.00</title></g><g class=\"link\" style=\"opacity: 0.8;\"><path d=\"M206.2820618252373,87.5 A213.09762657846372 213.09762657846372 0.20979367822332162 0 0 250.66137000087184,82.82760092345464 L441.32391275199217,42.23044364207809 A329.7642932451304 329.7642932451304 0.20979367822332162 0 1 510,35.00000000000001 L510,151.66666666666669 A213.09762657846372 213.09762657846372 0.20979367822332162 0 0 465.62069182436545,156.33906574321205 L274.9581490732451,196.9362230245886 A329.7642932451304 329.7642932451304 0.20979367822332162 0 1 206.2820618252373,204.16666666666669 Z\" style=\"fill: rgb(174, 199, 232);\"/><title>B → C\n2.00</title></g><g class=\"link\" style=\"opacity: 0.8;\"><path d=\"M0,87.5 A0 0 0 0 0 0,87.5 L206.2820618252373,87.5 A0 0 0 0 0 206.2820618252373,87.5 L206.2820618252373,262.5 A0 0 0 0 0 206.2820618252373,262.5 L0,262.5 A0 0 0 0 0 0,262.5 Z\" style=\"fill: rgb(31, 119, 180);\"/><title>A → B\n3.00</title></g></g><g class=\"nodes\"><g class=\"node\" transform=\"translate(0,87.5)\"><title>A</title><text dy=\".35em\" text-anchor=\"end\" transform=\"translate(-4, 87.5)\">A</text><line x1=\"0\" x2=\"0\" y1=\"0\" y2=\"175\" style=\"stroke: rgb(0, 0, 0);\"/><rect x=\"-5\" y=\"-5\" width=\"10\" style=\"fill: none; visibility: hidden; pointer-events: all;\" height=\"180\"/></g><g class=\"node\" transform=\"translate(206.2820618252373,87.5)\"><title>B</title><text dy=\".35em\" text-anchor=\"start\" transform=\"translate(-4, -10)\">B</text><line x1=\"0\" x2=\"0\" y1=\"-5\" y2=\"175\" style=\"stroke: rgb(0, 0, 0);\"/><rect x=\"-5\" y=\"-5\" width=\"10\" style=\"fill: none; visibility: hidden; pointer-events: all;\" height=\"180\"/></g><g class=\"node\" transform=\"translate(510,35)\"><title>C</title><text dy=\".35em\" text-anchor=\"start\" transform=\"translate(4, 58.33333206176758)\">C</text><line x1=\"0\" x2=\"0\" y1=\"0\" y2=\"116.66666666666667\" style=\"stroke: rgb(0, 0, 0);\"/><rect x=\"-5\" y=\"-5\" width=\"10\" style=\"fill: none; visibility: hidden; pointer-events: all;\" height=\"121.66666666666667\"/></g><g class=\"node\" transform=\"translate(510,256.6666666666667)\"><title>D</title><text dy=\".35em\" text-anchor=\"start\" transform=\"translate(4, 29.16666603088379)\">D</text><line x1=\"0\" x2=\"0\" y1=\"0\" y2=\"58.333333333333336\" style=\"stroke: rgb(0, 0, 0);\"/><rect x=\"-5\" y=\"-5\" width=\"10\" style=\"fill: none; visibility: hidden; pointer-events: all;\" height=\"63.333333333333336\"/></g></g><g class=\"slice-titles\"/></g></svg>"
      }
     },
     "40b51546bdaf49678f235ff054a3939d": {
      "model_module": "jupyter-sankey-widget",
      "model_module_version": "^0.2.0",
      "model_name": "SankeyModel",
      "state": {
       "_dom_classes": [],
       "_model_module_version": "^0.2.0",
       "_view_module_version": "^0.2.0",
       "layout": "IPY_MODEL_35061a7766894db78f3d0518afb49838",
       "links": [
        {
         "source": "A",
         "target": "B",
         "value": 1
        },
        {
         "source": "B",
         "target": "C",
         "value": 1
        },
        {
         "source": "A",
         "target": "D",
         "value": 1
        }
       ],
       "margins": {
        "bottom": 0,
        "left": 30,
        "right": 60,
        "top": 10
       },
       "msg_throttle": 1,
       "order": [
        [
         "A"
        ],
        [
         "D",
         "B"
        ],
        [
         "C"
        ]
       ],
       "png": "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",
       "scale": 47.5,
       "svg": "<?xml version=\"1.0\" standalone=\"no\"?><!DOCTYPE svg PUBLIC \"-//W3C//DTD SVG 1.1//EN\" \"http://www.w3.org/Graphics/SVG/1.1/DTD/svg11.dtd\"><svg xmlns=\"http://www.w3.org/2000/svg\" width=\"300\" height=\"200\" viewBox=\"0 0 300 200\" style=\"font-family: &quot;Helvetica Neue&quot;,Helvetica,Arial,sans-serif;\"><g class=\"sankey\" transform=\"translate(30,10)\"><g class=\"groups\"/><g class=\"links\"><g class=\"link\" style=\"opacity: 0.8;\"><path d=\"M0,95 A84.00969923423352 84.00969923423352 0.33065803274531924 0 1 27.275049749441177,99.55089716302253 L91.28284370943088,121.52222971654 A36.50969923423352 36.50969923423352 0.33065803274531924 0 0 103.13628291975802,123.5 L103.13628291975802,171 A84.00969923423352 84.00969923423352 0.33065803274531924 0 1 75.86123317031685,166.44910283697746 L11.853439210327142,144.47777028346 A36.50969923423352 36.50969923423352 0.33065803274531924 0 0 0,142.5 Z\" style=\"fill: rgb(31, 119, 180);\"/><title>A → B\n1.00</title></g><g class=\"link\" style=\"opacity: 0.8;\"><path d=\"M103.13628291975802,123.5 A16.8717699374335 16.8717699374335 0.5588572848257416 0 0 112.08199363430236,120.93315511072288 L175.86894948313412,81.0434211579677 A64.3717699374335 64.3717699374335 0.5588572848257416 0 1 210,71.25 L210,118.75 A16.8717699374335 16.8717699374335 0.5588572848257416 0 0 201.05428928545567,121.31684488927714 L137.26733343662391,161.20657884203231 A64.3717699374335 64.3717699374335 0.5588572848257416 0 1 103.13628291975802,171 Z\" style=\"fill: rgb(31, 119, 180);\"/><title>B → C\n1.00</title></g><g class=\"link\" style=\"opacity: 0.8;\"><path d=\"M0,47.5 A36.50969923423352 36.50969923423352 0.33065803274531924 0 0 11.853439210327142,45.52222971654 L75.86123317031685,23.55089716302253 A84.00969923423352 84.00969923423352 0.33065803274531924 0 1 103.13628291975802,19 L103.13628291975802,66.5 A36.50969923423352 36.50969923423352 0.33065803274531924 0 0 91.28284370943088,68.47777028346 L27.275049749441177,90.44910283697747 A84.00969923423352 84.00969923423352 0.33065803274531924 0 1 0,95 Z\" style=\"fill: rgb(31, 119, 180);\"/><title>A → D\n1.00</title></g></g><g class=\"nodes\"><g class=\"node\" transform=\"translate(0,47.5)\"><title>A</title><text dy=\".35em\" text-anchor=\"end\" transform=\"translate(-4, 47.5)\">A</text><line x1=\"0\" x2=\"0\" y1=\"0\" y2=\"95\" style=\"stroke: rgb(0, 0, 0);\"/><rect x=\"-5\" y=\"-5\" width=\"10\" style=\"fill: none; visibility: hidden; pointer-events: all;\" height=\"100\"/></g><g class=\"node\" transform=\"translate(103.13628291975802,123.5)\"><title>B</title><text dy=\".35em\" text-anchor=\"start\" transform=\"translate(-4, -10)\">B</text><line x1=\"0\" x2=\"0\" y1=\"-5\" y2=\"47.5\" style=\"stroke: rgb(0, 0, 0);\"/><rect x=\"-5\" y=\"-5\" width=\"10\" style=\"fill: none; visibility: hidden; pointer-events: all;\" height=\"52.5\"/></g><g class=\"node\" transform=\"translate(210,71.25)\"><title>C</title><text dy=\".35em\" text-anchor=\"start\" transform=\"translate(4, 23.75)\">C</text><line x1=\"0\" x2=\"0\" y1=\"0\" y2=\"47.5\" style=\"stroke: rgb(0, 0, 0);\"/><rect x=\"-5\" y=\"-5\" width=\"10\" style=\"fill: none; visibility: hidden; pointer-events: all;\" height=\"52.5\"/></g><g class=\"node\" transform=\"translate(103.13628291975802,19)\"><title>D</title><text dy=\".35em\" text-anchor=\"start\" transform=\"translate(4, 23.75)\">D</text><line x1=\"0\" x2=\"0\" y1=\"0\" y2=\"47.5\" style=\"stroke: rgb(0, 0, 0);\"/><rect x=\"-5\" y=\"-5\" width=\"10\" style=\"fill: none; visibility: hidden; pointer-events: all;\" height=\"52.5\"/></g></g><g class=\"slice-titles\"/></g></svg>"
      }
     },
     "40ed46db9cad44e5baa73e20319cdc54": {
      "model_module": "jupyter-sankey-widget",
      "model_module_version": "^0.2.0",
      "model_name": "SankeyModel",
      "state": {
       "_dom_classes": [],
       "_model_module_version": "^0.2.0",
       "_view_module_version": "^0.2.0",
       "layout": "IPY_MODEL_35061a7766894db78f3d0518afb49838",
       "links": [
        {
         "source": "A",
         "target": "B",
         "value": 1
        },
        {
         "source": "B",
         "target": "C",
         "value": 1
        },
        {
         "source": "C",
         "target": "D",
         "value": 1
        },
        {
         "source": "A",
         "target": "E",
         "value": 0.5
        }
       ],
       "margins": {
        "bottom": 0,
        "left": 30,
        "right": 60,
        "top": 10
       },
       "msg_throttle": 1,
       "nodes": [
        {
         "backwards": true,
         "id": "C"
        },
        {
         "backwards": false,
         "id": "D"
        }
       ],
       "order": [],
       "png": "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",
       "scale": 27.142857142857142,
       "svg": "<?xml version=\"1.0\" standalone=\"no\"?><!DOCTYPE svg PUBLIC \"-//W3C//DTD SVG 1.1//EN\" \"http://www.w3.org/Graphics/SVG/1.1/DTD/svg11.dtd\"><svg xmlns=\"http://www.w3.org/2000/svg\" width=\"300\" height=\"200\" viewBox=\"0 0 300 200\" style=\"font-family: &quot;Helvetica Neue&quot;,Helvetica,Arial,sans-serif;\"><g class=\"sankey\" transform=\"translate(30,10)\"><g class=\"groups\"/><g class=\"links\"><g class=\"link\" style=\"opacity: 0.8;\"><path d=\"M0,101.78571428571428 A134.01532642582066 134.01532642582066 0.31764191228594685 0 1 41.856646096858995,108.4898907892223 L172.38208165087747,151.40331169506408 A120.44389785439209 120.44389785439209 0.31764191228594685 0 0 210,157.42857142857142 L210,170.99999999999997 A134.01532642582066 134.01532642582066 0.31764191228594685 0 1 168.14335390314102,164.29582349649195 L37.61791834912253,121.38240259065017 A120.44389785439209 120.44389785439209 0.31764191228594685 0 0 0,115.35714285714286 Z\" style=\"fill: rgb(31, 119, 180);\"/><title>A → E\n500m</title></g><g class=\"link\" style=\"opacity: 0.8;\"><path d=\"M0,74.64285714285714 A113.6581835686778 113.6581835686778 0.3176419122859466 0 0 35.49855447525427,68.95705579435018 L166.0239900292728,26.043634888508375 A140.80104071153494 140.80104071153494 0.3176419122859466 0 1 210,19 L210,46.14285714285714 A113.6581835686778 113.6581835686778 0.3176419122859466 0 0 174.50144552474575,51.828658491364095 L43.97600997072719,94.7420793972059 A140.80104071153494 140.80104071153494 0.3176419122859466 0 1 0,101.78571428571428 Z\" style=\"fill: rgb(31, 119, 180);\"/><title>A → B\n1.00</title></g><g class=\"link\" style=\"opacity: 0.8;\"><path d=\"M210,19 A32.14285714285714 32.14285714285714 1.5707963267948966 0 1 242.14285714285714,51.14285714285714 L242.14285714285714,60.14285714285714 A32.14285714285714 32.14285714285714 1.5707963267948966 0 1 210,92.28571428571428 L210,65.14285714285714 A4.999999999999998 4.999999999999998 1.5707963267948966 0 0 214.99999999999997,60.14285714285714 L214.99999999999997,51.14285714285714 A4.999999999999998 4.999999999999998 1.5707963267948966 0 0 210,46.14285714285714 Z\" style=\"fill: rgb(31, 119, 180);\"/><title>B → C\n1.00</title></g><g class=\"link\" style=\"opacity: 0.8;\"><path d=\"M210,65.14285714285714 A32.14285714285714 32.14285714285714 1.5707963267948966 0 0 177.85714285714286,97.28571428571428 L177.85714285714286,106.28571428571428 A32.14285714285714 32.14285714285714 1.5707963267948966 0 0 210,138.42857142857142 L210,111.28571428571428 A4.999999999999998 4.999999999999998 1.5707963267948966 0 1 205.00000000000003,106.28571428571428 L205.00000000000003,97.28571428571428 A4.999999999999998 4.999999999999998 1.5707963267948966 0 1 210,92.28571428571428 Z\" style=\"fill: rgb(31, 119, 180);\"/><title>C → D\n1.00</title></g></g><g class=\"nodes\"><g class=\"node\" transform=\"translate(210,65.14285714285714)\"><title>C</title><text dy=\".35em\" text-anchor=\"start\" transform=\"translate(4, 13.571428298950195)\">C</text><line x1=\"0\" x2=\"0\" y1=\"0\" y2=\"27.142857142857142\" style=\"stroke: rgb(0, 0, 0);\"/><rect x=\"-5\" y=\"-5\" width=\"10\" style=\"fill: none; visibility: hidden; pointer-events: all;\" height=\"32.14285714285714\"/></g><g class=\"node\" transform=\"translate(210,111.28571428571428)\"><title>D</title><text dy=\".35em\" text-anchor=\"start\" transform=\"translate(4, 13.571428298950195)\">D</text><line x1=\"0\" x2=\"0\" y1=\"0\" y2=\"27.142857142857142\" style=\"stroke: rgb(0, 0, 0);\"/><rect x=\"-5\" y=\"-5\" width=\"10\" style=\"fill: none; visibility: hidden; pointer-events: all;\" height=\"32.14285714285714\"/></g><g class=\"node\" transform=\"translate(0,74.64285714285714)\"><title>A</title><text dy=\".35em\" text-anchor=\"end\" transform=\"translate(-4, 20.35714340209961)\">A</text><line x1=\"0\" x2=\"0\" y1=\"0\" y2=\"40.714285714285715\" style=\"stroke: rgb(0, 0, 0);\"/><rect x=\"-5\" y=\"-5\" width=\"10\" style=\"fill: none; visibility: hidden; pointer-events: all;\" height=\"45.714285714285715\"/></g><g class=\"node\" transform=\"translate(210,19)\"><title>B</title><text dy=\".35em\" text-anchor=\"start\" transform=\"translate(-4, -10)\">B</text><line x1=\"0\" x2=\"0\" y1=\"-5\" y2=\"27.142857142857142\" style=\"stroke: rgb(0, 0, 0);\"/><rect x=\"-5\" y=\"-5\" width=\"10\" style=\"fill: none; visibility: hidden; pointer-events: all;\" height=\"32.14285714285714\"/></g><g class=\"node\" transform=\"translate(210,157.42857142857142)\"><title>E</title><text dy=\".35em\" text-anchor=\"start\" transform=\"translate(4, 6.785714149475098)\">E</text><line x1=\"0\" x2=\"0\" y1=\"0\" y2=\"13.571428571428571\" style=\"stroke: rgb(0, 0, 0);\"/><rect x=\"-5\" y=\"-5\" width=\"10\" style=\"fill: none; visibility: hidden; pointer-events: all;\" height=\"18.57142857142857\"/></g></g><g class=\"slice-titles\"/></g></svg>"
      }
     },
     "45e791d202c94f74a0680063dffe832f": {
      "model_module": "jupyter-sankey-widget",
      "model_module_version": "^0.2.0",
      "model_name": "SankeyModel",
      "state": {
       "_dom_classes": [],
       "_model_module_version": "^0.2.0",
       "_view_module_version": "^0.2.0",
       "align_link_types": true,
       "layout": "IPY_MODEL_635fd181385c4f8ba7b06d3424b83117",
       "links": [
        {
         "source": "A1",
         "target": "B",
         "type": "x",
         "value": 1.5
        },
        {
         "source": "A1",
         "target": "B",
         "type": "y",
         "value": 0.5
        },
        {
         "source": "A2",
         "target": "B",
         "type": "x",
         "value": 0.5
        },
        {
         "source": "A2",
         "target": "B",
         "type": "y",
         "value": 1.5
        },
        {
         "source": "B",
         "target": "C",
         "type": "x",
         "value": 2
        },
        {
         "source": "B",
         "target": "C",
         "type": "y",
         "value": 2
        }
       ],
       "margins": {
        "bottom": 0,
        "left": 30,
        "right": 60,
        "top": 10
       },
       "msg_throttle": 1,
       "order": [
        [
         "A2",
         "A1"
        ],
        [
         "B"
        ],
        [
         "C"
        ]
       ],
       "png": "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",
       "scale": 48.75,
       "svg": "<?xml version=\"1.0\" standalone=\"no\"?><!DOCTYPE svg PUBLIC \"-//W3C//DTD SVG 1.1//EN\" \"http://www.w3.org/Graphics/SVG/1.1/DTD/svg11.dtd\"><svg xmlns=\"http://www.w3.org/2000/svg\" width=\"600\" height=\"400\" viewBox=\"0 0 600 400\" style=\"font-family: &quot;Helvetica Neue&quot;,Helvetica,Arial,sans-serif;\"><g class=\"sankey\" transform=\"translate(30,10)\"><g class=\"groups\"/><g class=\"links\"><g class=\"link\" style=\"opacity: 0.8;\"><path d=\"M0,326.625 A214.5585036057692 214.5585036057692 0.22291413249878933 0 0 47.43300343515818,321.3162554255548 L272.8423490909236,270.220176193243 A84.67875267094018 84.67875267094018 0.22291413249878933 0 1 291.5625,268.125 L291.5625,292.5 A60.303752670940185 60.303752670940185 0.22291413249878933 0 0 278.23099339679715,293.9920742568132 L52.82164774103175,345.08815348912503 A238.9335036057692 238.9335036057692 0.22291413249878933 0 1 0,351 Z\" style=\"fill: rgb(174, 199, 232);\"/><title>A1 → B\n500m</title></g><g class=\"link\" style=\"opacity: 0.8;\"><path d=\"M0,39 A238.9335036057692 238.9335036057692 0.24273508974252112 0 1 57.42968193344847,46.004525730319 L239.991554811305,91.2100467850459 A214.5585036057692 214.5585036057692 0.24273508974252112 0 0 291.5625,97.5 L291.5625,121.875 A238.9335036057692 238.9335036057692 0.24273508974252112 0 1 234.13281806655155,114.87047426968098 L51.570945188695,69.6649532149541 A214.5585036057692 214.5585036057692 0.24273508974252112 0 0 0,63.375 Z\" style=\"fill: rgb(31, 119, 180);\"/><title>A2 → B\n500m</title></g><g class=\"link\" style=\"opacity: 0.8;\"><path d=\"M0,253.5 A80.05725160256411 80.05725160256411 0.5881343590087349 0 0 44.41654923767183,240.04855661243866 L163.44096062561513,160.67629508485177 A230.92875267094018 230.92875267094018 0.5881343590087349 0 1 291.5625,121.875 L291.5625,195 A157.80375267094018 157.80375267094018 0.5881343590087349 0 0 204.01142860931398,221.51462800566466 L84.9870172213707,300.8868895332515 A153.18225160256412 153.18225160256412 0.5881343590087349 0 1 0,326.625 Z\" style=\"fill: rgb(31, 119, 180);\"/><title>A1 → B\n1.50</title></g><g class=\"link\" style=\"opacity: 0.8;\"><path d=\"M0,63.375 A153.18225160256412 153.18225160256412 0.5239834300075339 0 1 76.6421482805747,83.92700123346597 L249.19491856988296,183.63890685027383 A84.67875267094018 84.67875267094018 0.5239834300075339 0 0 291.5625,195 L291.5625,268.125 A157.80375267094018 157.80375267094018 0.5239834300075339 0 1 212.6080618395226,246.95294589053793 L40.055291550214356,147.24104027373008 A80.05725160256411 80.05725160256411 0.5239834300075339 0 0 0,136.5 Z\" style=\"fill: rgb(174, 199, 232);\"/><title>A2 → B\n1.50</title></g><g class=\"link\" style=\"opacity: 0.8;\"><path d=\"M291.5625,97.5 A0 0 0 0 0 291.5625,97.5 L510,97.5 A0 0 0 0 0 510,97.5 L510,195 A0 0 0 0 0 510,195 L291.5625,195 A0 0 0 0 0 291.5625,195 Z\" style=\"fill: rgb(31, 119, 180);\"/><title>B → C\n2.00</title></g><g class=\"link\" style=\"opacity: 0.8;\"><path d=\"M291.5625,195 A0 0 0 0 0 291.5625,195 L510,195 A0 0 0 0 0 510,195 L510,292.5 A0 0 0 0 0 510,292.5 L291.5625,292.5 A0 0 0 0 0 291.5625,292.5 Z\" style=\"fill: rgb(174, 199, 232);\"/><title>B → C\n2.00</title></g></g><g class=\"nodes\"><g class=\"node\" transform=\"translate(0,253.5)\"><title>A1</title><text dy=\".35em\" text-anchor=\"end\" transform=\"translate(-4, 48.75)\">A1</text><line x1=\"0\" x2=\"0\" y1=\"0\" y2=\"97.5\" style=\"stroke: rgb(0, 0, 0);\"/><rect x=\"-5\" y=\"-5\" width=\"10\" style=\"fill: none; visibility: hidden; pointer-events: all;\" height=\"102.5\"/></g><g class=\"node\" transform=\"translate(291.5625,97.5)\"><title>B</title><text dy=\".35em\" text-anchor=\"start\" transform=\"translate(-4, -10)\">B</text><line x1=\"0\" x2=\"0\" y1=\"-5\" y2=\"195\" style=\"stroke: rgb(0, 0, 0);\"/><rect x=\"-5\" y=\"-5\" width=\"10\" style=\"fill: none; visibility: hidden; pointer-events: all;\" height=\"200\"/></g><g class=\"node\" transform=\"translate(0,39)\"><title>A2</title><text dy=\".35em\" text-anchor=\"end\" transform=\"translate(-4, 48.75)\">A2</text><line x1=\"0\" x2=\"0\" y1=\"0\" y2=\"97.5\" style=\"stroke: rgb(0, 0, 0);\"/><rect x=\"-5\" y=\"-5\" width=\"10\" style=\"fill: none; visibility: hidden; pointer-events: all;\" height=\"102.5\"/></g><g class=\"node\" transform=\"translate(510,97.5)\"><title>C</title><text dy=\".35em\" text-anchor=\"start\" transform=\"translate(4, 97.5)\">C</text><line x1=\"0\" x2=\"0\" y1=\"0\" y2=\"195\" style=\"stroke: rgb(0, 0, 0);\"/><rect x=\"-5\" y=\"-5\" width=\"10\" style=\"fill: none; visibility: hidden; pointer-events: all;\" height=\"200\"/></g></g><g class=\"slice-titles\"/></g></svg>"
      }
     },
     "47dece7cc75042cc93eee6f2ef0f2ba3": {
      "model_module": "jupyter-sankey-widget",
      "model_module_version": "^0.2.0",
      "model_name": "SankeyModel",
      "state": {
       "_dom_classes": [],
       "_model_module_version": "^0.2.0",
       "_view_module_version": "^0.2.0",
       "layout": "IPY_MODEL_35061a7766894db78f3d0518afb49838",
       "links": [
        {
         "source": "A",
         "target": "B",
         "value": 1
        },
        {
         "source": "B",
         "target": "C",
         "value": 1
        },
        {
         "source": "C",
         "target": "D",
         "value": 1
        },
        {
         "source": "A",
         "target": "E",
         "value": 0.5
        }
       ],
       "margins": {
        "bottom": 0,
        "left": 30,
        "right": 60,
        "top": 10
       },
       "msg_throttle": 1,
       "nodes": [
        {
         "backwards": true,
         "id": "C"
        },
        {
         "backwards": true,
         "id": "D"
        }
       ],
       "order": [],
       "png": "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",
       "scale": 38,
       "svg": "<?xml version=\"1.0\" standalone=\"no\"?><!DOCTYPE svg PUBLIC \"-//W3C//DTD SVG 1.1//EN\" \"http://www.w3.org/Graphics/SVG/1.1/DTD/svg11.dtd\"><svg xmlns=\"http://www.w3.org/2000/svg\" width=\"300\" height=\"200\" viewBox=\"0 0 300 200\" style=\"font-family: &quot;Helvetica Neue&quot;,Helvetica,Arial,sans-serif;\"><g class=\"sankey\" transform=\"translate(30,10)\"><g class=\"groups\"/><g class=\"links\"><g class=\"link\" style=\"opacity: 0.8;\"><path d=\"M0,57 A245.88026315789475 245.88026315789475 0.16530423219410584 0 1 40.4601932192753,60.35175643084115 L172.66630282922037,82.40724513100885 A226.88026315789475 226.88026315789475 0.16530423219410584 0 0 210,85.5 L210,104.5 A245.88026315789475 245.88026315789475 0.16530423219410584 0 1 169.53980678072472,101.14824356915885 L37.333697170779644,79.09275486899115 A226.88026315789475 226.88026315789475 0.16530423219410584 0 0 0,76 Z\" style=\"fill: rgb(31, 119, 180);\"/><title>A → E\n500m</title></g><g class=\"link\" style=\"opacity: 0.8;\"><path d=\"M0,19 A0 0 0 0 0 0,19 L210,19 A0 0 0 0 0 210,19 L210,57 A0 0 0 0 0 210,57 L0,57 A0 0 0 0 0 0,57 Z\" style=\"fill: rgb(31, 119, 180);\"/><title>A → B\n1.00</title></g><g class=\"link\" style=\"opacity: 0.8;\"><path d=\"M210,19 A43 43 1.5707963267948966 0 1 253,62 L253,128 A43 43 1.5707963267948966 0 1 210,171 L210,133 A5 5 1.5707963267948966 0 0 215,128 L215,62 A5 5 1.5707963267948966 0 0 210,57 Z\" style=\"fill: rgb(31, 119, 180);\"/><title>B → C\n1.00</title></g><g class=\"link\" style=\"opacity: 0.8;\"><path d=\"M0,133 A0 0 0 0 0 0,133 L210,133 A0 0 0 0 0 210,133 L210,171 A0 0 0 0 0 210,171 L0,171 A0 0 0 0 0 0,171 Z\" style=\"fill: rgb(31, 119, 180);\"/><title>C → D\n1.00</title></g></g><g class=\"nodes\"><g class=\"node\" transform=\"translate(210,133)\"><title>C</title><text dy=\".35em\" text-anchor=\"start\" transform=\"translate(-4, -10)\">C</text><line x1=\"0\" x2=\"0\" y1=\"-5\" y2=\"38\" style=\"stroke: rgb(0, 0, 0);\"/><rect x=\"-5\" y=\"-5\" width=\"10\" style=\"fill: none; visibility: hidden; pointer-events: all;\" height=\"43\"/></g><g class=\"node\" transform=\"translate(0,133)\"><title>D</title><text dy=\".35em\" text-anchor=\"start\" transform=\"translate(4, 19)\">D</text><line x1=\"0\" x2=\"0\" y1=\"0\" y2=\"38\" style=\"stroke: rgb(0, 0, 0);\"/><rect x=\"-5\" y=\"-5\" width=\"10\" style=\"fill: none; visibility: hidden; pointer-events: all;\" height=\"43\"/></g><g class=\"node\" transform=\"translate(0,19)\"><title>A</title><text dy=\".35em\" text-anchor=\"end\" transform=\"translate(-4, 28.5)\">A</text><line x1=\"0\" x2=\"0\" y1=\"0\" y2=\"57\" style=\"stroke: rgb(0, 0, 0);\"/><rect x=\"-5\" y=\"-5\" width=\"10\" style=\"fill: none; visibility: hidden; pointer-events: all;\" height=\"62\"/></g><g class=\"node\" transform=\"translate(210,19)\"><title>B</title><text dy=\".35em\" text-anchor=\"start\" transform=\"translate(-4, -10)\">B</text><line x1=\"0\" x2=\"0\" y1=\"-5\" y2=\"38\" style=\"stroke: rgb(0, 0, 0);\"/><rect x=\"-5\" y=\"-5\" width=\"10\" style=\"fill: none; visibility: hidden; pointer-events: all;\" height=\"43\"/></g><g class=\"node\" transform=\"translate(210,85.5)\"><title>E</title><text dy=\".35em\" text-anchor=\"start\" transform=\"translate(4, 9.5)\">E</text><line x1=\"0\" x2=\"0\" y1=\"0\" y2=\"19\" style=\"stroke: rgb(0, 0, 0);\"/><rect x=\"-5\" y=\"-5\" width=\"10\" style=\"fill: none; visibility: hidden; pointer-events: all;\" height=\"24\"/></g></g><g class=\"slice-titles\"/></g></svg>"
      }
     },
     "4b81ad1518484898af240f5ef3d64d9e": {
      "model_module": "jupyter-js-widgets",
      "model_module_version": "~2.1.4",
      "model_name": "ButtonModel",
      "state": {
       "_model_module_version": "~2.1.4",
       "_view_module_version": "~2.1.4",
       "description": "Swap",
       "layout": "IPY_MODEL_b113bacff7544912b81ae6b2a250877f",
       "style": "IPY_MODEL_e3bc0c275244483aa66ea2971f7a8eb2"
      }
     },
     "4c74627288e64ae49e86db4d53f6d5b1": {
      "model_module": "jupyter-sankey-widget",
      "model_module_version": "^0.2.0",
      "model_name": "SankeyModel",
      "state": {
       "_dom_classes": [],
       "_model_module_version": "^0.2.0",
       "_view_module_version": "^0.2.0",
       "layout": "IPY_MODEL_73d879c5e19d4280945904f358b1ad45",
       "links": [
        {
         "source": "A",
         "target": "B",
         "value": 1
        },
        {
         "source": "B",
         "target": "C",
         "value": 1
        },
        {
         "source": "C",
         "target": "D",
         "value": 1
        },
        {
         "source": "A",
         "target": "E",
         "value": 0.5
        }
       ],
       "margins": {
        "bottom": 0,
        "left": 30,
        "right": 60,
        "top": 10
       },
       "msg_throttle": 1,
       "nodes": [
        {
         "backwards": true,
         "id": "C"
        },
        {
         "backwards": true,
         "id": "D"
        }
       ],
       "order": [],
       "png": "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",
       "scale": 38,
       "svg": "<?xml version=\"1.0\" standalone=\"no\"?><!DOCTYPE svg PUBLIC \"-//W3C//DTD SVG 1.1//EN\" \"http://www.w3.org/Graphics/SVG/1.1/DTD/svg11.dtd\"><svg xmlns=\"http://www.w3.org/2000/svg\" width=\"300\" height=\"200\" viewBox=\"0 0 300 200\" style=\"font-family: &quot;Helvetica Neue&quot;,Helvetica,Arial,sans-serif;\"><g class=\"sankey\" transform=\"translate(30,10)\"><g class=\"groups\"/><g class=\"links\"><g class=\"link\" style=\"opacity: 0.8;\"><path d=\"M0,57 A245.88026315789475 245.88026315789475 0.16530423219410584 0 1 40.4601932192753,60.35175643084115 L172.66630282922037,82.40724513100885 A226.88026315789475 226.88026315789475 0.16530423219410584 0 0 210,85.5 L210,104.5 A245.88026315789475 245.88026315789475 0.16530423219410584 0 1 169.53980678072472,101.14824356915885 L37.333697170779644,79.09275486899115 A226.88026315789475 226.88026315789475 0.16530423219410584 0 0 0,76 Z\" style=\"fill: rgb(31, 119, 180);\"/><title>A → E\n500m</title></g><g class=\"link\" style=\"opacity: 0.8;\"><path d=\"M0,19 A0 0 0 0 0 0,19 L210,19 A0 0 0 0 0 210,19 L210,57 A0 0 0 0 0 210,57 L0,57 A0 0 0 0 0 0,57 Z\" style=\"fill: rgb(31, 119, 180);\"/><title>A → B\n1.00</title></g><g class=\"link\" style=\"opacity: 0.8;\"><path d=\"M210,19 A43 43 1.5707963267948966 0 1 253,62 L253,128 A43 43 1.5707963267948966 0 1 210,171 L210,133 A5 5 1.5707963267948966 0 0 215,128 L215,62 A5 5 1.5707963267948966 0 0 210,57 Z\" style=\"fill: rgb(31, 119, 180);\"/><title>B → C\n1.00</title></g><g class=\"link\" style=\"opacity: 0.8;\"><path d=\"M0,133 A0 0 0 0 0 0,133 L210,133 A0 0 0 0 0 210,133 L210,171 A0 0 0 0 0 210,171 L0,171 A0 0 0 0 0 0,171 Z\" style=\"fill: rgb(31, 119, 180);\"/><title>C → D\n1.00</title></g></g><g class=\"nodes\"><g class=\"node\" transform=\"translate(210,133)\"><title>C</title><text dy=\".35em\" text-anchor=\"start\" transform=\"translate(-4, -10)\">C</text><line x1=\"0\" x2=\"0\" y1=\"-5\" y2=\"38\" style=\"stroke: rgb(0, 0, 0);\"/><rect x=\"-5\" y=\"-5\" width=\"10\" style=\"fill: none; visibility: hidden; pointer-events: all;\" height=\"43\"/></g><g class=\"node\" transform=\"translate(0,133)\"><title>D</title><text dy=\".35em\" text-anchor=\"start\" transform=\"translate(4, 19)\">D</text><line x1=\"0\" x2=\"0\" y1=\"0\" y2=\"38\" style=\"stroke: rgb(0, 0, 0);\"/><rect x=\"-5\" y=\"-5\" width=\"10\" style=\"fill: none; visibility: hidden; pointer-events: all;\" height=\"43\"/></g><g class=\"node\" transform=\"translate(0,19)\"><title>A</title><text dy=\".35em\" text-anchor=\"end\" transform=\"translate(-4, 28.5)\">A</text><line x1=\"0\" x2=\"0\" y1=\"0\" y2=\"57\" style=\"stroke: rgb(0, 0, 0);\"/><rect x=\"-5\" y=\"-5\" width=\"10\" style=\"fill: none; visibility: hidden; pointer-events: all;\" height=\"62\"/></g><g class=\"node\" transform=\"translate(210,19)\"><title>B</title><text dy=\".35em\" text-anchor=\"start\" transform=\"translate(-4, -10)\">B</text><line x1=\"0\" x2=\"0\" y1=\"-5\" y2=\"38\" style=\"stroke: rgb(0, 0, 0);\"/><rect x=\"-5\" y=\"-5\" width=\"10\" style=\"fill: none; visibility: hidden; pointer-events: all;\" height=\"43\"/></g><g class=\"node\" transform=\"translate(210,85.5)\"><title>E</title><text dy=\".35em\" text-anchor=\"start\" transform=\"translate(4, 9.5)\">E</text><line x1=\"0\" x2=\"0\" y1=\"0\" y2=\"19\" style=\"stroke: rgb(0, 0, 0);\"/><rect x=\"-5\" y=\"-5\" width=\"10\" style=\"fill: none; visibility: hidden; pointer-events: all;\" height=\"24\"/></g></g><g class=\"slice-titles\"/></g></svg>"
      }
     },
     "4fca8b3f3c31472aa735eb1df0a15743": {
      "model_module": "jupyter-sankey-widget",
      "model_module_version": "^0.2.0",
      "model_name": "SankeyModel",
      "state": {
       "_dom_classes": [],
       "_model_module_version": "^0.2.0",
       "_view_module_version": "^0.2.0",
       "layout": "IPY_MODEL_35061a7766894db78f3d0518afb49838",
       "links": [
        {
         "source": "A",
         "target": "B",
         "value": 1
        },
        {
         "source": "B",
         "target": "C",
         "value": 1
        },
        {
         "source": "C",
         "target": "D",
         "value": 1
        },
        {
         "source": "A",
         "target": "E",
         "value": 0.5
        }
       ],
       "margins": {
        "bottom": 0,
        "left": 30,
        "right": 60,
        "top": 10
       },
       "msg_throttle": 1,
       "nodes": [
        {
         "backwards": false,
         "id": "C"
        },
        {
         "backwards": true,
         "id": "D"
        }
       ],
       "order": [],
       "png": "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",
       "scale": 47.5,
       "svg": "<?xml version=\"1.0\" standalone=\"no\"?><!DOCTYPE svg PUBLIC \"-//W3C//DTD SVG 1.1//EN\" \"http://www.w3.org/Graphics/SVG/1.1/DTD/svg11.dtd\"><svg xmlns=\"http://www.w3.org/2000/svg\" width=\"300\" height=\"200\" viewBox=\"0 0 300 200\" style=\"font-family: &quot;Helvetica Neue&quot;,Helvetica,Arial,sans-serif;\"><g class=\"sankey\" transform=\"translate(30,10)\"><g class=\"groups\"/><g class=\"links\"><g class=\"link\" style=\"opacity: 0.8;\"><path d=\"M0,106.875 A79.25920976017211 79.25920976017211 0.37353610808934956 0 1 28.922476215236784,112.34049253854121 L108.22542810074206,143.42224076946334 A55.50920976017211 55.50920976017211 0.37353610808934956 0 0 128.48129242077616,147.25 L128.48129242077616,171 A79.25920976017211 79.25920976017211 0.37353610808934956 0 1 99.55881620553937,165.5345074614588 L20.255864320034085,134.45275923053666 A55.50920976017211 55.50920976017211 0.37353610808934956 0 0 0,130.625 Z\" style=\"fill: rgb(31, 119, 180);\"/><title>A → E\n500m</title></g><g class=\"link\" style=\"opacity: 0.8;\"><path d=\"M0,59.375 A43.63420976017211 43.63420976017211 0.37353610808934956 0 0 15.922558372432734,56.36610742346562 L95.22551025793801,25.28435919254349 A91.13420976017211 91.13420976017211 0.37353610808934956 0 1 128.48129242077616,19 L128.48129242077616,66.5 A43.63420976017211 43.63420976017211 0.37353610808934956 0 0 112.55873404834342,69.50889257653438 L33.25578216283814,100.59064080745651 A91.13420976017211 91.13420976017211 0.37353610808934956 0 1 0,106.875 Z\" style=\"fill: rgb(31, 119, 180);\"/><title>A → B\n1.00</title></g><g class=\"link\" style=\"opacity: 0.8;\"><path d=\"M128.48129242077616,19 A0 0 0 0 0 128.48129242077616,19 L210,19 A0 0 0 0 0 210,19 L210,66.5 A0 0 0 0 0 210,66.5 L128.48129242077616,66.5 A0 0 0 0 0 128.48129242077616,66.5 Z\" style=\"fill: rgb(31, 119, 180);\"/><title>B → C\n1.00</title></g><g class=\"link\" style=\"opacity: 0.8;\"><path d=\"M210,19 A52.5 52.5 1.5707963267948966 0 1 262.5,71.5 L262.5,118.5 A52.5 52.5 1.5707963267948966 0 1 210,171 L210,123.5 A5 5 1.5707963267948966 0 0 215,118.5 L215,71.5 A5 5 1.5707963267948966 0 0 210,66.5 Z\" style=\"fill: rgb(31, 119, 180);\"/><title>C → D\n1.00</title></g></g><g class=\"nodes\"><g class=\"node\" transform=\"translate(210,19)\"><title>C</title><text dy=\".35em\" text-anchor=\"start\" transform=\"translate(-4, -10)\">C</text><line x1=\"0\" x2=\"0\" y1=\"-5\" y2=\"47.5\" style=\"stroke: rgb(0, 0, 0);\"/><rect x=\"-5\" y=\"-5\" width=\"10\" style=\"fill: none; visibility: hidden; pointer-events: all;\" height=\"52.5\"/></g><g class=\"node\" transform=\"translate(210,123.5)\"><title>D</title><text dy=\".35em\" text-anchor=\"start\" transform=\"translate(4, 23.75)\">D</text><line x1=\"0\" x2=\"0\" y1=\"0\" y2=\"47.5\" style=\"stroke: rgb(0, 0, 0);\"/><rect x=\"-5\" y=\"-5\" width=\"10\" style=\"fill: none; visibility: hidden; pointer-events: all;\" height=\"52.5\"/></g><g class=\"node\" transform=\"translate(0,59.375)\"><title>A</title><text dy=\".35em\" text-anchor=\"end\" transform=\"translate(-4, 35.625)\">A</text><line x1=\"0\" x2=\"0\" y1=\"0\" y2=\"71.25\" style=\"stroke: rgb(0, 0, 0);\"/><rect x=\"-5\" y=\"-5\" width=\"10\" style=\"fill: none; visibility: hidden; pointer-events: all;\" height=\"76.25\"/></g><g class=\"node\" transform=\"translate(128.48129242077616,19)\"><title>B</title><text dy=\".35em\" text-anchor=\"start\" transform=\"translate(-4, -10)\">B</text><line x1=\"0\" x2=\"0\" y1=\"-5\" y2=\"47.5\" style=\"stroke: rgb(0, 0, 0);\"/><rect x=\"-5\" y=\"-5\" width=\"10\" style=\"fill: none; visibility: hidden; pointer-events: all;\" height=\"52.5\"/></g><g class=\"node\" transform=\"translate(128.48129242077616,147.25)\"><title>E</title><text dy=\".35em\" text-anchor=\"start\" transform=\"translate(4, 11.875)\">E</text><line x1=\"0\" x2=\"0\" y1=\"0\" y2=\"23.75\" style=\"stroke: rgb(0, 0, 0);\"/><rect x=\"-5\" y=\"-5\" width=\"10\" style=\"fill: none; visibility: hidden; pointer-events: all;\" height=\"28.75\"/></g></g><g class=\"slice-titles\"/></g></svg>"
      }
     },
     "5127b540d52a4e88865c5c765e4d3438": {
      "model_module": "jupyter-sankey-widget",
      "model_module_version": "^0.2.0",
      "model_name": "SankeyModel",
      "state": {
       "_dom_classes": [],
       "_model_module_version": "^0.2.0",
       "_view_module_version": "^0.2.0",
       "layout": "IPY_MODEL_918c2d53b8df4c6b932133cdb78b2959",
       "links": [
        {
         "source": "A",
         "target": "B",
         "value": 1
        },
        {
         "source": "B",
         "target": "C",
         "value": 1
        },
        {
         "source": "C",
         "target": "D",
         "value": 1
        },
        {
         "source": "A",
         "target": "E",
         "value": 0.5
        }
       ],
       "margins": {
        "bottom": 0,
        "left": 30,
        "right": 60,
        "top": 10
       },
       "msg_throttle": 1,
       "nodes": [
        {
         "backwards": false,
         "id": "C"
        },
        {
         "backwards": true,
         "id": "D"
        }
       ],
       "order": [],
       "png": "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",
       "scale": 47.5,
       "svg": "<?xml version=\"1.0\" standalone=\"no\"?><!DOCTYPE svg PUBLIC \"-//W3C//DTD SVG 1.1//EN\" \"http://www.w3.org/Graphics/SVG/1.1/DTD/svg11.dtd\"><svg xmlns=\"http://www.w3.org/2000/svg\" width=\"300\" height=\"200\" viewBox=\"0 0 300 200\" style=\"font-family: &quot;Helvetica Neue&quot;,Helvetica,Arial,sans-serif;\"><g class=\"sankey\" transform=\"translate(30,10)\"><g class=\"groups\"/><g class=\"links\"><g class=\"link\" style=\"opacity: 0.8;\"><path d=\"M0,106.875 A79.25920976017211 79.25920976017211 0.37353610808934956 0 1 28.922476215236784,112.34049253854121 L108.22542810074206,143.42224076946334 A55.50920976017211 55.50920976017211 0.37353610808934956 0 0 128.48129242077616,147.25 L128.48129242077616,171 A79.25920976017211 79.25920976017211 0.37353610808934956 0 1 99.55881620553937,165.5345074614588 L20.255864320034085,134.45275923053666 A55.50920976017211 55.50920976017211 0.37353610808934956 0 0 0,130.625 Z\" style=\"fill: rgb(31, 119, 180);\"/><title>A → E\n500m</title></g><g class=\"link\" style=\"opacity: 0.8;\"><path d=\"M0,59.375 A43.63420976017211 43.63420976017211 0.37353610808934956 0 0 15.922558372432734,56.36610742346562 L95.22551025793801,25.28435919254349 A91.13420976017211 91.13420976017211 0.37353610808934956 0 1 128.48129242077616,19 L128.48129242077616,66.5 A43.63420976017211 43.63420976017211 0.37353610808934956 0 0 112.55873404834342,69.50889257653438 L33.25578216283814,100.59064080745651 A91.13420976017211 91.13420976017211 0.37353610808934956 0 1 0,106.875 Z\" style=\"fill: rgb(31, 119, 180);\"/><title>A → B\n1.00</title></g><g class=\"link\" style=\"opacity: 0.8;\"><path d=\"M128.48129242077616,19 A0 0 0 0 0 128.48129242077616,19 L210,19 A0 0 0 0 0 210,19 L210,66.5 A0 0 0 0 0 210,66.5 L128.48129242077616,66.5 A0 0 0 0 0 128.48129242077616,66.5 Z\" style=\"fill: rgb(31, 119, 180);\"/><title>B → C\n1.00</title></g><g class=\"link\" style=\"opacity: 0.8;\"><path d=\"M210,19 A52.5 52.5 1.5707963267948966 0 1 262.5,71.5 L262.5,118.5 A52.5 52.5 1.5707963267948966 0 1 210,171 L210,123.5 A5 5 1.5707963267948966 0 0 215,118.5 L215,71.5 A5 5 1.5707963267948966 0 0 210,66.5 Z\" style=\"fill: rgb(31, 119, 180);\"/><title>C → D\n1.00</title></g></g><g class=\"nodes\"><g class=\"node\" transform=\"translate(210,19)\"><title>C</title><text dy=\".35em\" text-anchor=\"start\" transform=\"translate(-4, -10)\">C</text><line x1=\"0\" x2=\"0\" y1=\"-5\" y2=\"47.5\" style=\"stroke: rgb(0, 0, 0);\"/><rect x=\"-5\" y=\"-5\" width=\"10\" style=\"fill: none; visibility: hidden; pointer-events: all;\" height=\"52.5\"/></g><g class=\"node\" transform=\"translate(210,123.5)\"><title>D</title><text dy=\".35em\" text-anchor=\"start\" transform=\"translate(4, 23.75)\">D</text><line x1=\"0\" x2=\"0\" y1=\"0\" y2=\"47.5\" style=\"stroke: rgb(0, 0, 0);\"/><rect x=\"-5\" y=\"-5\" width=\"10\" style=\"fill: none; visibility: hidden; pointer-events: all;\" height=\"52.5\"/></g><g class=\"node\" transform=\"translate(0,59.375)\"><title>A</title><text dy=\".35em\" text-anchor=\"end\" transform=\"translate(-4, 35.625)\">A</text><line x1=\"0\" x2=\"0\" y1=\"0\" y2=\"71.25\" style=\"stroke: rgb(0, 0, 0);\"/><rect x=\"-5\" y=\"-5\" width=\"10\" style=\"fill: none; visibility: hidden; pointer-events: all;\" height=\"76.25\"/></g><g class=\"node\" transform=\"translate(128.48129242077616,19)\"><title>B</title><text dy=\".35em\" text-anchor=\"start\" transform=\"translate(-4, -10)\">B</text><line x1=\"0\" x2=\"0\" y1=\"-5\" y2=\"47.5\" style=\"stroke: rgb(0, 0, 0);\"/><rect x=\"-5\" y=\"-5\" width=\"10\" style=\"fill: none; visibility: hidden; pointer-events: all;\" height=\"52.5\"/></g><g class=\"node\" transform=\"translate(128.48129242077616,147.25)\"><title>E</title><text dy=\".35em\" text-anchor=\"start\" transform=\"translate(4, 11.875)\">E</text><line x1=\"0\" x2=\"0\" y1=\"0\" y2=\"23.75\" style=\"stroke: rgb(0, 0, 0);\"/><rect x=\"-5\" y=\"-5\" width=\"10\" style=\"fill: none; visibility: hidden; pointer-events: all;\" height=\"28.75\"/></g></g><g class=\"slice-titles\"/></g></svg>"
      }
     },
     "52ff041db6684b5db30bbc867e7c6084": {
      "model_module": "jupyter-js-widgets",
      "model_module_version": "~2.1.4",
      "model_name": "LayoutModel",
      "state": {
       "_model_module_version": "~2.1.4",
       "_view_module_version": "~2.1.4"
      }
     },
     "540105d150ab4642939944e080b29d70": {
      "model_module": "jupyter-js-widgets",
      "model_module_version": "~2.1.4",
      "model_name": "ButtonModel",
      "state": {
       "_model_module_version": "~2.1.4",
       "_view_module_version": "~2.1.4",
       "description": "Swap",
       "layout": "IPY_MODEL_1e37d5087b114821bf0b526674079263",
       "style": "IPY_MODEL_90cdfa2ff9c144ccbad37805a34adae2"
      }
     },
     "58e54aaf76fc4741aa8f3a6dd109b55b": {
      "model_module": "jupyter-sankey-widget",
      "model_module_version": "^0.2.0",
      "model_name": "SankeyModel",
      "state": {
       "_dom_classes": [],
       "_model_module_version": "^0.2.0",
       "_view_module_version": "^0.2.0",
       "align_link_types": true,
       "layout": "IPY_MODEL_a0d565f8bad5416280e5d0a85df8dc7b",
       "links": [
        {
         "source": "A1",
         "target": "B",
         "type": "x",
         "value": 1.5
        },
        {
         "source": "A1",
         "target": "B",
         "type": "y",
         "value": 0.5
        },
        {
         "source": "A2",
         "target": "B",
         "type": "x",
         "value": 0.5
        },
        {
         "source": "A2",
         "target": "B",
         "type": "y",
         "value": 1.5
        },
        {
         "source": "B",
         "target": "C",
         "type": "x",
         "value": 2
        },
        {
         "source": "B",
         "target": "C",
         "type": "y",
         "value": 2
        }
       ],
       "margins": {
        "bottom": 0,
        "left": 30,
        "right": 60,
        "top": 10
       },
       "msg_throttle": 1,
       "order": [],
       "png": "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",
       "scale": 48.75,
       "svg": "<?xml version=\"1.0\" standalone=\"no\"?><!DOCTYPE svg PUBLIC \"-//W3C//DTD SVG 1.1//EN\" \"http://www.w3.org/Graphics/SVG/1.1/DTD/svg11.dtd\"><svg xmlns=\"http://www.w3.org/2000/svg\" width=\"600\" height=\"400\" viewBox=\"0 0 600 400\" style=\"font-family: &quot;Helvetica Neue&quot;,Helvetica,Arial,sans-serif;\"><g class=\"sankey\" transform=\"translate(30,10)\"><g class=\"groups\"/><g class=\"links\"><g class=\"link\" style=\"opacity: 0.8;\"><path d=\"M0,112.125 A178.48063489819003 178.48063489819003 0.37128634544140593 0 1 64.75534936782412,124.28641844407115 L204.27198828352735,178.60635145135055 A240.59272483031674 240.59272483031674 0.37128634544140593 0 0 291.5625,195 L291.5625,219.375 A264.96772483031674 264.96772483031674 0.37128634544140593 0 1 195.4283866135698,201.32047336929233 L55.911747697866595,147.00054036201294 A154.10563489819003 154.10563489819003 0.37128634544140593 0 0 0,136.5 Z\" style=\"fill: rgb(174, 199, 232);\"/><title>A1 → B\n500m</title></g><g class=\"link\" style=\"opacity: 0.8;\"><path d=\"M0,253.5 A154.10563489819003 154.10563489819003 0.3833028065531494 0 0 57.63329455413646,242.31724663660967 L183.35247576396893,191.6213012151138 A289.34272483031674 289.34272483031674 0.3833028065531494 0 1 291.5625,170.625 L291.5625,195 A264.96772483031674 264.96772483031674 0.3833028065531494 0 0 192.46837574832165,214.22751700801635 L66.74919453848918,264.92346242951226 A178.48063489819003 178.48063489819003 0.3833028065531494 0 1 0,277.875 Z\" style=\"fill: rgb(31, 119, 180);\"/><title>A2 → B\n500m</title></g><g class=\"link\" style=\"opacity: 0.8;\"><path d=\"M0,39 A263.3085036057692 263.3085036057692 0.24273508974252112 0 1 63.28841867820194,46.719098245683924 L245.8502915560585,91.92461930041081 A190.1835036057692 190.1835036057692 0.24273508974252112 0 0 291.5625,97.5 L291.5625,170.625 A263.3085036057692 263.3085036057692 0.24273508974252112 0 1 228.27408132179806,162.90590175431606 L45.71220844394153,117.70038069958919 A190.1835036057692 190.1835036057692 0.24273508974252112 0 0 0,112.125 Z\" style=\"fill: rgb(31, 119, 180);\"/><title>A1 → B\n1.50</title></g><g class=\"link\" style=\"opacity: 0.8;\"><path d=\"M0,277.875 A190.1835036057692 190.1835036057692 0.2393073043188254 0 0 45.0791440979445,272.45522609019247 L234.53487191494273,226.23131586442867 A240.59272483031674 240.59272483031674 0.2393073043188254 0 1 291.5625,219.375 L291.5625,292.5 A167.46772483031674 167.46772483031674 0.2393073043188254 0 0 251.8676707627088,297.2724286731599 L62.41194294571057,343.4963388989237 A263.3085036057692 263.3085036057692 0.2393073043188254 0 1 0,351 Z\" style=\"fill: rgb(174, 199, 232);\"/><title>A2 → B\n1.50</title></g><g class=\"link\" style=\"opacity: 0.8;\"><path d=\"M291.5625,97.5 A0 0 0 0 0 291.5625,97.5 L510,97.5 A0 0 0 0 0 510,97.5 L510,195 A0 0 0 0 0 510,195 L291.5625,195 A0 0 0 0 0 291.5625,195 Z\" style=\"fill: rgb(31, 119, 180);\"/><title>B → C\n2.00</title></g><g class=\"link\" style=\"opacity: 0.8;\"><path d=\"M291.5625,195 A0 0 0 0 0 291.5625,195 L510,195 A0 0 0 0 0 510,195 L510,292.5 A0 0 0 0 0 510,292.5 L291.5625,292.5 A0 0 0 0 0 291.5625,292.5 Z\" style=\"fill: rgb(174, 199, 232);\"/><title>B → C\n2.00</title></g></g><g class=\"nodes\"><g class=\"node\" transform=\"translate(0,39)\"><title>A1</title><text dy=\".35em\" text-anchor=\"end\" transform=\"translate(-4, 48.75)\">A1</text><line x1=\"0\" x2=\"0\" y1=\"0\" y2=\"97.5\" style=\"stroke: rgb(0, 0, 0);\"/><rect x=\"-5\" y=\"-5\" width=\"10\" style=\"fill: none; visibility: hidden; pointer-events: all;\" height=\"102.5\"/></g><g class=\"node\" transform=\"translate(291.5625,97.5)\"><title>B</title><text dy=\".35em\" text-anchor=\"start\" transform=\"translate(-4, -10)\">B</text><line x1=\"0\" x2=\"0\" y1=\"-5\" y2=\"195\" style=\"stroke: rgb(0, 0, 0);\"/><rect x=\"-5\" y=\"-5\" width=\"10\" style=\"fill: none; visibility: hidden; pointer-events: all;\" height=\"200\"/></g><g class=\"node\" transform=\"translate(0,253.5)\"><title>A2</title><text dy=\".35em\" text-anchor=\"end\" transform=\"translate(-4, 48.75)\">A2</text><line x1=\"0\" x2=\"0\" y1=\"0\" y2=\"97.5\" style=\"stroke: rgb(0, 0, 0);\"/><rect x=\"-5\" y=\"-5\" width=\"10\" style=\"fill: none; visibility: hidden; pointer-events: all;\" height=\"102.5\"/></g><g class=\"node\" transform=\"translate(510,97.5)\"><title>C</title><text dy=\".35em\" text-anchor=\"start\" transform=\"translate(4, 97.5)\">C</text><line x1=\"0\" x2=\"0\" y1=\"0\" y2=\"195\" style=\"stroke: rgb(0, 0, 0);\"/><rect x=\"-5\" y=\"-5\" width=\"10\" style=\"fill: none; visibility: hidden; pointer-events: all;\" height=\"200\"/></g></g><g class=\"slice-titles\"/></g></svg>"
      }
     },
     "5d6ae3c2bca54bdf9567aca07b398948": {
      "model_module": "jupyter-sankey-widget",
      "model_module_version": "^0.2.0",
      "model_name": "SankeyModel",
      "state": {
       "_dom_classes": [],
       "_model_module_version": "^0.2.0",
       "_view_module_version": "^0.2.0",
       "layout": "IPY_MODEL_73d879c5e19d4280945904f358b1ad45",
       "links": [
        {
         "color": "steelblue",
         "source": "A",
         "target": "B",
         "value": 3
        },
        {
         "color": "#aaa",
         "source": "B",
         "target": "C",
         "value": 2
        },
        {
         "color": "goldenrod",
         "source": "B",
         "target": "D",
         "value": 1
        }
       ],
       "margins": {
        "bottom": 0,
        "left": 30,
        "right": 60,
        "top": 10
       },
       "msg_throttle": 1,
       "order": [],
       "png": "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",
       "scale": 31.666666666666668,
       "svg": "<?xml version=\"1.0\" standalone=\"no\"?><!DOCTYPE svg PUBLIC \"-//W3C//DTD SVG 1.1//EN\" \"http://www.w3.org/Graphics/SVG/1.1/DTD/svg11.dtd\"><svg xmlns=\"http://www.w3.org/2000/svg\" width=\"300\" height=\"200\" viewBox=\"0 0 300 200\" style=\"font-family: &quot;Helvetica Neue&quot;,Helvetica,Arial,sans-serif;\"><g class=\"sankey\" transform=\"translate(30,10)\"><g class=\"groups\"/><g class=\"links\"><g class=\"link\" style=\"opacity: 0.8;\"><path d=\"M78.5531192765574,110.83333333333334 A111.04666202766458 111.04666202766458 0.2617589573498933 0 1 107.28977359613057,114.61599466177117 L189.45804542949668,136.62935616534955 A79.37999536099792 79.37999536099792 0.2617589573498933 0 0 210,139.33333333333334 L210,171.00000000000003 A111.04666202766458 111.04666202766458 0.2617589573498933 0 1 181.26334568042682,167.2173386715622 L99.09507384706069,145.20397716798382 A79.37999536099792 79.37999536099792 0.2617589573498933 0 0 78.5531192765574,142.5 Z\" style=\"fill: rgb(218, 165, 32);\"/><title>B → D\n1.00</title></g><g class=\"link\" style=\"opacity: 0.8;\"><path d=\"M78.5531192765574,47.5 A63.54666202766464 63.54666202766464 0.2617589573498931 0 0 94.99772397252575,45.33536491224318 L177.1659958058919,23.322003408664823 A126.87999536099798 126.87999536099798 0.2617589573498931 0 1 210,19.000000000000004 L210,82.33333333333334 A63.54666202766464 63.54666202766464 0.2617589573498931 0 0 193.55539530403166,84.49796842109015 L111.38712347066549,106.51132992466852 A126.87999536099798 126.87999536099798 0.2617589573498931 0 1 78.5531192765574,110.83333333333334 Z\" style=\"fill: rgb(170, 170, 170);\"/><title>B → C\n2.00</title></g><g class=\"link\" style=\"opacity: 0.8;\"><path d=\"M0,47.5 A0 0 0 0 0 0,47.5 L78.5531192765574,47.5 A0 0 0 0 0 78.5531192765574,47.5 L78.5531192765574,142.5 A0 0 0 0 0 78.5531192765574,142.5 L0,142.5 A0 0 0 0 0 0,142.5 Z\" style=\"fill: rgb(70, 130, 180);\"/><title>A → B\n3.00</title></g></g><g class=\"nodes\"><g class=\"node\" transform=\"translate(0,47.5)\"><title>A</title><text dy=\".35em\" text-anchor=\"end\" transform=\"translate(-4, 47.5)\">A</text><line x1=\"0\" x2=\"0\" y1=\"0\" y2=\"95\" style=\"stroke: rgb(0, 0, 0);\"/><rect x=\"-5\" y=\"-5\" width=\"10\" style=\"fill: none; visibility: hidden; pointer-events: all;\" height=\"100\"/></g><g class=\"node\" transform=\"translate(78.5531192765574,47.5)\"><title>B</title><text dy=\".35em\" text-anchor=\"start\" transform=\"translate(-4, -10)\">B</text><line x1=\"0\" x2=\"0\" y1=\"-5\" y2=\"95\" style=\"stroke: rgb(0, 0, 0);\"/><rect x=\"-5\" y=\"-5\" width=\"10\" style=\"fill: none; visibility: hidden; pointer-events: all;\" height=\"100\"/></g><g class=\"node\" transform=\"translate(210,19)\"><title>C</title><text dy=\".35em\" text-anchor=\"start\" transform=\"translate(4, 31.66666603088379)\">C</text><line x1=\"0\" x2=\"0\" y1=\"0\" y2=\"63.333333333333336\" style=\"stroke: rgb(0, 0, 0);\"/><rect x=\"-5\" y=\"-5\" width=\"10\" style=\"fill: none; visibility: hidden; pointer-events: all;\" height=\"68.33333333333334\"/></g><g class=\"node\" transform=\"translate(210,139.33333333333334)\"><title>D</title><text dy=\".35em\" text-anchor=\"start\" transform=\"translate(4, 15.833333015441895)\">D</text><line x1=\"0\" x2=\"0\" y1=\"0\" y2=\"31.666666666666668\" style=\"stroke: rgb(0, 0, 0);\"/><rect x=\"-5\" y=\"-5\" width=\"10\" style=\"fill: none; visibility: hidden; pointer-events: all;\" height=\"36.66666666666667\"/></g></g><g class=\"slice-titles\"/></g></svg>"
      }
     },
     "61c36388d8f74ab0afd9b808b0964832": {
      "model_module": "jupyter-js-widgets",
      "model_module_version": "~2.1.4",
      "model_name": "VBoxModel",
      "state": {
       "_model_module_version": "~2.1.4",
       "_view_module_version": "~2.1.4",
       "children": [
        "IPY_MODEL_540105d150ab4642939944e080b29d70",
        "IPY_MODEL_1c626794941447f29a3afdf55045769b"
       ],
       "layout": "IPY_MODEL_03d61cdaaa8540ba92e31202d2b0f3f4"
      }
     },
     "635fd181385c4f8ba7b06d3424b83117": {
      "model_module": "jupyter-js-widgets",
      "model_module_version": "~2.1.4",
      "model_name": "LayoutModel",
      "state": {
       "_model_module_version": "~2.1.4",
       "_view_module_version": "~2.1.4"
      }
     },
     "69c841f1713f474280525c3ffabca041": {
      "model_module": "jupyter-sankey-widget",
      "model_module_version": "^0.2.0",
      "model_name": "SankeyModel",
      "state": {
       "_dom_classes": [],
       "_model_module_version": "^0.2.0",
       "_view_module_version": "^0.2.0",
       "layout": "IPY_MODEL_35061a7766894db78f3d0518afb49838",
       "links": [
        {
         "source": "A",
         "target": "B",
         "type": "x",
         "value": 3
        },
        {
         "source": "B",
         "target": "C",
         "type": "y",
         "value": 2
        },
        {
         "source": "B",
         "target": "D",
         "type": "z",
         "value": 1
        }
       ],
       "margins": {
        "bottom": 0,
        "left": 30,
        "right": 60,
        "top": 10
       },
       "msg_throttle": 1,
       "order": [],
       "png": "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",
       "scale": 31.666666666666668,
       "svg": "<?xml version=\"1.0\" standalone=\"no\"?><!DOCTYPE svg PUBLIC \"-//W3C//DTD SVG 1.1//EN\" \"http://www.w3.org/Graphics/SVG/1.1/DTD/svg11.dtd\"><svg xmlns=\"http://www.w3.org/2000/svg\" width=\"300\" height=\"200\" viewBox=\"0 0 300 200\" style=\"font-family: &quot;Helvetica Neue&quot;,Helvetica,Arial,sans-serif;\"><g class=\"sankey\" transform=\"translate(30,10)\"><g class=\"groups\"/><g class=\"links\"><g class=\"link\" style=\"opacity: 0.8;\"><path d=\"M78.5531192765574,110.83333333333334 A111.04666202766458 111.04666202766458 0.2617589573498933 0 1 107.28977359613057,114.61599466177117 L189.45804542949668,136.62935616534955 A79.37999536099792 79.37999536099792 0.2617589573498933 0 0 210,139.33333333333334 L210,171.00000000000003 A111.04666202766458 111.04666202766458 0.2617589573498933 0 1 181.26334568042682,167.2173386715622 L99.09507384706069,145.20397716798382 A79.37999536099792 79.37999536099792 0.2617589573498933 0 0 78.5531192765574,142.5 Z\" style=\"fill: rgb(255, 127, 14);\"/><title>B → D\n1.00</title></g><g class=\"link\" style=\"opacity: 0.8;\"><path d=\"M78.5531192765574,47.5 A63.54666202766464 63.54666202766464 0.2617589573498931 0 0 94.99772397252575,45.33536491224318 L177.1659958058919,23.322003408664823 A126.87999536099798 126.87999536099798 0.2617589573498931 0 1 210,19.000000000000004 L210,82.33333333333334 A63.54666202766464 63.54666202766464 0.2617589573498931 0 0 193.55539530403166,84.49796842109015 L111.38712347066549,106.51132992466852 A126.87999536099798 126.87999536099798 0.2617589573498931 0 1 78.5531192765574,110.83333333333334 Z\" style=\"fill: rgb(174, 199, 232);\"/><title>B → C\n2.00</title></g><g class=\"link\" style=\"opacity: 0.8;\"><path d=\"M0,47.5 A0 0 0 0 0 0,47.5 L78.5531192765574,47.5 A0 0 0 0 0 78.5531192765574,47.5 L78.5531192765574,142.5 A0 0 0 0 0 78.5531192765574,142.5 L0,142.5 A0 0 0 0 0 0,142.5 Z\" style=\"fill: rgb(31, 119, 180);\"/><title>A → B\n3.00</title></g></g><g class=\"nodes\"><g class=\"node\" transform=\"translate(0,47.5)\"><title>A</title><text dy=\".35em\" text-anchor=\"end\" transform=\"translate(-4, 47.5)\">A</text><line x1=\"0\" x2=\"0\" y1=\"0\" y2=\"95\" style=\"stroke: rgb(0, 0, 0);\"/><rect x=\"-5\" y=\"-5\" width=\"10\" style=\"fill: none; visibility: hidden; pointer-events: all;\" height=\"100\"/></g><g class=\"node\" transform=\"translate(78.5531192765574,47.5)\"><title>B</title><text dy=\".35em\" text-anchor=\"start\" transform=\"translate(-4, -10)\">B</text><line x1=\"0\" x2=\"0\" y1=\"-5\" y2=\"95\" style=\"stroke: rgb(0, 0, 0);\"/><rect x=\"-5\" y=\"-5\" width=\"10\" style=\"fill: none; visibility: hidden; pointer-events: all;\" height=\"100\"/></g><g class=\"node\" transform=\"translate(210,19)\"><title>C</title><text dy=\".35em\" text-anchor=\"start\" transform=\"translate(4, 31.66666603088379)\">C</text><line x1=\"0\" x2=\"0\" y1=\"0\" y2=\"63.333333333333336\" style=\"stroke: rgb(0, 0, 0);\"/><rect x=\"-5\" y=\"-5\" width=\"10\" style=\"fill: none; visibility: hidden; pointer-events: all;\" height=\"68.33333333333334\"/></g><g class=\"node\" transform=\"translate(210,139.33333333333334)\"><title>D</title><text dy=\".35em\" text-anchor=\"start\" transform=\"translate(4, 15.833333015441895)\">D</text><line x1=\"0\" x2=\"0\" y1=\"0\" y2=\"31.666666666666668\" style=\"stroke: rgb(0, 0, 0);\"/><rect x=\"-5\" y=\"-5\" width=\"10\" style=\"fill: none; visibility: hidden; pointer-events: all;\" height=\"36.66666666666667\"/></g></g><g class=\"slice-titles\"/></g></svg>"
      }
     },
     "72986492682f473586c0f861c651712b": {
      "model_module": "jupyter-sankey-widget",
      "model_module_version": "^0.2.0",
      "model_name": "SankeyModel",
      "state": {
       "_dom_classes": [],
       "_model_module_version": "^0.2.0",
       "_view_module_version": "^0.2.0",
       "layout": "IPY_MODEL_e4ea56972fe44175b24c56f2ca7d5a20",
       "links": [
        {
         "source": "A",
         "target": "B",
         "value": 1
        },
        {
         "source": "B",
         "target": "C",
         "value": 1
        },
        {
         "source": "A",
         "target": "D",
         "value": 1
        }
       ],
       "margins": {
        "bottom": 0,
        "left": 30,
        "right": 60,
        "top": 10
       },
       "msg_throttle": 1,
       "order": [],
       "png": "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",
       "scale": 97.5,
       "svg": "<?xml version=\"1.0\" standalone=\"no\"?><!DOCTYPE svg PUBLIC \"-//W3C//DTD SVG 1.1//EN\" \"http://www.w3.org/Graphics/SVG/1.1/DTD/svg11.dtd\"><svg xmlns=\"http://www.w3.org/2000/svg\" width=\"600\" height=\"400\" viewBox=\"0 0 600 400\" style=\"font-family: &quot;Helvetica Neue&quot;,Helvetica,Arial,sans-serif;\"><g class=\"sankey\" transform=\"translate(30,10)\"><g class=\"groups\"/><g class=\"links\"><g class=\"link\" style=\"opacity: 0.8;\"><path d=\"M0,97.5 A121.79068493861061 121.79068493861061 0.28056078595397227 0 0 33.72317707958999,92.73802207584176 L190.45407961872513,47.57419761763859 A219.2906849386106 219.2906849386106 0.28056078595397227 0 1 251.1744754668717,39 L251.1744754668717,136.5 A121.79068493861061 121.79068493861061 0.28056078595397227 0 0 217.45129838728172,141.26197792415826 L60.720395848146595,186.42580238236144 A219.2906849386106 219.2906849386106 0.28056078595397227 0 1 0,195 Z\" style=\"fill: rgb(31, 119, 180);\"/><title>A → B\n1.00</title></g><g class=\"link\" style=\"opacity: 0.8;\"><path d=\"M251.1744754668717,39 A158.53071978999856 158.53071978999856 0.4823754155861175 0 1 324.7144750028716,57.08906790075246 L481.6887735639905,139.28612047068538 A61.03071978999856 61.03071978999856 0.4823754155861175 0 0 510,146.25 L510,243.75 A158.53071978999856 158.53071978999856 0.4823754155861175 0 1 436.46000046400013,225.66093209924753 L279.48570190288126,143.4638795293146 A61.03071978999856 61.03071978999856 0.4823754155861175 0 0 251.1744754668717,136.5 Z\" style=\"fill: rgb(31, 119, 180);\"/><title>B → C\n1.00</title></g><g class=\"link\" style=\"opacity: 0.8;\"><path d=\"M0,195 A219.2906849386106 219.2906849386106 0.28056078595397227 0 1 60.720395848146595,203.57419761763856 L217.45129838728172,248.73802207584174 A121.79068493861061 121.79068493861061 0.28056078595397227 0 0 251.1744754668717,253.5 L251.1744754668717,351 A219.2906849386106 219.2906849386106 0.28056078595397227 0 1 190.45407961872513,342.42580238236144 L33.72317707958999,297.26197792415826 A121.79068493861061 121.79068493861061 0.28056078595397227 0 0 0,292.5 Z\" style=\"fill: rgb(31, 119, 180);\"/><title>A → D\n1.00</title></g></g><g class=\"nodes\"><g class=\"node\" transform=\"translate(0,97.5)\"><title>A</title><text dy=\".35em\" text-anchor=\"end\" transform=\"translate(-4, 97.5)\">A</text><line x1=\"0\" x2=\"0\" y1=\"0\" y2=\"195\" style=\"stroke: rgb(0, 0, 0);\"/><rect x=\"-5\" y=\"-5\" width=\"10\" style=\"fill: none; visibility: hidden; pointer-events: all;\" height=\"200\"/></g><g class=\"node\" transform=\"translate(251.1744754668717,39)\"><title>B</title><text dy=\".35em\" text-anchor=\"start\" transform=\"translate(-4, -10)\">B</text><line x1=\"0\" x2=\"0\" y1=\"-5\" y2=\"97.5\" style=\"stroke: rgb(0, 0, 0);\"/><rect x=\"-5\" y=\"-5\" width=\"10\" style=\"fill: none; visibility: hidden; pointer-events: all;\" height=\"102.5\"/></g><g class=\"node\" transform=\"translate(510,146.25)\"><title>C</title><text dy=\".35em\" text-anchor=\"start\" transform=\"translate(4, 48.75)\">C</text><line x1=\"0\" x2=\"0\" y1=\"0\" y2=\"97.5\" style=\"stroke: rgb(0, 0, 0);\"/><rect x=\"-5\" y=\"-5\" width=\"10\" style=\"fill: none; visibility: hidden; pointer-events: all;\" height=\"102.5\"/></g><g class=\"node\" transform=\"translate(251.1744754668717,253.5)\"><title>D</title><text dy=\".35em\" text-anchor=\"start\" transform=\"translate(4, 48.75)\">D</text><line x1=\"0\" x2=\"0\" y1=\"0\" y2=\"97.5\" style=\"stroke: rgb(0, 0, 0);\"/><rect x=\"-5\" y=\"-5\" width=\"10\" style=\"fill: none; visibility: hidden; pointer-events: all;\" height=\"102.5\"/></g></g><g class=\"slice-titles\"/></g></svg>"
      }
     },
     "73d879c5e19d4280945904f358b1ad45": {
      "model_module": "jupyter-js-widgets",
      "model_module_version": "~2.1.4",
      "model_name": "LayoutModel",
      "state": {
       "_model_module_version": "~2.1.4",
       "_view_module_version": "~2.1.4",
       "height": "200",
       "width": "300"
      }
     },
     "7500d58362374389afcfaabfae48081f": {
      "model_module": "jupyter-sankey-widget",
      "model_module_version": "^0.2.0",
      "model_name": "SankeyModel",
      "state": {
       "_dom_classes": [],
       "_model_module_version": "^0.2.0",
       "_view_module_version": "^0.2.0",
       "layout": "IPY_MODEL_35061a7766894db78f3d0518afb49838",
       "links": [
        {
         "source": "A",
         "target": "B",
         "value": 1
        },
        {
         "source": "B",
         "target": "C",
         "value": 1
        },
        {
         "source": "A",
         "target": "D",
         "value": 1
        }
       ],
       "margins": {
        "bottom": 0,
        "left": 30,
        "right": 60,
        "top": 10
       },
       "msg_throttle": 1,
       "order": [],
       "png": "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",
       "scale": 47.5,
       "svg": "<?xml version=\"1.0\" standalone=\"no\"?><!DOCTYPE svg PUBLIC \"-//W3C//DTD SVG 1.1//EN\" \"http://www.w3.org/Graphics/SVG/1.1/DTD/svg11.dtd\"><svg xmlns=\"http://www.w3.org/2000/svg\" width=\"300\" height=\"200\" viewBox=\"0 0 300 200\" style=\"font-family: &quot;Helvetica Neue&quot;,Helvetica,Arial,sans-serif;\"><g class=\"sankey\" transform=\"translate(30,10)\"><g class=\"groups\"/><g class=\"links\"><g class=\"link\" style=\"opacity: 0.8;\"><path d=\"M0,47.5 A36.50969923423352 36.50969923423352 0.33065803274531924 0 0 11.853439210327142,45.52222971654 L75.86123317031685,23.55089716302253 A84.00969923423352 84.00969923423352 0.33065803274531924 0 1 103.13628291975802,19 L103.13628291975802,66.5 A36.50969923423352 36.50969923423352 0.33065803274531924 0 0 91.28284370943088,68.47777028346 L27.275049749441177,90.44910283697747 A84.00969923423352 84.00969923423352 0.33065803274531924 0 1 0,95 Z\" style=\"fill: rgb(31, 119, 180);\"/><title>A → B\n1.00</title></g><g class=\"link\" style=\"opacity: 0.8;\"><path d=\"M103.13628291975802,19 A64.3717699374335 64.3717699374335 0.5588572848257416 0 1 137.26733343662391,28.7934211579677 L201.05428928545567,68.68315511072286 A16.8717699374335 16.8717699374335 0.5588572848257416 0 0 210,71.25 L210,118.75 A64.3717699374335 64.3717699374335 0.5588572848257416 0 1 175.86894948313412,108.9565788420323 L112.08199363430236,69.06684488927714 A16.8717699374335 16.8717699374335 0.5588572848257416 0 0 103.13628291975802,66.5 Z\" style=\"fill: rgb(31, 119, 180);\"/><title>B → C\n1.00</title></g><g class=\"link\" style=\"opacity: 0.8;\"><path d=\"M0,95 A84.00969923423352 84.00969923423352 0.33065803274531924 0 1 27.275049749441177,99.55089716302253 L91.28284370943088,121.52222971654 A36.50969923423352 36.50969923423352 0.33065803274531924 0 0 103.13628291975802,123.5 L103.13628291975802,171 A84.00969923423352 84.00969923423352 0.33065803274531924 0 1 75.86123317031685,166.44910283697746 L11.853439210327142,144.47777028346 A36.50969923423352 36.50969923423352 0.33065803274531924 0 0 0,142.5 Z\" style=\"fill: rgb(31, 119, 180);\"/><title>A → D\n1.00</title></g></g><g class=\"nodes\"><g class=\"node\" transform=\"translate(0,47.5)\"><title>A</title><text dy=\".35em\" text-anchor=\"end\" transform=\"translate(-4, 47.5)\">A</text><line x1=\"0\" x2=\"0\" y1=\"0\" y2=\"95\" style=\"stroke: rgb(0, 0, 0);\"/><rect x=\"-5\" y=\"-5\" width=\"10\" style=\"fill: none; visibility: hidden; pointer-events: all;\" height=\"100\"/></g><g class=\"node\" transform=\"translate(103.13628291975802,19)\"><title>B</title><text dy=\".35em\" text-anchor=\"start\" transform=\"translate(-4, -10)\">B</text><line x1=\"0\" x2=\"0\" y1=\"-5\" y2=\"47.5\" style=\"stroke: rgb(0, 0, 0);\"/><rect x=\"-5\" y=\"-5\" width=\"10\" style=\"fill: none; visibility: hidden; pointer-events: all;\" height=\"52.5\"/></g><g class=\"node\" transform=\"translate(210,71.25)\"><title>C</title><text dy=\".35em\" text-anchor=\"start\" transform=\"translate(4, 23.75)\">C</text><line x1=\"0\" x2=\"0\" y1=\"0\" y2=\"47.5\" style=\"stroke: rgb(0, 0, 0);\"/><rect x=\"-5\" y=\"-5\" width=\"10\" style=\"fill: none; visibility: hidden; pointer-events: all;\" height=\"52.5\"/></g><g class=\"node\" transform=\"translate(103.13628291975802,123.5)\"><title>D</title><text dy=\".35em\" text-anchor=\"start\" transform=\"translate(4, 23.75)\">D</text><line x1=\"0\" x2=\"0\" y1=\"0\" y2=\"47.5\" style=\"stroke: rgb(0, 0, 0);\"/><rect x=\"-5\" y=\"-5\" width=\"10\" style=\"fill: none; visibility: hidden; pointer-events: all;\" height=\"52.5\"/></g></g><g class=\"slice-titles\"/></g></svg>"
      }
     },
     "7932db68a604476398ea7752d8cd8151": {
      "model_module": "jupyter-sankey-widget",
      "model_module_version": "^0.2.0",
      "model_name": "SankeyModel",
      "state": {
       "_dom_classes": [],
       "_model_module_version": "^0.2.0",
       "_view_module_version": "^0.2.0",
       "layout": "IPY_MODEL_918c2d53b8df4c6b932133cdb78b2959",
       "links": [
        {
         "source": "A",
         "target": "B",
         "value": 1
        },
        {
         "source": "B",
         "target": "C",
         "value": 1
        },
        {
         "source": "A",
         "target": "D",
         "value": 1
        }
       ],
       "margins": {
        "bottom": 0,
        "left": 30,
        "right": 60,
        "top": 10
       },
       "msg_throttle": 1,
       "order": [],
       "png": "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",
       "scale": 47.5,
       "svg": "<?xml version=\"1.0\" standalone=\"no\"?><!DOCTYPE svg PUBLIC \"-//W3C//DTD SVG 1.1//EN\" \"http://www.w3.org/Graphics/SVG/1.1/DTD/svg11.dtd\"><svg xmlns=\"http://www.w3.org/2000/svg\" width=\"300\" height=\"200\" viewBox=\"0 0 300 200\" style=\"font-family: &quot;Helvetica Neue&quot;,Helvetica,Arial,sans-serif;\"><g class=\"sankey\" transform=\"translate(30,10)\"><g class=\"groups\"/><g class=\"links\"><g class=\"link\" style=\"opacity: 0.8;\"><path d=\"M0,47.5 A36.50969923423352 36.50969923423352 0.33065803274531924 0 0 11.853439210327142,45.52222971654 L75.86123317031685,23.55089716302253 A84.00969923423352 84.00969923423352 0.33065803274531924 0 1 103.13628291975802,19 L103.13628291975802,66.5 A36.50969923423352 36.50969923423352 0.33065803274531924 0 0 91.28284370943088,68.47777028346 L27.275049749441177,90.44910283697747 A84.00969923423352 84.00969923423352 0.33065803274531924 0 1 0,95 Z\" style=\"fill: rgb(31, 119, 180);\"/><title>A → B\n1.00</title></g><g class=\"link\" style=\"opacity: 0.8;\"><path d=\"M103.13628291975802,19 A64.3717699374335 64.3717699374335 0.5588572848257416 0 1 137.26733343662391,28.7934211579677 L201.05428928545567,68.68315511072286 A16.8717699374335 16.8717699374335 0.5588572848257416 0 0 210,71.25 L210,118.75 A64.3717699374335 64.3717699374335 0.5588572848257416 0 1 175.86894948313412,108.9565788420323 L112.08199363430236,69.06684488927714 A16.8717699374335 16.8717699374335 0.5588572848257416 0 0 103.13628291975802,66.5 Z\" style=\"fill: rgb(31, 119, 180);\"/><title>B → C\n1.00</title></g><g class=\"link\" style=\"opacity: 0.8;\"><path d=\"M0,95 A84.00969923423352 84.00969923423352 0.33065803274531924 0 1 27.275049749441177,99.55089716302253 L91.28284370943088,121.52222971654 A36.50969923423352 36.50969923423352 0.33065803274531924 0 0 103.13628291975802,123.5 L103.13628291975802,171 A84.00969923423352 84.00969923423352 0.33065803274531924 0 1 75.86123317031685,166.44910283697746 L11.853439210327142,144.47777028346 A36.50969923423352 36.50969923423352 0.33065803274531924 0 0 0,142.5 Z\" style=\"fill: rgb(31, 119, 180);\"/><title>A → D\n1.00</title></g></g><g class=\"nodes\"><g class=\"node\" transform=\"translate(0,47.5)\"><title>A</title><text dy=\".35em\" text-anchor=\"end\" transform=\"translate(-4, 47.5)\">A</text><line x1=\"0\" x2=\"0\" y1=\"0\" y2=\"95\" style=\"stroke: rgb(0, 0, 0);\"/><rect x=\"-5\" y=\"-5\" width=\"10\" style=\"fill: none; visibility: hidden; pointer-events: all;\" height=\"100\"/></g><g class=\"node\" transform=\"translate(103.13628291975802,19)\"><title>B</title><text dy=\".35em\" text-anchor=\"start\" transform=\"translate(-4, -10)\">B</text><line x1=\"0\" x2=\"0\" y1=\"-5\" y2=\"47.5\" style=\"stroke: rgb(0, 0, 0);\"/><rect x=\"-5\" y=\"-5\" width=\"10\" style=\"fill: none; visibility: hidden; pointer-events: all;\" height=\"52.5\"/></g><g class=\"node\" transform=\"translate(210,71.25)\"><title>C</title><text dy=\".35em\" text-anchor=\"start\" transform=\"translate(4, 23.75)\">C</text><line x1=\"0\" x2=\"0\" y1=\"0\" y2=\"47.5\" style=\"stroke: rgb(0, 0, 0);\"/><rect x=\"-5\" y=\"-5\" width=\"10\" style=\"fill: none; visibility: hidden; pointer-events: all;\" height=\"52.5\"/></g><g class=\"node\" transform=\"translate(103.13628291975802,123.5)\"><title>D</title><text dy=\".35em\" text-anchor=\"start\" transform=\"translate(4, 23.75)\">D</text><line x1=\"0\" x2=\"0\" y1=\"0\" y2=\"47.5\" style=\"stroke: rgb(0, 0, 0);\"/><rect x=\"-5\" y=\"-5\" width=\"10\" style=\"fill: none; visibility: hidden; pointer-events: all;\" height=\"52.5\"/></g></g><g class=\"slice-titles\"/></g></svg>"
      }
     },
     "7c545cfa1d6c46f4ad4a308582bd4d4c": {
      "model_module": "jupyter-sankey-widget",
      "model_module_version": "^0.2.0",
      "model_name": "SankeyModel",
      "state": {
       "_dom_classes": [],
       "_model_module_version": "^0.2.0",
       "_view_module_version": "^0.2.0",
       "layout": "IPY_MODEL_73d879c5e19d4280945904f358b1ad45",
       "links": [
        {
         "source": "A",
         "target": "B",
         "type": "x",
         "value": 3
        },
        {
         "source": "B",
         "target": "C",
         "type": "y",
         "value": 2
        },
        {
         "source": "B",
         "target": "D",
         "type": "z",
         "value": 1
        }
       ],
       "margins": {
        "bottom": 0,
        "left": 30,
        "right": 60,
        "top": 10
       },
       "msg_throttle": 1,
       "order": [],
       "png": "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",
       "scale": 31.666666666666668,
       "svg": "<?xml version=\"1.0\" standalone=\"no\"?><!DOCTYPE svg PUBLIC \"-//W3C//DTD SVG 1.1//EN\" \"http://www.w3.org/Graphics/SVG/1.1/DTD/svg11.dtd\"><svg xmlns=\"http://www.w3.org/2000/svg\" width=\"300\" height=\"200\" viewBox=\"0 0 300 200\" style=\"font-family: &quot;Helvetica Neue&quot;,Helvetica,Arial,sans-serif;\"><g class=\"sankey\" transform=\"translate(30,10)\"><g class=\"groups\"/><g class=\"links\"><g class=\"link\" style=\"opacity: 0.8;\"><path d=\"M78.5531192765574,110.83333333333334 A111.04666202766458 111.04666202766458 0.2617589573498933 0 1 107.28977359613057,114.61599466177117 L189.45804542949668,136.62935616534955 A79.37999536099792 79.37999536099792 0.2617589573498933 0 0 210,139.33333333333334 L210,171.00000000000003 A111.04666202766458 111.04666202766458 0.2617589573498933 0 1 181.26334568042682,167.2173386715622 L99.09507384706069,145.20397716798382 A79.37999536099792 79.37999536099792 0.2617589573498933 0 0 78.5531192765574,142.5 Z\" style=\"fill: rgb(255, 127, 14);\"/><title>B → D\n1.00</title></g><g class=\"link\" style=\"opacity: 0.8;\"><path d=\"M78.5531192765574,47.5 A63.54666202766464 63.54666202766464 0.2617589573498931 0 0 94.99772397252575,45.33536491224318 L177.1659958058919,23.322003408664823 A126.87999536099798 126.87999536099798 0.2617589573498931 0 1 210,19.000000000000004 L210,82.33333333333334 A63.54666202766464 63.54666202766464 0.2617589573498931 0 0 193.55539530403166,84.49796842109015 L111.38712347066549,106.51132992466852 A126.87999536099798 126.87999536099798 0.2617589573498931 0 1 78.5531192765574,110.83333333333334 Z\" style=\"fill: rgb(174, 199, 232);\"/><title>B → C\n2.00</title></g><g class=\"link\" style=\"opacity: 0.8;\"><path d=\"M0,47.5 A0 0 0 0 0 0,47.5 L78.5531192765574,47.5 A0 0 0 0 0 78.5531192765574,47.5 L78.5531192765574,142.5 A0 0 0 0 0 78.5531192765574,142.5 L0,142.5 A0 0 0 0 0 0,142.5 Z\" style=\"fill: rgb(31, 119, 180);\"/><title>A → B\n3.00</title></g></g><g class=\"nodes\"><g class=\"node\" transform=\"translate(0,47.5)\"><title>A</title><text dy=\".35em\" text-anchor=\"end\" transform=\"translate(-4, 47.5)\">A</text><line x1=\"0\" x2=\"0\" y1=\"0\" y2=\"95\" style=\"stroke: rgb(0, 0, 0);\"/><rect x=\"-5\" y=\"-5\" width=\"10\" style=\"fill: none; visibility: hidden; pointer-events: all;\" height=\"100\"/></g><g class=\"node\" transform=\"translate(78.5531192765574,47.5)\"><title>B</title><text dy=\".35em\" text-anchor=\"start\" transform=\"translate(-4, -10)\">B</text><line x1=\"0\" x2=\"0\" y1=\"-5\" y2=\"95\" style=\"stroke: rgb(0, 0, 0);\"/><rect x=\"-5\" y=\"-5\" width=\"10\" style=\"fill: none; visibility: hidden; pointer-events: all;\" height=\"100\"/></g><g class=\"node\" transform=\"translate(210,19)\"><title>C</title><text dy=\".35em\" text-anchor=\"start\" transform=\"translate(4, 31.66666603088379)\">C</text><line x1=\"0\" x2=\"0\" y1=\"0\" y2=\"63.333333333333336\" style=\"stroke: rgb(0, 0, 0);\"/><rect x=\"-5\" y=\"-5\" width=\"10\" style=\"fill: none; visibility: hidden; pointer-events: all;\" height=\"68.33333333333334\"/></g><g class=\"node\" transform=\"translate(210,139.33333333333334)\"><title>D</title><text dy=\".35em\" text-anchor=\"start\" transform=\"translate(4, 15.833333015441895)\">D</text><line x1=\"0\" x2=\"0\" y1=\"0\" y2=\"31.666666666666668\" style=\"stroke: rgb(0, 0, 0);\"/><rect x=\"-5\" y=\"-5\" width=\"10\" style=\"fill: none; visibility: hidden; pointer-events: all;\" height=\"36.66666666666667\"/></g></g><g class=\"slice-titles\"/></g></svg>"
      }
     },
     "80feaeb537f043be999249280d0c98ff": {
      "model_module": "jupyter-js-widgets",
      "model_module_version": "~2.1.4",
      "model_name": "LayoutModel",
      "state": {
       "_model_module_version": "~2.1.4",
       "_view_module_version": "~2.1.4"
      }
     },
     "84500171a7ce43978a2cf1bedd2f21c8": {
      "model_module": "jupyter-sankey-widget",
      "model_module_version": "^0.2.0",
      "model_name": "SankeyModel",
      "state": {
       "_dom_classes": [],
       "_model_module_version": "^0.2.0",
       "_view_module_version": "^0.2.0",
       "layout": "IPY_MODEL_73d879c5e19d4280945904f358b1ad45",
       "links": [
        {
         "source": "A",
         "target": "B",
         "value": 1
        },
        {
         "source": "B",
         "target": "C",
         "value": 1
        },
        {
         "source": "C",
         "target": "D",
         "value": 1
        },
        {
         "source": "A",
         "target": "E",
         "value": 0.5
        }
       ],
       "margins": {
        "bottom": 0,
        "left": 30,
        "right": 60,
        "top": 10
       },
       "msg_throttle": 1,
       "nodes": [
        {
         "backwards": true,
         "id": "C"
        },
        {
         "backwards": false,
         "id": "D"
        }
       ],
       "order": [],
       "png": "iVBORw0KGgoAAAANSUhEUgAAASwAAADICAYAAABS39xVAAAPy0lEQVR4nO3db2wc6UHH8Z9zDYdzdv6A3et6PeMAPauAKu7iHG0qjviqNpTK0BzqgUOPI0drC3zhKBvvjO2iJi0gIWpUHUiVXZ36ojRBWNA0OzOukZASJMQr01BKy/WA0pIGiu7ggB5FucudeTHeZOOs7bW98zzz5/uRnhf1uvXu7OTbZ2dnnpEAAAAAAAAAAAAAAAAAAAAAAAAAAAAAAAB24DFJK2vGDUnPSXrc4vMCgDs8Lem/JJ1cHU9I+i1Jf684Xg/YemIAsNZfSfp8k58fURysR80+HQBo7nWSviPpw00e+0VJr0o6aPIJAcB67tetWVTP6vgBxbF6QdK0vacGALcb050H3OvjDyw+LwC4wyclfUPSOxrGT0t6RnG0PmDvqQHA7a5I+uMmP+9QfFrD58w+HQBorlPSK5L8Jo91SLqqeAYGANbVT1t4Z5PHjq8+NmL0GQHAOp5SHKWKbp00+n5JH5d0XdJ5xTMtALDu07rzm8FXJH1B0qSkXfaeGgA0d0bSWdtPAgBaQbAAZAbBApAZBAuAWeVKNNhXXTrk+OGo6y+Ouf7imOsFZ1w/mls7BqrBOdcPl10/XO4+fPxa9+Hj/xr/56Dm+tGcUw1mXX9xrL9aO9o7sdBl+7UByJh6kG7G6GaA4vBsd9werOZjoBqccyaDSrkSDdreDgBSplyJBsvV2ogzGVTaEaWdBuv2EdQcPxxl5gUUkMk4tSdYN2ddl1x/cYxwATnWM7NUKldrI041mI3/0ZsNVLuC1Rguxw9HbW9XAG3SV1065EwGlcaD3WkZOw3WrRHNcYwLyKC0zaLMBCuebZWnIy6YBtKuZ2ap5PjhaBpnUaaCdXN4wRnb7weANbIaqcSDtRotDsgDluUhUkaC5cfnbxEtwLByJRrMU6RMBcv1Qz4eAiaUK9FgfG5UULMdlUwHi2gByShKpIwHyw+X+fYQaIMiRspGsAaqwSXO0wK2oeiRshGs1Wids/3eA5lApOwHy/XDZdcLx23vC0Aq1S+JIVLpCdZANbjUM7NUsr1vAKnQX60ddb3gTNoviUnLMD7D8sNl1wvO2t5PAGuIVMaC5YfLzLJQKEQq28HiWBZyj0jlJ1gD1eCS7f0JaDsilc9guX643D95Ydj2/gXsSO/EQheRKkawOPiOTOqdWOiqL3hn+x9w0YbNYPGxEJlBpNIxrM6w/HCZy3WQWkQqfcN2sJxqdML2fgncRKTSPWwHi+NYsI5I2RsDXnDZ9cL51THeOPonLwyXpsKhxrF/9DeH9//sRx4uT0cjrhcE5oMVztveX1FAjXeKsf2PNvfDCwLHC2ddLxx3qtGJ0lQ41K5jQa4XnDX5WjjwDmPytr55KkdDnEpT4ZCJNdJdL5w3+RqTfj0oMCKV7Bjwaucd7+JpU3Fqpn/ywjDBQmYRqSQDFVx2vHC2PB2NpOmCYJPbgDvrYMeIVJKRujWLsv0+r8fk9kjzdkCKEamEI1WNTqRpFrURgoVUyvM992yPrEWqEcFCarC+OZHaDMGCVUSKSG0FwYJxRIpIbRfBghFEKrnheOFsniPViGAhMUQq2UiVp6ORop0rRLDQVtxzj0gliWBhx1g6mEiZYnLbF+EjdmEQKSJlWrkSDZp8H2y/XuwQkSJSNpleYsb268U2EKlkRrygXXCWSLWmPB2NmH6PbL9mtIhIJRsp7nvXup6ZpZLrL44Zf79YcTS9uOcekbKlXIkG+6u1o66/OBavChvNuX401334kb/c97YTz9l63xwvnLW9bdCA9c2JlA29Ewtdjh+OOtVgdqP/c7R/E4pw3Pa2KjwiRaRs2ep+ZztYnINlCZEiUjaVq7WR7ZxEbDtYtrdbodTXkoqPB9j/h52r4QWB4108TaQ2VpoKh3ZytYPVYHHAPVmNB825JCa5SHH78s31Tix0tWM2bzNY5eloxPZ2zJWemaVS/ZsVZlFEKi1KU+FQu75lthkszovbgd6Jha6+6tKh+te+nHaQ4CBS2xYfgmjfe9FqsO59bPbLnfe99YVde/a9rLt2v7q79+BL3Q8+cs2pfPavt/N3OZ2hBT0zS6W+6tKh+ADl4lj80S6a4+MdkcqCeH9t7/vSSrD2PfQL/6KOXSu7X/99L+07Mnp1/9GT3+i87y3/IWml8763vrCdv1vEbwffvPft46fij2u3j3jZlfjEONeP5pgtWRpEqm2SiJXrbx6sA8ee/JqklX1HRq86XnDbY3t+8Mefl7TSN/7MF7e2XxTzYPsZqye8MZqOAa923vXCcSLVPknFyvU3Dlb5yU//Tcfuzht73vTQ880e7330I8/u7j340r0nfucrW/mbRZxdSQQrNSPv65vb5HrheJLv3UbB6j58/Jo6dr3WNzb/t237m15w1vY2tYVgWRxEKnn9kxeGk34fNwrWXfve8H93H3zgxfbtM8HlIn8zSLAMDyJlTs/MUsnEsdf1glU+9Zkrkla6H3zkWrv+VtHPuyJYBgaRssPUeX/rBevexz/+d5JWDrzzl/+52X/PmfzcctcD7/63A8ee/FpLf6vAHwXrCBaRyiWTi+itF6y+8We+qA1mWPuHf+nrklZ6H/3os63sT0X+KFhHsNo4inTPvTTrnVjoMnkaznrBcrxgedc9+6/v2rP/5fJT5680PtbzyIee69jdeaOlc7C8ICBWMYLVhkixdHC6JP2tYKvBcv36OVgdK3d1fe/17re895v7joxevfvgAy+qo2Ol8/sf/M/yry18YaP/7QEvuMzpLbcQLCKVK6ZnV5sFy/XD5Z7jU8/tvveN3+74rs4bu+7Zf/3ugR958cC7Tv3T2pNI7xheEBCr2xEsIpUrpmdXrQRrO4NjVs0RLCKVKzauaW17sLzgLPtccwSLSOVGvBCf+X2mXcEa8ILLRT/PajOFDxb33MsP0zcvbWewHC+c5dvlzRUyWKxvnk+2ljjaUbC8cL6oFzI3c1LSiqRr6zxemGARqXwrV6JBW/vWtoJFqO6wR9I3Jf2P4mjtafI7uQ4WkSoOpxqdSH2wvCBwvXCcj37NfUjS/0o6pThYP9Tkd3IXLCJVTI538XSaghXvh+F8/fgokdrY6yV9W9KHJR1SHKyfavJ7uQgWkYLrhfM29jvHu3i6++EPvKf74SfeU5oKh0pT4RBf3mzdJxR/HNwjqUdxsD7Y5PeyGyzuuYcGps9ud7xwljC1x5sk3ZD0vtX/3KH4o+HvN/ndbAWL9c2xDtP7IbFqn5qkK5L2SupaHV+VFDX53fQHywvnnWp0gkhhIyb3SU7ubJ+jij/+NRvPNvn99AWLj3rYot6JhS6T+yizq/bYJWlZ0ucl/dia8SeSrq/+TqNUBIt1pLATpi/Jsf168+J9kl6T9OYmj00rnmU5a35uPlheOO94F0+Xp6MRPuahHQhW9ny3pK9L+sw6jz+mOFjDa36ebLCIEwwgWNnjKf5m8I3rPF4/tvX+NT/fWbC8cL4eJdcLx/snLwxzHgpMI1jFcabr/p/8iuOFf+p4wadWAzTebNRjxPVPSBuCVRwtzLCCWny7pPpYHHP9xbH+au1oX3XpELMp2EawiqNtx7AGqsE514/mXC844/qLY8QMphCs4jDwLWFQc6rBLBFDUghWcVg6DyuOmOOHo3x7iJ0iWMWRihNHXT+ouV5wpr9aO8oMDFtlevE+26+3yFISrLUjmmP2ha0wuX+yX9qT0mA1n33Z3lhIL6P7pBeO2369RZWBYN0aA9XgEvFCM6b3RWZZdmQqWMQL6xnwaudN73+OH47aft1Fk9lg3bHzVIPZcrXGvQULysYSyfV9b99Dj/+54ut1kbBcBGvtIF7F43rhuK39rfvw8WuSztreBkWQy2ARr+Lpn7wwTLDyL/fBIl7FYHrVUYJlxw/vPTYx0Wx1htUlY+brw/RBTeKFrbK1jxKsFOudWOiqLzPTELh5Wwc9iRfqbN39mWBlWLkSDZano5GbM7QUBGlrIz7LnvXls6dnZqlEsLBjjRHL0kfLgWpwjnhli+OFsykM1mHdeRerlyV9SdLJhDcJdqp3YqGrPB2NuF5wdsALLtsOE/HKD9MrN7QYrF9RHKlTigP1hKTfUHzrvRVJ7012q6CtypVo0PXC8azMvohXupk+FNFCsD4l6VuK78LeqFPxTY6/msyWQOLqsy8bU3vilQ+mz8lqIVhfUnxH9mbOKJ5l7WvzZoBpvRMLXf2TF4az8tGReKWHyVnWJsG6R9Krij8CNnNaBCufMhevyaDCVf12mPzGcJNgPaQ4SMfWefwTkq4msAmQJlmKl+sHNeJlnqnzsjYJVkVxsL5nncf/QtKfJfDykVbEC+sx8dFwk2D9kaR/WOexAUmvSZpO4KUjC4gXGvVOLHQlvS9sEqx/lHR+ncd+V9J3JL0hgZeOrCFekOLTZpLcBzYI1gHFHwc/2OSxn1N8MN5L7pUjs0pT4VB8uVAQ2I8T8TItyWhtEKxjioP1Md06YbQiaXH153OSdhnZAMiuciUazFK8WAq6PZKK1gbBmtGdl+T8t6RLkn7G1OtGjmQpXqxjv3NJRIuLn2EF8SqGnpmlUjsvAyNYsI545Z/jXTxNsJA7xCu/SlPh0E5nWwQLqVWuRINONTqRhZUliFfr4vd0e8e2CBYyoWdmqZSleLEU9OZW12nb0kyaYCFzshQv12cd+81s5aRjgoVMI1750nDDlflmASNYyA3ilT+Nd44qTYVDB37iV39b0o/afl5AWxEvAJnUM7NUytJS0MQLgKTsrWPPvRsBSMpevFjHHoAk4gUgo4gXgEwiXgAyiXs3AsiszMWLpaABSNmKF+vYA7iJeAHIJOIFIJOyGC8WJASQsXs3xtc38o0jgEytY8/sC8BN2YtXuOz60ZwzGVTK1doIx7+AgspmvIgYUHjZjlc8BqrBJdeP5pxqMOv6i2OuvzjWV1061FddOmR7+wJISB7itfEIaq4fza0dTjWY3fu2n39a0rttvwcAtiFL925sx2jhJhT3S1rZYDwvqSPZdwXAprK2jn1CwRpTHKanJJ1sMkaSewcAbEte49VCsD4p6VtiFgVkU57i1UKwrkj6rJktCyBRWY/XJsHqlPSKpI9K6mky9hrYxACSkMV4bRKsI9r4gPvTBjYrgKQ13rsxzRdnbxKspyS9Kuldkt7RZLgGNiUA0+oXZ6dt9rVJsP5Q0pfNbSUAqZOm2dcmwXpWcbQAIFaaCoecanQiXtvL7Axsg2DtVXyc6teNbgwA2WMqYhsE6+2Kg/V7an7C6ElJr0t6OwDIoN6Jha5bEQvHXS8463rh/E6vf9wgWJ42/obw38XJpAC2o2dmqVSaCofiZaPDcdcLx+MLusP5taNxxtbCiaMAAAAAAAAAAAAAAAAAAAAAAAAAAAAAAAAAAAAAAAAAAADYuf8HF3m+xPv7b4EAAAAASUVORK5CYII=",
       "scale": 27.142857142857142,
       "svg": "<?xml version=\"1.0\" standalone=\"no\"?><!DOCTYPE svg PUBLIC \"-//W3C//DTD SVG 1.1//EN\" \"http://www.w3.org/Graphics/SVG/1.1/DTD/svg11.dtd\"><svg xmlns=\"http://www.w3.org/2000/svg\" width=\"300\" height=\"200\" viewBox=\"0 0 300 200\" style=\"font-family: &quot;Helvetica Neue&quot;,Helvetica,Arial,sans-serif;\"><g class=\"sankey\" transform=\"translate(30,10)\"><g class=\"groups\"/><g class=\"links\"><g class=\"link\" style=\"opacity: 0.8;\"><path d=\"M0,101.78571428571428 A134.01532642582066 134.01532642582066 0.31764191228594685 0 1 41.856646096858995,108.4898907892223 L172.38208165087747,151.40331169506408 A120.44389785439209 120.44389785439209 0.31764191228594685 0 0 210,157.42857142857142 L210,170.99999999999997 A134.01532642582066 134.01532642582066 0.31764191228594685 0 1 168.14335390314102,164.29582349649195 L37.61791834912253,121.38240259065017 A120.44389785439209 120.44389785439209 0.31764191228594685 0 0 0,115.35714285714286 Z\" style=\"fill: rgb(31, 119, 180);\"/><title>A → E\n500m</title></g><g class=\"link\" style=\"opacity: 0.8;\"><path d=\"M0,74.64285714285714 A113.6581835686778 113.6581835686778 0.3176419122859466 0 0 35.49855447525427,68.95705579435018 L166.0239900292728,26.043634888508375 A140.80104071153494 140.80104071153494 0.3176419122859466 0 1 210,19 L210,46.14285714285714 A113.6581835686778 113.6581835686778 0.3176419122859466 0 0 174.50144552474575,51.828658491364095 L43.97600997072719,94.7420793972059 A140.80104071153494 140.80104071153494 0.3176419122859466 0 1 0,101.78571428571428 Z\" style=\"fill: rgb(31, 119, 180);\"/><title>A → B\n1.00</title></g><g class=\"link\" style=\"opacity: 0.8;\"><path d=\"M210,19 A32.14285714285714 32.14285714285714 1.5707963267948966 0 1 242.14285714285714,51.14285714285714 L242.14285714285714,60.14285714285714 A32.14285714285714 32.14285714285714 1.5707963267948966 0 1 210,92.28571428571428 L210,65.14285714285714 A4.999999999999998 4.999999999999998 1.5707963267948966 0 0 214.99999999999997,60.14285714285714 L214.99999999999997,51.14285714285714 A4.999999999999998 4.999999999999998 1.5707963267948966 0 0 210,46.14285714285714 Z\" style=\"fill: rgb(31, 119, 180);\"/><title>B → C\n1.00</title></g><g class=\"link\" style=\"opacity: 0.8;\"><path d=\"M210,65.14285714285714 A32.14285714285714 32.14285714285714 1.5707963267948966 0 0 177.85714285714286,97.28571428571428 L177.85714285714286,106.28571428571428 A32.14285714285714 32.14285714285714 1.5707963267948966 0 0 210,138.42857142857142 L210,111.28571428571428 A4.999999999999998 4.999999999999998 1.5707963267948966 0 1 205.00000000000003,106.28571428571428 L205.00000000000003,97.28571428571428 A4.999999999999998 4.999999999999998 1.5707963267948966 0 1 210,92.28571428571428 Z\" style=\"fill: rgb(31, 119, 180);\"/><title>C → D\n1.00</title></g></g><g class=\"nodes\"><g class=\"node\" transform=\"translate(210,65.14285714285714)\"><title>C</title><text dy=\".35em\" text-anchor=\"start\" transform=\"translate(4, 13.571428298950195)\">C</text><line x1=\"0\" x2=\"0\" y1=\"0\" y2=\"27.142857142857142\" style=\"stroke: rgb(0, 0, 0);\"/><rect x=\"-5\" y=\"-5\" width=\"10\" style=\"fill: none; visibility: hidden; pointer-events: all;\" height=\"32.14285714285714\"/></g><g class=\"node\" transform=\"translate(210,111.28571428571428)\"><title>D</title><text dy=\".35em\" text-anchor=\"start\" transform=\"translate(4, 13.571428298950195)\">D</text><line x1=\"0\" x2=\"0\" y1=\"0\" y2=\"27.142857142857142\" style=\"stroke: rgb(0, 0, 0);\"/><rect x=\"-5\" y=\"-5\" width=\"10\" style=\"fill: none; visibility: hidden; pointer-events: all;\" height=\"32.14285714285714\"/></g><g class=\"node\" transform=\"translate(0,74.64285714285714)\"><title>A</title><text dy=\".35em\" text-anchor=\"end\" transform=\"translate(-4, 20.35714340209961)\">A</text><line x1=\"0\" x2=\"0\" y1=\"0\" y2=\"40.714285714285715\" style=\"stroke: rgb(0, 0, 0);\"/><rect x=\"-5\" y=\"-5\" width=\"10\" style=\"fill: none; visibility: hidden; pointer-events: all;\" height=\"45.714285714285715\"/></g><g class=\"node\" transform=\"translate(210,19)\"><title>B</title><text dy=\".35em\" text-anchor=\"start\" transform=\"translate(-4, -10)\">B</text><line x1=\"0\" x2=\"0\" y1=\"-5\" y2=\"27.142857142857142\" style=\"stroke: rgb(0, 0, 0);\"/><rect x=\"-5\" y=\"-5\" width=\"10\" style=\"fill: none; visibility: hidden; pointer-events: all;\" height=\"32.14285714285714\"/></g><g class=\"node\" transform=\"translate(210,157.42857142857142)\"><title>E</title><text dy=\".35em\" text-anchor=\"start\" transform=\"translate(4, 6.785714149475098)\">E</text><line x1=\"0\" x2=\"0\" y1=\"0\" y2=\"13.571428571428571\" style=\"stroke: rgb(0, 0, 0);\"/><rect x=\"-5\" y=\"-5\" width=\"10\" style=\"fill: none; visibility: hidden; pointer-events: all;\" height=\"18.57142857142857\"/></g></g><g class=\"slice-titles\"/></g></svg>"
      }
     },
     "84fb9a7e96464b99a834871caeb3d7b1": {
      "model_module": "jupyter-sankey-widget",
      "model_module_version": "^0.2.0",
      "model_name": "SankeyModel",
      "state": {
       "_dom_classes": [],
       "_model_module_version": "^0.2.0",
       "_view_module_version": "^0.2.0",
       "layout": "IPY_MODEL_73d879c5e19d4280945904f358b1ad45",
       "links": [
        {
         "source": "A",
         "target": "B",
         "value": 1
        },
        {
         "source": "B",
         "target": "C",
         "value": 1
        },
        {
         "source": "A",
         "target": "D",
         "value": 1
        }
       ],
       "margins": {
        "bottom": 0,
        "left": 30,
        "right": 60,
        "top": 10
       },
       "msg_throttle": 1,
       "order": [],
       "png": "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",
       "rank_sets": [
        {
         "nodes": [
          "C",
          "D"
         ],
         "type": "same"
        }
       ],
       "scale": 47.5,
       "svg": "<?xml version=\"1.0\" standalone=\"no\"?><!DOCTYPE svg PUBLIC \"-//W3C//DTD SVG 1.1//EN\" \"http://www.w3.org/Graphics/SVG/1.1/DTD/svg11.dtd\"><svg xmlns=\"http://www.w3.org/2000/svg\" width=\"300\" height=\"200\" viewBox=\"0 0 300 200\" style=\"font-family: &quot;Helvetica Neue&quot;,Helvetica,Arial,sans-serif;\"><g class=\"sankey\" transform=\"translate(30,10)\"><g class=\"groups\"/><g class=\"links\"><g class=\"link\" style=\"opacity: 0.8;\"><path d=\"M0,47.5 A41.65014127778379 41.65014127778379 0.3170595794814113 0 0 12.9854333731973,45.42400165127536 L79.97253363867428,23.44357546945384 A89.15014127778379 89.15014127778379 0.3170595794814113 0 1 107.76723455104023,19 L107.76723455104023,66.5 A41.65014127778379 41.65014127778379 0.3170595794814113 0 0 94.78180117784292,68.57599834872462 L27.79470091236595,90.55642453054615 A89.15014127778379 89.15014127778379 0.3170595794814113 0 1 0,95 Z\" style=\"fill: rgb(31, 119, 180);\"/><title>A → B\n1.00</title></g><g class=\"link\" style=\"opacity: 0.8;\"><path d=\"M107.76723455104023,19 A0 0 0 0 0 107.76723455104023,19 L210,19 A0 0 0 0 0 210,19 L210,66.5 A0 0 0 0 0 210,66.5 L107.76723455104023,66.5 A0 0 0 0 0 107.76723455104023,66.5 Z\" style=\"fill: rgb(31, 119, 180);\"/><title>B → C\n1.00</title></g><g class=\"link\" style=\"opacity: 0.8;\"><path d=\"M0,95 A89.15014127778379 89.15014127778379 0.2988356646966688 0 1 26.24648578357839,98.95114085018942 L104.18358318207966,122.96051782194795 A12.172411517013408 12.172411517013408 0.2988356646966688 0 0 107.76723455104023,123.5 L107.76723455104023,171 A59.67241151701341 59.67241151701341 0.2988356646966688 0 1 90.1992186387264,168.3553143113982 L12.262121240225131,144.34593733963965 A41.65014127778379 41.65014127778379 0.2988356646966688 0 0 0,142.5 ZM107.76723455104023,123.5 A0 0 0 0 0 107.76723455104023,123.5 L210,123.5 A0 0 0 0 0 210,123.5 L210,171 A0 0 0 0 0 210,171 L107.76723455104023,171 A0 0 0 0 0 107.76723455104023,171 Z\" style=\"fill: rgb(31, 119, 180);\"/><title>A → D\n1.00</title></g></g><g class=\"nodes\"><g class=\"node\" transform=\"translate(0,47.5)\"><title>A</title><text dy=\".35em\" text-anchor=\"end\" transform=\"translate(-4, 47.5)\">A</text><line x1=\"0\" x2=\"0\" y1=\"0\" y2=\"95\" style=\"stroke: rgb(0, 0, 0);\"/><rect x=\"-5\" y=\"-5\" width=\"10\" style=\"fill: none; visibility: hidden; pointer-events: all;\" height=\"100\"/></g><g class=\"node\" transform=\"translate(107.76723455104023,19)\"><title>B</title><text dy=\".35em\" text-anchor=\"start\" transform=\"translate(-4, -10)\">B</text><line x1=\"0\" x2=\"0\" y1=\"-5\" y2=\"47.5\" style=\"stroke: rgb(0, 0, 0);\"/><rect x=\"-5\" y=\"-5\" width=\"10\" style=\"fill: none; visibility: hidden; pointer-events: all;\" height=\"52.5\"/></g><g class=\"node\" transform=\"translate(210,19)\"><title>C</title><text dy=\".35em\" text-anchor=\"start\" transform=\"translate(4, 23.75)\">C</text><line x1=\"0\" x2=\"0\" y1=\"0\" y2=\"47.5\" style=\"stroke: rgb(0, 0, 0);\"/><rect x=\"-5\" y=\"-5\" width=\"10\" style=\"fill: none; visibility: hidden; pointer-events: all;\" height=\"52.5\"/></g><g class=\"node\" transform=\"translate(210,123.5)\"><title>D</title><text dy=\".35em\" text-anchor=\"start\" transform=\"translate(4, 23.75)\">D</text><line x1=\"0\" x2=\"0\" y1=\"0\" y2=\"47.5\" style=\"stroke: rgb(0, 0, 0);\"/><rect x=\"-5\" y=\"-5\" width=\"10\" style=\"fill: none; visibility: hidden; pointer-events: all;\" height=\"52.5\"/></g></g><g class=\"slice-titles\"/></g></svg>"
      }
     },
     "8891892fbe21407b8f61d6dc84253f5a": {
      "model_module": "jupyter-sankey-widget",
      "model_module_version": "^0.2.0",
      "model_name": "SankeyModel",
      "state": {
       "_dom_classes": [],
       "_model_module_version": "^0.2.0",
       "_view_module_version": "^0.2.0",
       "layout": "IPY_MODEL_73d879c5e19d4280945904f358b1ad45",
       "links": [
        {
         "source": "A1",
         "target": "B",
         "type": "x",
         "value": 1.5
        },
        {
         "source": "A1",
         "target": "B",
         "type": "y",
         "value": 0.5
        },
        {
         "source": "A2",
         "target": "B",
         "type": "x",
         "value": 0.5
        },
        {
         "source": "A2",
         "target": "B",
         "type": "y",
         "value": 1.5
        },
        {
         "source": "B",
         "target": "C",
         "type": "x",
         "value": 2
        },
        {
         "source": "B",
         "target": "C",
         "type": "y",
         "value": 2
        }
       ],
       "margins": {
        "bottom": 0,
        "left": 30,
        "right": 60,
        "top": 10
       },
       "msg_throttle": 1,
       "order": [],
       "png": "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",
       "scale": 23.75,
       "svg": "<?xml version=\"1.0\" standalone=\"no\"?><!DOCTYPE svg PUBLIC \"-//W3C//DTD SVG 1.1//EN\" \"http://www.w3.org/Graphics/SVG/1.1/DTD/svg11.dtd\"><svg xmlns=\"http://www.w3.org/2000/svg\" width=\"300\" height=\"200\" viewBox=\"0 0 300 200\" style=\"font-family: &quot;Helvetica Neue&quot;,Helvetica,Arial,sans-serif;\"><g class=\"sankey\" transform=\"translate(30,10)\"><g class=\"groups\"/><g class=\"links\"><g class=\"link\" style=\"opacity: 0.8;\"><path d=\"M0,54.625 A89.59623766447369 89.59623766447369 0.2923908868640279 0 1 25.825439800354374,58.42769208704038 L93.56418100713228,78.81830272579194 A101.47123766447369 101.47123766447369 0.2923908868640279 0 0 122.8125,83.125 L122.8125,95 A113.34623766447369 113.34623766447369 0.2923908868640279 0 1 90.14130181461891,90.18929753862423 L22.402560607841018,69.79868689987268 A77.72123766447369 77.72123766447369 0.2923908868640279 0 0 0,66.5 Z\" style=\"fill: rgb(174, 199, 232);\"/><title>A1 → B\n500m</title></g><g class=\"link\" style=\"opacity: 0.8;\"><path d=\"M0,123.5 A77.72123766447369 77.72123766447369 0.2923908868640279 0 0 22.402560607841018,120.20131310012732 L90.14130181461891,99.81070246137577 A113.34623766447369 113.34623766447369 0.2923908868640279 0 1 122.8125,95 L122.8125,106.875 A101.47123766447369 101.47123766447369 0.2923908868640279 0 0 93.56418100713228,111.18169727420806 L25.825439800354374,131.57230791295962 A89.59623766447369 89.59623766447369 0.2923908868640279 0 1 0,135.375 Z\" style=\"fill: rgb(31, 119, 180);\"/><title>A2 → B\n500m</title></g><g class=\"link\" style=\"opacity: 0.8;\"><path d=\"M0,19 A125.22123766447369 125.22123766447369 0.2923908868640279 0 1 36.09407737789443,24.314707648543468 L103.83281858467234,44.705318287295015 A65.84623766447369 65.84623766447369 0.2923908868640279 0 0 122.8125,47.5 L122.8125,83.125 A101.47123766447369 101.47123766447369 0.2923908868640279 0 1 93.56418100713228,78.81830272579192 L25.825439800354374,58.42769208704038 A89.59623766447369 89.59623766447369 0.2923908868640279 0 0 0,54.625 Z\" style=\"fill: rgb(31, 119, 180);\"/><title>A1 → B\n1.50</title></g><g class=\"link\" style=\"opacity: 0.8;\"><path d=\"M0,135.375 A89.59623766447369 89.59623766447369 0.2923908868640279 0 0 25.825439800354374,131.57230791295962 L93.56418100713228,111.18169727420808 A101.47123766447369 101.47123766447369 0.2923908868640279 0 1 122.8125,106.875 L122.8125,142.5 A65.84623766447369 65.84623766447369 0.2923908868640279 0 0 103.83281858467234,145.29468171270497 L36.09407737789443,165.68529235145655 A125.22123766447369 125.22123766447369 0.2923908868640279 0 1 0,171 Z\" style=\"fill: rgb(174, 199, 232);\"/><title>A2 → B\n1.50</title></g><g class=\"link\" style=\"opacity: 0.8;\"><path d=\"M122.8125,47.5 A0 0 0 0 0 122.8125,47.5 L210,47.5 A0 0 0 0 0 210,47.5 L210,95 A0 0 0 0 0 210,95 L122.8125,95 A0 0 0 0 0 122.8125,95 Z\" style=\"fill: rgb(31, 119, 180);\"/><title>B → C\n2.00</title></g><g class=\"link\" style=\"opacity: 0.8;\"><path d=\"M122.8125,95 A0 0 0 0 0 122.8125,95 L210,95 A0 0 0 0 0 210,95 L210,142.5 A0 0 0 0 0 210,142.5 L122.8125,142.5 A0 0 0 0 0 122.8125,142.5 Z\" style=\"fill: rgb(174, 199, 232);\"/><title>B → C\n2.00</title></g></g><g class=\"nodes\"><g class=\"node\" transform=\"translate(0,19)\"><title>A1</title><text dy=\".35em\" text-anchor=\"end\" transform=\"translate(-4, 23.75)\">A1</text><line x1=\"0\" x2=\"0\" y1=\"0\" y2=\"47.5\" style=\"stroke: rgb(0, 0, 0);\"/><rect x=\"-5\" y=\"-5\" width=\"10\" style=\"fill: none; visibility: hidden; pointer-events: all;\" height=\"52.5\"/></g><g class=\"node\" transform=\"translate(122.8125,47.5)\"><title>B</title><text dy=\".35em\" text-anchor=\"start\" transform=\"translate(-4, -10)\">B</text><line x1=\"0\" x2=\"0\" y1=\"-5\" y2=\"95\" style=\"stroke: rgb(0, 0, 0);\"/><rect x=\"-5\" y=\"-5\" width=\"10\" style=\"fill: none; visibility: hidden; pointer-events: all;\" height=\"100\"/></g><g class=\"node\" transform=\"translate(0,123.5)\"><title>A2</title><text dy=\".35em\" text-anchor=\"end\" transform=\"translate(-4, 23.75)\">A2</text><line x1=\"0\" x2=\"0\" y1=\"0\" y2=\"47.5\" style=\"stroke: rgb(0, 0, 0);\"/><rect x=\"-5\" y=\"-5\" width=\"10\" style=\"fill: none; visibility: hidden; pointer-events: all;\" height=\"52.5\"/></g><g class=\"node\" transform=\"translate(210,47.5)\"><title>C</title><text dy=\".35em\" text-anchor=\"start\" transform=\"translate(4, 47.5)\">C</text><line x1=\"0\" x2=\"0\" y1=\"0\" y2=\"95\" style=\"stroke: rgb(0, 0, 0);\"/><rect x=\"-5\" y=\"-5\" width=\"10\" style=\"fill: none; visibility: hidden; pointer-events: all;\" height=\"100\"/></g></g><g class=\"slice-titles\"/></g></svg>"
      }
     },
     "8e62f6aa1e684e25877c08ead055960a": {
      "model_module": "jupyter-sankey-widget",
      "model_module_version": "^0.2.0",
      "model_name": "SankeyModel",
      "state": {
       "_dom_classes": [],
       "_model_module_version": "^0.2.0",
       "_view_module_version": "^0.2.0",
       "layout": "IPY_MODEL_35061a7766894db78f3d0518afb49838",
       "links": [
        {
         "source": "A",
         "target": "B",
         "value": 1
        },
        {
         "source": "B",
         "target": "C",
         "value": 1
        },
        {
         "source": "A",
         "target": "D",
         "value": 1
        }
       ],
       "margins": {
        "bottom": 0,
        "left": 30,
        "right": 60,
        "top": 10
       },
       "msg_throttle": 1,
       "order": [
        [
         [],
         [
          "A"
         ],
         []
        ],
        [
         [
          "B"
         ],
         [],
         [
          "D"
         ]
        ],
        [
         [],
         [
          "C"
         ],
         []
        ]
       ],
       "png": "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",
       "scale": 23.75,
       "svg": "<?xml version=\"1.0\" standalone=\"no\"?><!DOCTYPE svg PUBLIC \"-//W3C//DTD SVG 1.1//EN\" \"http://www.w3.org/Graphics/SVG/1.1/DTD/svg11.dtd\"><svg xmlns=\"http://www.w3.org/2000/svg\" width=\"300\" height=\"200\" viewBox=\"0 0 300 200\" style=\"font-family: &quot;Helvetica Neue&quot;,Helvetica,Arial,sans-serif;\"><g class=\"sankey\" transform=\"translate(30,10)\"><g class=\"groups\"/><g class=\"links\"><g class=\"link\" style=\"opacity: 0.8;\"><path d=\"M0,71.25 A24.883881578947367 24.883881578947367 0.6330081239458107 0 0 14.720625899143348,66.42878862151565 L76.22952162926954,21.29773505459275 A48.63388157894737 48.63388157894737 0.6330081239458107 0 1 105,11.875 L105,35.625 A24.883881578947367 24.883881578947367 0.6330081239458107 0 0 90.27937410085666,40.446211378484364 L28.77047837073045,85.57726494540725 A48.63388157894737 48.63388157894737 0.6330081239458107 0 1 0,95 Z\" style=\"fill: rgb(31, 119, 180);\"/><title>A → B\n1.00</title></g><g class=\"link\" style=\"opacity: 0.8;\"><path d=\"M105,11.875 A45.77302631578947 45.77302631578947 0.7343349907016697 0 1 135.6722157881144,23.671782898464762 L195.24250918423098,77.44914937080694 A22.023026315789473 22.023026315789473 0.7343349907016697 0 0 210,83.125 L210,106.875 A45.77302631578947 45.77302631578947 0.7343349907016697 0 1 179.32778421188561,95.07821710153524 L119.75749081576902,41.30085062919307 A22.023026315789473 22.023026315789473 0.7343349907016697 0 0 105,35.625 Z\" style=\"fill: rgb(31, 119, 180);\"/><title>B → C\n1.00</title></g><g class=\"link\" style=\"opacity: 0.8;\"><path d=\"M0,95 A48.63388157894737 48.63388157894737 0.6330081239458107 0 1 28.77047837073045,104.42273505459275 L90.27937410085666,149.55378862151565 A24.883881578947367 24.883881578947367 0.6330081239458107 0 0 105,154.375 L105,178.125 A48.63388157894737 48.63388157894737 0.6330081239458107 0 1 76.22952162926954,168.70226494540725 L14.720625899143348,123.57121137848435 A24.883881578947367 24.883881578947367 0.6330081239458107 0 0 0,118.75 Z\" style=\"fill: rgb(31, 119, 180);\"/><title>A → D\n1.00</title></g></g><g class=\"nodes\"><g class=\"node\" transform=\"translate(0,71.25)\"><title>A</title><text dy=\".35em\" text-anchor=\"end\" transform=\"translate(-4, 23.75)\">A</text><line x1=\"0\" x2=\"0\" y1=\"0\" y2=\"47.5\" style=\"stroke: rgb(0, 0, 0);\"/><rect x=\"-5\" y=\"-5\" width=\"10\" style=\"fill: none; visibility: hidden; pointer-events: all;\" height=\"52.5\"/></g><g class=\"node\" transform=\"translate(105,11.875)\"><title>B</title><text dy=\".35em\" text-anchor=\"start\" transform=\"translate(-4, -10)\">B</text><line x1=\"0\" x2=\"0\" y1=\"-5\" y2=\"23.75\" style=\"stroke: rgb(0, 0, 0);\"/><rect x=\"-5\" y=\"-5\" width=\"10\" style=\"fill: none; visibility: hidden; pointer-events: all;\" height=\"28.75\"/></g><g class=\"node\" transform=\"translate(210,83.125)\"><title>C</title><text dy=\".35em\" text-anchor=\"start\" transform=\"translate(4, 11.875)\">C</text><line x1=\"0\" x2=\"0\" y1=\"0\" y2=\"23.75\" style=\"stroke: rgb(0, 0, 0);\"/><rect x=\"-5\" y=\"-5\" width=\"10\" style=\"fill: none; visibility: hidden; pointer-events: all;\" height=\"28.75\"/></g><g class=\"node\" transform=\"translate(105,154.375)\"><title>D</title><text dy=\".35em\" text-anchor=\"start\" transform=\"translate(4, 11.875)\">D</text><line x1=\"0\" x2=\"0\" y1=\"0\" y2=\"23.75\" style=\"stroke: rgb(0, 0, 0);\"/><rect x=\"-5\" y=\"-5\" width=\"10\" style=\"fill: none; visibility: hidden; pointer-events: all;\" height=\"28.75\"/></g></g><g class=\"slice-titles\"/></g></svg>"
      }
     },
     "90cdfa2ff9c144ccbad37805a34adae2": {
      "model_module": "jupyter-js-widgets",
      "model_module_version": "~2.1.4",
      "model_name": "ButtonStyleModel",
      "state": {
       "_model_module_version": "~2.1.4",
       "_view_module_version": "~2.1.4"
      }
     },
     "918c2d53b8df4c6b932133cdb78b2959": {
      "model_module": "jupyter-js-widgets",
      "model_module_version": "~2.1.4",
      "model_name": "LayoutModel",
      "state": {
       "_model_module_version": "~2.1.4",
       "_view_module_version": "~2.1.4",
       "height": "200",
       "width": "300"
      }
     },
     "998e359d2e874ae6b1bb6e896315fe4f": {
      "model_module": "jupyter-sankey-widget",
      "model_module_version": "^0.2.0",
      "model_name": "SankeyModel",
      "state": {
       "_dom_classes": [],
       "_model_module_version": "^0.2.0",
       "_view_module_version": "^0.2.0",
       "layout": "IPY_MODEL_73d879c5e19d4280945904f358b1ad45",
       "links": [
        {
         "source": "A",
         "target": "B",
         "type": "x",
         "value": 3
        },
        {
         "source": "B",
         "target": "C",
         "type": "y",
         "value": 2
        },
        {
         "source": "B",
         "target": "D",
         "type": "z",
         "value": 1
        }
       ],
       "margins": {
        "bottom": 0,
        "left": 30,
        "right": 60,
        "top": 10
       },
       "msg_throttle": 1,
       "order": [],
       "png": "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",
       "scale": 31.666666666666668,
       "svg": "<?xml version=\"1.0\" standalone=\"no\"?><!DOCTYPE svg PUBLIC \"-//W3C//DTD SVG 1.1//EN\" \"http://www.w3.org/Graphics/SVG/1.1/DTD/svg11.dtd\"><svg xmlns=\"http://www.w3.org/2000/svg\" width=\"300\" height=\"200\" viewBox=\"0 0 300 200\" style=\"font-family: &quot;Helvetica Neue&quot;,Helvetica,Arial,sans-serif;\"><g class=\"sankey\" transform=\"translate(30,10)\"><g class=\"groups\"/><g class=\"links\"><g class=\"link\" style=\"opacity: 0.8;\"><path d=\"M78.5531192765574,110.83333333333334 A111.04666202766458 111.04666202766458 0.2617589573498933 0 1 107.28977359613057,114.61599466177117 L189.45804542949668,136.62935616534955 A79.37999536099792 79.37999536099792 0.2617589573498933 0 0 210,139.33333333333334 L210,171.00000000000003 A111.04666202766458 111.04666202766458 0.2617589573498933 0 1 181.26334568042682,167.2173386715622 L99.09507384706069,145.20397716798382 A79.37999536099792 79.37999536099792 0.2617589573498933 0 0 78.5531192765574,142.5 Z\" style=\"fill: rgb(255, 127, 14);\"/><title>B → D\n1.00</title></g><g class=\"link\" style=\"opacity: 0.8;\"><path d=\"M78.5531192765574,47.5 A63.54666202766464 63.54666202766464 0.2617589573498931 0 0 94.99772397252575,45.33536491224318 L177.1659958058919,23.322003408664823 A126.87999536099798 126.87999536099798 0.2617589573498931 0 1 210,19.000000000000004 L210,82.33333333333334 A63.54666202766464 63.54666202766464 0.2617589573498931 0 0 193.55539530403166,84.49796842109015 L111.38712347066549,106.51132992466852 A126.87999536099798 126.87999536099798 0.2617589573498931 0 1 78.5531192765574,110.83333333333334 Z\" style=\"fill: rgb(174, 199, 232);\"/><title>B → C\n2.00</title></g><g class=\"link\" style=\"opacity: 0.8;\"><path d=\"M0,47.5 A0 0 0 0 0 0,47.5 L78.5531192765574,47.5 A0 0 0 0 0 78.5531192765574,47.5 L78.5531192765574,142.5 A0 0 0 0 0 78.5531192765574,142.5 L0,142.5 A0 0 0 0 0 0,142.5 Z\" style=\"fill: rgb(31, 119, 180);\"/><title>A → B\n3.00</title></g></g><g class=\"nodes\"><g class=\"node\" transform=\"translate(0,47.5)\"><title>A</title><text dy=\".35em\" text-anchor=\"end\" transform=\"translate(-4, 47.5)\">A</text><line x1=\"0\" x2=\"0\" y1=\"0\" y2=\"95\" style=\"stroke: rgb(0, 0, 0);\"/><rect x=\"-5\" y=\"-5\" width=\"10\" style=\"fill: none; visibility: hidden; pointer-events: all;\" height=\"100\"/></g><g class=\"node\" transform=\"translate(78.5531192765574,47.5)\"><title>B</title><text dy=\".35em\" text-anchor=\"start\" transform=\"translate(-4, -10)\">B</text><line x1=\"0\" x2=\"0\" y1=\"-5\" y2=\"95\" style=\"stroke: rgb(0, 0, 0);\"/><rect x=\"-5\" y=\"-5\" width=\"10\" style=\"fill: none; visibility: hidden; pointer-events: all;\" height=\"100\"/></g><g class=\"node\" transform=\"translate(210,19)\"><title>C</title><text dy=\".35em\" text-anchor=\"start\" transform=\"translate(4, 31.66666603088379)\">C</text><line x1=\"0\" x2=\"0\" y1=\"0\" y2=\"63.333333333333336\" style=\"stroke: rgb(0, 0, 0);\"/><rect x=\"-5\" y=\"-5\" width=\"10\" style=\"fill: none; visibility: hidden; pointer-events: all;\" height=\"68.33333333333334\"/></g><g class=\"node\" transform=\"translate(210,139.33333333333334)\"><title>D</title><text dy=\".35em\" text-anchor=\"start\" transform=\"translate(4, 15.833333015441895)\">D</text><line x1=\"0\" x2=\"0\" y1=\"0\" y2=\"31.666666666666668\" style=\"stroke: rgb(0, 0, 0);\"/><rect x=\"-5\" y=\"-5\" width=\"10\" style=\"fill: none; visibility: hidden; pointer-events: all;\" height=\"36.66666666666667\"/></g></g><g class=\"slice-titles\"/></g></svg>"
      }
     },
     "99d90a369f594fb18f757e870bea8b6c": {
      "model_module": "jupyter-sankey-widget",
      "model_module_version": "^0.2.0",
      "model_name": "SankeyModel",
      "state": {
       "_dom_classes": [],
       "_model_module_version": "^0.2.0",
       "_view_module_version": "^0.2.0",
       "align_link_types": true,
       "layout": "IPY_MODEL_918c2d53b8df4c6b932133cdb78b2959",
       "links": [
        {
         "source": "A1",
         "target": "B",
         "type": "x",
         "value": 1.5
        },
        {
         "source": "A1",
         "target": "B",
         "type": "y",
         "value": 0.5
        },
        {
         "source": "A2",
         "target": "B",
         "type": "x",
         "value": 0.5
        },
        {
         "source": "A2",
         "target": "B",
         "type": "y",
         "value": 1.5
        },
        {
         "source": "B",
         "target": "C",
         "type": "x",
         "value": 2
        },
        {
         "source": "B",
         "target": "C",
         "type": "y",
         "value": 2
        }
       ],
       "margins": {
        "bottom": 0,
        "left": 30,
        "right": 60,
        "top": 10
       },
       "msg_throttle": 1,
       "order": [],
       "png": "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",
       "scale": 23.75,
       "svg": "<?xml version=\"1.0\" standalone=\"no\"?><!DOCTYPE svg PUBLIC \"-//W3C//DTD SVG 1.1//EN\" \"http://www.w3.org/Graphics/SVG/1.1/DTD/svg11.dtd\"><svg xmlns=\"http://www.w3.org/2000/svg\" width=\"300\" height=\"200\" viewBox=\"0 0 300 200\" style=\"font-family: &quot;Helvetica Neue&quot;,Helvetica,Arial,sans-serif;\"><g class=\"sankey\" transform=\"translate(30,10)\"><g class=\"groups\"/><g class=\"links\"><g class=\"link\" style=\"opacity: 0.8;\"><path d=\"M0,54.625 A68.02932952786378 68.02932952786378 0.4222262936585297 0 1 27.877891672365436,60.59941165736349 L87.70400733431308,87.47602400068646 A85.67388254643963 85.67388254643963 0.4222262936585297 0 0 122.8125,95 L122.8125,106.875 A97.54888254643963 97.54888254643963 0.4222262936585297 0 1 82.83772442506074,98.30814824513263 L23.011608763113088,71.43153590180965 A56.15432952786377 56.15432952786377 0.4222262936585297 0 0 0,66.5 Z\" style=\"fill: rgb(174, 199, 232);\"/><title>A1 → B\n500m</title></g><g class=\"link\" style=\"opacity: 0.8;\"><path d=\"M0,123.5 A56.15432952786377 56.15432952786377 0.4398219248664481 0 0 23.90929746513654,118.155651966401 L76.22218043621989,93.53914466939108 A109.42388254643963 109.42388254643963 0.4398219248664481 0 1 122.8125,83.125 L122.8125,95 A97.54888254643963 97.54888254643963 0.4398219248664481 0 0 81.2782982776343,104.28397120934653 L28.965415306550952,128.90047850635645 A68.02932952786378 68.02932952786378 0.4398219248664481 0 1 0,135.375 Z\" style=\"fill: rgb(31, 119, 180);\"/><title>A2 → B\n500m</title></g><g class=\"link\" style=\"opacity: 0.8;\"><path d=\"M0,19 A103.65432952786378 103.65432952786378 0.2806490100616008 0 1 28.710106222545637,23.055384600916284 L104.57445354007046,44.92382378556606 A65.84623766447369 65.84623766447369 0.2806490100616008 0 0 122.8125,47.5 L122.8125,83.125 A101.47123766447369 101.47123766447369 0.2806490100616008 0 1 94.70706508811733,79.15502695078159 L18.842717770592497,57.28658776613182 A68.02932952786378 68.02932952786378 0.2806490100616008 0 0 0,54.625 Z\" style=\"fill: rgb(31, 119, 180);\"/><title>A1 → B\n1.50</title></g><g class=\"link\" style=\"opacity: 0.8;\"><path d=\"M0,135.375 A68.02932952786378 68.02932952786378 0.2732821079435599 0 0 18.360653064553617,132.85044964933653 L99.68970215610526,110.05433502691255 A85.67388254643963 85.67388254643963 0.2732821079435599 0 1 122.8125,106.875 L122.8125,142.5 A50.04888254643963 50.04888254643963 0.2732821079435599 0 0 109.30464720942692,144.35730073866415 L27.975598117875272,167.15341536108812 A103.65432952786378 103.65432952786378 0.2732821079435599 0 1 0,171 Z\" style=\"fill: rgb(174, 199, 232);\"/><title>A2 → B\n1.50</title></g><g class=\"link\" style=\"opacity: 0.8;\"><path d=\"M122.8125,47.5 A0 0 0 0 0 122.8125,47.5 L210,47.5 A0 0 0 0 0 210,47.5 L210,95 A0 0 0 0 0 210,95 L122.8125,95 A0 0 0 0 0 122.8125,95 Z\" style=\"fill: rgb(31, 119, 180);\"/><title>B → C\n2.00</title></g><g class=\"link\" style=\"opacity: 0.8;\"><path d=\"M122.8125,95 A0 0 0 0 0 122.8125,95 L210,95 A0 0 0 0 0 210,95 L210,142.5 A0 0 0 0 0 210,142.5 L122.8125,142.5 A0 0 0 0 0 122.8125,142.5 Z\" style=\"fill: rgb(174, 199, 232);\"/><title>B → C\n2.00</title></g></g><g class=\"nodes\"><g class=\"node\" transform=\"translate(0,19)\"><title>A1</title><text dy=\".35em\" text-anchor=\"end\" transform=\"translate(-4, 23.75)\">A1</text><line x1=\"0\" x2=\"0\" y1=\"0\" y2=\"47.5\" style=\"stroke: rgb(0, 0, 0);\"/><rect x=\"-5\" y=\"-5\" width=\"10\" style=\"fill: none; visibility: hidden; pointer-events: all;\" height=\"52.5\"/></g><g class=\"node\" transform=\"translate(122.8125,47.5)\"><title>B</title><text dy=\".35em\" text-anchor=\"start\" transform=\"translate(-4, -10)\">B</text><line x1=\"0\" x2=\"0\" y1=\"-5\" y2=\"95\" style=\"stroke: rgb(0, 0, 0);\"/><rect x=\"-5\" y=\"-5\" width=\"10\" style=\"fill: none; visibility: hidden; pointer-events: all;\" height=\"100\"/></g><g class=\"node\" transform=\"translate(0,123.5)\"><title>A2</title><text dy=\".35em\" text-anchor=\"end\" transform=\"translate(-4, 23.75)\">A2</text><line x1=\"0\" x2=\"0\" y1=\"0\" y2=\"47.5\" style=\"stroke: rgb(0, 0, 0);\"/><rect x=\"-5\" y=\"-5\" width=\"10\" style=\"fill: none; visibility: hidden; pointer-events: all;\" height=\"52.5\"/></g><g class=\"node\" transform=\"translate(210,47.5)\"><title>C</title><text dy=\".35em\" text-anchor=\"start\" transform=\"translate(4, 47.5)\">C</text><line x1=\"0\" x2=\"0\" y1=\"0\" y2=\"95\" style=\"stroke: rgb(0, 0, 0);\"/><rect x=\"-5\" y=\"-5\" width=\"10\" style=\"fill: none; visibility: hidden; pointer-events: all;\" height=\"100\"/></g></g><g class=\"slice-titles\"/></g></svg>"
      }
     },
     "9a048603413545f7b04f6a0a77c6c8d9": {
      "model_module": "jupyter-js-widgets",
      "model_module_version": "~2.1.4",
      "model_name": "LayoutModel",
      "state": {
       "_model_module_version": "~2.1.4",
       "_view_module_version": "~2.1.4"
      }
     },
     "9e09da5676cb4a64882368b8efce9384": {
      "model_module": "jupyter-sankey-widget",
      "model_module_version": "^0.2.0",
      "model_name": "SankeyModel",
      "state": {
       "_dom_classes": [],
       "_model_module_version": "^0.2.0",
       "_view_module_version": "^0.2.0",
       "layout": "IPY_MODEL_918c2d53b8df4c6b932133cdb78b2959",
       "links": [
        {
         "color": "steelblue",
         "source": "A",
         "target": "B",
         "value": 3
        },
        {
         "color": "#aaa",
         "source": "B",
         "target": "C",
         "value": 2
        },
        {
         "color": "goldenrod",
         "source": "B",
         "target": "D",
         "value": 1
        }
       ],
       "margins": {
        "bottom": 0,
        "left": 30,
        "right": 60,
        "top": 10
       },
       "msg_throttle": 1,
       "order": [],
       "png": "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",
       "scale": 31.666666666666668,
       "svg": "<?xml version=\"1.0\" standalone=\"no\"?><!DOCTYPE svg PUBLIC \"-//W3C//DTD SVG 1.1//EN\" \"http://www.w3.org/Graphics/SVG/1.1/DTD/svg11.dtd\"><svg xmlns=\"http://www.w3.org/2000/svg\" width=\"300\" height=\"200\" viewBox=\"0 0 300 200\" style=\"font-family: &quot;Helvetica Neue&quot;,Helvetica,Arial,sans-serif;\"><g class=\"sankey\" transform=\"translate(30,10)\"><g class=\"groups\"/><g class=\"links\"><g class=\"link\" style=\"opacity: 0.8;\"><path d=\"M78.5531192765574,110.83333333333334 A111.04666202766458 111.04666202766458 0.2617589573498933 0 1 107.28977359613057,114.61599466177117 L189.45804542949668,136.62935616534955 A79.37999536099792 79.37999536099792 0.2617589573498933 0 0 210,139.33333333333334 L210,171.00000000000003 A111.04666202766458 111.04666202766458 0.2617589573498933 0 1 181.26334568042682,167.2173386715622 L99.09507384706069,145.20397716798382 A79.37999536099792 79.37999536099792 0.2617589573498933 0 0 78.5531192765574,142.5 Z\" style=\"fill: rgb(218, 165, 32);\"/><title>B → D\n1.00</title></g><g class=\"link\" style=\"opacity: 0.8;\"><path d=\"M78.5531192765574,47.5 A63.54666202766464 63.54666202766464 0.2617589573498931 0 0 94.99772397252575,45.33536491224318 L177.1659958058919,23.322003408664823 A126.87999536099798 126.87999536099798 0.2617589573498931 0 1 210,19.000000000000004 L210,82.33333333333334 A63.54666202766464 63.54666202766464 0.2617589573498931 0 0 193.55539530403166,84.49796842109015 L111.38712347066549,106.51132992466852 A126.87999536099798 126.87999536099798 0.2617589573498931 0 1 78.5531192765574,110.83333333333334 Z\" style=\"fill: rgb(170, 170, 170);\"/><title>B → C\n2.00</title></g><g class=\"link\" style=\"opacity: 0.8;\"><path d=\"M0,47.5 A0 0 0 0 0 0,47.5 L78.5531192765574,47.5 A0 0 0 0 0 78.5531192765574,47.5 L78.5531192765574,142.5 A0 0 0 0 0 78.5531192765574,142.5 L0,142.5 A0 0 0 0 0 0,142.5 Z\" style=\"fill: rgb(70, 130, 180);\"/><title>A → B\n3.00</title></g></g><g class=\"nodes\"><g class=\"node\" transform=\"translate(0,47.5)\"><title>A</title><text dy=\".35em\" text-anchor=\"end\" transform=\"translate(-4, 47.5)\">A</text><line x1=\"0\" x2=\"0\" y1=\"0\" y2=\"95\" style=\"stroke: rgb(0, 0, 0);\"/><rect x=\"-5\" y=\"-5\" width=\"10\" style=\"fill: none; visibility: hidden; pointer-events: all;\" height=\"100\"/></g><g class=\"node\" transform=\"translate(78.5531192765574,47.5)\"><title>B</title><text dy=\".35em\" text-anchor=\"start\" transform=\"translate(-4, -10)\">B</text><line x1=\"0\" x2=\"0\" y1=\"-5\" y2=\"95\" style=\"stroke: rgb(0, 0, 0);\"/><rect x=\"-5\" y=\"-5\" width=\"10\" style=\"fill: none; visibility: hidden; pointer-events: all;\" height=\"100\"/></g><g class=\"node\" transform=\"translate(210,19)\"><title>C</title><text dy=\".35em\" text-anchor=\"start\" transform=\"translate(4, 31.66666603088379)\">C</text><line x1=\"0\" x2=\"0\" y1=\"0\" y2=\"63.333333333333336\" style=\"stroke: rgb(0, 0, 0);\"/><rect x=\"-5\" y=\"-5\" width=\"10\" style=\"fill: none; visibility: hidden; pointer-events: all;\" height=\"68.33333333333334\"/></g><g class=\"node\" transform=\"translate(210,139.33333333333334)\"><title>D</title><text dy=\".35em\" text-anchor=\"start\" transform=\"translate(4, 15.833333015441895)\">D</text><line x1=\"0\" x2=\"0\" y1=\"0\" y2=\"31.666666666666668\" style=\"stroke: rgb(0, 0, 0);\"/><rect x=\"-5\" y=\"-5\" width=\"10\" style=\"fill: none; visibility: hidden; pointer-events: all;\" height=\"36.66666666666667\"/></g></g><g class=\"slice-titles\"/></g></svg>"
      }
     },
     "a0d565f8bad5416280e5d0a85df8dc7b": {
      "model_module": "jupyter-js-widgets",
      "model_module_version": "~2.1.4",
      "model_name": "LayoutModel",
      "state": {
       "_model_module_version": "~2.1.4",
       "_view_module_version": "~2.1.4"
      }
     },
     "a145272c70f34f21a8deac2726a32356": {
      "model_module": "jupyter-sankey-widget",
      "model_module_version": "^0.2.0",
      "model_name": "SankeyModel",
      "state": {
       "_dom_classes": [],
       "_model_module_version": "^0.2.0",
       "_view_module_version": "^0.2.0",
       "layout": "IPY_MODEL_af1108bdb8ac4fd48eb01fca146bddcb",
       "links": [
        {
         "source": "A1",
         "target": "B",
         "type": "x",
         "value": 1.5
        },
        {
         "source": "A1",
         "target": "B",
         "type": "y",
         "value": 0.5
        },
        {
         "source": "A2",
         "target": "B",
         "type": "x",
         "value": 0.5
        },
        {
         "source": "A2",
         "target": "B",
         "type": "y",
         "value": 1.5
        },
        {
         "source": "B",
         "target": "C",
         "type": "x",
         "value": 2
        },
        {
         "source": "B",
         "target": "C",
         "type": "y",
         "value": 2
        }
       ],
       "margins": {
        "bottom": 0,
        "left": 30,
        "right": 60,
        "top": 10
       },
       "msg_throttle": 1,
       "order": [],
       "png": "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",
       "scale": 48.75,
       "svg": "<?xml version=\"1.0\" standalone=\"no\"?><!DOCTYPE svg PUBLIC \"-//W3C//DTD SVG 1.1//EN\" \"http://www.w3.org/Graphics/SVG/1.1/DTD/svg11.dtd\"><svg xmlns=\"http://www.w3.org/2000/svg\" width=\"600\" height=\"400\" viewBox=\"0 0 600 400\" style=\"font-family: &quot;Helvetica Neue&quot;,Helvetica,Arial,sans-serif;\"><g class=\"sankey\" transform=\"translate(30,10)\"><g class=\"groups\"/><g class=\"links\"><g class=\"link\" style=\"opacity: 0.8;\"><path d=\"M0,112.125 A238.9335036057692 238.9335036057692 0.2509342945254187 0 1 59.32936341074918,119.60819407345647 L226.18060225935162,162.378401662228 A263.3085036057692 263.3085036057692 0.2509342945254187 0 0 291.5625,170.625 L291.5625,195 A287.6835036057692 287.6835036057692 0.2509342945254187 0 1 220.12806792945244,185.98999739791242 L53.27682908084999,143.2197898091409 A214.5585036057692 214.5585036057692 0.2509342945254187 0 0 0,136.5 Z\" style=\"fill: rgb(174, 199, 232);\"/><title>A1 → B\n500m</title></g><g class=\"link\" style=\"opacity: 0.8;\"><path d=\"M0,253.5 A214.5585036057692 214.5585036057692 0.2509342945254187 0 0 53.27682908084999,246.78021019085912 L220.12806792945244,204.01000260208758 A287.6835036057692 287.6835036057692 0.2509342945254187 0 1 291.5625,195 L291.5625,219.375 A263.3085036057692 263.3085036057692 0.2509342945254187 0 0 226.18060225935162,227.621598337772 L59.32936341074918,270.39180592654355 A238.9335036057692 238.9335036057692 0.2509342945254187 0 1 0,277.875 Z\" style=\"fill: rgb(31, 119, 180);\"/><title>A2 → B\n500m</title></g><g class=\"link\" style=\"opacity: 0.8;\"><path d=\"M0,39 A312.0585036057692 312.0585036057692 0.2509342945254187 0 1 77.48696640044676,48.773406866403135 L244.3382052490492,91.54361445517466 A190.1835036057692 190.1835036057692 0.2509342945254187 0 0 291.5625,97.5 L291.5625,170.625 A263.3085036057692 263.3085036057692 0.2509342945254187 0 1 226.18060225935162,162.378401662228 L59.32936341074918,119.60819407345646 A238.9335036057692 238.9335036057692 0.2509342945254187 0 0 0,112.125 Z\" style=\"fill: rgb(31, 119, 180);\"/><title>A1 → B\n1.50</title></g><g class=\"link\" style=\"opacity: 0.8;\"><path d=\"M0,277.875 A238.9335036057692 238.9335036057692 0.2509342945254187 0 0 59.32936341074918,270.39180592654355 L226.18060225935162,227.621598337772 A263.3085036057692 263.3085036057692 0.2509342945254187 0 1 291.5625,219.375 L291.5625,292.5 A190.1835036057692 190.1835036057692 0.2509342945254187 0 0 244.3382052490492,298.4563855448253 L77.48696640044676,341.22659313359685 A312.0585036057692 312.0585036057692 0.2509342945254187 0 1 0,351 Z\" style=\"fill: rgb(174, 199, 232);\"/><title>A2 → B\n1.50</title></g><g class=\"link\" style=\"opacity: 0.8;\"><path d=\"M291.5625,97.5 A0 0 0 0 0 291.5625,97.5 L510,97.5 A0 0 0 0 0 510,97.5 L510,195 A0 0 0 0 0 510,195 L291.5625,195 A0 0 0 0 0 291.5625,195 Z\" style=\"fill: rgb(31, 119, 180);\"/><title>B → C\n2.00</title></g><g class=\"link\" style=\"opacity: 0.8;\"><path d=\"M291.5625,195 A0 0 0 0 0 291.5625,195 L510,195 A0 0 0 0 0 510,195 L510,292.5 A0 0 0 0 0 510,292.5 L291.5625,292.5 A0 0 0 0 0 291.5625,292.5 Z\" style=\"fill: rgb(174, 199, 232);\"/><title>B → C\n2.00</title></g></g><g class=\"nodes\"><g class=\"node\" transform=\"translate(0,39)\"><title>A1</title><text dy=\".35em\" text-anchor=\"end\" transform=\"translate(-4, 48.75)\">A1</text><line x1=\"0\" x2=\"0\" y1=\"0\" y2=\"97.5\" style=\"stroke: rgb(0, 0, 0);\"/><rect x=\"-5\" y=\"-5\" width=\"10\" style=\"fill: none; visibility: hidden; pointer-events: all;\" height=\"102.5\"/></g><g class=\"node\" transform=\"translate(291.5625,97.5)\"><title>B</title><text dy=\".35em\" text-anchor=\"start\" transform=\"translate(-4, -10)\">B</text><line x1=\"0\" x2=\"0\" y1=\"-5\" y2=\"195\" style=\"stroke: rgb(0, 0, 0);\"/><rect x=\"-5\" y=\"-5\" width=\"10\" style=\"fill: none; visibility: hidden; pointer-events: all;\" height=\"200\"/></g><g class=\"node\" transform=\"translate(0,253.5)\"><title>A2</title><text dy=\".35em\" text-anchor=\"end\" transform=\"translate(-4, 48.75)\">A2</text><line x1=\"0\" x2=\"0\" y1=\"0\" y2=\"97.5\" style=\"stroke: rgb(0, 0, 0);\"/><rect x=\"-5\" y=\"-5\" width=\"10\" style=\"fill: none; visibility: hidden; pointer-events: all;\" height=\"102.5\"/></g><g class=\"node\" transform=\"translate(510,97.5)\"><title>C</title><text dy=\".35em\" text-anchor=\"start\" transform=\"translate(4, 97.5)\">C</text><line x1=\"0\" x2=\"0\" y1=\"0\" y2=\"195\" style=\"stroke: rgb(0, 0, 0);\"/><rect x=\"-5\" y=\"-5\" width=\"10\" style=\"fill: none; visibility: hidden; pointer-events: all;\" height=\"200\"/></g></g><g class=\"slice-titles\"/></g></svg>"
      }
     },
     "a33ad34836bd4ed496af0dcd89df32cb": {
      "model_module": "jupyter-sankey-widget",
      "model_module_version": "^0.2.0",
      "model_name": "SankeyModel",
      "state": {
       "_dom_classes": [],
       "_model_module_version": "^0.2.0",
       "_view_module_version": "^0.2.0",
       "layout": "IPY_MODEL_35061a7766894db78f3d0518afb49838",
       "links": [
        {
         "source": "A",
         "target": "B",
         "type": "x",
         "value": 3
        },
        {
         "source": "B",
         "target": "C",
         "type": "y",
         "value": 2
        },
        {
         "source": "B",
         "target": "D",
         "type": "z",
         "value": 1
        }
       ],
       "margins": {
        "bottom": 0,
        "left": 30,
        "right": 60,
        "top": 10
       },
       "msg_throttle": 1,
       "order": [],
       "png": "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",
       "scale": 31.666666666666668,
       "svg": "<?xml version=\"1.0\" standalone=\"no\"?><!DOCTYPE svg PUBLIC \"-//W3C//DTD SVG 1.1//EN\" \"http://www.w3.org/Graphics/SVG/1.1/DTD/svg11.dtd\"><svg xmlns=\"http://www.w3.org/2000/svg\" width=\"300\" height=\"200\" viewBox=\"0 0 300 200\" style=\"font-family: &quot;Helvetica Neue&quot;,Helvetica,Arial,sans-serif;\"><g class=\"sankey\" transform=\"translate(30,10)\"><g class=\"groups\"/><g class=\"links\"><g class=\"link\" style=\"opacity: 0.8;\"><path d=\"M78.5531192765574,110.83333333333334 A111.04666202766458 111.04666202766458 0.2617589573498933 0 1 107.28977359613057,114.61599466177117 L189.45804542949668,136.62935616534955 A79.37999536099792 79.37999536099792 0.2617589573498933 0 0 210,139.33333333333334 L210,171.00000000000003 A111.04666202766458 111.04666202766458 0.2617589573498933 0 1 181.26334568042682,167.2173386715622 L99.09507384706069,145.20397716798382 A79.37999536099792 79.37999536099792 0.2617589573498933 0 0 78.5531192765574,142.5 Z\" style=\"fill: rgb(255, 127, 14);\"/><title>B → D\n1.00</title></g><g class=\"link\" style=\"opacity: 0.8;\"><path d=\"M78.5531192765574,47.5 A63.54666202766464 63.54666202766464 0.2617589573498931 0 0 94.99772397252575,45.33536491224318 L177.1659958058919,23.322003408664823 A126.87999536099798 126.87999536099798 0.2617589573498931 0 1 210,19.000000000000004 L210,82.33333333333334 A63.54666202766464 63.54666202766464 0.2617589573498931 0 0 193.55539530403166,84.49796842109015 L111.38712347066549,106.51132992466852 A126.87999536099798 126.87999536099798 0.2617589573498931 0 1 78.5531192765574,110.83333333333334 Z\" style=\"fill: rgb(174, 199, 232);\"/><title>B → C\n2.00</title></g><g class=\"link\" style=\"opacity: 0.8;\"><path d=\"M0,47.5 A0 0 0 0 0 0,47.5 L78.5531192765574,47.5 A0 0 0 0 0 78.5531192765574,47.5 L78.5531192765574,142.5 A0 0 0 0 0 78.5531192765574,142.5 L0,142.5 A0 0 0 0 0 0,142.5 Z\" style=\"fill: rgb(31, 119, 180);\"/><title>A → B\n3.00</title></g></g><g class=\"nodes\"><g class=\"node\" transform=\"translate(0,47.5)\"><title>A</title><text dy=\".35em\" text-anchor=\"end\" transform=\"translate(-4, 47.5)\">A</text><line x1=\"0\" x2=\"0\" y1=\"0\" y2=\"95\" style=\"stroke: rgb(0, 0, 0);\"/><rect x=\"-5\" y=\"-5\" width=\"10\" style=\"fill: none; visibility: hidden; pointer-events: all;\" height=\"100\"/></g><g class=\"node\" transform=\"translate(78.5531192765574,47.5)\"><title>B</title><text dy=\".35em\" text-anchor=\"start\" transform=\"translate(-4, -10)\">B</text><line x1=\"0\" x2=\"0\" y1=\"-5\" y2=\"95\" style=\"stroke: rgb(0, 0, 0);\"/><rect x=\"-5\" y=\"-5\" width=\"10\" style=\"fill: none; visibility: hidden; pointer-events: all;\" height=\"100\"/></g><g class=\"node\" transform=\"translate(210,19)\"><title>C</title><text dy=\".35em\" text-anchor=\"start\" transform=\"translate(4, 31.66666603088379)\">C</text><line x1=\"0\" x2=\"0\" y1=\"0\" y2=\"63.333333333333336\" style=\"stroke: rgb(0, 0, 0);\"/><rect x=\"-5\" y=\"-5\" width=\"10\" style=\"fill: none; visibility: hidden; pointer-events: all;\" height=\"68.33333333333334\"/></g><g class=\"node\" transform=\"translate(210,139.33333333333334)\"><title>D</title><text dy=\".35em\" text-anchor=\"start\" transform=\"translate(4, 15.833333015441895)\">D</text><line x1=\"0\" x2=\"0\" y1=\"0\" y2=\"31.666666666666668\" style=\"stroke: rgb(0, 0, 0);\"/><rect x=\"-5\" y=\"-5\" width=\"10\" style=\"fill: none; visibility: hidden; pointer-events: all;\" height=\"36.66666666666667\"/></g></g><g class=\"slice-titles\"/></g></svg>"
      }
     },
     "a4f8d07ce1ed4ff8ba9f681fb307c15a": {
      "model_module": "jupyter-sankey-widget",
      "model_module_version": "^0.2.0",
      "model_name": "SankeyModel",
      "state": {
       "_dom_classes": [],
       "_model_module_version": "^0.2.0",
       "_view_module_version": "^0.2.0",
       "layout": "IPY_MODEL_73d879c5e19d4280945904f358b1ad45",
       "links": [
        {
         "source": "A",
         "target": "B",
         "value": 1
        },
        {
         "source": "B",
         "target": "C",
         "value": 1
        },
        {
         "source": "A",
         "target": "D",
         "value": 1
        }
       ],
       "margins": {
        "bottom": 0,
        "left": 30,
        "right": 60,
        "top": 10
       },
       "msg_throttle": 1,
       "order": [],
       "png": "iVBORw0KGgoAAAANSUhEUgAAASwAAADICAYAAABS39xVAAAM+ElEQVR4nO3dXWhkZx3H8d/Wgn1JbXdNxNnJOVNUiohC3awX0pYN1BahUaoobtrSbq1JNVQpSc6ZJGo3ihdiB3yDkpUiUtxVg2XdOWfS8casCMWLYi8K2qpYa614IVgVC7VvXjwzm2RmsplN5pzznPN8P/C/2EwuJjPJd2f+eSYjAQAAAAAAAAAAAAAAAAAAAAAAAAAAAABgoTskvdExr0r6vaQ7M7xeANDl25JelHSsNXdL+pqk38nE6/1ZXTEA6PS4pMd6fPyDMsH6ZLpXBwB6u1jSS5Ie6HHZXZJek3R1mlcIALZzrTYeRQ235p0ysfqHpMXsrhoAbDWl7oV7e76b4fUCgC7fk/ScpA9tmo9KelgmWp/J7qoBwFZPSvpJj4/vkznW8LN0rw4A9HappFckVXtctk/S8zKPwAAgc+1jCzf1uOzW1mUTqV4jANjGF2SiNKuNQ6P3SPqmpJclnZJ5pAUAmXtE3b8ZfEXSbyTNS7oou6sGAL3dJekHWV8JAOgHwQKQGwQLQG4QLADZGV5qlg4GzUPloD7hV9em/DA67lcbK1snfsKvxk/sv/HeZy95x9hz7X9Xgmi9/TleENX86tqUX12bOhg0Dw0vNUtZf20AcmpkZnXoYNA85FfXpkxcono7PP1OZ7D6m8aKNx/NloP6BBED0NPwUrPkVeOjfhgdrwTRyQuN0+CC1TlR3Q+j46NB/UjWtxGADB0Mmoe8+Wh2UIFKJlgbUwmi9Xa8RmZWh7K+/QAkbDSoH2k9ilpPIlJJBqtXvHjaCBRMmpFKK1hbp7FSDuq8NhHIq6wilU2w2hPVCReQE+XZxjWtnVRmkco2WIQLsFo7Urs5dlDcYJmpBNHJ0kI8lvV9BDjN5kjZFKxzw3IeSNe5c1KWR8rKYFXNbxW9anw06/sRKKx2pJI6J+VSsDaF62R5tnFN1vctUAh5j5TtwWqPNx/NcvgU2IWRmdWhclCfMK/Zy/6H2YVgmYnqo/Onx7O+/wHrFTVS+QqWGS+IaizlgQ4uRCqPwfKrLOWBc2w4dU6w+g4XS3m4x9VI5T1Y7WEpj8IrLcRjrkeqKMEyw1IeBZOXU+cEa/fDUh65RqTcCpZfZSmPnBleapaIlLvB2hQulvKwU5FOnROswQ5LeViBSA1uihwsMyzlkYH2gU4iNdgpfrDMsJRH4lw7dZ7FuBIsv8pSHgkgUumOS8FqD0t57NrwUrM0GtSP+NW1KZ7upT8uBqs9LOWxnSP7x+950K+uTZlprJjJ/pvW9XE5WGZYyqPb8SsO3/q37L85mc4hWGZYymMzgmXpEKyNYSmPNoJl6RCs7mEpD4Jl6RCs883aFEt5NxEsS4dg7TRRnTd6dQ/BsnQIVn/jBVGNR1vuIFiWDsHqf1jKu4NgWToEazfTWGEpX2wEy9IhWHsZlvJFRbAsHYK112EpX0QEy9IhWIMZlvLFQrAsHYI1uGEpXxwEy9IhWEkMS/m8I1iWDsFKcljK5xXBsnQIVtLDUj6PCJalQ7DSGZby+UKwLB2Cld6wlM8PgmXpEKwshqW87QiWLRPGJ1oz7Yfx9IFbZr96+Qc+9q3Wv0/4YRRlfh2dGZbytiJYGUwlrJ/ywjNzo/Onxy/kz/+OzKwOlRcbE5Wwfirrr6H4w1LeRgQrpfHCuFZebEwM6u+TlxbiMT+MT2T9dRV9+JvydiFYCU4lrJ/ygsZkkt/wo/OnxythdDbrr7X4w9NEGxCsAU8akeo0MrM65IVn5rL+2l0YL4hq5aA+wXI+GwRrEBNGUdqR6qW0EI+x30p3KkF08srrbvuFpGNZ3veuIFi7nTCKvPDMnI3/0/phPM3TxPTmisO3viBpOev73QUE60LG4kh1Gl5qlljKpzMEKz0Ea4ephNHZvESqF5byyQ/BSg/B6jGVMDrrh9Hy6Pzp8azvoEFgKZ/sEKz0EKzWFC1SvbCUT2YIVnqcD5YXxrUiR6oXlvKDHYKVHieD1T517vJBQJbygxuClR5ngkWkemMpv/chWOkpdLAqYf0UkdoZS/m9DcFKT+GClcVLY4qCpTzBsl0hgkWkBoulPMGyVX6D1Tp1TqSSwVKeYNkoX8HK0UtjioKlPMGyif3BIlKZYylPsGxhZbDap875E7V2YSlPsLJmTbBceGlMUbCUJ1hZyTRYRCq/WMoTrCQck/SGpBe2uTyTYHHqvDhYyl9QsK6V9Iikv0p6SdKvJT0g6c2J3UE5cpnMDfNvmWhd1uNzUgmW+ZtSRKqoXF/K9xmsz0t6VdLjkgJJn5X0Q5mfzUeSvH/y4ouS/ivpPpkb5T09Pie5YLV+u8fTPXe4upTvI1iTMj+D85L2dVx2onXZaCJ3Sk68TdJ/ZB5uHpK5QT7S4/MGF6wwirwwrnlBY5IjCG5zbSm/Q7BGJL0o6eFtLr9B5qnh4cHfE/nxkMzTwcskDcsE6/4en7erYJlluXlb9dJCPMbTPHRyaSm/Q7COS3pFUiW1Gz9n3i3zXPn21r/3yTw1/E6Pz90aLBOhc+OFcc0P42kvaEyWFuIxHjnhQrmwlN8hWL+V9Gh6t3j+1CU9KektkoZa84ykRo/P7XiE1VjZPF4Q1fzq2pRXjY8eDJqHCBZ2o+hL+fME64DMs5sHUr3Bc+SIzA3Ua57u8fm7e0oYROsmamtTB4PmIZ4Soh9FXcqfJ1jvlfnZu3Obm+RiSV+XdFsyt7jdLpL0hKTHJF3fMT+V9HLrczYb4G8Jo7oXRDWvGh/lkRjOp2hL+fMEqywTrC9vc1Pc27r8+mRuabvdLul1Se/rcdmizA3jdXw8wXNYUd2bj2ZHg/qRpL9w5E+RlvLnCdY+SX+R9Lykqzouu0nmt4dOnsG6RNKfZQ6i9XKHTLDGOz6ezsHRIFr3gqhWDuocHMUWRVjK77B0n5R5IPEnSUsyZ7EelfSapB/L7JidE8r8ZvBd21ze3m3d0/HxbF6aQ7ywSd6X8n0cHP2wpF9J+qfMI64zko6q+xApdpDti5+DaN0Po+M8bYSU36U8L35Ojz1/XoZ4oSVvS3mClR5rgtUrXvwBP3flaSlPsNJjZbC2jvltI0cl3JSHpTzBSk8OgkW8XGf7Up5gpSdnweqOF2/z5Q5bl/IEKz05DtbGVILopFeNjxIvN9i2lCdY6SlEsIiXe2xayhOs9BQuWJ3x4oBqsY3Onx73wygiWG4odLA2D6friy3Lp4kEKz3OBIt4FZ95mhgtpx0ugpUeJ4PVGS9O1xfLyMzqUJqPuAhWepwPVnt4aVDxjMysDnlBYzLpHRfBSg/BIl5OKC3EY34YLROsfCNYfcSL0/XFMTKzOlRebEx4YVwjWPlDsC5oeGlQkYzMrA6Nzp8e98Izc3s5QU+w0kOwiBda2gHzw3jaC+NavxEjWOkhWIOKF6frC6u0EI+VFuKx8mJjwg/jaTPRcvv9O6+8bnJd0rGsr6cLCNaAh5cGAckhWMQLyA2CldK0T9cTL2D3CFYGUwmik+33bCRgQP8IljXTWDGzNuVX16YO3DL3lTeNXH131t8ggE0IlqWz/8Z7n913xVujrL9BAJsQLEuHYAHdCJalQ7CAbgTL0iFYQDeCZekQLKAbwbJ0CBbQjWBZOgQL6EawLB2CBXQjWJYOwQK6ESxLh2AB3QiWpUOwgG4Ey9IhWEA3gmXpECygG8GydAgW0I1gWToEC+hGsCwdggV0I1iWDsECuhEsS6ePYB2W9EbH/E/SU+Itp1BQR64a/3Rt473WzPusZf3DyvQVrM/JROo+mUDdLelLkp5uffwTSX/zANYYXmqW2u+Cu5e38WYSC9b3Jf1d0r6Oj18q6ZnWAG4amVkdKi82JrwwrmX9w+zC9BGspyTVt7nsuMyjrCsH/o0A5A3xyjxYl0t6TeYpYC9zIlhAt3a8eNqYarBukAnSzdtc/pCk5xO5w4GiGF5qlrygMUm8Eg/WrEywDmxz+S8l/TyROxkoIuKVaLB+JOkP21xWkfS6pMVE7lig6IaXmiUvPDPnh1GUdQjyMjsE64+STm1z2TckvSTp7YncmYBLyrONa4jXnoK1X+bp4P09LvuUzDI+TPI+BJxEvHYVrJtlgvWgNg6Mzkpaa318RdJFKd2FgJtKC/GYH0bLlTA6m3UsbJjzBGtJ3S/J+ZekdUkfT+8eAyBJMifs3Y4XL34GcsjVeBEsIMdcO11PsICCcCFeBAsooKLGi2ABBVek0/UEC3BI3uNFsABHteOVpwOqBAtAbk7XEywAW9gcL4IFYFvteNlyQJVgAeiLDafrCRaAC5ZVvAgWgD1JM14EC8DAbOy8kjnnRbAAJGLTOa/lQQWMYAFIxcjM6pD5g4TxtBfGtd0cmyBYADI1vNQslRbisfJiY8IP42k/jJb9MD6xedr7MYIFAAAAAAAAAAAAAAAAAAAAAAAAAAAAAAAAAAAAAAAAAAAAbPF/JCmZq+U+uogAAAAASUVORK5CYII=",
       "scale": 47.5,
       "svg": "<?xml version=\"1.0\" standalone=\"no\"?><!DOCTYPE svg PUBLIC \"-//W3C//DTD SVG 1.1//EN\" \"http://www.w3.org/Graphics/SVG/1.1/DTD/svg11.dtd\"><svg xmlns=\"http://www.w3.org/2000/svg\" width=\"300\" height=\"200\" viewBox=\"0 0 300 200\" style=\"font-family: &quot;Helvetica Neue&quot;,Helvetica,Arial,sans-serif;\"><g class=\"sankey\" transform=\"translate(30,10)\"><g class=\"groups\"/><g class=\"links\"><g class=\"link\" style=\"opacity: 0.8;\"><path d=\"M0,47.5 A36.50969923423352 36.50969923423352 0.33065803274531924 0 0 11.853439210327142,45.52222971654 L75.86123317031685,23.55089716302253 A84.00969923423352 84.00969923423352 0.33065803274531924 0 1 103.13628291975802,19 L103.13628291975802,66.5 A36.50969923423352 36.50969923423352 0.33065803274531924 0 0 91.28284370943088,68.47777028346 L27.275049749441177,90.44910283697747 A84.00969923423352 84.00969923423352 0.33065803274531924 0 1 0,95 Z\" style=\"fill: rgb(31, 119, 180);\"/><title>A → B\n1.00</title></g><g class=\"link\" style=\"opacity: 0.8;\"><path d=\"M103.13628291975802,19 A64.3717699374335 64.3717699374335 0.5588572848257416 0 1 137.26733343662391,28.7934211579677 L201.05428928545567,68.68315511072286 A16.8717699374335 16.8717699374335 0.5588572848257416 0 0 210,71.25 L210,118.75 A64.3717699374335 64.3717699374335 0.5588572848257416 0 1 175.86894948313412,108.9565788420323 L112.08199363430236,69.06684488927714 A16.8717699374335 16.8717699374335 0.5588572848257416 0 0 103.13628291975802,66.5 Z\" style=\"fill: rgb(31, 119, 180);\"/><title>B → C\n1.00</title></g><g class=\"link\" style=\"opacity: 0.8;\"><path d=\"M0,95 A84.00969923423352 84.00969923423352 0.33065803274531924 0 1 27.275049749441177,99.55089716302253 L91.28284370943088,121.52222971654 A36.50969923423352 36.50969923423352 0.33065803274531924 0 0 103.13628291975802,123.5 L103.13628291975802,171 A84.00969923423352 84.00969923423352 0.33065803274531924 0 1 75.86123317031685,166.44910283697746 L11.853439210327142,144.47777028346 A36.50969923423352 36.50969923423352 0.33065803274531924 0 0 0,142.5 Z\" style=\"fill: rgb(31, 119, 180);\"/><title>A → D\n1.00</title></g></g><g class=\"nodes\"><g class=\"node\" transform=\"translate(0,47.5)\"><title>A</title><text dy=\".35em\" text-anchor=\"end\" transform=\"translate(-4, 47.5)\">A</text><line x1=\"0\" x2=\"0\" y1=\"0\" y2=\"95\" style=\"stroke: rgb(0, 0, 0);\"/><rect x=\"-5\" y=\"-5\" width=\"10\" style=\"fill: none; visibility: hidden; pointer-events: all;\" height=\"100\"/></g><g class=\"node\" transform=\"translate(103.13628291975802,19)\"><title>B</title><text dy=\".35em\" text-anchor=\"start\" transform=\"translate(-4, -10)\">B</text><line x1=\"0\" x2=\"0\" y1=\"-5\" y2=\"47.5\" style=\"stroke: rgb(0, 0, 0);\"/><rect x=\"-5\" y=\"-5\" width=\"10\" style=\"fill: none; visibility: hidden; pointer-events: all;\" height=\"52.5\"/></g><g class=\"node\" transform=\"translate(210,71.25)\"><title>C</title><text dy=\".35em\" text-anchor=\"start\" transform=\"translate(4, 23.75)\">C</text><line x1=\"0\" x2=\"0\" y1=\"0\" y2=\"47.5\" style=\"stroke: rgb(0, 0, 0);\"/><rect x=\"-5\" y=\"-5\" width=\"10\" style=\"fill: none; visibility: hidden; pointer-events: all;\" height=\"52.5\"/></g><g class=\"node\" transform=\"translate(103.13628291975802,123.5)\"><title>D</title><text dy=\".35em\" text-anchor=\"start\" transform=\"translate(4, 23.75)\">D</text><line x1=\"0\" x2=\"0\" y1=\"0\" y2=\"47.5\" style=\"stroke: rgb(0, 0, 0);\"/><rect x=\"-5\" y=\"-5\" width=\"10\" style=\"fill: none; visibility: hidden; pointer-events: all;\" height=\"52.5\"/></g></g><g class=\"slice-titles\"/></g></svg>"
      }
     },
     "a59e794e69944bc899ab4e351b61187d": {
      "model_module": "jupyter-sankey-widget",
      "model_module_version": "^0.2.0",
      "model_name": "SankeyModel",
      "state": {
       "_dom_classes": [],
       "_model_module_version": "^0.2.0",
       "_view_module_version": "^0.2.0",
       "layout": "IPY_MODEL_35061a7766894db78f3d0518afb49838",
       "links": [
        {
         "source": "A1",
         "target": "B",
         "type": "x",
         "value": 1.5
        },
        {
         "source": "A1",
         "target": "B",
         "type": "y",
         "value": 0.5
        },
        {
         "source": "A2",
         "target": "B",
         "type": "x",
         "value": 0.5
        },
        {
         "source": "A2",
         "target": "B",
         "type": "y",
         "value": 1.5
        },
        {
         "source": "B",
         "target": "C",
         "type": "x",
         "value": 2
        },
        {
         "source": "B",
         "target": "C",
         "type": "y",
         "value": 2
        }
       ],
       "margins": {
        "bottom": 0,
        "left": 30,
        "right": 60,
        "top": 10
       },
       "msg_throttle": 1,
       "order": [],
       "png": "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",
       "scale": 23.75,
       "svg": "<?xml version=\"1.0\" standalone=\"no\"?><!DOCTYPE svg PUBLIC \"-//W3C//DTD SVG 1.1//EN\" \"http://www.w3.org/Graphics/SVG/1.1/DTD/svg11.dtd\"><svg xmlns=\"http://www.w3.org/2000/svg\" width=\"300\" height=\"200\" viewBox=\"0 0 300 200\" style=\"font-family: &quot;Helvetica Neue&quot;,Helvetica,Arial,sans-serif;\"><g class=\"sankey\" transform=\"translate(30,10)\"><g class=\"groups\"/><g class=\"links\"><g class=\"link\" style=\"opacity: 0.8;\"><path d=\"M0,54.625 A89.59623766447369 89.59623766447369 0.2923908868640279 0 1 25.825439800354374,58.42769208704038 L93.56418100713228,78.81830272579194 A101.47123766447369 101.47123766447369 0.2923908868640279 0 0 122.8125,83.125 L122.8125,95 A113.34623766447369 113.34623766447369 0.2923908868640279 0 1 90.14130181461891,90.18929753862423 L22.402560607841018,69.79868689987268 A77.72123766447369 77.72123766447369 0.2923908868640279 0 0 0,66.5 Z\" style=\"fill: rgb(174, 199, 232);\"/><title>A1 → B\n500m</title></g><g class=\"link\" style=\"opacity: 0.8;\"><path d=\"M0,123.5 A77.72123766447369 77.72123766447369 0.2923908868640279 0 0 22.402560607841018,120.20131310012732 L90.14130181461891,99.81070246137577 A113.34623766447369 113.34623766447369 0.2923908868640279 0 1 122.8125,95 L122.8125,106.875 A101.47123766447369 101.47123766447369 0.2923908868640279 0 0 93.56418100713228,111.18169727420806 L25.825439800354374,131.57230791295962 A89.59623766447369 89.59623766447369 0.2923908868640279 0 1 0,135.375 Z\" style=\"fill: rgb(31, 119, 180);\"/><title>A2 → B\n500m</title></g><g class=\"link\" style=\"opacity: 0.8;\"><path d=\"M0,19 A125.22123766447369 125.22123766447369 0.2923908868640279 0 1 36.09407737789443,24.314707648543468 L103.83281858467234,44.705318287295015 A65.84623766447369 65.84623766447369 0.2923908868640279 0 0 122.8125,47.5 L122.8125,83.125 A101.47123766447369 101.47123766447369 0.2923908868640279 0 1 93.56418100713228,78.81830272579192 L25.825439800354374,58.42769208704038 A89.59623766447369 89.59623766447369 0.2923908868640279 0 0 0,54.625 Z\" style=\"fill: rgb(31, 119, 180);\"/><title>A1 → B\n1.50</title></g><g class=\"link\" style=\"opacity: 0.8;\"><path d=\"M0,135.375 A89.59623766447369 89.59623766447369 0.2923908868640279 0 0 25.825439800354374,131.57230791295962 L93.56418100713228,111.18169727420808 A101.47123766447369 101.47123766447369 0.2923908868640279 0 1 122.8125,106.875 L122.8125,142.5 A65.84623766447369 65.84623766447369 0.2923908868640279 0 0 103.83281858467234,145.29468171270497 L36.09407737789443,165.68529235145655 A125.22123766447369 125.22123766447369 0.2923908868640279 0 1 0,171 Z\" style=\"fill: rgb(174, 199, 232);\"/><title>A2 → B\n1.50</title></g><g class=\"link\" style=\"opacity: 0.8;\"><path d=\"M122.8125,47.5 A0 0 0 0 0 122.8125,47.5 L210,47.5 A0 0 0 0 0 210,47.5 L210,95 A0 0 0 0 0 210,95 L122.8125,95 A0 0 0 0 0 122.8125,95 Z\" style=\"fill: rgb(31, 119, 180);\"/><title>B → C\n2.00</title></g><g class=\"link\" style=\"opacity: 0.8;\"><path d=\"M122.8125,95 A0 0 0 0 0 122.8125,95 L210,95 A0 0 0 0 0 210,95 L210,142.5 A0 0 0 0 0 210,142.5 L122.8125,142.5 A0 0 0 0 0 122.8125,142.5 Z\" style=\"fill: rgb(174, 199, 232);\"/><title>B → C\n2.00</title></g></g><g class=\"nodes\"><g class=\"node\" transform=\"translate(0,19)\"><title>A1</title><text dy=\".35em\" text-anchor=\"end\" transform=\"translate(-4, 23.75)\">A1</text><line x1=\"0\" x2=\"0\" y1=\"0\" y2=\"47.5\" style=\"stroke: rgb(0, 0, 0);\"/><rect x=\"-5\" y=\"-5\" width=\"10\" style=\"fill: none; visibility: hidden; pointer-events: all;\" height=\"52.5\"/></g><g class=\"node\" transform=\"translate(122.8125,47.5)\"><title>B</title><text dy=\".35em\" text-anchor=\"start\" transform=\"translate(-4, -10)\">B</text><line x1=\"0\" x2=\"0\" y1=\"-5\" y2=\"95\" style=\"stroke: rgb(0, 0, 0);\"/><rect x=\"-5\" y=\"-5\" width=\"10\" style=\"fill: none; visibility: hidden; pointer-events: all;\" height=\"100\"/></g><g class=\"node\" transform=\"translate(0,123.5)\"><title>A2</title><text dy=\".35em\" text-anchor=\"end\" transform=\"translate(-4, 23.75)\">A2</text><line x1=\"0\" x2=\"0\" y1=\"0\" y2=\"47.5\" style=\"stroke: rgb(0, 0, 0);\"/><rect x=\"-5\" y=\"-5\" width=\"10\" style=\"fill: none; visibility: hidden; pointer-events: all;\" height=\"52.5\"/></g><g class=\"node\" transform=\"translate(210,47.5)\"><title>C</title><text dy=\".35em\" text-anchor=\"start\" transform=\"translate(4, 47.5)\">C</text><line x1=\"0\" x2=\"0\" y1=\"0\" y2=\"95\" style=\"stroke: rgb(0, 0, 0);\"/><rect x=\"-5\" y=\"-5\" width=\"10\" style=\"fill: none; visibility: hidden; pointer-events: all;\" height=\"100\"/></g></g><g class=\"slice-titles\"/></g></svg>"
      }
     },
     "a8cdc6f9a5444cf099f376e9ae2a49c7": {
      "model_module": "jupyter-sankey-widget",
      "model_module_version": "^0.2.0",
      "model_name": "SankeyModel",
      "state": {
       "_dom_classes": [],
       "_model_module_version": "^0.2.0",
       "_view_module_version": "^0.2.0",
       "layout": "IPY_MODEL_918c2d53b8df4c6b932133cdb78b2959",
       "links": [
        {
         "source": "A",
         "target": "B",
         "value": 1
        },
        {
         "source": "B",
         "target": "C",
         "value": 1
        },
        {
         "source": "A",
         "target": "D",
         "value": 1
        }
       ],
       "margins": {
        "bottom": 0,
        "left": 30,
        "right": 60,
        "top": 10
       },
       "msg_throttle": 1,
       "order": [
        [
         [],
         [
          "A"
         ],
         []
        ],
        [
         [
          "B"
         ],
         [],
         [
          "D"
         ]
        ],
        [
         [],
         [
          "C"
         ],
         []
        ]
       ],
       "png": "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",
       "scale": 23.75,
       "svg": "<?xml version=\"1.0\" standalone=\"no\"?><!DOCTYPE svg PUBLIC \"-//W3C//DTD SVG 1.1//EN\" \"http://www.w3.org/Graphics/SVG/1.1/DTD/svg11.dtd\"><svg xmlns=\"http://www.w3.org/2000/svg\" width=\"300\" height=\"200\" viewBox=\"0 0 300 200\" style=\"font-family: &quot;Helvetica Neue&quot;,Helvetica,Arial,sans-serif;\"><g class=\"sankey\" transform=\"translate(30,10)\"><g class=\"groups\"/><g class=\"links\"><g class=\"link\" style=\"opacity: 0.8;\"><path d=\"M0,71.25 A24.883881578947367 24.883881578947367 0.6330081239458107 0 0 14.720625899143348,66.42878862151565 L76.22952162926954,21.29773505459275 A48.63388157894737 48.63388157894737 0.6330081239458107 0 1 105,11.875 L105,35.625 A24.883881578947367 24.883881578947367 0.6330081239458107 0 0 90.27937410085666,40.446211378484364 L28.77047837073045,85.57726494540725 A48.63388157894737 48.63388157894737 0.6330081239458107 0 1 0,95 Z\" style=\"fill: rgb(31, 119, 180);\"/><title>A → B\n1.00</title></g><g class=\"link\" style=\"opacity: 0.8;\"><path d=\"M105,11.875 A45.77302631578947 45.77302631578947 0.7343349907016697 0 1 135.6722157881144,23.671782898464762 L195.24250918423098,77.44914937080694 A22.023026315789473 22.023026315789473 0.7343349907016697 0 0 210,83.125 L210,106.875 A45.77302631578947 45.77302631578947 0.7343349907016697 0 1 179.32778421188561,95.07821710153524 L119.75749081576902,41.30085062919307 A22.023026315789473 22.023026315789473 0.7343349907016697 0 0 105,35.625 Z\" style=\"fill: rgb(31, 119, 180);\"/><title>B → C\n1.00</title></g><g class=\"link\" style=\"opacity: 0.8;\"><path d=\"M0,95 A48.63388157894737 48.63388157894737 0.6330081239458107 0 1 28.77047837073045,104.42273505459275 L90.27937410085666,149.55378862151565 A24.883881578947367 24.883881578947367 0.6330081239458107 0 0 105,154.375 L105,178.125 A48.63388157894737 48.63388157894737 0.6330081239458107 0 1 76.22952162926954,168.70226494540725 L14.720625899143348,123.57121137848435 A24.883881578947367 24.883881578947367 0.6330081239458107 0 0 0,118.75 Z\" style=\"fill: rgb(31, 119, 180);\"/><title>A → D\n1.00</title></g></g><g class=\"nodes\"><g class=\"node\" transform=\"translate(0,71.25)\"><title>A</title><text dy=\".35em\" text-anchor=\"end\" transform=\"translate(-4, 23.75)\">A</text><line x1=\"0\" x2=\"0\" y1=\"0\" y2=\"47.5\" style=\"stroke: rgb(0, 0, 0);\"/><rect x=\"-5\" y=\"-5\" width=\"10\" style=\"fill: none; visibility: hidden; pointer-events: all;\" height=\"52.5\"/></g><g class=\"node\" transform=\"translate(105,11.875)\"><title>B</title><text dy=\".35em\" text-anchor=\"start\" transform=\"translate(-4, -10)\">B</text><line x1=\"0\" x2=\"0\" y1=\"-5\" y2=\"23.75\" style=\"stroke: rgb(0, 0, 0);\"/><rect x=\"-5\" y=\"-5\" width=\"10\" style=\"fill: none; visibility: hidden; pointer-events: all;\" height=\"28.75\"/></g><g class=\"node\" transform=\"translate(210,83.125)\"><title>C</title><text dy=\".35em\" text-anchor=\"start\" transform=\"translate(4, 11.875)\">C</text><line x1=\"0\" x2=\"0\" y1=\"0\" y2=\"23.75\" style=\"stroke: rgb(0, 0, 0);\"/><rect x=\"-5\" y=\"-5\" width=\"10\" style=\"fill: none; visibility: hidden; pointer-events: all;\" height=\"28.75\"/></g><g class=\"node\" transform=\"translate(105,154.375)\"><title>D</title><text dy=\".35em\" text-anchor=\"start\" transform=\"translate(4, 11.875)\">D</text><line x1=\"0\" x2=\"0\" y1=\"0\" y2=\"23.75\" style=\"stroke: rgb(0, 0, 0);\"/><rect x=\"-5\" y=\"-5\" width=\"10\" style=\"fill: none; visibility: hidden; pointer-events: all;\" height=\"28.75\"/></g></g><g class=\"slice-titles\"/></g></svg>"
      }
     },
     "ad2293b48b4a425884152d6f17d8a01e": {
      "model_module": "jupyter-js-widgets",
      "model_module_version": "~2.1.4",
      "model_name": "LayoutModel",
      "state": {
       "_model_module_version": "~2.1.4",
       "_view_module_version": "~2.1.4"
      }
     },
     "aeaa267b8e5e46b4aac6fb68ced250ef": {
      "model_module": "jupyter-sankey-widget",
      "model_module_version": "^0.2.0",
      "model_name": "SankeyModel",
      "state": {
       "_dom_classes": [],
       "_model_module_version": "^0.2.0",
       "_view_module_version": "^0.2.0",
       "layout": "IPY_MODEL_cbab843bd491425d840192553b137437",
       "links": [
        {
         "source": "A",
         "target": "B",
         "value": 1
        },
        {
         "source": "B",
         "target": "C",
         "value": 1
        },
        {
         "source": "C",
         "target": "D",
         "value": 1
        },
        {
         "source": "A",
         "target": "E",
         "value": 0.5
        }
       ],
       "margins": {
        "bottom": 0,
        "left": 30,
        "right": 60,
        "top": 10
       },
       "msg_throttle": 1,
       "nodes": [
        {
         "backwards": true,
         "id": "C"
        },
        {
         "backwards": true,
         "id": "D"
        }
       ],
       "order": [],
       "png": "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",
       "scale": 78,
       "svg": "<?xml version=\"1.0\" standalone=\"no\"?><!DOCTYPE svg PUBLIC \"-//W3C//DTD SVG 1.1//EN\" \"http://www.w3.org/Graphics/SVG/1.1/DTD/svg11.dtd\"><svg xmlns=\"http://www.w3.org/2000/svg\" width=\"600\" height=\"400\" viewBox=\"0 0 600 400\" style=\"font-family: &quot;Helvetica Neue&quot;,Helvetica,Arial,sans-serif;\"><g class=\"sankey\" transform=\"translate(30,10)\"><g class=\"groups\"/><g class=\"links\"><g class=\"link\" style=\"opacity: 0.8;\"><path d=\"M0,117 A695.1980769230769 695.1980769230769 0.13994674697686227 0 1 96.9734456292273,123.7966555123279 L418.4666792863633,169.08463087752227 A656.1980769230769 656.1980769230769 0.13994674697686227 0 0 510,175.5 L510,214.5 A695.1980769230769 695.1980769230769 0.13994674697686227 0 1 413.0265543707727,207.7033444876721 L91.53332071363674,162.41536912247773 A656.1980769230769 656.1980769230769 0.13994674697686227 0 0 0,156 Z\" style=\"fill: rgb(31, 119, 180);\"/><title>A → E\n500m</title></g><g class=\"link\" style=\"opacity: 0.8;\"><path d=\"M0,39 A0 0 0 0 0 0,39 L510,39 A0 0 0 0 0 510,39 L510,117 A0 0 0 0 0 510,117 L0,117 A0 0 0 0 0 0,117 Z\" style=\"fill: rgb(31, 119, 180);\"/><title>A → B\n1.00</title></g><g class=\"link\" style=\"opacity: 0.8;\"><path d=\"M510,39 A83 83 1.5707963267948966 0 1 593,122 L593,268 A83 83 1.5707963267948966 0 1 510,351 L510,273 A5 5 1.5707963267948966 0 0 515,268 L515,122 A5 5 1.5707963267948966 0 0 510,117 Z\" style=\"fill: rgb(31, 119, 180);\"/><title>B → C\n1.00</title></g><g class=\"link\" style=\"opacity: 0.8;\"><path d=\"M0,273 A0 0 0 0 0 0,273 L510,273 A0 0 0 0 0 510,273 L510,351 A0 0 0 0 0 510,351 L0,351 A0 0 0 0 0 0,351 Z\" style=\"fill: rgb(31, 119, 180);\"/><title>C → D\n1.00</title></g></g><g class=\"nodes\"><g class=\"node\" transform=\"translate(510,273)\"><title>C</title><text dy=\".35em\" text-anchor=\"start\" transform=\"translate(-4, -10)\">C</text><line x1=\"0\" x2=\"0\" y1=\"-5\" y2=\"78\" style=\"stroke: rgb(0, 0, 0);\"/><rect x=\"-5\" y=\"-5\" width=\"10\" style=\"fill: none; visibility: hidden; pointer-events: all;\" height=\"83\"/></g><g class=\"node\" transform=\"translate(0,273)\"><title>D</title><text dy=\".35em\" text-anchor=\"start\" transform=\"translate(4, 39)\">D</text><line x1=\"0\" x2=\"0\" y1=\"0\" y2=\"78\" style=\"stroke: rgb(0, 0, 0);\"/><rect x=\"-5\" y=\"-5\" width=\"10\" style=\"fill: none; visibility: hidden; pointer-events: all;\" height=\"83\"/></g><g class=\"node\" transform=\"translate(0,39)\"><title>A</title><text dy=\".35em\" text-anchor=\"end\" transform=\"translate(-4, 58.5)\">A</text><line x1=\"0\" x2=\"0\" y1=\"0\" y2=\"117\" style=\"stroke: rgb(0, 0, 0);\"/><rect x=\"-5\" y=\"-5\" width=\"10\" style=\"fill: none; visibility: hidden; pointer-events: all;\" height=\"122\"/></g><g class=\"node\" transform=\"translate(510,39)\"><title>B</title><text dy=\".35em\" text-anchor=\"start\" transform=\"translate(-4, -10)\">B</text><line x1=\"0\" x2=\"0\" y1=\"-5\" y2=\"78\" style=\"stroke: rgb(0, 0, 0);\"/><rect x=\"-5\" y=\"-5\" width=\"10\" style=\"fill: none; visibility: hidden; pointer-events: all;\" height=\"83\"/></g><g class=\"node\" transform=\"translate(510,175.5)\"><title>E</title><text dy=\".35em\" text-anchor=\"start\" transform=\"translate(4, 19.5)\">E</text><line x1=\"0\" x2=\"0\" y1=\"0\" y2=\"39\" style=\"stroke: rgb(0, 0, 0);\"/><rect x=\"-5\" y=\"-5\" width=\"10\" style=\"fill: none; visibility: hidden; pointer-events: all;\" height=\"44\"/></g></g><g class=\"slice-titles\"/></g></svg>"
      }
     },
     "af1108bdb8ac4fd48eb01fca146bddcb": {
      "model_module": "jupyter-js-widgets",
      "model_module_version": "~2.1.4",
      "model_name": "LayoutModel",
      "state": {
       "_model_module_version": "~2.1.4",
       "_view_module_version": "~2.1.4"
      }
     },
     "b113bacff7544912b81ae6b2a250877f": {
      "model_module": "jupyter-js-widgets",
      "model_module_version": "~2.1.4",
      "model_name": "LayoutModel",
      "state": {
       "_model_module_version": "~2.1.4",
       "_view_module_version": "~2.1.4"
      }
     },
     "b61fa81437ee42f282d723a26fb3f1fa": {
      "model_module": "jupyter-sankey-widget",
      "model_module_version": "^0.2.0",
      "model_name": "SankeyModel",
      "state": {
       "_dom_classes": [],
       "_model_module_version": "^0.2.0",
       "_view_module_version": "^0.2.0",
       "layout": "IPY_MODEL_ad2293b48b4a425884152d6f17d8a01e",
       "links": [
        {
         "source": "A",
         "target": "B",
         "value": 1
        },
        {
         "source": "B",
         "target": "C",
         "value": 1
        },
        {
         "source": "A",
         "target": "D",
         "value": 1
        }
       ],
       "margins": {
        "bottom": 0,
        "left": 30,
        "right": 60,
        "top": 10
       },
       "msg_throttle": 1,
       "order": [
        [
         "A"
        ],
        [
         "D",
         "B"
        ],
        [
         "C"
        ]
       ],
       "png": "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",
       "scale": 97.5,
       "svg": "<?xml version=\"1.0\" standalone=\"no\"?><!DOCTYPE svg PUBLIC \"-//W3C//DTD SVG 1.1//EN\" \"http://www.w3.org/Graphics/SVG/1.1/DTD/svg11.dtd\"><svg xmlns=\"http://www.w3.org/2000/svg\" width=\"600\" height=\"400\" viewBox=\"0 0 600 400\" style=\"font-family: &quot;Helvetica Neue&quot;,Helvetica,Arial,sans-serif;\"><g class=\"sankey\" transform=\"translate(30,10)\"><g class=\"groups\"/><g class=\"links\"><g class=\"link\" style=\"opacity: 0.8;\"><path d=\"M0,195 A219.2906849386106 219.2906849386106 0.28056078595397227 0 1 60.720395848146595,203.57419761763856 L217.45129838728172,248.73802207584174 A121.79068493861061 121.79068493861061 0.28056078595397227 0 0 251.1744754668717,253.5 L251.1744754668717,351 A219.2906849386106 219.2906849386106 0.28056078595397227 0 1 190.45407961872513,342.42580238236144 L33.72317707958999,297.26197792415826 A121.79068493861061 121.79068493861061 0.28056078595397227 0 0 0,292.5 Z\" style=\"fill: rgb(31, 119, 180);\"/><title>A → B\n1.00</title></g><g class=\"link\" style=\"opacity: 0.8;\"><path d=\"M251.1744754668717,253.5 A61.03071978999856 61.03071978999856 0.4823754155861175 0 0 279.48570190288126,246.53612047068538 L436.46000046400013,164.33906790075247 A158.53071978999856 158.53071978999856 0.4823754155861175 0 1 510,146.25 L510,243.75 A61.03071978999856 61.03071978999856 0.4823754155861175 0 0 481.6887735639905,250.71387952931462 L324.7144750028716,332.91093209924753 A158.53071978999856 158.53071978999856 0.4823754155861175 0 1 251.1744754668717,351 Z\" style=\"fill: rgb(31, 119, 180);\"/><title>B → C\n1.00</title></g><g class=\"link\" style=\"opacity: 0.8;\"><path d=\"M0,97.5 A121.79068493861061 121.79068493861061 0.28056078595397227 0 0 33.72317707958999,92.73802207584176 L190.45407961872513,47.57419761763859 A219.2906849386106 219.2906849386106 0.28056078595397227 0 1 251.1744754668717,39 L251.1744754668717,136.5 A121.79068493861061 121.79068493861061 0.28056078595397227 0 0 217.45129838728172,141.26197792415826 L60.720395848146595,186.42580238236144 A219.2906849386106 219.2906849386106 0.28056078595397227 0 1 0,195 Z\" style=\"fill: rgb(31, 119, 180);\"/><title>A → D\n1.00</title></g></g><g class=\"nodes\"><g class=\"node\" transform=\"translate(0,97.5)\"><title>A</title><text dy=\".35em\" text-anchor=\"end\" transform=\"translate(-4, 97.5)\">A</text><line x1=\"0\" x2=\"0\" y1=\"0\" y2=\"195\" style=\"stroke: rgb(0, 0, 0);\"/><rect x=\"-5\" y=\"-5\" width=\"10\" style=\"fill: none; visibility: hidden; pointer-events: all;\" height=\"200\"/></g><g class=\"node\" transform=\"translate(251.1744754668717,253.5)\"><title>B</title><text dy=\".35em\" text-anchor=\"start\" transform=\"translate(-4, -10)\">B</text><line x1=\"0\" x2=\"0\" y1=\"-5\" y2=\"97.5\" style=\"stroke: rgb(0, 0, 0);\"/><rect x=\"-5\" y=\"-5\" width=\"10\" style=\"fill: none; visibility: hidden; pointer-events: all;\" height=\"102.5\"/></g><g class=\"node\" transform=\"translate(510,146.25)\"><title>C</title><text dy=\".35em\" text-anchor=\"start\" transform=\"translate(4, 48.75)\">C</text><line x1=\"0\" x2=\"0\" y1=\"0\" y2=\"97.5\" style=\"stroke: rgb(0, 0, 0);\"/><rect x=\"-5\" y=\"-5\" width=\"10\" style=\"fill: none; visibility: hidden; pointer-events: all;\" height=\"102.5\"/></g><g class=\"node\" transform=\"translate(251.1744754668717,39)\"><title>D</title><text dy=\".35em\" text-anchor=\"start\" transform=\"translate(4, 48.75)\">D</text><line x1=\"0\" x2=\"0\" y1=\"0\" y2=\"97.5\" style=\"stroke: rgb(0, 0, 0);\"/><rect x=\"-5\" y=\"-5\" width=\"10\" style=\"fill: none; visibility: hidden; pointer-events: all;\" height=\"102.5\"/></g></g><g class=\"slice-titles\"/></g></svg>"
      }
     },
     "b663f470f1964d418864a8e024d79068": {
      "model_module": "jupyter-js-widgets",
      "model_module_version": "~2.1.4",
      "model_name": "LayoutModel",
      "state": {
       "_model_module_version": "~2.1.4",
       "_view_module_version": "~2.1.4"
      }
     },
     "b6ea52ef66564cd483215eb11effee4b": {
      "model_module": "jupyter-sankey-widget",
      "model_module_version": "^0.2.0",
      "model_name": "SankeyModel",
      "state": {
       "_dom_classes": [],
       "_model_module_version": "^0.2.0",
       "_view_module_version": "^0.2.0",
       "layout": "IPY_MODEL_c73fa803acc84ec5b02a59f6a6f7bbf0",
       "links": [
        {
         "source": "A",
         "target": "B",
         "value": 1
        },
        {
         "source": "B",
         "target": "C",
         "value": 1
        },
        {
         "source": "A",
         "target": "D",
         "value": 1
        }
       ],
       "margins": {
        "bottom": 0,
        "left": 30,
        "right": 60,
        "top": 10
       },
       "msg_throttle": 1,
       "order": [],
       "png": "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",
       "rank_sets": [
        {
         "nodes": [
          "C",
          "D"
         ],
         "type": "same"
        }
       ],
       "scale": 97.5,
       "svg": "<?xml version=\"1.0\" standalone=\"no\"?><!DOCTYPE svg PUBLIC \"-//W3C//DTD SVG 1.1//EN\" \"http://www.w3.org/Graphics/SVG/1.1/DTD/svg11.dtd\"><svg xmlns=\"http://www.w3.org/2000/svg\" width=\"600\" height=\"400\" viewBox=\"0 0 600 400\" style=\"font-family: &quot;Helvetica Neue&quot;,Helvetica,Arial,sans-serif;\"><g class=\"sankey\" transform=\"translate(30,10)\"><g class=\"groups\"/><g class=\"links\"><g class=\"link\" style=\"opacity: 0.8;\"><path d=\"M0,97.5 A134.26633673629226 134.26633673629226 0.27065085586637094 0 0 35.89726734804769,92.61231442967954 L198.71537670892036,47.436969439159604 A231.76633673629226 231.76633673629226 0.27065085586637094 0 1 260.6801130258194,39 L260.6801130258194,136.5 A134.26633673629226 134.26633673629226 0.27065085586637094 0 0 224.78284567777172,141.38768557032046 L61.96473631689908,186.5630305608404 A231.76633673629226 231.76633673629226 0.27065085586637094 0 1 0,195 Z\" style=\"fill: rgb(31, 119, 180);\"/><title>A → B\n1.00</title></g><g class=\"link\" style=\"opacity: 0.8;\"><path d=\"M260.6801130258194,39 A0 0 0 0 0 260.6801130258194,39 L510,39 A0 0 0 0 0 510,39 L510,136.5 A0 0 0 0 0 510,136.5 L260.6801130258194,136.5 A0 0 0 0 0 260.6801130258194,136.5 Z\" style=\"fill: rgb(31, 119, 180);\"/><title>B → C\n1.00</title></g><g class=\"link\" style=\"opacity: 0.8;\"><path d=\"M0,195 A231.76633673629226 231.76633673629226 0.25289632357617897 0 1 57.99007005502384,202.372070724048 L251.1362906223069,252.28672790583477 A38.14337100860648 38.14337100860648 0.25289632357617897 0 0 260.6801130258194,253.5 L260.6801130258194,351 A135.6433710086065 135.6433710086065 0.25289632357617897 0 1 226.7408934736775,346.6854280979489 L33.59467290639444,296.7707709161621 A134.26633673629226 134.26633673629226 0.25289632357617897 0 0 0,292.5 ZM260.6801130258194,253.5 A0 0 0 0 0 260.6801130258194,253.5 L510,253.5 A0 0 0 0 0 510,253.5 L510,351 A0 0 0 0 0 510,351 L260.6801130258194,351 A0 0 0 0 0 260.6801130258194,351 Z\" style=\"fill: rgb(31, 119, 180);\"/><title>A → D\n1.00</title></g></g><g class=\"nodes\"><g class=\"node\" transform=\"translate(0,97.5)\"><title>A</title><text dy=\".35em\" text-anchor=\"end\" transform=\"translate(-4, 97.5)\">A</text><line x1=\"0\" x2=\"0\" y1=\"0\" y2=\"195\" style=\"stroke: rgb(0, 0, 0);\"/><rect x=\"-5\" y=\"-5\" width=\"10\" style=\"fill: none; visibility: hidden; pointer-events: all;\" height=\"200\"/></g><g class=\"node\" transform=\"translate(260.6801130258194,39)\"><title>B</title><text dy=\".35em\" text-anchor=\"start\" transform=\"translate(-4, -10)\">B</text><line x1=\"0\" x2=\"0\" y1=\"-5\" y2=\"97.5\" style=\"stroke: rgb(0, 0, 0);\"/><rect x=\"-5\" y=\"-5\" width=\"10\" style=\"fill: none; visibility: hidden; pointer-events: all;\" height=\"102.5\"/></g><g class=\"node\" transform=\"translate(510,39)\"><title>C</title><text dy=\".35em\" text-anchor=\"start\" transform=\"translate(4, 48.75)\">C</text><line x1=\"0\" x2=\"0\" y1=\"0\" y2=\"97.5\" style=\"stroke: rgb(0, 0, 0);\"/><rect x=\"-5\" y=\"-5\" width=\"10\" style=\"fill: none; visibility: hidden; pointer-events: all;\" height=\"102.5\"/></g><g class=\"node\" transform=\"translate(510,253.5)\"><title>D</title><text dy=\".35em\" text-anchor=\"start\" transform=\"translate(4, 48.75)\">D</text><line x1=\"0\" x2=\"0\" y1=\"0\" y2=\"97.5\" style=\"stroke: rgb(0, 0, 0);\"/><rect x=\"-5\" y=\"-5\" width=\"10\" style=\"fill: none; visibility: hidden; pointer-events: all;\" height=\"102.5\"/></g></g><g class=\"slice-titles\"/></g></svg>"
      }
     },
     "b7679df170db4630952f61ecad95051f": {
      "model_module": "jupyter-sankey-widget",
      "model_module_version": "^0.2.0",
      "model_name": "SankeyModel",
      "state": {
       "_dom_classes": [],
       "_model_module_version": "^0.2.0",
       "_view_module_version": "^0.2.0",
       "layout": "IPY_MODEL_918c2d53b8df4c6b932133cdb78b2959",
       "links": [
        {
         "source": "A",
         "target": "B",
         "value": 1
        },
        {
         "source": "B",
         "target": "C",
         "value": 1
        },
        {
         "source": "C",
         "target": "D",
         "value": 1
        },
        {
         "source": "A",
         "target": "E",
         "value": 0.5
        }
       ],
       "margins": {
        "bottom": 0,
        "left": 30,
        "right": 60,
        "top": 10
       },
       "msg_throttle": 1,
       "nodes": [
        {
         "backwards": true,
         "id": "C"
        },
        {
         "backwards": true,
         "id": "D"
        }
       ],
       "order": [],
       "png": "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",
       "scale": 38,
       "svg": "<?xml version=\"1.0\" standalone=\"no\"?><!DOCTYPE svg PUBLIC \"-//W3C//DTD SVG 1.1//EN\" \"http://www.w3.org/Graphics/SVG/1.1/DTD/svg11.dtd\"><svg xmlns=\"http://www.w3.org/2000/svg\" width=\"300\" height=\"200\" viewBox=\"0 0 300 200\" style=\"font-family: &quot;Helvetica Neue&quot;,Helvetica,Arial,sans-serif;\"><g class=\"sankey\" transform=\"translate(30,10)\"><g class=\"groups\"/><g class=\"links\"><g class=\"link\" style=\"opacity: 0.8;\"><path d=\"M0,57 A245.88026315789475 245.88026315789475 0.16530423219410584 0 1 40.4601932192753,60.35175643084115 L172.66630282922037,82.40724513100885 A226.88026315789475 226.88026315789475 0.16530423219410584 0 0 210,85.5 L210,104.5 A245.88026315789475 245.88026315789475 0.16530423219410584 0 1 169.53980678072472,101.14824356915885 L37.333697170779644,79.09275486899115 A226.88026315789475 226.88026315789475 0.16530423219410584 0 0 0,76 Z\" style=\"fill: rgb(31, 119, 180);\"/><title>A → E\n500m</title></g><g class=\"link\" style=\"opacity: 0.8;\"><path d=\"M0,19 A0 0 0 0 0 0,19 L210,19 A0 0 0 0 0 210,19 L210,57 A0 0 0 0 0 210,57 L0,57 A0 0 0 0 0 0,57 Z\" style=\"fill: rgb(31, 119, 180);\"/><title>A → B\n1.00</title></g><g class=\"link\" style=\"opacity: 0.8;\"><path d=\"M210,19 A43 43 1.5707963267948966 0 1 253,62 L253,128 A43 43 1.5707963267948966 0 1 210,171 L210,133 A5 5 1.5707963267948966 0 0 215,128 L215,62 A5 5 1.5707963267948966 0 0 210,57 Z\" style=\"fill: rgb(31, 119, 180);\"/><title>B → C\n1.00</title></g><g class=\"link\" style=\"opacity: 0.8;\"><path d=\"M0,133 A0 0 0 0 0 0,133 L210,133 A0 0 0 0 0 210,133 L210,171 A0 0 0 0 0 210,171 L0,171 A0 0 0 0 0 0,171 Z\" style=\"fill: rgb(31, 119, 180);\"/><title>C → D\n1.00</title></g></g><g class=\"nodes\"><g class=\"node\" transform=\"translate(210,133)\"><title>C</title><text dy=\".35em\" text-anchor=\"start\" transform=\"translate(-4, -10)\">C</text><line x1=\"0\" x2=\"0\" y1=\"-5\" y2=\"38\" style=\"stroke: rgb(0, 0, 0);\"/><rect x=\"-5\" y=\"-5\" width=\"10\" style=\"fill: none; visibility: hidden; pointer-events: all;\" height=\"43\"/></g><g class=\"node\" transform=\"translate(0,133)\"><title>D</title><text dy=\".35em\" text-anchor=\"start\" transform=\"translate(4, 19)\">D</text><line x1=\"0\" x2=\"0\" y1=\"0\" y2=\"38\" style=\"stroke: rgb(0, 0, 0);\"/><rect x=\"-5\" y=\"-5\" width=\"10\" style=\"fill: none; visibility: hidden; pointer-events: all;\" height=\"43\"/></g><g class=\"node\" transform=\"translate(0,19)\"><title>A</title><text dy=\".35em\" text-anchor=\"end\" transform=\"translate(-4, 28.5)\">A</text><line x1=\"0\" x2=\"0\" y1=\"0\" y2=\"57\" style=\"stroke: rgb(0, 0, 0);\"/><rect x=\"-5\" y=\"-5\" width=\"10\" style=\"fill: none; visibility: hidden; pointer-events: all;\" height=\"62\"/></g><g class=\"node\" transform=\"translate(210,19)\"><title>B</title><text dy=\".35em\" text-anchor=\"start\" transform=\"translate(-4, -10)\">B</text><line x1=\"0\" x2=\"0\" y1=\"-5\" y2=\"38\" style=\"stroke: rgb(0, 0, 0);\"/><rect x=\"-5\" y=\"-5\" width=\"10\" style=\"fill: none; visibility: hidden; pointer-events: all;\" height=\"43\"/></g><g class=\"node\" transform=\"translate(210,85.5)\"><title>E</title><text dy=\".35em\" text-anchor=\"start\" transform=\"translate(4, 9.5)\">E</text><line x1=\"0\" x2=\"0\" y1=\"0\" y2=\"19\" style=\"stroke: rgb(0, 0, 0);\"/><rect x=\"-5\" y=\"-5\" width=\"10\" style=\"fill: none; visibility: hidden; pointer-events: all;\" height=\"24\"/></g></g><g class=\"slice-titles\"/></g></svg>"
      }
     },
     "b8f4ccbd323f488fb0ee315cc0062830": {
      "model_module": "jupyter-sankey-widget",
      "model_module_version": "^0.2.0",
      "model_name": "SankeyModel",
      "state": {
       "_dom_classes": [],
       "_model_module_version": "^0.2.0",
       "_view_module_version": "^0.2.0",
       "align_link_types": true,
       "layout": "IPY_MODEL_918c2d53b8df4c6b932133cdb78b2959",
       "links": [
        {
         "source": "A1",
         "target": "B",
         "type": "x",
         "value": 1.5
        },
        {
         "source": "A1",
         "target": "B",
         "type": "y",
         "value": 0.5
        },
        {
         "source": "A2",
         "target": "B",
         "type": "x",
         "value": 0.5
        },
        {
         "source": "A2",
         "target": "B",
         "type": "y",
         "value": 1.5
        },
        {
         "source": "B",
         "target": "C",
         "type": "x",
         "value": 2
        },
        {
         "source": "B",
         "target": "C",
         "type": "y",
         "value": 2
        }
       ],
       "margins": {
        "bottom": 0,
        "left": 30,
        "right": 60,
        "top": 10
       },
       "msg_throttle": 1,
       "order": [
        [
         "A2",
         "A1"
        ],
        [
         "B"
        ],
        [
         "C"
        ]
       ],
       "png": "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",
       "scale": 23.75,
       "svg": "<?xml version=\"1.0\" standalone=\"no\"?><!DOCTYPE svg PUBLIC \"-//W3C//DTD SVG 1.1//EN\" \"http://www.w3.org/Graphics/SVG/1.1/DTD/svg11.dtd\"><svg xmlns=\"http://www.w3.org/2000/svg\" width=\"300\" height=\"200\" viewBox=\"0 0 300 200\" style=\"font-family: &quot;Helvetica Neue&quot;,Helvetica,Arial,sans-serif;\"><g class=\"sankey\" transform=\"translate(30,10)\"><g class=\"groups\"/><g class=\"links\"><g class=\"link\" style=\"opacity: 0.8;\"><path d=\"M0,159.125 A77.72123766447369 77.72123766447369 0.25306827522518294 0 0 19.459507730729978,156.64948210067485 L117.45533209577687,131.30650567938838 A21.396518640350877 21.396518640350877 0.25306827522518294 0 1 122.8125,130.625 L122.8125,142.5 A9.521518640350877 9.521518640350877 0.25306827522518294 0 0 120.42854329578387,142.80327218828788 L22.43271893073697,168.14624860957434 A89.59623766447369 89.59623766447369 0.25306827522518294 0 1 0,171 Z\" style=\"fill: rgb(174, 199, 232);\"/><title>A1 → B\n500m</title></g><g class=\"link\" style=\"opacity: 0.8;\"><path d=\"M0,19 A89.59623766447369 89.59623766447369 0.27957664378928837 0 1 24.723970238161634,22.478811441372063 L101.36542122772394,44.48226691351374 A77.72123766447369 77.72123766447369 0.27957664378928837 0 0 122.8125,47.5 L122.8125,59.375 A89.59623766447369 89.59623766447369 0.27957664378928837 0 1 98.08852976183837,55.89618855862794 L21.447078772276058,33.89273308648626 A77.72123766447369 77.72123766447369 0.27957664378928837 0 0 0,30.875 Z\" style=\"fill: rgb(31, 119, 180);\"/><title>A2 → B\n500m</title></g><g class=\"link\" style=\"opacity: 0.8;\"><path d=\"M0,123.5 A27.087911184210526 27.087911184210526 0.6680873534090849 0 0 16.780573032680792,117.67631466623001 L65.41930856136892,79.29326420876473 A92.64651864035088 92.64651864035088 0.6680873534090849 0 1 122.8125,59.375 L122.8125,95 A57.02151864035088 57.02151864035088 0.6680873534090849 0 0 87.48848584949124,107.25917271940367 L38.849750320803096,145.64222317686895 A62.712911184210526 62.712911184210526 0.6680873534090849 0 1 0,159.125 Z\" style=\"fill: rgb(31, 119, 180);\"/><title>A1 → B\n1.50</title></g><g class=\"link\" style=\"opacity: 0.8;\"><path d=\"M0,30.875 A62.712911184210526 62.712911184210526 0.5809703016644223 0 1 34.41905941034765,41.16427549852352 L111.06933527760921,91.48948404973275 A21.396518640350877 21.396518640350877 0.5809703016644223 0 0 122.8125,95 L122.8125,130.625 A57.02151864035088 57.02151864035088 0.5809703016644223 0 1 91.51707772267122,121.26950838661621 L14.866801855409667,70.94429983540697 A27.087911184210526 27.087911184210526 0.5809703016644223 0 0 0,66.5 Z\" style=\"fill: rgb(174, 199, 232);\"/><title>A2 → B\n1.50</title></g><g class=\"link\" style=\"opacity: 0.8;\"><path d=\"M122.8125,47.5 A0 0 0 0 0 122.8125,47.5 L210,47.5 A0 0 0 0 0 210,47.5 L210,95 A0 0 0 0 0 210,95 L122.8125,95 A0 0 0 0 0 122.8125,95 Z\" style=\"fill: rgb(31, 119, 180);\"/><title>B → C\n2.00</title></g><g class=\"link\" style=\"opacity: 0.8;\"><path d=\"M122.8125,95 A0 0 0 0 0 122.8125,95 L210,95 A0 0 0 0 0 210,95 L210,142.5 A0 0 0 0 0 210,142.5 L122.8125,142.5 A0 0 0 0 0 122.8125,142.5 Z\" style=\"fill: rgb(174, 199, 232);\"/><title>B → C\n2.00</title></g></g><g class=\"nodes\"><g class=\"node\" transform=\"translate(0,123.5)\"><title>A1</title><text dy=\".35em\" text-anchor=\"end\" transform=\"translate(-4, 23.75)\">A1</text><line x1=\"0\" x2=\"0\" y1=\"0\" y2=\"47.5\" style=\"stroke: rgb(0, 0, 0);\"/><rect x=\"-5\" y=\"-5\" width=\"10\" style=\"fill: none; visibility: hidden; pointer-events: all;\" height=\"52.5\"/></g><g class=\"node\" transform=\"translate(122.8125,47.5)\"><title>B</title><text dy=\".35em\" text-anchor=\"start\" transform=\"translate(-4, -10)\">B</text><line x1=\"0\" x2=\"0\" y1=\"-5\" y2=\"95\" style=\"stroke: rgb(0, 0, 0);\"/><rect x=\"-5\" y=\"-5\" width=\"10\" style=\"fill: none; visibility: hidden; pointer-events: all;\" height=\"100\"/></g><g class=\"node\" transform=\"translate(0,19)\"><title>A2</title><text dy=\".35em\" text-anchor=\"end\" transform=\"translate(-4, 23.75)\">A2</text><line x1=\"0\" x2=\"0\" y1=\"0\" y2=\"47.5\" style=\"stroke: rgb(0, 0, 0);\"/><rect x=\"-5\" y=\"-5\" width=\"10\" style=\"fill: none; visibility: hidden; pointer-events: all;\" height=\"52.5\"/></g><g class=\"node\" transform=\"translate(210,47.5)\"><title>C</title><text dy=\".35em\" text-anchor=\"start\" transform=\"translate(4, 47.5)\">C</text><line x1=\"0\" x2=\"0\" y1=\"0\" y2=\"95\" style=\"stroke: rgb(0, 0, 0);\"/><rect x=\"-5\" y=\"-5\" width=\"10\" style=\"fill: none; visibility: hidden; pointer-events: all;\" height=\"100\"/></g></g><g class=\"slice-titles\"/></g></svg>"
      }
     },
     "b947e7ff6fce435899512da119b9bfbd": {
      "model_module": "jupyter-sankey-widget",
      "model_module_version": "^0.2.0",
      "model_name": "SankeyModel",
      "state": {
       "_dom_classes": [],
       "_model_module_version": "^0.2.0",
       "_view_module_version": "^0.2.0",
       "layout": "IPY_MODEL_f6d001d275cb4fb885aaf4bd236a2f03",
       "links": [
        {
         "source": "A",
         "target": "B",
         "value": 1
        },
        {
         "source": "B",
         "target": "C",
         "value": 1
        },
        {
         "source": "A",
         "target": "D",
         "value": 1
        }
       ],
       "margins": {
        "bottom": 0,
        "left": 30,
        "right": 60,
        "top": 10
       },
       "msg_throttle": 1,
       "order": [
        [
         [],
         [
          "A"
         ],
         []
        ],
        [
         [
          "B"
         ],
         [],
         [
          "D"
         ]
        ],
        [
         [],
         [
          "C"
         ],
         []
        ]
       ],
       "png": "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",
       "scale": 48.75,
       "svg": "<?xml version=\"1.0\" standalone=\"no\"?><!DOCTYPE svg PUBLIC \"-//W3C//DTD SVG 1.1//EN\" \"http://www.w3.org/Graphics/SVG/1.1/DTD/svg11.dtd\"><svg xmlns=\"http://www.w3.org/2000/svg\" width=\"600\" height=\"400\" viewBox=\"0 0 600 400\" style=\"font-family: &quot;Helvetica Neue&quot;,Helvetica,Arial,sans-serif;\"><g class=\"sankey\" transform=\"translate(30,10)\"><g class=\"groups\"/><g class=\"links\"><g class=\"link\" style=\"opacity: 0.8;\"><path d=\"M0,146.25 A73.93701923076922 73.93701923076922 0.547834655045043 0 0 38.509356751176824,135.4296366957113 L191.09969347628203,42.329715169863434 A122.68701923076922 122.68701923076922 0.547834655045043 0 1 255,24.375 L255,73.125 A73.93701923076922 73.93701923076922 0.547834655045043 0 0 216.49064324882318,83.94536330428869 L63.90030652371797,177.04528483013658 A122.68701923076922 122.68701923076922 0.547834655045043 0 1 0,195 Z\" style=\"fill: rgb(31, 119, 180);\"/><title>A → B\n1.00</title></g><g class=\"link\" style=\"opacity: 0.8;\"><path d=\"M255,24.375 A113.0048076923077 113.0048076923077 0.640549005446113 0 1 322.5357080582526,46.77619463716558 L471.59903262290806,157.88762640605324 A64.2548076923077 64.2548076923077 0.640549005446113 0 0 510,170.625 L510,219.375 A113.0048076923077 113.0048076923077 0.640549005446113 0 1 442.4642919417474,196.9738053628344 L293.40096737709194,85.86237359394673 A64.2548076923077 64.2548076923077 0.640549005446113 0 0 255,73.125 Z\" style=\"fill: rgb(31, 119, 180);\"/><title>B → C\n1.00</title></g><g class=\"link\" style=\"opacity: 0.8;\"><path d=\"M0,195 A122.68701923076922 122.68701923076922 0.547834655045043 0 1 63.90030652371797,212.95471516986342 L216.49064324882318,306.05463669571134 A73.93701923076922 73.93701923076922 0.547834655045043 0 0 255,316.875 L255,365.625 A122.68701923076922 122.68701923076922 0.547834655045043 0 1 191.09969347628203,347.67028483013655 L38.509356751176824,254.5703633042887 A73.93701923076922 73.93701923076922 0.547834655045043 0 0 0,243.75 Z\" style=\"fill: rgb(31, 119, 180);\"/><title>A → D\n1.00</title></g></g><g class=\"nodes\"><g class=\"node\" transform=\"translate(0,146.25)\"><title>A</title><text dy=\".35em\" text-anchor=\"end\" transform=\"translate(-4, 48.75)\">A</text><line x1=\"0\" x2=\"0\" y1=\"0\" y2=\"97.5\" style=\"stroke: rgb(0, 0, 0);\"/><rect x=\"-5\" y=\"-5\" width=\"10\" style=\"fill: none; visibility: hidden; pointer-events: all;\" height=\"102.5\"/></g><g class=\"node\" transform=\"translate(255,24.375)\"><title>B</title><text dy=\".35em\" text-anchor=\"start\" transform=\"translate(-4, -10)\">B</text><line x1=\"0\" x2=\"0\" y1=\"-5\" y2=\"48.75\" style=\"stroke: rgb(0, 0, 0);\"/><rect x=\"-5\" y=\"-5\" width=\"10\" style=\"fill: none; visibility: hidden; pointer-events: all;\" height=\"53.75\"/></g><g class=\"node\" transform=\"translate(510,170.625)\"><title>C</title><text dy=\".35em\" text-anchor=\"start\" transform=\"translate(4, 24.375)\">C</text><line x1=\"0\" x2=\"0\" y1=\"0\" y2=\"48.75\" style=\"stroke: rgb(0, 0, 0);\"/><rect x=\"-5\" y=\"-5\" width=\"10\" style=\"fill: none; visibility: hidden; pointer-events: all;\" height=\"53.75\"/></g><g class=\"node\" transform=\"translate(255,316.875)\"><title>D</title><text dy=\".35em\" text-anchor=\"start\" transform=\"translate(4, 24.375)\">D</text><line x1=\"0\" x2=\"0\" y1=\"0\" y2=\"48.75\" style=\"stroke: rgb(0, 0, 0);\"/><rect x=\"-5\" y=\"-5\" width=\"10\" style=\"fill: none; visibility: hidden; pointer-events: all;\" height=\"53.75\"/></g></g><g class=\"slice-titles\"/></g></svg>"
      }
     },
     "b9c36304780844bab85ae974f95821d5": {
      "model_module": "jupyter-sankey-widget",
      "model_module_version": "^0.2.0",
      "model_name": "SankeyModel",
      "state": {
       "_dom_classes": [],
       "_model_module_version": "^0.2.0",
       "_view_module_version": "^0.2.0",
       "layout": "IPY_MODEL_73d879c5e19d4280945904f358b1ad45",
       "links": [
        {
         "source": "A",
         "target": "B",
         "value": 1
        },
        {
         "source": "B",
         "target": "C",
         "value": 1
        },
        {
         "source": "C",
         "target": "D",
         "value": 1
        },
        {
         "source": "A",
         "target": "E",
         "value": 0.5
        }
       ],
       "margins": {
        "bottom": 0,
        "left": 30,
        "right": 60,
        "top": 10
       },
       "msg_throttle": 1,
       "nodes": [
        {
         "backwards": false,
         "id": "C"
        },
        {
         "backwards": true,
         "id": "D"
        }
       ],
       "order": [],
       "png": "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",
       "scale": 47.5,
       "svg": "<?xml version=\"1.0\" standalone=\"no\"?><!DOCTYPE svg PUBLIC \"-//W3C//DTD SVG 1.1//EN\" \"http://www.w3.org/Graphics/SVG/1.1/DTD/svg11.dtd\"><svg xmlns=\"http://www.w3.org/2000/svg\" width=\"300\" height=\"200\" viewBox=\"0 0 300 200\" style=\"font-family: &quot;Helvetica Neue&quot;,Helvetica,Arial,sans-serif;\"><g class=\"sankey\" transform=\"translate(30,10)\"><g class=\"groups\"/><g class=\"links\"><g class=\"link\" style=\"opacity: 0.8;\"><path d=\"M0,106.875 A79.25920976017211 79.25920976017211 0.37353610808934956 0 1 28.922476215236784,112.34049253854121 L108.22542810074206,143.42224076946334 A55.50920976017211 55.50920976017211 0.37353610808934956 0 0 128.48129242077616,147.25 L128.48129242077616,171 A79.25920976017211 79.25920976017211 0.37353610808934956 0 1 99.55881620553937,165.5345074614588 L20.255864320034085,134.45275923053666 A55.50920976017211 55.50920976017211 0.37353610808934956 0 0 0,130.625 Z\" style=\"fill: rgb(31, 119, 180);\"/><title>A → E\n500m</title></g><g class=\"link\" style=\"opacity: 0.8;\"><path d=\"M0,59.375 A43.63420976017211 43.63420976017211 0.37353610808934956 0 0 15.922558372432734,56.36610742346562 L95.22551025793801,25.28435919254349 A91.13420976017211 91.13420976017211 0.37353610808934956 0 1 128.48129242077616,19 L128.48129242077616,66.5 A43.63420976017211 43.63420976017211 0.37353610808934956 0 0 112.55873404834342,69.50889257653438 L33.25578216283814,100.59064080745651 A91.13420976017211 91.13420976017211 0.37353610808934956 0 1 0,106.875 Z\" style=\"fill: rgb(31, 119, 180);\"/><title>A → B\n1.00</title></g><g class=\"link\" style=\"opacity: 0.8;\"><path d=\"M128.48129242077616,19 A0 0 0 0 0 128.48129242077616,19 L210,19 A0 0 0 0 0 210,19 L210,66.5 A0 0 0 0 0 210,66.5 L128.48129242077616,66.5 A0 0 0 0 0 128.48129242077616,66.5 Z\" style=\"fill: rgb(31, 119, 180);\"/><title>B → C\n1.00</title></g><g class=\"link\" style=\"opacity: 0.8;\"><path d=\"M210,19 A52.5 52.5 1.5707963267948966 0 1 262.5,71.5 L262.5,118.5 A52.5 52.5 1.5707963267948966 0 1 210,171 L210,123.5 A5 5 1.5707963267948966 0 0 215,118.5 L215,71.5 A5 5 1.5707963267948966 0 0 210,66.5 Z\" style=\"fill: rgb(31, 119, 180);\"/><title>C → D\n1.00</title></g></g><g class=\"nodes\"><g class=\"node\" transform=\"translate(210,19)\"><title>C</title><text dy=\".35em\" text-anchor=\"start\" transform=\"translate(-4, -10)\">C</text><line x1=\"0\" x2=\"0\" y1=\"-5\" y2=\"47.5\" style=\"stroke: rgb(0, 0, 0);\"/><rect x=\"-5\" y=\"-5\" width=\"10\" style=\"fill: none; visibility: hidden; pointer-events: all;\" height=\"52.5\"/></g><g class=\"node\" transform=\"translate(210,123.5)\"><title>D</title><text dy=\".35em\" text-anchor=\"start\" transform=\"translate(4, 23.75)\">D</text><line x1=\"0\" x2=\"0\" y1=\"0\" y2=\"47.5\" style=\"stroke: rgb(0, 0, 0);\"/><rect x=\"-5\" y=\"-5\" width=\"10\" style=\"fill: none; visibility: hidden; pointer-events: all;\" height=\"52.5\"/></g><g class=\"node\" transform=\"translate(0,59.375)\"><title>A</title><text dy=\".35em\" text-anchor=\"end\" transform=\"translate(-4, 35.625)\">A</text><line x1=\"0\" x2=\"0\" y1=\"0\" y2=\"71.25\" style=\"stroke: rgb(0, 0, 0);\"/><rect x=\"-5\" y=\"-5\" width=\"10\" style=\"fill: none; visibility: hidden; pointer-events: all;\" height=\"76.25\"/></g><g class=\"node\" transform=\"translate(128.48129242077616,19)\"><title>B</title><text dy=\".35em\" text-anchor=\"start\" transform=\"translate(-4, -10)\">B</text><line x1=\"0\" x2=\"0\" y1=\"-5\" y2=\"47.5\" style=\"stroke: rgb(0, 0, 0);\"/><rect x=\"-5\" y=\"-5\" width=\"10\" style=\"fill: none; visibility: hidden; pointer-events: all;\" height=\"52.5\"/></g><g class=\"node\" transform=\"translate(128.48129242077616,147.25)\"><title>E</title><text dy=\".35em\" text-anchor=\"start\" transform=\"translate(4, 11.875)\">E</text><line x1=\"0\" x2=\"0\" y1=\"0\" y2=\"23.75\" style=\"stroke: rgb(0, 0, 0);\"/><rect x=\"-5\" y=\"-5\" width=\"10\" style=\"fill: none; visibility: hidden; pointer-events: all;\" height=\"28.75\"/></g></g><g class=\"slice-titles\"/></g></svg>"
      }
     },
     "bd1c073b093f4a0390438f9abd6b466d": {
      "model_module": "jupyter-sankey-widget",
      "model_module_version": "^0.2.0",
      "model_name": "SankeyModel",
      "state": {
       "_dom_classes": [],
       "_model_module_version": "^0.2.0",
       "_view_module_version": "^0.2.0",
       "layout": "IPY_MODEL_73d879c5e19d4280945904f358b1ad45",
       "links": [
        {
         "source": "A",
         "target": "B",
         "value": 1
        },
        {
         "source": "B",
         "target": "C",
         "value": 1
        },
        {
         "source": "A",
         "target": "D",
         "value": 1
        }
       ],
       "margins": {
        "bottom": 0,
        "left": 30,
        "right": 60,
        "top": 10
       },
       "msg_throttle": 1,
       "order": [
        [
         [],
         [
          "A"
         ],
         []
        ],
        [
         [
          "B"
         ],
         [],
         [
          "D"
         ]
        ],
        [
         [],
         [
          "C"
         ],
         []
        ]
       ],
       "png": "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",
       "scale": 23.75,
       "svg": "<?xml version=\"1.0\" standalone=\"no\"?><!DOCTYPE svg PUBLIC \"-//W3C//DTD SVG 1.1//EN\" \"http://www.w3.org/Graphics/SVG/1.1/DTD/svg11.dtd\"><svg xmlns=\"http://www.w3.org/2000/svg\" width=\"300\" height=\"200\" viewBox=\"0 0 300 200\" style=\"font-family: &quot;Helvetica Neue&quot;,Helvetica,Arial,sans-serif;\"><g class=\"sankey\" transform=\"translate(30,10)\"><g class=\"groups\"/><g class=\"links\"><g class=\"link\" style=\"opacity: 0.8;\"><path d=\"M0,71.25 A24.883881578947367 24.883881578947367 0.6330081239458107 0 0 14.720625899143348,66.42878862151565 L76.22952162926954,21.29773505459275 A48.63388157894737 48.63388157894737 0.6330081239458107 0 1 105,11.875 L105,35.625 A24.883881578947367 24.883881578947367 0.6330081239458107 0 0 90.27937410085666,40.446211378484364 L28.77047837073045,85.57726494540725 A48.63388157894737 48.63388157894737 0.6330081239458107 0 1 0,95 Z\" style=\"fill: rgb(31, 119, 180);\"/><title>A → B\n1.00</title></g><g class=\"link\" style=\"opacity: 0.8;\"><path d=\"M105,11.875 A45.77302631578947 45.77302631578947 0.7343349907016697 0 1 135.6722157881144,23.671782898464762 L195.24250918423098,77.44914937080694 A22.023026315789473 22.023026315789473 0.7343349907016697 0 0 210,83.125 L210,106.875 A45.77302631578947 45.77302631578947 0.7343349907016697 0 1 179.32778421188561,95.07821710153524 L119.75749081576902,41.30085062919307 A22.023026315789473 22.023026315789473 0.7343349907016697 0 0 105,35.625 Z\" style=\"fill: rgb(31, 119, 180);\"/><title>B → C\n1.00</title></g><g class=\"link\" style=\"opacity: 0.8;\"><path d=\"M0,95 A48.63388157894737 48.63388157894737 0.6330081239458107 0 1 28.77047837073045,104.42273505459275 L90.27937410085666,149.55378862151565 A24.883881578947367 24.883881578947367 0.6330081239458107 0 0 105,154.375 L105,178.125 A48.63388157894737 48.63388157894737 0.6330081239458107 0 1 76.22952162926954,168.70226494540725 L14.720625899143348,123.57121137848435 A24.883881578947367 24.883881578947367 0.6330081239458107 0 0 0,118.75 Z\" style=\"fill: rgb(31, 119, 180);\"/><title>A → D\n1.00</title></g></g><g class=\"nodes\"><g class=\"node\" transform=\"translate(0,71.25)\"><title>A</title><text dy=\".35em\" text-anchor=\"end\" transform=\"translate(-4, 23.75)\">A</text><line x1=\"0\" x2=\"0\" y1=\"0\" y2=\"47.5\" style=\"stroke: rgb(0, 0, 0);\"/><rect x=\"-5\" y=\"-5\" width=\"10\" style=\"fill: none; visibility: hidden; pointer-events: all;\" height=\"52.5\"/></g><g class=\"node\" transform=\"translate(105,11.875)\"><title>B</title><text dy=\".35em\" text-anchor=\"start\" transform=\"translate(-4, -10)\">B</text><line x1=\"0\" x2=\"0\" y1=\"-5\" y2=\"23.75\" style=\"stroke: rgb(0, 0, 0);\"/><rect x=\"-5\" y=\"-5\" width=\"10\" style=\"fill: none; visibility: hidden; pointer-events: all;\" height=\"28.75\"/></g><g class=\"node\" transform=\"translate(210,83.125)\"><title>C</title><text dy=\".35em\" text-anchor=\"start\" transform=\"translate(4, 11.875)\">C</text><line x1=\"0\" x2=\"0\" y1=\"0\" y2=\"23.75\" style=\"stroke: rgb(0, 0, 0);\"/><rect x=\"-5\" y=\"-5\" width=\"10\" style=\"fill: none; visibility: hidden; pointer-events: all;\" height=\"28.75\"/></g><g class=\"node\" transform=\"translate(105,154.375)\"><title>D</title><text dy=\".35em\" text-anchor=\"start\" transform=\"translate(4, 11.875)\">D</text><line x1=\"0\" x2=\"0\" y1=\"0\" y2=\"23.75\" style=\"stroke: rgb(0, 0, 0);\"/><rect x=\"-5\" y=\"-5\" width=\"10\" style=\"fill: none; visibility: hidden; pointer-events: all;\" height=\"28.75\"/></g></g><g class=\"slice-titles\"/></g></svg>"
      }
     },
     "c0c06c5f22944c10b3bff1cd3b300205": {
      "model_module": "jupyter-sankey-widget",
      "model_module_version": "^0.2.0",
      "model_name": "SankeyModel",
      "state": {
       "_dom_classes": [],
       "_model_module_version": "^0.2.0",
       "_view_module_version": "^0.2.0",
       "layout": "IPY_MODEL_35061a7766894db78f3d0518afb49838",
       "links": [
        {
         "color": "steelblue",
         "source": "A",
         "target": "B",
         "value": 3
        },
        {
         "color": "#aaa",
         "source": "B",
         "target": "C",
         "value": 2
        },
        {
         "color": "goldenrod",
         "source": "B",
         "target": "D",
         "value": 1
        }
       ],
       "margins": {
        "bottom": 0,
        "left": 30,
        "right": 60,
        "top": 10
       },
       "msg_throttle": 1,
       "nodes": [
        {
         "id": "B",
         "style": "process",
         "title": "Middle node"
        }
       ],
       "order": [],
       "png": "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",
       "scale": 31.666666666666668,
       "svg": "<?xml version=\"1.0\" standalone=\"no\"?><!DOCTYPE svg PUBLIC \"-//W3C//DTD SVG 1.1//EN\" \"http://www.w3.org/Graphics/SVG/1.1/DTD/svg11.dtd\"><svg xmlns=\"http://www.w3.org/2000/svg\" width=\"300\" height=\"200\" viewBox=\"0 0 300 200\" style=\"font-family: &quot;Helvetica Neue&quot;,Helvetica,Arial,sans-serif;\"><g class=\"sankey\" transform=\"translate(30,10)\"><g class=\"groups\"/><g class=\"links\"><g class=\"link\" style=\"opacity: 0.8;\"><path d=\"M78.5531192765574,110.83333333333334 A111.04666202766458 111.04666202766458 0.2617589573498933 0 1 107.28977359613057,114.61599466177117 L189.45804542949668,136.62935616534955 A79.37999536099792 79.37999536099792 0.2617589573498933 0 0 210,139.33333333333334 L210,171.00000000000003 A111.04666202766458 111.04666202766458 0.2617589573498933 0 1 181.26334568042682,167.2173386715622 L99.09507384706069,145.20397716798382 A79.37999536099792 79.37999536099792 0.2617589573498933 0 0 78.5531192765574,142.5 Z\" style=\"fill: rgb(218, 165, 32);\"/><title>Middle node → D\n1.00</title></g><g class=\"link\" style=\"opacity: 0.8;\"><path d=\"M78.5531192765574,47.5 A63.54666202766464 63.54666202766464 0.2617589573498931 0 0 94.99772397252575,45.33536491224318 L177.1659958058919,23.322003408664823 A126.87999536099798 126.87999536099798 0.2617589573498931 0 1 210,19.000000000000004 L210,82.33333333333334 A63.54666202766464 63.54666202766464 0.2617589573498931 0 0 193.55539530403166,84.49796842109015 L111.38712347066549,106.51132992466852 A126.87999536099798 126.87999536099798 0.2617589573498931 0 1 78.5531192765574,110.83333333333334 Z\" style=\"fill: rgb(170, 170, 170);\"/><title>Middle node → C\n2.00</title></g><g class=\"link\" style=\"opacity: 0.8;\"><path d=\"M0,47.5 A0 0 0 0 0 0,47.5 L78.5531192765574,47.5 A0 0 0 0 0 78.5531192765574,47.5 L78.5531192765574,142.5 A0 0 0 0 0 78.5531192765574,142.5 L0,142.5 A0 0 0 0 0 0,142.5 Z\" style=\"fill: rgb(70, 130, 180);\"/><title>A → Middle node\n3.00</title></g></g><g class=\"nodes\"><g class=\"node\" transform=\"translate(78.5531192765574,47.5)\"><title>Middle node</title><text dy=\".35em\" text-anchor=\"start\" transform=\"translate(-4, -10)\">Middle node</text><line x1=\"0\" x2=\"0\" y1=\"-5\" y2=\"95\" style=\"stroke: rgb(136, 136, 136); stroke-width: 4px;\"/><rect x=\"-5\" y=\"-5\" width=\"10\" style=\"fill: none; visibility: hidden; pointer-events: all;\" height=\"100\"/></g><g class=\"node\" transform=\"translate(0,47.5)\"><title>A</title><text dy=\".35em\" text-anchor=\"end\" transform=\"translate(-4, 47.5)\">A</text><line x1=\"0\" x2=\"0\" y1=\"0\" y2=\"95\" style=\"stroke: rgb(0, 0, 0);\"/><rect x=\"-5\" y=\"-5\" width=\"10\" style=\"fill: none; visibility: hidden; pointer-events: all;\" height=\"100\"/></g><g class=\"node\" transform=\"translate(210,19)\"><title>C</title><text dy=\".35em\" text-anchor=\"start\" transform=\"translate(4, 31.66666603088379)\">C</text><line x1=\"0\" x2=\"0\" y1=\"0\" y2=\"63.333333333333336\" style=\"stroke: rgb(0, 0, 0);\"/><rect x=\"-5\" y=\"-5\" width=\"10\" style=\"fill: none; visibility: hidden; pointer-events: all;\" height=\"68.33333333333334\"/></g><g class=\"node\" transform=\"translate(210,139.33333333333334)\"><title>D</title><text dy=\".35em\" text-anchor=\"start\" transform=\"translate(4, 15.833333015441895)\">D</text><line x1=\"0\" x2=\"0\" y1=\"0\" y2=\"31.666666666666668\" style=\"stroke: rgb(0, 0, 0);\"/><rect x=\"-5\" y=\"-5\" width=\"10\" style=\"fill: none; visibility: hidden; pointer-events: all;\" height=\"36.66666666666667\"/></g></g><g class=\"slice-titles\"/></g></svg>"
      }
     },
     "c417829430fb40348a9893c2e4266d94": {
      "model_module": "jupyter-js-widgets",
      "model_module_version": "~2.1.4",
      "model_name": "LayoutModel",
      "state": {
       "_model_module_version": "~2.1.4",
       "_view_module_version": "~2.1.4"
      }
     },
     "c6a543d8d5d243f7b40b9de7a00db336": {
      "model_module": "jupyter-sankey-widget",
      "model_module_version": "^0.2.0",
      "model_name": "SankeyModel",
      "state": {
       "_dom_classes": [],
       "_model_module_version": "^0.2.0",
       "_view_module_version": "^0.2.0",
       "layout": "IPY_MODEL_73d879c5e19d4280945904f358b1ad45",
       "links": [
        {
         "source": "A",
         "target": "B",
         "value": 1
        },
        {
         "source": "B",
         "target": "C",
         "value": 1
        },
        {
         "source": "A",
         "target": "D",
         "value": 1
        }
       ],
       "margins": {
        "bottom": 0,
        "left": 30,
        "right": 60,
        "top": 10
       },
       "msg_throttle": 1,
       "order": [
        [
         "A"
        ],
        [
         "D",
         "B"
        ],
        [
         "C"
        ]
       ],
       "png": "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",
       "scale": 47.5,
       "svg": "<?xml version=\"1.0\" standalone=\"no\"?><!DOCTYPE svg PUBLIC \"-//W3C//DTD SVG 1.1//EN\" \"http://www.w3.org/Graphics/SVG/1.1/DTD/svg11.dtd\"><svg xmlns=\"http://www.w3.org/2000/svg\" width=\"300\" height=\"200\" viewBox=\"0 0 300 200\" style=\"font-family: &quot;Helvetica Neue&quot;,Helvetica,Arial,sans-serif;\"><g class=\"sankey\" transform=\"translate(30,10)\"><g class=\"groups\"/><g class=\"links\"><g class=\"link\" style=\"opacity: 0.8;\"><path d=\"M0,95 A84.00969923423352 84.00969923423352 0.33065803274531924 0 1 27.275049749441177,99.55089716302253 L91.28284370943088,121.52222971654 A36.50969923423352 36.50969923423352 0.33065803274531924 0 0 103.13628291975802,123.5 L103.13628291975802,171 A84.00969923423352 84.00969923423352 0.33065803274531924 0 1 75.86123317031685,166.44910283697746 L11.853439210327142,144.47777028346 A36.50969923423352 36.50969923423352 0.33065803274531924 0 0 0,142.5 Z\" style=\"fill: rgb(31, 119, 180);\"/><title>A → B\n1.00</title></g><g class=\"link\" style=\"opacity: 0.8;\"><path d=\"M103.13628291975802,123.5 A16.8717699374335 16.8717699374335 0.5588572848257416 0 0 112.08199363430236,120.93315511072288 L175.86894948313412,81.0434211579677 A64.3717699374335 64.3717699374335 0.5588572848257416 0 1 210,71.25 L210,118.75 A16.8717699374335 16.8717699374335 0.5588572848257416 0 0 201.05428928545567,121.31684488927714 L137.26733343662391,161.20657884203231 A64.3717699374335 64.3717699374335 0.5588572848257416 0 1 103.13628291975802,171 Z\" style=\"fill: rgb(31, 119, 180);\"/><title>B → C\n1.00</title></g><g class=\"link\" style=\"opacity: 0.8;\"><path d=\"M0,47.5 A36.50969923423352 36.50969923423352 0.33065803274531924 0 0 11.853439210327142,45.52222971654 L75.86123317031685,23.55089716302253 A84.00969923423352 84.00969923423352 0.33065803274531924 0 1 103.13628291975802,19 L103.13628291975802,66.5 A36.50969923423352 36.50969923423352 0.33065803274531924 0 0 91.28284370943088,68.47777028346 L27.275049749441177,90.44910283697747 A84.00969923423352 84.00969923423352 0.33065803274531924 0 1 0,95 Z\" style=\"fill: rgb(31, 119, 180);\"/><title>A → D\n1.00</title></g></g><g class=\"nodes\"><g class=\"node\" transform=\"translate(0,47.5)\"><title>A</title><text dy=\".35em\" text-anchor=\"end\" transform=\"translate(-4, 47.5)\">A</text><line x1=\"0\" x2=\"0\" y1=\"0\" y2=\"95\" style=\"stroke: rgb(0, 0, 0);\"/><rect x=\"-5\" y=\"-5\" width=\"10\" style=\"fill: none; visibility: hidden; pointer-events: all;\" height=\"100\"/></g><g class=\"node\" transform=\"translate(103.13628291975802,123.5)\"><title>B</title><text dy=\".35em\" text-anchor=\"start\" transform=\"translate(-4, -10)\">B</text><line x1=\"0\" x2=\"0\" y1=\"-5\" y2=\"47.5\" style=\"stroke: rgb(0, 0, 0);\"/><rect x=\"-5\" y=\"-5\" width=\"10\" style=\"fill: none; visibility: hidden; pointer-events: all;\" height=\"52.5\"/></g><g class=\"node\" transform=\"translate(210,71.25)\"><title>C</title><text dy=\".35em\" text-anchor=\"start\" transform=\"translate(4, 23.75)\">C</text><line x1=\"0\" x2=\"0\" y1=\"0\" y2=\"47.5\" style=\"stroke: rgb(0, 0, 0);\"/><rect x=\"-5\" y=\"-5\" width=\"10\" style=\"fill: none; visibility: hidden; pointer-events: all;\" height=\"52.5\"/></g><g class=\"node\" transform=\"translate(103.13628291975802,19)\"><title>D</title><text dy=\".35em\" text-anchor=\"start\" transform=\"translate(4, 23.75)\">D</text><line x1=\"0\" x2=\"0\" y1=\"0\" y2=\"47.5\" style=\"stroke: rgb(0, 0, 0);\"/><rect x=\"-5\" y=\"-5\" width=\"10\" style=\"fill: none; visibility: hidden; pointer-events: all;\" height=\"52.5\"/></g></g><g class=\"slice-titles\"/></g></svg>"
      }
     },
     "c73fa803acc84ec5b02a59f6a6f7bbf0": {
      "model_module": "jupyter-js-widgets",
      "model_module_version": "~2.1.4",
      "model_name": "LayoutModel",
      "state": {
       "_model_module_version": "~2.1.4",
       "_view_module_version": "~2.1.4"
      }
     },
     "c90fe679e4744294a08f38f217ca71c7": {
      "model_module": "jupyter-sankey-widget",
      "model_module_version": "^0.2.0",
      "model_name": "SankeyModel",
      "state": {
       "_dom_classes": [],
       "_model_module_version": "^0.2.0",
       "_view_module_version": "^0.2.0",
       "layout": "IPY_MODEL_80feaeb537f043be999249280d0c98ff",
       "links": [
        {
         "source": "A",
         "target": "B",
         "type": "x",
         "value": 3
        },
        {
         "source": "B",
         "target": "C",
         "type": "y",
         "value": 2
        },
        {
         "source": "B",
         "target": "D",
         "type": "z",
         "value": 1
        }
       ],
       "margins": {
        "bottom": 0,
        "left": 30,
        "right": 60,
        "top": 10
       },
       "msg_throttle": 1,
       "order": [],
       "png": "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",
       "scale": 65,
       "svg": "<?xml version=\"1.0\" standalone=\"no\"?><!DOCTYPE svg PUBLIC \"-//W3C//DTD SVG 1.1//EN\" \"http://www.w3.org/Graphics/SVG/1.1/DTD/svg11.dtd\"><svg xmlns=\"http://www.w3.org/2000/svg\" width=\"600\" height=\"400\" viewBox=\"0 0 600 400\" style=\"font-family: &quot;Helvetica Neue&quot;,Helvetica,Arial,sans-serif;\"><g class=\"sankey\" transform=\"translate(30,10)\"><g class=\"groups\"/><g class=\"links\"><g class=\"link\" style=\"opacity: 0.8;\"><path d=\"M200.71429746240727,227.5 A286.55101485685196 286.55101485685196 0.22914237961787398 0 1 265.8021837458051,234.98999791852845 L459.67636995395776,280.20900100125397 A221.55101485685196 221.55101485685196 0.22914237961787398 0 0 509.99999999999994,286 L509.99999999999994,351 A286.55101485685196 286.55101485685196 0.22914237961787398 0 1 444.9121137166021,343.51000208147155 L251.03792750844949,298.29099899874603 A221.55101485685196 221.55101485685196 0.22914237961787398 0 0 200.71429746240727,292.5 Z\" style=\"fill: rgb(255, 127, 14);\"/><title>B → D\n1.00</title></g><g class=\"link\" style=\"opacity: 0.8;\"><path d=\"M200.71429746240727,97.5 A189.05101485685196 189.05101485685196 0.22914237961787398 0 0 243.65579938977166,92.55850046114517 L437.52998559792434,47.3394973784197 A319.05101485685196 319.05101485685196 0.22914237961787398 0 1 509.99999999999994,39 L509.99999999999994,169 A189.05101485685196 189.05101485685196 0.22914237961787398 0 0 467.05849807263553,173.94149953885483 L273.1843118644829,219.1605026215803 A319.05101485685196 319.05101485685196 0.22914237961787398 0 1 200.71429746240727,227.5 Z\" style=\"fill: rgb(174, 199, 232);\"/><title>B → C\n2.00</title></g><g class=\"link\" style=\"opacity: 0.8;\"><path d=\"M0,97.5 A0 0 0 0 0 0,97.5 L200.71429746240727,97.5 A0 0 0 0 0 200.71429746240727,97.5 L200.71429746240727,292.5 A0 0 0 0 0 200.71429746240727,292.5 L0,292.5 A0 0 0 0 0 0,292.5 Z\" style=\"fill: rgb(31, 119, 180);\"/><title>A → B\n3.00</title></g></g><g class=\"nodes\"><g class=\"node\" transform=\"translate(0,97.5)\"><title>A</title><text dy=\".35em\" text-anchor=\"end\" transform=\"translate(-4, 97.5)\">A</text><line x1=\"0\" x2=\"0\" y1=\"0\" y2=\"195\" style=\"stroke: rgb(0, 0, 0);\"/><rect x=\"-5\" y=\"-5\" width=\"10\" style=\"fill: none; visibility: hidden; pointer-events: all;\" height=\"200\"/></g><g class=\"node\" transform=\"translate(200.71429746240727,97.5)\"><title>B</title><text dy=\".35em\" text-anchor=\"start\" transform=\"translate(-4, -10)\">B</text><line x1=\"0\" x2=\"0\" y1=\"-5\" y2=\"195\" style=\"stroke: rgb(0, 0, 0);\"/><rect x=\"-5\" y=\"-5\" width=\"10\" style=\"fill: none; visibility: hidden; pointer-events: all;\" height=\"200\"/></g><g class=\"node\" transform=\"translate(509.99999999999994,39)\"><title>C</title><text dy=\".35em\" text-anchor=\"start\" transform=\"translate(4, 65)\">C</text><line x1=\"0\" x2=\"0\" y1=\"0\" y2=\"130\" style=\"stroke: rgb(0, 0, 0);\"/><rect x=\"-5\" y=\"-5\" width=\"10\" style=\"fill: none; visibility: hidden; pointer-events: all;\" height=\"135\"/></g><g class=\"node\" transform=\"translate(509.99999999999994,286)\"><title>D</title><text dy=\".35em\" text-anchor=\"start\" transform=\"translate(4, 32.5)\">D</text><line x1=\"0\" x2=\"0\" y1=\"0\" y2=\"65\" style=\"stroke: rgb(0, 0, 0);\"/><rect x=\"-5\" y=\"-5\" width=\"10\" style=\"fill: none; visibility: hidden; pointer-events: all;\" height=\"70\"/></g></g><g class=\"slice-titles\"/></g></svg>"
      }
     },
     "c94af7dc323541a49362041b2002ad4f": {
      "model_module": "jupyter-sankey-widget",
      "model_module_version": "^0.2.0",
      "model_name": "SankeyModel",
      "state": {
       "_dom_classes": [],
       "_model_module_version": "^0.2.0",
       "_view_module_version": "^0.2.0",
       "layout": "IPY_MODEL_35061a7766894db78f3d0518afb49838",
       "links": [
        {
         "color": "steelblue",
         "source": "A",
         "target": "B",
         "value": 3
        },
        {
         "color": "#aaa",
         "source": "B",
         "target": "C",
         "value": 2
        },
        {
         "color": "goldenrod",
         "source": "B",
         "target": "D",
         "value": 1
        }
       ],
       "margins": {
        "bottom": 0,
        "left": 30,
        "right": 60,
        "top": 10
       },
       "msg_throttle": 1,
       "order": [],
       "png": "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",
       "scale": 31.666666666666668,
       "svg": "<?xml version=\"1.0\" standalone=\"no\"?><!DOCTYPE svg PUBLIC \"-//W3C//DTD SVG 1.1//EN\" \"http://www.w3.org/Graphics/SVG/1.1/DTD/svg11.dtd\"><svg xmlns=\"http://www.w3.org/2000/svg\" width=\"300\" height=\"200\" viewBox=\"0 0 300 200\" style=\"font-family: &quot;Helvetica Neue&quot;,Helvetica,Arial,sans-serif;\"><g class=\"sankey\" transform=\"translate(30,10)\"><g class=\"groups\"/><g class=\"links\"><g class=\"link\" style=\"opacity: 0.8;\"><path d=\"M78.5531192765574,110.83333333333334 A111.04666202766458 111.04666202766458 0.2617589573498933 0 1 107.28977359613057,114.61599466177117 L189.45804542949668,136.62935616534955 A79.37999536099792 79.37999536099792 0.2617589573498933 0 0 210,139.33333333333334 L210,171.00000000000003 A111.04666202766458 111.04666202766458 0.2617589573498933 0 1 181.26334568042682,167.2173386715622 L99.09507384706069,145.20397716798382 A79.37999536099792 79.37999536099792 0.2617589573498933 0 0 78.5531192765574,142.5 Z\" style=\"fill: rgb(218, 165, 32);\"/><title>B → D\n1.00</title></g><g class=\"link\" style=\"opacity: 0.8;\"><path d=\"M78.5531192765574,47.5 A63.54666202766464 63.54666202766464 0.2617589573498931 0 0 94.99772397252575,45.33536491224318 L177.1659958058919,23.322003408664823 A126.87999536099798 126.87999536099798 0.2617589573498931 0 1 210,19.000000000000004 L210,82.33333333333334 A63.54666202766464 63.54666202766464 0.2617589573498931 0 0 193.55539530403166,84.49796842109015 L111.38712347066549,106.51132992466852 A126.87999536099798 126.87999536099798 0.2617589573498931 0 1 78.5531192765574,110.83333333333334 Z\" style=\"fill: rgb(170, 170, 170);\"/><title>B → C\n2.00</title></g><g class=\"link\" style=\"opacity: 0.8;\"><path d=\"M0,47.5 A0 0 0 0 0 0,47.5 L78.5531192765574,47.5 A0 0 0 0 0 78.5531192765574,47.5 L78.5531192765574,142.5 A0 0 0 0 0 78.5531192765574,142.5 L0,142.5 A0 0 0 0 0 0,142.5 Z\" style=\"fill: rgb(70, 130, 180);\"/><title>A → B\n3.00</title></g></g><g class=\"nodes\"><g class=\"node\" transform=\"translate(0,47.5)\"><title>A</title><text dy=\".35em\" text-anchor=\"end\" transform=\"translate(-4, 47.5)\">A</text><line x1=\"0\" x2=\"0\" y1=\"0\" y2=\"95\" style=\"stroke: rgb(0, 0, 0);\"/><rect x=\"-5\" y=\"-5\" width=\"10\" style=\"fill: none; visibility: hidden; pointer-events: all;\" height=\"100\"/></g><g class=\"node\" transform=\"translate(78.5531192765574,47.5)\"><title>B</title><text dy=\".35em\" text-anchor=\"start\" transform=\"translate(-4, -10)\">B</text><line x1=\"0\" x2=\"0\" y1=\"-5\" y2=\"95\" style=\"stroke: rgb(0, 0, 0);\"/><rect x=\"-5\" y=\"-5\" width=\"10\" style=\"fill: none; visibility: hidden; pointer-events: all;\" height=\"100\"/></g><g class=\"node\" transform=\"translate(210,19)\"><title>C</title><text dy=\".35em\" text-anchor=\"start\" transform=\"translate(4, 31.66666603088379)\">C</text><line x1=\"0\" x2=\"0\" y1=\"0\" y2=\"63.333333333333336\" style=\"stroke: rgb(0, 0, 0);\"/><rect x=\"-5\" y=\"-5\" width=\"10\" style=\"fill: none; visibility: hidden; pointer-events: all;\" height=\"68.33333333333334\"/></g><g class=\"node\" transform=\"translate(210,139.33333333333334)\"><title>D</title><text dy=\".35em\" text-anchor=\"start\" transform=\"translate(4, 15.833333015441895)\">D</text><line x1=\"0\" x2=\"0\" y1=\"0\" y2=\"31.666666666666668\" style=\"stroke: rgb(0, 0, 0);\"/><rect x=\"-5\" y=\"-5\" width=\"10\" style=\"fill: none; visibility: hidden; pointer-events: all;\" height=\"36.66666666666667\"/></g></g><g class=\"slice-titles\"/></g></svg>"
      }
     },
     "cbab843bd491425d840192553b137437": {
      "model_module": "jupyter-js-widgets",
      "model_module_version": "~2.1.4",
      "model_name": "LayoutModel",
      "state": {
       "_model_module_version": "~2.1.4",
       "_view_module_version": "~2.1.4"
      }
     },
     "d522f758db664a119592588a7906039c": {
      "model_module": "jupyter-sankey-widget",
      "model_module_version": "^0.2.0",
      "model_name": "SankeyModel",
      "state": {
       "_dom_classes": [],
       "_model_module_version": "^0.2.0",
       "_view_module_version": "^0.2.0",
       "layout": "IPY_MODEL_2bd1c1e12f5a4087a88ca40090c6e474",
       "links": [
        {
         "color": "steelblue",
         "source": "A",
         "target": "B",
         "value": 3
        },
        {
         "color": "#aaa",
         "source": "B",
         "target": "C",
         "value": 2
        },
        {
         "color": "goldenrod",
         "source": "B",
         "target": "D",
         "value": 1
        }
       ],
       "margins": {
        "bottom": 0,
        "left": 30,
        "right": 60,
        "top": 10
       },
       "msg_throttle": 1,
       "nodes": [
        {
         "id": "B",
         "style": "process",
         "title": "Middle node"
        }
       ],
       "order": [],
       "png": "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",
       "scale": 65,
       "svg": "<?xml version=\"1.0\" standalone=\"no\"?><!DOCTYPE svg PUBLIC \"-//W3C//DTD SVG 1.1//EN\" \"http://www.w3.org/Graphics/SVG/1.1/DTD/svg11.dtd\"><svg xmlns=\"http://www.w3.org/2000/svg\" width=\"600\" height=\"400\" viewBox=\"0 0 600 400\" style=\"font-family: &quot;Helvetica Neue&quot;,Helvetica,Arial,sans-serif;\"><g class=\"sankey\" transform=\"translate(30,10)\"><g class=\"groups\"/><g class=\"links\"><g class=\"link\" style=\"opacity: 0.8;\"><path d=\"M200.71429746240727,227.5 A286.55101485685196 286.55101485685196 0.22914237961787398 0 1 265.8021837458051,234.98999791852845 L459.67636995395776,280.20900100125397 A221.55101485685196 221.55101485685196 0.22914237961787398 0 0 509.99999999999994,286 L509.99999999999994,351 A286.55101485685196 286.55101485685196 0.22914237961787398 0 1 444.9121137166021,343.51000208147155 L251.03792750844949,298.29099899874603 A221.55101485685196 221.55101485685196 0.22914237961787398 0 0 200.71429746240727,292.5 Z\" style=\"fill: rgb(218, 165, 32);\"/><title>Middle node → D\n1.00</title></g><g class=\"link\" style=\"opacity: 0.8;\"><path d=\"M200.71429746240727,97.5 A189.05101485685196 189.05101485685196 0.22914237961787398 0 0 243.65579938977166,92.55850046114517 L437.52998559792434,47.3394973784197 A319.05101485685196 319.05101485685196 0.22914237961787398 0 1 509.99999999999994,39 L509.99999999999994,169 A189.05101485685196 189.05101485685196 0.22914237961787398 0 0 467.05849807263553,173.94149953885483 L273.1843118644829,219.1605026215803 A319.05101485685196 319.05101485685196 0.22914237961787398 0 1 200.71429746240727,227.5 Z\" style=\"fill: rgb(170, 170, 170);\"/><title>Middle node → C\n2.00</title></g><g class=\"link\" style=\"opacity: 0.8;\"><path d=\"M0,97.5 A0 0 0 0 0 0,97.5 L200.71429746240727,97.5 A0 0 0 0 0 200.71429746240727,97.5 L200.71429746240727,292.5 A0 0 0 0 0 200.71429746240727,292.5 L0,292.5 A0 0 0 0 0 0,292.5 Z\" style=\"fill: rgb(70, 130, 180);\"/><title>A → Middle node\n3.00</title></g></g><g class=\"nodes\"><g class=\"node\" transform=\"translate(200.71429746240727,97.5)\"><title>Middle node</title><text dy=\".35em\" text-anchor=\"start\" transform=\"translate(-4, -10)\">Middle node</text><line x1=\"0\" x2=\"0\" y1=\"-5\" y2=\"195\" style=\"stroke: rgb(136, 136, 136); stroke-width: 4px;\"/><rect x=\"-5\" y=\"-5\" width=\"10\" style=\"fill: none; visibility: hidden; pointer-events: all;\" height=\"200\"/></g><g class=\"node\" transform=\"translate(0,97.5)\"><title>A</title><text dy=\".35em\" text-anchor=\"end\" transform=\"translate(-4, 97.5)\">A</text><line x1=\"0\" x2=\"0\" y1=\"0\" y2=\"195\" style=\"stroke: rgb(0, 0, 0);\"/><rect x=\"-5\" y=\"-5\" width=\"10\" style=\"fill: none; visibility: hidden; pointer-events: all;\" height=\"200\"/></g><g class=\"node\" transform=\"translate(509.99999999999994,39)\"><title>C</title><text dy=\".35em\" text-anchor=\"start\" transform=\"translate(4, 65)\">C</text><line x1=\"0\" x2=\"0\" y1=\"0\" y2=\"130\" style=\"stroke: rgb(0, 0, 0);\"/><rect x=\"-5\" y=\"-5\" width=\"10\" style=\"fill: none; visibility: hidden; pointer-events: all;\" height=\"135\"/></g><g class=\"node\" transform=\"translate(509.99999999999994,286)\"><title>D</title><text dy=\".35em\" text-anchor=\"start\" transform=\"translate(4, 32.5)\">D</text><line x1=\"0\" x2=\"0\" y1=\"0\" y2=\"65\" style=\"stroke: rgb(0, 0, 0);\"/><rect x=\"-5\" y=\"-5\" width=\"10\" style=\"fill: none; visibility: hidden; pointer-events: all;\" height=\"70\"/></g></g><g class=\"slice-titles\"/></g></svg>"
      }
     },
     "e0c6696c3dc7471f806390ba29834a8a": {
      "model_module": "jupyter-sankey-widget",
      "model_module_version": "^0.2.0",
      "model_name": "SankeyModel",
      "state": {
       "_dom_classes": [],
       "_model_module_version": "^0.2.0",
       "_view_module_version": "^0.2.0",
       "layout": "IPY_MODEL_52ff041db6684b5db30bbc867e7c6084",
       "links": [
        {
         "color": "steelblue",
         "source": "A",
         "target": "B",
         "value": 3
        },
        {
         "color": "#aaa",
         "source": "B",
         "target": "C",
         "value": 2
        },
        {
         "color": "goldenrod",
         "source": "B",
         "target": "D",
         "value": 1
        }
       ],
       "margins": {
        "bottom": 0,
        "left": 30,
        "right": 60,
        "top": 10
       },
       "msg_throttle": 1,
       "order": [],
       "png": "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",
       "scale": 65,
       "svg": "<?xml version=\"1.0\" standalone=\"no\"?><!DOCTYPE svg PUBLIC \"-//W3C//DTD SVG 1.1//EN\" \"http://www.w3.org/Graphics/SVG/1.1/DTD/svg11.dtd\"><svg xmlns=\"http://www.w3.org/2000/svg\" width=\"600\" height=\"400\" viewBox=\"0 0 600 400\" style=\"font-family: &quot;Helvetica Neue&quot;,Helvetica,Arial,sans-serif;\"><g class=\"sankey\" transform=\"translate(30,10)\"><g class=\"groups\"/><g class=\"links\"><g class=\"link\" style=\"opacity: 0.8;\"><path d=\"M200.71429746240727,227.5 A286.55101485685196 286.55101485685196 0.22914237961787398 0 1 265.8021837458051,234.98999791852845 L459.67636995395776,280.20900100125397 A221.55101485685196 221.55101485685196 0.22914237961787398 0 0 509.99999999999994,286 L509.99999999999994,351 A286.55101485685196 286.55101485685196 0.22914237961787398 0 1 444.9121137166021,343.51000208147155 L251.03792750844949,298.29099899874603 A221.55101485685196 221.55101485685196 0.22914237961787398 0 0 200.71429746240727,292.5 Z\" style=\"fill: rgb(218, 165, 32);\"/><title>B → D\n1.00</title></g><g class=\"link\" style=\"opacity: 0.8;\"><path d=\"M200.71429746240727,97.5 A189.05101485685196 189.05101485685196 0.22914237961787398 0 0 243.65579938977166,92.55850046114517 L437.52998559792434,47.3394973784197 A319.05101485685196 319.05101485685196 0.22914237961787398 0 1 509.99999999999994,39 L509.99999999999994,169 A189.05101485685196 189.05101485685196 0.22914237961787398 0 0 467.05849807263553,173.94149953885483 L273.1843118644829,219.1605026215803 A319.05101485685196 319.05101485685196 0.22914237961787398 0 1 200.71429746240727,227.5 Z\" style=\"fill: rgb(170, 170, 170);\"/><title>B → C\n2.00</title></g><g class=\"link\" style=\"opacity: 0.8;\"><path d=\"M0,97.5 A0 0 0 0 0 0,97.5 L200.71429746240727,97.5 A0 0 0 0 0 200.71429746240727,97.5 L200.71429746240727,292.5 A0 0 0 0 0 200.71429746240727,292.5 L0,292.5 A0 0 0 0 0 0,292.5 Z\" style=\"fill: rgb(70, 130, 180);\"/><title>A → B\n3.00</title></g></g><g class=\"nodes\"><g class=\"node\" transform=\"translate(0,97.5)\"><title>A</title><text dy=\".35em\" text-anchor=\"end\" transform=\"translate(-4, 97.5)\">A</text><line x1=\"0\" x2=\"0\" y1=\"0\" y2=\"195\" style=\"stroke: rgb(0, 0, 0);\"/><rect x=\"-5\" y=\"-5\" width=\"10\" style=\"fill: none; visibility: hidden; pointer-events: all;\" height=\"200\"/></g><g class=\"node\" transform=\"translate(200.71429746240727,97.5)\"><title>B</title><text dy=\".35em\" text-anchor=\"start\" transform=\"translate(-4, -10)\">B</text><line x1=\"0\" x2=\"0\" y1=\"-5\" y2=\"195\" style=\"stroke: rgb(0, 0, 0);\"/><rect x=\"-5\" y=\"-5\" width=\"10\" style=\"fill: none; visibility: hidden; pointer-events: all;\" height=\"200\"/></g><g class=\"node\" transform=\"translate(509.99999999999994,39)\"><title>C</title><text dy=\".35em\" text-anchor=\"start\" transform=\"translate(4, 65)\">C</text><line x1=\"0\" x2=\"0\" y1=\"0\" y2=\"130\" style=\"stroke: rgb(0, 0, 0);\"/><rect x=\"-5\" y=\"-5\" width=\"10\" style=\"fill: none; visibility: hidden; pointer-events: all;\" height=\"135\"/></g><g class=\"node\" transform=\"translate(509.99999999999994,286)\"><title>D</title><text dy=\".35em\" text-anchor=\"start\" transform=\"translate(4, 32.5)\">D</text><line x1=\"0\" x2=\"0\" y1=\"0\" y2=\"65\" style=\"stroke: rgb(0, 0, 0);\"/><rect x=\"-5\" y=\"-5\" width=\"10\" style=\"fill: none; visibility: hidden; pointer-events: all;\" height=\"70\"/></g></g><g class=\"slice-titles\"/></g></svg>"
      }
     },
     "e3bc0c275244483aa66ea2971f7a8eb2": {
      "model_module": "jupyter-js-widgets",
      "model_module_version": "~2.1.4",
      "model_name": "ButtonStyleModel",
      "state": {
       "_model_module_version": "~2.1.4",
       "_view_module_version": "~2.1.4"
      }
     },
     "e48f2fa7ca3c44e6988e22b89b59cfb9": {
      "model_module": "jupyter-js-widgets",
      "model_module_version": "~2.1.4",
      "model_name": "VBoxModel",
      "state": {
       "_model_module_version": "~2.1.4",
       "_view_module_version": "~2.1.4",
       "children": [
        "IPY_MODEL_23d5153382f54439885ba2856d93c1ce",
        "IPY_MODEL_e8954a4578244f80a2bc2bff39d95093"
       ],
       "layout": "IPY_MODEL_2c9c863299e9457184907685e7dfbbe0"
      }
     },
     "e4ea56972fe44175b24c56f2ca7d5a20": {
      "model_module": "jupyter-js-widgets",
      "model_module_version": "~2.1.4",
      "model_name": "LayoutModel",
      "state": {
       "_model_module_version": "~2.1.4",
       "_view_module_version": "~2.1.4"
      }
     },
     "e50f9c32b24a476781f7bdeb08a5d8cb": {
      "model_module": "jupyter-sankey-widget",
      "model_module_version": "^0.2.0",
      "model_name": "SankeyModel",
      "state": {
       "_dom_classes": [],
       "_model_module_version": "^0.2.0",
       "_view_module_version": "^0.2.0",
       "layout": "IPY_MODEL_918c2d53b8df4c6b932133cdb78b2959",
       "links": [
        {
         "source": "A",
         "target": "B",
         "value": 1
        },
        {
         "source": "B",
         "target": "C",
         "value": 1
        },
        {
         "source": "A",
         "target": "D",
         "value": 1
        }
       ],
       "margins": {
        "bottom": 0,
        "left": 30,
        "right": 60,
        "top": 10
       },
       "msg_throttle": 1,
       "order": [
        [
         "A"
        ],
        [
         "D",
         "B"
        ],
        [
         "C"
        ]
       ],
       "png": "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",
       "scale": 47.5,
       "svg": "<?xml version=\"1.0\" standalone=\"no\"?><!DOCTYPE svg PUBLIC \"-//W3C//DTD SVG 1.1//EN\" \"http://www.w3.org/Graphics/SVG/1.1/DTD/svg11.dtd\"><svg xmlns=\"http://www.w3.org/2000/svg\" width=\"300\" height=\"200\" viewBox=\"0 0 300 200\" style=\"font-family: &quot;Helvetica Neue&quot;,Helvetica,Arial,sans-serif;\"><g class=\"sankey\" transform=\"translate(30,10)\"><g class=\"groups\"/><g class=\"links\"><g class=\"link\" style=\"opacity: 0.8;\"><path d=\"M0,95 A84.00969923423352 84.00969923423352 0.33065803274531924 0 1 27.275049749441177,99.55089716302253 L91.28284370943088,121.52222971654 A36.50969923423352 36.50969923423352 0.33065803274531924 0 0 103.13628291975802,123.5 L103.13628291975802,171 A84.00969923423352 84.00969923423352 0.33065803274531924 0 1 75.86123317031685,166.44910283697746 L11.853439210327142,144.47777028346 A36.50969923423352 36.50969923423352 0.33065803274531924 0 0 0,142.5 Z\" style=\"fill: rgb(31, 119, 180);\"/><title>A → B\n1.00</title></g><g class=\"link\" style=\"opacity: 0.8;\"><path d=\"M103.13628291975802,123.5 A16.8717699374335 16.8717699374335 0.5588572848257416 0 0 112.08199363430236,120.93315511072288 L175.86894948313412,81.0434211579677 A64.3717699374335 64.3717699374335 0.5588572848257416 0 1 210,71.25 L210,118.75 A16.8717699374335 16.8717699374335 0.5588572848257416 0 0 201.05428928545567,121.31684488927714 L137.26733343662391,161.20657884203231 A64.3717699374335 64.3717699374335 0.5588572848257416 0 1 103.13628291975802,171 Z\" style=\"fill: rgb(31, 119, 180);\"/><title>B → C\n1.00</title></g><g class=\"link\" style=\"opacity: 0.8;\"><path d=\"M0,47.5 A36.50969923423352 36.50969923423352 0.33065803274531924 0 0 11.853439210327142,45.52222971654 L75.86123317031685,23.55089716302253 A84.00969923423352 84.00969923423352 0.33065803274531924 0 1 103.13628291975802,19 L103.13628291975802,66.5 A36.50969923423352 36.50969923423352 0.33065803274531924 0 0 91.28284370943088,68.47777028346 L27.275049749441177,90.44910283697747 A84.00969923423352 84.00969923423352 0.33065803274531924 0 1 0,95 Z\" style=\"fill: rgb(31, 119, 180);\"/><title>A → D\n1.00</title></g></g><g class=\"nodes\"><g class=\"node\" transform=\"translate(0,47.5)\"><title>A</title><text dy=\".35em\" text-anchor=\"end\" transform=\"translate(-4, 47.5)\">A</text><line x1=\"0\" x2=\"0\" y1=\"0\" y2=\"95\" style=\"stroke: rgb(0, 0, 0);\"/><rect x=\"-5\" y=\"-5\" width=\"10\" style=\"fill: none; visibility: hidden; pointer-events: all;\" height=\"100\"/></g><g class=\"node\" transform=\"translate(103.13628291975802,123.5)\"><title>B</title><text dy=\".35em\" text-anchor=\"start\" transform=\"translate(-4, -10)\">B</text><line x1=\"0\" x2=\"0\" y1=\"-5\" y2=\"47.5\" style=\"stroke: rgb(0, 0, 0);\"/><rect x=\"-5\" y=\"-5\" width=\"10\" style=\"fill: none; visibility: hidden; pointer-events: all;\" height=\"52.5\"/></g><g class=\"node\" transform=\"translate(210,71.25)\"><title>C</title><text dy=\".35em\" text-anchor=\"start\" transform=\"translate(4, 23.75)\">C</text><line x1=\"0\" x2=\"0\" y1=\"0\" y2=\"47.5\" style=\"stroke: rgb(0, 0, 0);\"/><rect x=\"-5\" y=\"-5\" width=\"10\" style=\"fill: none; visibility: hidden; pointer-events: all;\" height=\"52.5\"/></g><g class=\"node\" transform=\"translate(103.13628291975802,19)\"><title>D</title><text dy=\".35em\" text-anchor=\"start\" transform=\"translate(4, 23.75)\">D</text><line x1=\"0\" x2=\"0\" y1=\"0\" y2=\"47.5\" style=\"stroke: rgb(0, 0, 0);\"/><rect x=\"-5\" y=\"-5\" width=\"10\" style=\"fill: none; visibility: hidden; pointer-events: all;\" height=\"52.5\"/></g></g><g class=\"slice-titles\"/></g></svg>"
      }
     },
     "e8954a4578244f80a2bc2bff39d95093": {
      "model_module": "jupyter-sankey-widget",
      "model_module_version": "^0.2.0",
      "model_name": "SankeyModel",
      "state": {
       "_dom_classes": [],
       "_model_module_version": "^0.2.0",
       "_view_module_version": "^0.2.0",
       "layout": "IPY_MODEL_918c2d53b8df4c6b932133cdb78b2959",
       "links": [
        {
         "source": "A",
         "target": "B",
         "value": 1
        },
        {
         "source": "B",
         "target": "C",
         "value": 1
        },
        {
         "source": "A",
         "target": "D",
         "value": 1
        }
       ],
       "margins": {
        "bottom": 0,
        "left": 30,
        "right": 60,
        "top": 10
       },
       "msg_throttle": 1,
       "order": [
        [
         "A"
        ],
        [
         "D",
         "B"
        ],
        [
         "C"
        ]
       ],
       "png": "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",
       "scale": 47.5,
       "svg": "<?xml version=\"1.0\" standalone=\"no\"?><!DOCTYPE svg PUBLIC \"-//W3C//DTD SVG 1.1//EN\" \"http://www.w3.org/Graphics/SVG/1.1/DTD/svg11.dtd\"><svg xmlns=\"http://www.w3.org/2000/svg\" width=\"300\" height=\"200\" viewBox=\"0 0 300 200\" style=\"font-family: &quot;Helvetica Neue&quot;,Helvetica,Arial,sans-serif;\"><g class=\"sankey\" transform=\"translate(30,10)\"><g class=\"groups\"/><g class=\"links\"><g class=\"link\" style=\"opacity: 0.8;\"><path d=\"M0,95 A84.00969923423352 84.00969923423352 0.33065803274531924 0 1 27.275049749441177,99.55089716302253 L91.28284370943088,121.52222971654 A36.50969923423352 36.50969923423352 0.33065803274531924 0 0 103.13628291975802,123.5 L103.13628291975802,171 A84.00969923423352 84.00969923423352 0.33065803274531924 0 1 75.86123317031685,166.44910283697746 L11.853439210327142,144.47777028346 A36.50969923423352 36.50969923423352 0.33065803274531924 0 0 0,142.5 Z\" style=\"fill: rgb(31, 119, 180);\"/><title>A → B\n1.00</title></g><g class=\"link\" style=\"opacity: 0.8;\"><path d=\"M103.13628291975802,123.5 A16.8717699374335 16.8717699374335 0.5588572848257416 0 0 112.08199363430236,120.93315511072288 L175.86894948313412,81.0434211579677 A64.3717699374335 64.3717699374335 0.5588572848257416 0 1 210,71.25 L210,118.75 A16.8717699374335 16.8717699374335 0.5588572848257416 0 0 201.05428928545567,121.31684488927714 L137.26733343662391,161.20657884203231 A64.3717699374335 64.3717699374335 0.5588572848257416 0 1 103.13628291975802,171 Z\" style=\"fill: rgb(31, 119, 180);\"/><title>B → C\n1.00</title></g><g class=\"link\" style=\"opacity: 0.8;\"><path d=\"M0,47.5 A36.50969923423352 36.50969923423352 0.33065803274531924 0 0 11.853439210327142,45.52222971654 L75.86123317031685,23.55089716302253 A84.00969923423352 84.00969923423352 0.33065803274531924 0 1 103.13628291975802,19 L103.13628291975802,66.5 A36.50969923423352 36.50969923423352 0.33065803274531924 0 0 91.28284370943088,68.47777028346 L27.275049749441177,90.44910283697747 A84.00969923423352 84.00969923423352 0.33065803274531924 0 1 0,95 Z\" style=\"fill: rgb(31, 119, 180);\"/><title>A → D\n1.00</title></g></g><g class=\"nodes\"><g class=\"node\" transform=\"translate(0,47.5)\"><title>A</title><text dy=\".35em\" text-anchor=\"end\" transform=\"translate(-4, 47.5)\">A</text><line x1=\"0\" x2=\"0\" y1=\"0\" y2=\"95\" style=\"stroke: rgb(0, 0, 0);\"/><rect x=\"-5\" y=\"-5\" width=\"10\" style=\"fill: none; visibility: hidden; pointer-events: all;\" height=\"100\"/></g><g class=\"node\" transform=\"translate(103.13628291975802,123.5)\"><title>B</title><text dy=\".35em\" text-anchor=\"start\" transform=\"translate(-4, -10)\">B</text><line x1=\"0\" x2=\"0\" y1=\"-5\" y2=\"47.5\" style=\"stroke: rgb(0, 0, 0);\"/><rect x=\"-5\" y=\"-5\" width=\"10\" style=\"fill: none; visibility: hidden; pointer-events: all;\" height=\"52.5\"/></g><g class=\"node\" transform=\"translate(210,71.25)\"><title>C</title><text dy=\".35em\" text-anchor=\"start\" transform=\"translate(4, 23.75)\">C</text><line x1=\"0\" x2=\"0\" y1=\"0\" y2=\"47.5\" style=\"stroke: rgb(0, 0, 0);\"/><rect x=\"-5\" y=\"-5\" width=\"10\" style=\"fill: none; visibility: hidden; pointer-events: all;\" height=\"52.5\"/></g><g class=\"node\" transform=\"translate(103.13628291975802,19)\"><title>D</title><text dy=\".35em\" text-anchor=\"start\" transform=\"translate(4, 23.75)\">D</text><line x1=\"0\" x2=\"0\" y1=\"0\" y2=\"47.5\" style=\"stroke: rgb(0, 0, 0);\"/><rect x=\"-5\" y=\"-5\" width=\"10\" style=\"fill: none; visibility: hidden; pointer-events: all;\" height=\"52.5\"/></g></g><g class=\"slice-titles\"/></g></svg>"
      }
     },
     "efb633b16e1d40738c4c072436d0255c": {
      "model_module": "jupyter-sankey-widget",
      "model_module_version": "^0.2.0",
      "model_name": "SankeyModel",
      "state": {
       "_dom_classes": [],
       "_model_module_version": "^0.2.0",
       "_view_module_version": "^0.2.0",
       "layout": "IPY_MODEL_918c2d53b8df4c6b932133cdb78b2959",
       "links": [
        {
         "source": "A",
         "target": "B",
         "type": "x",
         "value": 3
        },
        {
         "source": "B",
         "target": "C",
         "type": "y",
         "value": 2
        },
        {
         "source": "B",
         "target": "D",
         "type": "z",
         "value": 1
        }
       ],
       "margins": {
        "bottom": 0,
        "left": 30,
        "right": 60,
        "top": 10
       },
       "msg_throttle": 1,
       "order": [],
       "png": "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",
       "scale": 31.666666666666668,
       "svg": "<?xml version=\"1.0\" standalone=\"no\"?><!DOCTYPE svg PUBLIC \"-//W3C//DTD SVG 1.1//EN\" \"http://www.w3.org/Graphics/SVG/1.1/DTD/svg11.dtd\"><svg xmlns=\"http://www.w3.org/2000/svg\" width=\"300\" height=\"200\" viewBox=\"0 0 300 200\" style=\"font-family: &quot;Helvetica Neue&quot;,Helvetica,Arial,sans-serif;\"><g class=\"sankey\" transform=\"translate(30,10)\"><g class=\"groups\"/><g class=\"links\"><g class=\"link\" style=\"opacity: 0.8;\"><path d=\"M78.5531192765574,110.83333333333334 A111.04666202766458 111.04666202766458 0.2617589573498933 0 1 107.28977359613057,114.61599466177117 L189.45804542949668,136.62935616534955 A79.37999536099792 79.37999536099792 0.2617589573498933 0 0 210,139.33333333333334 L210,171.00000000000003 A111.04666202766458 111.04666202766458 0.2617589573498933 0 1 181.26334568042682,167.2173386715622 L99.09507384706069,145.20397716798382 A79.37999536099792 79.37999536099792 0.2617589573498933 0 0 78.5531192765574,142.5 Z\" style=\"fill: rgb(255, 127, 14);\"/><title>B → D\n1.00</title></g><g class=\"link\" style=\"opacity: 0.8;\"><path d=\"M78.5531192765574,47.5 A63.54666202766464 63.54666202766464 0.2617589573498931 0 0 94.99772397252575,45.33536491224318 L177.1659958058919,23.322003408664823 A126.87999536099798 126.87999536099798 0.2617589573498931 0 1 210,19.000000000000004 L210,82.33333333333334 A63.54666202766464 63.54666202766464 0.2617589573498931 0 0 193.55539530403166,84.49796842109015 L111.38712347066549,106.51132992466852 A126.87999536099798 126.87999536099798 0.2617589573498931 0 1 78.5531192765574,110.83333333333334 Z\" style=\"fill: rgb(174, 199, 232);\"/><title>B → C\n2.00</title></g><g class=\"link\" style=\"opacity: 0.8;\"><path d=\"M0,47.5 A0 0 0 0 0 0,47.5 L78.5531192765574,47.5 A0 0 0 0 0 78.5531192765574,47.5 L78.5531192765574,142.5 A0 0 0 0 0 78.5531192765574,142.5 L0,142.5 A0 0 0 0 0 0,142.5 Z\" style=\"fill: rgb(31, 119, 180);\"/><title>A → B\n3.00</title></g></g><g class=\"nodes\"><g class=\"node\" transform=\"translate(0,47.5)\"><title>A</title><text dy=\".35em\" text-anchor=\"end\" transform=\"translate(-4, 47.5)\">A</text><line x1=\"0\" x2=\"0\" y1=\"0\" y2=\"95\" style=\"stroke: rgb(0, 0, 0);\"/><rect x=\"-5\" y=\"-5\" width=\"10\" style=\"fill: none; visibility: hidden; pointer-events: all;\" height=\"100\"/></g><g class=\"node\" transform=\"translate(78.5531192765574,47.5)\"><title>B</title><text dy=\".35em\" text-anchor=\"start\" transform=\"translate(-4, -10)\">B</text><line x1=\"0\" x2=\"0\" y1=\"-5\" y2=\"95\" style=\"stroke: rgb(0, 0, 0);\"/><rect x=\"-5\" y=\"-5\" width=\"10\" style=\"fill: none; visibility: hidden; pointer-events: all;\" height=\"100\"/></g><g class=\"node\" transform=\"translate(210,19)\"><title>C</title><text dy=\".35em\" text-anchor=\"start\" transform=\"translate(4, 31.66666603088379)\">C</text><line x1=\"0\" x2=\"0\" y1=\"0\" y2=\"63.333333333333336\" style=\"stroke: rgb(0, 0, 0);\"/><rect x=\"-5\" y=\"-5\" width=\"10\" style=\"fill: none; visibility: hidden; pointer-events: all;\" height=\"68.33333333333334\"/></g><g class=\"node\" transform=\"translate(210,139.33333333333334)\"><title>D</title><text dy=\".35em\" text-anchor=\"start\" transform=\"translate(4, 15.833333015441895)\">D</text><line x1=\"0\" x2=\"0\" y1=\"0\" y2=\"31.666666666666668\" style=\"stroke: rgb(0, 0, 0);\"/><rect x=\"-5\" y=\"-5\" width=\"10\" style=\"fill: none; visibility: hidden; pointer-events: all;\" height=\"36.66666666666667\"/></g></g><g class=\"slice-titles\"/></g></svg>"
      }
     },
     "f13949b8741f44d4b187cf89a20acf72": {
      "model_module": "jupyter-sankey-widget",
      "model_module_version": "^0.2.0",
      "model_name": "SankeyModel",
      "state": {
       "_dom_classes": [],
       "_model_module_version": "^0.2.0",
       "_view_module_version": "^0.2.0",
       "align_link_types": true,
       "layout": "IPY_MODEL_73d879c5e19d4280945904f358b1ad45",
       "links": [
        {
         "source": "A1",
         "target": "B",
         "type": "x",
         "value": 1.5
        },
        {
         "source": "A1",
         "target": "B",
         "type": "y",
         "value": 0.5
        },
        {
         "source": "A2",
         "target": "B",
         "type": "x",
         "value": 0.5
        },
        {
         "source": "A2",
         "target": "B",
         "type": "y",
         "value": 1.5
        },
        {
         "source": "B",
         "target": "C",
         "type": "x",
         "value": 2
        },
        {
         "source": "B",
         "target": "C",
         "type": "y",
         "value": 2
        }
       ],
       "margins": {
        "bottom": 0,
        "left": 30,
        "right": 60,
        "top": 10
       },
       "msg_throttle": 1,
       "order": [],
       "png": "iVBORw0KGgoAAAANSUhEUgAAASwAAADICAYAAABS39xVAAASfElEQVR4nO2dfXAU533HvxBPnTCya6cimUO6g0mIYiDEWLKbaYdWStJM0likTJMmIjjYHSo1w2AnI+nuhAiSij2NExS7hrEr2Y7TWIZQWXsX7kUIFRsUrLsTUSGUiuBgMpiXu5OVDh7cJJP6Rf3j0YnjdCfdnfZ5du/2+5n5/nH37Mkr8dzHv332t7sAIYQQQgghhBBCCCGEEEIIIYQQQgghhBBCCCGEEEIIIYQQQgghhBBCCCGEEEIIIYQQQgghhBBCCCGEEEIIIYQQQgghhBBCCCGEEEIIIYQQQgghhBBCDKH9lrvXRx3uwKiI3+dwB7tuiMvf7nD319vdgbolzoHKJc6BysVbekuM3nFCiPVIEVauuS40iowQIpt5Cmtmljr9R0R1JiRm9C9ICCkedBdWxkqMAiOEzBNFwroxdqe/0+4O1JW2DtiM/gMQQgoHQ4R1Y/w+e7O/sdzpqzb6j0EIMTcmEBarL0JIdphOWMlZ6vTvtTf7G7n2RQgBTC6sFHkdsTv9nWVOXy2rL0KsScEIi9UXIaRghZWp+mLzKiHFS1EIK1315XD315c1BiuM/gMTQvSjKIWVWn05XP52Vl+4D8BkSt4B8CsAmwzcL0KypuiFxeprmicAvAnggan8PYBHAPwSQl53GbVjhGSL5YRl4eorBOBgmvf/DEJYf6d2dwjJHUsLa2aCXXZ3oK4Iq6+bAPwOQFuasfsBvAtgmcodIiQfKKyM8fscLn97udNXXQTV1xpcr6JKp/JRCFn9BsA243aNWIUHICbhlSy2/XMAv07zPoWVdQq6+qrHzAX3RPYYuF/EIiwCcBnANYhJt2iWbZcBOAugN80YhZVXrldfuv/LyuFpAK8D+KukfAnAsxDz5x+M2zViBbYD+C2ArRATbmWabeoAjECsT0wCcKXZhsLSIQVwwfZJAP+e5v0FEG0NP1W7O8RKfAjAWxALqJUQMlqXZru/BtAM4LGpbT6bZhsKS/eY7nY5HwDwNgB3mrEFAC5BVGCESOEpiMPBRRCLp5MAvj3L9l+b2ub2NGMUluSYoPpKtC18Ls3Y+qmxWqV7RCzDHRDdyRunXi+AODTcPctndgE4l2GMwlIaQ6qvhyCk1IjrTaObATwO4A8A9kHMI0J0xwexHnErgJKpvAogOMtnjgDYn2GMwjIoCm+X8zxmnhl8G8AJiCWDhRL/28TCVCPzqemzGT6zEOJMYnOGcQrLJFFwuxwvxCEgIdJZCGAU4tKKtSnpgyjt0/2f8uMQQqvJ8HMpLBNGUvVFYRFlbATwHoDVaca2QUjJnuFzkwD+OMPPpbAKIqLva54Co7CIEt4P4AKAFzKMJ24bUpNm7HGINa5MUFgFGb8v8azHcqevOsvuewqLKMEFcWZweYbxxNrW5jRjxyDOAmWCwiqyiNvnBLsc7mCXvdnf6HD31zvc/fXvu23J6K2f+sqTideMfrm9ZvMuZF52ITpCYVkkN5evvPIn9za9ZvR+FGNuuXv9FQAdRn+ZrQCFZZFQWPJCYamDwrJIKCx5obDUQWFZJBSWvFBY6qCwLBIKS14oLHVQWBYJhSUvFJY62j9Yde+ZT7YPaomsaju03+Hy+42eBIy+obDkhcJSR/u6uoaoJxwbzZSdP/1V33e0X3Z9eU+4556dh7tX7BigzAowFJa8UFjqmFNYmfJY8LxvU/fPeyp3DvYsdfmPGj1pmNlDYckLhaWOvIWVmkcPnPvhV58a2b2q7dB+oycQMzMUlrxQWOrQTVjJ6Rm63L/5uf/cs7JtoJPVlzlCYckLhaUOKcJKjjYc6/zWC7+4z+EKNCx1+fYZPbmsGgpLXigsdUgX1nRCsSN9w+ONLb1jy8u2BWsdLn8Hqy91obDkhcJShzphJVdd4fF2byRaBQBljcEKVl/yQ2HJC4WlDkOENZ3IeJcnFJ9+YsviLb0lZduCtXZXgGtfOofCkhcKSx3GCmu64or7PKF4be/YZEnyztlaAlV214EmVl/zD4UlLxSWOkwhrOR1Lk84Xq+NTsy4DXBp64CN1Vf+obDkhcJSh7mEdUPVNd6eTlwJWH3lFgpLXigsdVR/48G2Ti0SbfCGxzu1SLx7OqHYUaOl5QnHRj2R8a7EAn0mSlsHbHZncIPdFeg0evKaNRSWvFBYJsIbiVZ5RuK1WiTaYKTIEutc2exzebO3xu460MSLuK+HwpIXCsvkeEYmKhICM2qdK3WBPhOsvkQoLHmhsAoM77FYjTc83qlaXHOtc6XDqtUXhSUvFFaB0js2WdIXim/oC8X8Sg8Xh2Odc61zpSNRfTlcgW6jJ73sUFjyQmEVAd5ItEoLxzqUVl0pjai5sHhLb0l5s7fG4fJ3FGP1RWHJC4VVRGijEzZtONakcrFeC8d9nki8Ltt1rnSUNQYriqn6orDkhcIqQgw5XJylETUXiqH6orAoLJInnpF4rScU36d0nSs83u4ZmajQY/8L8YJtCovCIvPEG4lWKT+7GBnv8oRi1Xr9DokLts1+uxwKi8IiOqGNTti0cKxD+TpXngv0s2HW6ovCorCIzvSOTZZokWiD0m76HBtRc8FM1ReFRWERiXhG4rXK+7nyaETNhbLGYIVRF2xTWBQWUYA3Eq1SfQlQvo2ouZC4XY6qM48UFoVFFOIZmahQ3YiqheJ7ZaxzpUO2wCgsCosYgDY6YVO9zqVHI2o+2FoCVeLC7QNNDlegez7rYBQWhUUMxKhG1L7h8UaZ61xzUdo6YLO1BKpsLYEqhyvQ4HAFGuyuQKcQWua1MQqLwiImQdyvS/E6V9KTf4ygrDFYscQ5UFnu9FU73P31Dnd/vb3Z3+hwB7vS5Y8+vPw1CovCIibCuAuu9WtETaa0dcA2LSSXv93hDnYtdfqP5POlYoVFYRGTYmQjar7rXKWtA7Yyp69WVEv5i4nCorBIgZJoRDXiguu5xDUtKJe/3eH2+2R/qSgsCosUEEY1oiZfcF3u9FWLdSb5gqKwKCxSBKhsRN07dPnkI96zr37lycjPP7Hj4H8Z+aWisCgsUsAk1rlkiOoR79lXNz19PPqnjxz+3+Tc8/Dha6vbDl1c3tp/msIqnuQgrDUAngdwGcDvAEQAtAG4WdpEJ8WFXo2oz7x08VT9cycufbZz6GqqqNKlaufhqyvbDp3/yLbgKQqrsJOlsB4E8A6AEAAngG8CeAHAJITECMme3rHJknzWuba/OHZu/e7hiWwkNZu8Vrcduvix7f1nKKzCSxbC2gAhpmYAC1LGuqfGyqVMbFL8eI/FamZb59o7dPmk8yenz2dbTeWSex4+fO3OjsH4qraBC3oKjMIyTFiLAbwJ4NkM438BcWh4t/4zmViK1EbUZ166eGrT08eja7/78jW9RTVb7to5+MbqtkMXV7YdOp+vxCgsw4TVDuBtAEuVTVxibb7+o5Nrvvj4K4fuefiwUlHNVYndtXPwjUQ1lqjIElnWEjxBYZlCWGcAaOpmK7EstpZAlbgWT0zMZS3BE6vaBi5U7Tys+6FgrvmbJ16Z+Nq/RuJbf3zy9a0/Pvl6077T578fOHcmkb1Dl08mH8auWPOpKw+17XlNZR+aVfKlDd/MJKwPQqxPtSmduMRapIoqXVbsOHiu6p/+439UiKn+udFL218cO5dORNmGwjJEWJ+AENamDFPtJgCPAvi6nJlMihpxLV9uXegf295/5q6dg2/oIafP7Bq6+o3u49HtL46d2zNw/r/1/FJRWIYIqwxCWDsyTLl/nBpfK2dGk6IkH1Gl5iPbgqfu7Bi8kss619rvvvxWQlDPvHTxlMwvFYVliLAWALgI4BKA21LGPgdx9pA9WGRuFm/pLXG4++v1vivCspbgiRU7Dp7LtM71mV1DV+ufG72kdwVFYZlSWIDowXoPwK8BtEL0YmkA3gWwH4DSu9iSAkOWqDIdLt7ZMXjl0987+hsjJEVhmUJYAPAFAMcAXIWouA4AqMPMJlJCBKWtAzZxKxeFp7xd/o7yZm8NIO4Wofwp1xSWWYRFSHYoF5XL77c7gxsWb+lNW+onLgFSfYNBCovCIiYmm9YEfUUV6E5UU7kgbncTbZB9yxsKi8IiJkS9qPwdZY3Birn3LDuSBaZnBUZhUVjEROjRmpCrqEpbB6Q/7ksbnbAlJOYNj3fmW4lRWBQWMQEqRbXU5T/qcAUaMq1PqcYbiVZdr8hEElJLzUdXfPI1CovCIgagsjXBjKICAC08UekJxWs94Xi9Jxyv90TGuzyR8S4tHPel+1KxwqKwiGJUi8rh8vvLtgVrjfydtdEJ27SYZhHSXKGwKCyiCCNaE4wSVUJQWni8PV85UVgUFjEA9aIKdNtaAkofP987NlniCcWq9RYUhUVhEUUY0UOlUlSekYkKTzher4Xie1V9qSgsCovojBE9VCpaE0QVJQ7zxJOh1X+pKCwKi+hEMfZQaeGJyr7h8UaVVRSFRWERiRRTD9X0YvlwrNOoKorCorCIzhRTD5UnFKvuGx5vlLlYTmGZPxRWEVIMPVSekYkKTyRepw3HOo3+kuQaCovCIllQyD1UqloOVITCkhcKqwiwtQSq7E5/pzpR6dOakGg58ETGu4z+IugZCkteKKwCZfGW3hK7O1Cn9ozf/ERlhpYDFaGw5IXCKiAWb+ktKXf6qo24/XC+rQlmazlQEQpLXigsk1PWGKyYWkDfq1RSeYrK7C0HKkJhyQuFZRIWb+ktWeIcqLS7A3X2Zn+jwx3sUnaWLyn5tCZMtxxYqIqaLRSWvFBY6qi+vWbzLoe7v14skAe7EjFCTPMRlTY6YSvUlgMVobDkhcJSR/std6+PGi2mNId9c7YmFFPLgYpQWPJCYanDXMKaQ1SJxs1iazlQEQpLXigsdZhDWBlaE6zScqAiFJa8UFjqMFZYaUSlhScqVd8rygqhsOSFwlKHMcJKak1gy4GaUFjyQmGpQ52wXH6/wxVoKG0dsLHlQH0oLHmhsNQhXVh2V6Dz8z94+ctsOTA2FJa8UFjqkCKsj39n4OD9zxzv/LehK7vYcmCOUFjyQmGpQzdhffr7Qz907j+9u+dnl3uMnkDMzFBY8kJhqSNvYf3l94b2b+35RU/X4IUeLpabPxSWvFBY6phTWJ9/7BVt3ePD3e6fjPV0DV7o2XfsisfoCcLkHgpLXigsdbRX12488+xLF7VEen52uYfrTsUXCkteKCx1tK+ra4ga/Q/OyA+FJS8UljooLIuEwpIXCksdFJZFQmHJC4WlDgrLIqGw5IXCUgeFZZFQWPJCYWXHAwAmAVzJML4AwFcBHAdwDcAlAE8A+EDSNhSWRUJhyQuFNTeLAFyGENHk1OtUGqfGfgTgPgD/DOBdAD9I2obCKrJoodhRLRLv1iLxbm041qRFog1aJNrwhb994Enno8+2JV4z+uX+h9p3AaiR+YUvdLYD+C2ArRBSWpkyXgbg/wC0pbz/PIBzSa8prEJOKL5PG441eUbitd5IdN4PkSVEBh8C8BaEjCohhLUuZZsHAfwewG0p7/8LgNNJrymsAkpfKObXhmNN3mOxmt6xyayfIESIkTwFcTi4CEAphLC+nbKNDcCylPc+DCAO4NGk9ygsk8cbHu/sC8U3aKMTeT00lhAjuQPAOwA2Tr1eAHFouHuOz1UBuAjgFG6suigss2XqMI+HeKQY8AE4CeBWACVTeRVAMMP2SwA8DSE5DaIiS4bCMjhaKHbUGx7v9IzEa1lFkWKiGuLwL13Opmy7EMAWiLOIpwF8McPPpLCMSCi+T4tEGzwjExVSZgohBrMQwCiAgwDWpqQPwB+mtgGAmyBaGX4P4FsA3jfLz6WwFKQvFPNr4ViHZyRey8VyYgU2AngPwOo0Y9sgqiz71OtGiLOIq7L4uRSWpGiReHdfKL6BVRSxGu8HcAHACxnG74MQVg2AmwG8CWAIQHOa3JHyWQpLp7DlgBCBC2LRfHmG8cTa1mYA9yLzOtckgDUpn6Ww5hG2HBCiFgorlyRaDo7Faoz+hyPEilBYs4QtB4SYCworNVMtB2zcJMR8WF5YWih2lC0HhBQGlhQWWw4IKUwsIaxE4yZbDggpbIpWWGw5IKT4KB5hseWAkKKnYIXFlgNCrEdhCYv3iiLE0phaWGw5IIQkYzphiSe+8F5RhJCZGC4sthwQQrLFEGElWg5YRRFCckGJsBKHeVwsJ4TMB92Fdf3JwxQUIURf5iUsLRLv1sKxjoScuAZFCJHJDcK6Xh0lZTjWpEWiDX2h+AZvJFpFMRFCCCGEEEIIIYQQQgghhBBCCCGEEEIIIYQQQgghhBBCCCGEEEIIIYQQQgghhBBCCCGEEEIIIYQQQgzg/wFfHyDefpsbjQAAAABJRU5ErkJggg==",
       "scale": 23.75,
       "svg": "<?xml version=\"1.0\" standalone=\"no\"?><!DOCTYPE svg PUBLIC \"-//W3C//DTD SVG 1.1//EN\" \"http://www.w3.org/Graphics/SVG/1.1/DTD/svg11.dtd\"><svg xmlns=\"http://www.w3.org/2000/svg\" width=\"300\" height=\"200\" viewBox=\"0 0 300 200\" style=\"font-family: &quot;Helvetica Neue&quot;,Helvetica,Arial,sans-serif;\"><g class=\"sankey\" transform=\"translate(30,10)\"><g class=\"groups\"/><g class=\"links\"><g class=\"link\" style=\"opacity: 0.8;\"><path d=\"M0,54.625 A68.02932952786378 68.02932952786378 0.4222262936585297 0 1 27.877891672365436,60.59941165736349 L87.70400733431308,87.47602400068646 A85.67388254643963 85.67388254643963 0.4222262936585297 0 0 122.8125,95 L122.8125,106.875 A97.54888254643963 97.54888254643963 0.4222262936585297 0 1 82.83772442506074,98.30814824513263 L23.011608763113088,71.43153590180965 A56.15432952786377 56.15432952786377 0.4222262936585297 0 0 0,66.5 Z\" style=\"fill: rgb(174, 199, 232);\"/><title>A1 → B\n500m</title></g><g class=\"link\" style=\"opacity: 0.8;\"><path d=\"M0,123.5 A56.15432952786377 56.15432952786377 0.4398219248664481 0 0 23.90929746513654,118.155651966401 L76.22218043621989,93.53914466939108 A109.42388254643963 109.42388254643963 0.4398219248664481 0 1 122.8125,83.125 L122.8125,95 A97.54888254643963 97.54888254643963 0.4398219248664481 0 0 81.2782982776343,104.28397120934653 L28.965415306550952,128.90047850635645 A68.02932952786378 68.02932952786378 0.4398219248664481 0 1 0,135.375 Z\" style=\"fill: rgb(31, 119, 180);\"/><title>A2 → B\n500m</title></g><g class=\"link\" style=\"opacity: 0.8;\"><path d=\"M0,19 A103.65432952786378 103.65432952786378 0.2806490100616008 0 1 28.710106222545637,23.055384600916284 L104.57445354007046,44.92382378556606 A65.84623766447369 65.84623766447369 0.2806490100616008 0 0 122.8125,47.5 L122.8125,83.125 A101.47123766447369 101.47123766447369 0.2806490100616008 0 1 94.70706508811733,79.15502695078159 L18.842717770592497,57.28658776613182 A68.02932952786378 68.02932952786378 0.2806490100616008 0 0 0,54.625 Z\" style=\"fill: rgb(31, 119, 180);\"/><title>A1 → B\n1.50</title></g><g class=\"link\" style=\"opacity: 0.8;\"><path d=\"M0,135.375 A68.02932952786378 68.02932952786378 0.2732821079435599 0 0 18.360653064553617,132.85044964933653 L99.68970215610526,110.05433502691255 A85.67388254643963 85.67388254643963 0.2732821079435599 0 1 122.8125,106.875 L122.8125,142.5 A50.04888254643963 50.04888254643963 0.2732821079435599 0 0 109.30464720942692,144.35730073866415 L27.975598117875272,167.15341536108812 A103.65432952786378 103.65432952786378 0.2732821079435599 0 1 0,171 Z\" style=\"fill: rgb(174, 199, 232);\"/><title>A2 → B\n1.50</title></g><g class=\"link\" style=\"opacity: 0.8;\"><path d=\"M122.8125,47.5 A0 0 0 0 0 122.8125,47.5 L210,47.5 A0 0 0 0 0 210,47.5 L210,95 A0 0 0 0 0 210,95 L122.8125,95 A0 0 0 0 0 122.8125,95 Z\" style=\"fill: rgb(31, 119, 180);\"/><title>B → C\n2.00</title></g><g class=\"link\" style=\"opacity: 0.8;\"><path d=\"M122.8125,95 A0 0 0 0 0 122.8125,95 L210,95 A0 0 0 0 0 210,95 L210,142.5 A0 0 0 0 0 210,142.5 L122.8125,142.5 A0 0 0 0 0 122.8125,142.5 Z\" style=\"fill: rgb(174, 199, 232);\"/><title>B → C\n2.00</title></g></g><g class=\"nodes\"><g class=\"node\" transform=\"translate(0,19)\"><title>A1</title><text dy=\".35em\" text-anchor=\"end\" transform=\"translate(-4, 23.75)\">A1</text><line x1=\"0\" x2=\"0\" y1=\"0\" y2=\"47.5\" style=\"stroke: rgb(0, 0, 0);\"/><rect x=\"-5\" y=\"-5\" width=\"10\" style=\"fill: none; visibility: hidden; pointer-events: all;\" height=\"52.5\"/></g><g class=\"node\" transform=\"translate(122.8125,47.5)\"><title>B</title><text dy=\".35em\" text-anchor=\"start\" transform=\"translate(-4, -10)\">B</text><line x1=\"0\" x2=\"0\" y1=\"-5\" y2=\"95\" style=\"stroke: rgb(0, 0, 0);\"/><rect x=\"-5\" y=\"-5\" width=\"10\" style=\"fill: none; visibility: hidden; pointer-events: all;\" height=\"100\"/></g><g class=\"node\" transform=\"translate(0,123.5)\"><title>A2</title><text dy=\".35em\" text-anchor=\"end\" transform=\"translate(-4, 23.75)\">A2</text><line x1=\"0\" x2=\"0\" y1=\"0\" y2=\"47.5\" style=\"stroke: rgb(0, 0, 0);\"/><rect x=\"-5\" y=\"-5\" width=\"10\" style=\"fill: none; visibility: hidden; pointer-events: all;\" height=\"52.5\"/></g><g class=\"node\" transform=\"translate(210,47.5)\"><title>C</title><text dy=\".35em\" text-anchor=\"start\" transform=\"translate(4, 47.5)\">C</text><line x1=\"0\" x2=\"0\" y1=\"0\" y2=\"95\" style=\"stroke: rgb(0, 0, 0);\"/><rect x=\"-5\" y=\"-5\" width=\"10\" style=\"fill: none; visibility: hidden; pointer-events: all;\" height=\"100\"/></g></g><g class=\"slice-titles\"/></g></svg>"
      }
     },
     "f15848e26dc645cab62e25036b5a0b91": {
      "model_module": "jupyter-js-widgets",
      "model_module_version": "~2.1.4",
      "model_name": "VBoxModel",
      "state": {
       "_model_module_version": "~2.1.4",
       "_view_module_version": "~2.1.4",
       "children": [
        "IPY_MODEL_1e0cdcd3c22245edac0337217dd496fd",
        "IPY_MODEL_ffcb176bc4954dbd9bd32bf8c2f7e7d7"
       ],
       "layout": "IPY_MODEL_b663f470f1964d418864a8e024d79068"
      }
     },
     "f29a72bd6abe47d38206af795394ddc5": {
      "model_module": "jupyter-js-widgets",
      "model_module_version": "~2.1.4",
      "model_name": "LayoutModel",
      "state": {
       "_model_module_version": "~2.1.4",
       "_view_module_version": "~2.1.4"
      }
     },
     "f30f3f0ff8464a14b958501f93afb5af": {
      "model_module": "jupyter-sankey-widget",
      "model_module_version": "^0.2.0",
      "model_name": "SankeyModel",
      "state": {
       "_dom_classes": [],
       "_model_module_version": "^0.2.0",
       "_view_module_version": "^0.2.0",
       "layout": "IPY_MODEL_201e0f92294e49899a2c8f02a65b77dc",
       "links": [
        {
         "source": "A",
         "target": "B",
         "value": 1
        },
        {
         "source": "B",
         "target": "C",
         "value": 1
        },
        {
         "source": "C",
         "target": "D",
         "value": 1
        },
        {
         "source": "A",
         "target": "E",
         "value": 0.5
        }
       ],
       "margins": {
        "bottom": 0,
        "left": 30,
        "right": 60,
        "top": 10
       },
       "msg_throttle": 1,
       "nodes": [
        {
         "backwards": true,
         "id": "C"
        },
        {
         "backwards": false,
         "id": "D"
        }
       ],
       "order": [],
       "png": "iVBORw0KGgoAAAANSUhEUgAAAlgAAAGQCAYAAAByNR6YAAAgAElEQVR4nO3dbYxcWXoX8GeWLGKWnn1Td6BdruqIkFZAIG3sicJKsDOKkgVFBk0QC2Ml2myy2AInWULbdattYG0iQAiMUECK7GgFUoKNaJFM3LfKaSSQZyWUTyYrFBE2gKLAZkJQAgQIK4V9GT5Un+lyu223q+vWuS+/n/T/sG6vZN2+VfOve546JwIAAAAAAAAAAAAAAAAAAAAAAAAAAAAAAAAAAAAAAAAAAAAAAAAAAAAAAAAAAAAAAAAAAAAAAAAAAAAAAAAAAAAAAAAAAAAAAAAAAAAAAADI5rsj4u1D+XJE/IeI+HjGfxcAQGP9SET8ZkR8Yj/fGxF/IyL+fUzL1jfl+ocBADTVz0bEzxzx5x+OacH62HL/OQAAzfY1EfHFiPj0ET/7noj4SkR83TL/QQAATfehOHhKtbqfr49pufqNiLia758GANBMF+LxAfeUf5jx3wUA0Fg/FhH/OSK+bSZ/KiI+E9OS9efz/dMAAJrpcxHxz4748xdiuk3DTy/3nwMA0GwvRsSXImJ0xM9eiIgvxPQJFwAAx5S2Yfj2I3722v7Pzi31XwQA0HCfimmJ2oqDTUY/GRF/PyJ+OyLuxvRJFgAAx/Tj8fg3B78UET8XEVci4l35/mkAAM12PSJu5P5HAAC0iYIFALBgChYAwIIpWABAd5wa7p05nMHo/oXZ9K+UW4PR5NbTU+4ORuOHR+Wll19766WXX/vV6f8udx/5/xXl9cHo/oXTw91XTg33zuS+HgAAj+ltTTaPLkqzZejoIlRVHi1Yx0m52x+WN/uj8eu9rclm7msKALRYKk+94e65wej+henTn8mtjWF5Z9mlqdqC9Wg2huWDVLjWLu2s5P49AAANsnptb/3UcO9MfzR+fTC6f6E/LG/uF6gHuUtSzoJ1OP1hebM33D2nbAEA7zg13Dtzerj7ymyJyl2CmlSwUjaG5YNBUV5f3x6fzf07BQCWJD2NOhgSf/IgeJtTVcF6NJNbp4e7r+T+nQMAC7J2aWclDZX3h+XNus9EtbNgpZS7veGuA6QBoEl6W5PNtLzXhvmo9hWsg6J1+sobr+a+XwCAQ2afTClTTStYKZNbq9f21nPfSwDQWavX9tZ7w91zg6K8bpmvLQUr5f4F3zoEgCU4NDfl6VSrC9b44WBU7tq4FAAWbHa5L/9/7LuT+hSsafqj8eu570UAaKze1mSzPxq/7gmVgnU4/WF505IhABzD6rW9dYWqfqljwRqMphuVWjIEgEPWLu2snB7uvjI9k6+bm3g2IXUtWCm9qxP7ZgHQbb2tyeZgdP+Cb/k1J3UvWIORkgVAx6StEyz7NTdNKFiD0fhh/0q5lft+B4DKnB7uvjI9v8+yXxvSlII1GI0fDoryeu77HwAWIn3bz/YJ7UyjCtZorGQB0Exrl3ZW0o7pnlK1P40rWKPxw35x73Lu1wkAPNOp4d6Z/pVyy3B699LEgjUYGXwHoIbsSSUpTS1Yg5GSBUBmaU8qw+lyOE0uWDYjBWDpDKfLcdLkgjUYjR9uDMs7jtUBoDJpT6pBUV637CfHTdML1mA0Pbsw9+sPgBYxnC4nTRsK1mA0ftgfTs7nfj0C0FCzw+m5/4Mm7UhbCtbGsHywem1vPfdrFIAGcGCyVJ22FKxpJrdyv2YBqKl0YLLhdFlG2lWwLBUCsM+ByZIzbStYlgoBOiztSWU4XXKnbQVrMBo/HBTljdyvcQCWIO1JZThd6pZWFqzR+KENSAFayHC6NCVtLVgG3gFa4tRw78xgdP+CZT9pUtpbsMYP17fHZ3O/LwDwnAynSxvS5oLlKRZAQzgwWdqWdhes8UPfKASoIQcmS9vT9oLlG4UANbB2aWclHZjsKZV0Ia0vWCNPsQCycGCydDldKFh2dwdYgtkDkw2nS9fThYI1GJW7ud93AFon7UllOF3k8XSjYNl4FGAhDKeLHC9dKVj94t7l3O9LAI2T9qQaFOV1y34ix09XCpZlQoBjMpwucvJ0p2BZJgQ40uxweu43apG2pEsFy7cJAcKBySLLSJcK1qAY3879vgaQRW9rsunAZJHlpVMFazR+mPs9DmApHJgskjddK1jr2+Ozud/3ACqR9qTylEokf7pWsMxhAa2R9qQynC5Sv3StYDn8GWgsByaLNCddK1gbw/JO7vdIgGM7Ndw7YzhdpHnpWsEajAy6AzVmOF2kHVGwADJzYLJI+6JgASyZA5NF2h8FC6Bis8Pplv1EWpCiLAfF+PbT8r6PfM+/fN9HPv6vNoryzez/3iUl93st0AEOTBapXzaK8s1UgPrF+OagGF9M6V2dnFvfHp+dzeq1vfVFvB/0h5PzXShai7hWAI+YPTDZUyqRJWf/idJsaZotSrnfHyLScVU1uFYVJvc1BlogHZhsOF1kCXmnQN27PPu0aVFPmJZlUIwvZr+WFSb39QUaKh2YbDhdpKIU49uDorwxKMYXT19549Xe1mQz9+t+kdr+FCv39QUaIu1JZThdZMHZfxrVH07Or2+Pz65d2lnJ/XpfluzXvsLkvrZAjRlOF1lcZobKW/lEah65fydVJve1BWpkdjg995uTSJOzUZRvpiHzrj2Veh65f09VJve1BTJKw+kOTBY5WTaK3bv94t7l3tXJuaYNm+eU+/dWZXJfW2DJ0nC6ZT+R+XL46VTu13ST5f5dVpnc1xaomAOTRU6WVKj6w8l5c1OLlft3W2VyX1ugAmlPKk+pROZMMb6tUFUv+++5wuS+tsACpAOTDaeLzJn9b/dZ8luu7L/3CpP72gJzmD0w2XC6yBwpynJQlDdOX3njVd/wyyf7fVBhcl9b4JhODffOGE4XmT9pjsq3/Ooj9z1RZXJfW+AJDKeLnCxp6wTLfvWV+x6pMrmvLTDDgcki82e6U3p5w15UzZH7nqkyua8tdFoaTndgssic8W2/Rst+/1SY3NcWOmV2ON2yn8gcKcqyX9y7bDi9HbLfTxUm97WF1nNgssj8md3k07Jf++S+v6pM7msLrTN7YLKnVCLPH8Pp3ZH7Xqsyua8tNJ4Dk0VOmP09qXpXJ+cs+3VL9nuvwuS+ttBI6cBkw+kic8ZwOqFgQeelPakMp4vMmZnh9NyvZ7L6UET8eET8SkR88d1rX/dbL33zd77V3/qpf5P9Hl1wMl9nqC/D6SLzJw2n25OKGT8YEV+OiJ+NiGFE/IUXv+Fb/ntEvP3iN/yR38h9zy46Wa801IkDk0VOlo1i9+6gGF+07McRzkfE2xFxJSJeSH84GI0fvucPfOTXI+LtUxc/829z38OLTK4LDdkZThc5YRyYzPGsRcRvRsRnDv9gMBo/XPvYX//8u9e+7rd+z/m//QvZ7+kFZvmXGTJKw+mW/UTmS9qTylMqnsP1iPhSRGwc/kHu+7nKLP8ywxI5MFnkZEl7UhlO5wR+ISJ+8qgf5L6/q8ySrzFULx2Y7CmVyPPHgcks2AdjOnv16aN+mPt+rzLLvcxQAQcmi5wwxfi24XQq8odiWrA+ftQP+1d++uHKN33Hf/3AR7//l7K/Dhac5V5mWIDZA5MNp4vMEcPpLE8vpgXrrx31w/e/+n2/HBFvr33shz+f/XWx4CzzIsPcTg33zhhOF5k/Dkwmkxci4r9ExBci4v2HfvbtL7z7xS+3cQ+swUjBoqYMp4ucLA5MpkbOR8RXI+KXIuJaTPfC+smI+MqLv++b/0fvL+38XO7XSxXJecHhHWlPqv6Vcsuyn8jzZ3Y43bIfNfR9EfEwIv5nTJ9o3YuI1/tFmf21U1WyXm26zXC6yAnjwGSa43pE3Jj9g7VLOyvZX0MVJs9lppNmh9Mt+4nMkZkDkz2lomEeK1i9q5Nz2V9TFSbPZaYzHJgsMn/SgcmG02mBRwrW9OlVu8dB8l1qWmn12t56OjDZUyqR5086MNlwOi3zTsFau7Sz0h+WN3O/1qpO3stN4zkwWeSE2d+TynA6bbN2aWfl1HDvzKnh3pnf8cHBrXd/7df/4/0VjU58+M59/WmgdGCy4XSROWM4nRbobU020x6F0w/Zk1tPKk8vvfzaWy+9/NqvZn/tLTG5fz80QNqTynC6yJyZGU7P/XqGeaVvfs8zAqJgwT7D6SLzJw2nOzCZJkvf/F7ETK2CRWfNfjLJfVOKNDFpON2yH02X5moXuWKhYNEZhtNFThgHJtMiq9f21vfPe61kDKRzBasoy9y/U5YoDadb9hOZL2lPKk+paIvVa3vr0w/a1b52ulewxrdz/26pkAOTRU4WBybTVssqVikdLFgXc/+OWSAHJoucLLMHJhtOp43WLu2sTP8bsdzXVtcKlm8Mt0AqVJb9ROZMMb5tOJ0u6A13z+VazehawfIBrYHe2dTNJp8i88VwOh2zvj0+m/tDeKcKlgH3+lu9trd+sOSnUInMEwcm02XTD+T5X4ddKlj94t7l3L93Dkl7Udk6QeRkMZxO161d2lmp0wfzLhUs81eZ9bYmm73h7jnLfSInz+xwumU/um5/SbBW3xzvUsHK/fvvlFPDvTP90fh1S30iC4wDk+ExdVkSPJyuFKx+Mb6Z+x5opd7WZPP0cPeVwej+hf29p3yzT2RRmTkw2VMqeNwy97V63nSlYPWuTs7lvg8aa+3Szkp6InWwvGdeSmTRcWAyHM/apZ2VOperwagbBWujKN/04e8pUoE62A4hlShLeyJVJx2YbDgdjmft0s5KE1ZLulCwBkV5I/f9kE1va7KZylN6ApXmoppwg4q0Lvt7UhlOh+fXlHI1GHWjYDX+g2EqSLM5eNI0TX9Y3kxPner2TQqRzsdwOpxYk8rVYNSBglWjzUUvvPQtH/vswdKbMiTS1qQ9qewNA4vTtLGVthesOg23X2/zhRbpcgynQ7XqPtB+VFpdsGr09CpCwRJpVdJwumU/qFYTy9Vg1O6C1R9Ozue+L2YpWCJNjgOTYel6Vyfnsr/250xbC1Ydt2ZQsEQalnRgsqdUsHy9rclmk+eU21qw6jR7lShYIjWPA5OhHpr2jcGj0sqCVbPZq0TBEqlZZg9MNpwO9dHUuavZtLFg1fXDp4IlUocU49uG06G+Tl9549Xs7xMLSOsKVjG+nfveeBIFSyRHHJgMjbG/NNjYuavZtKlgbRTlm3V+yq9giSwhaU+q/nByvs5vCMDj+sW9y7nfQxaVNhWsum3LcJiCJVJRDKdD8/W2Jpu530sWmdYUrBovDSYKlsiCMjucbtkP2qFpR+E8K20oWHVfGkwULJGTxIHJ0FpN3lD0SWlDwWrKqoCCJfI8mRlOz/3iBao1GJW72d9zFpymF6y6z13NUrBEnhIHJkM3tfHp1WDU7ILVL8Y3c98Xz0PBEjmUdGByUx5DA4vXxqdXg1FzC9ZGsXu3abOtCpbI/oHJhtOBiIj17fHZ7O9LFaWJBauJ5SpCwZKOxoHJwJO07ZuDs2lcwSrKsonlKkLBko4k7UllOB14mrbte3U4TSpYG0X5ZpM/BCtY0soYTgfm0aZd249KUwrWRrF7t+nv3QqWtCZpOL3Jn3iAvNpy5uCT0oSC1dSZq8MULGlu9ofTHZgMLMLpK2+8mv19reLUvmAV49tteT9XsKRRcWAyUJVBUd7I/R5XdWpdsIryRu57YJEULKl1HJgMLEvblwcHo3oWrI2ifLN3dXIu9+9/0RQsqVVmD0z2lApYljbvfTWbuhWsjWL3blvnZhUsyZ9ifNtwOpDToBhfzP5euITUqmAV5Y22zFsdRcGS5WfmwOQ2v7iA5hgU49vZ3xuXkFoUrKIsu7AnoYIllSftSWU4HaijtUs7K7nfJ5eV7AWrGF/sygdrBUsqieF0oCm6sD1DSraCVYxvd+0DtoIli4kDk4GG6sr81WCUoWAV49td/aCtYMn8Kca3HZgMNF1X5q8GoyUWrA4Xq0TBkuNnZjg9940LsCgbw/JO9vfXJaXyglWUN7perBIFS54YByYDXZD7vXaZqaJgbRS7d/vDyXnjIY9SsOSRpAOTfQIBumD12t567vfdZWZhBasoy0ExvujD95MpWF2PA5OBDuvKDu4pcxesmS8yKVXHo2B1MGlPKsPpQNf1h5Pzud+Tl5lnFazpcWXj24OivJFWMxSqo30iIt6OiLee8HMFqwNJe1IZTgd4VJe2aOgX45sf+OM/+Dc/8NHv/1vr2+Ozh5P7d9Ek74mIX4mI/x3TkvWeI/6OgtXCGE4HOJ4uFKyNYveu/xYs1l+JiP8bET8Q04L1B4/4OwpWW+LAZIDn1vqCVZSl+drF+tqI+D8R8emIOBPTgvUnj/h7ClZTYzgd4MQGRXkj+/t5heldnZzLfY3b5kdjujz4nohYjWnB+qEj/p6C1aA4MBlgsdq+i7sP4Iv1jRHx5Yj4rv3//UJMlwr/wRF/V8GqcRyYDFCtthes3Ne3bXYj4nMR8d6IWNnPL0bE5Ii/q2DVKZb9AJZKweK4XonpcuBR+fwRf1/ByhkbtwFkpWBxHO+KiIcR8TMR8UcP5Z9HxG/v/51ZCtYSk7ZPMEcFUA8KFsfxXRHx1Yj4w0f87GpMn2L1D/25glVl9p9Q2TUdoJ4ULJ7ld0XEL0fEP3nCz787pgXr1UN/rmAtMvt7UZmhAmgGBYtnKWL6zcHf/4Sfp9msTx76cwVr3ng6BdB4ChZVUbCOkY1i9+7swZeeTgG0g4JFVRSswynGt/vFvcu9q5Nz9p8CaDcFi6p0t2AV49v9YnwzzUz5Vh9A9yhYVKXdBasoy/REqj+cnF/fHp9VpABIFCyq0vyCNf3m3u1+ce9yehplaQ+A41CwqEqtC9ZGUb45u5SXhswVKAAWQcGiKksvWNNv5E2fOqXSNFuclCcAlkXBoiqPFKxD5eepmX2qlJK+eTcbM08A1JWCRVWe6wnWxrB8MBhNbh1O/0q5NRjdvzCb08PdV04N986k2DsKgLpRsKhKlhmsjWF556hyNlvKcl8YANpPwaIqtR5yn+bRIpZKmKVHAE5KwaIqDShYz0q5OxhNbg2K8noqYM4GBOA4FCyq0oKCdYzyNbp/oT8av24WDIBZChZVaXnBelqmT71S8cr9iwBg+RQsqtLhgnVUyt3+sLw5GN2/YM4LoP0ULKqiYD0jB1tTTOe7lC6A9lCwqIqCNVemT7osLwI0m4JFVRSshWW6lYSnXADNoWBRFQWrspS7g6K83hvunlO4AOpJwaIqCtbSonAB1I2CRVUUrEzZGJZ30pKivbkA8lCwqIqCVZOkwmVoHmB5FCyqomDVNOlbipYTAaqjYFEVBasRmc5vWU4EWKy2Fywf0vNRsBqYjWF5ZzC6f8Gh1gAn0y/uXc79nl5pivHF3Ne4qxSshmdjWD7oD8ubvp0I8PwGxfhi7vfxqv8b4cN4HgpWyzL77cTcNxdA3bW9YO3/d+HB+vb4bO5r3TUKVsuThuV9ggF4XBcKVsrGsLzz/m/95E9ExHfkvu5doGB1KgebnRqWB4joDyfn8783Ly8vvfzaWxFxI/d17wIFq8NJw/L23gK6an17fDb3e/Eyo2Atj4IlDwcjw/JAN61e21vP/f67zChYy6NgyRNS7hqWB7og//vt8qJgLY+CJcfM5JZheaCN2r7Z6GwUrOVRsOS5szEsHxiWB9qiX4xv5n5fXVYUrOVRsOTEcVA10GRd2qpBwVqeT7704T/72UExvj2bjaJ8M/dNIM1MGpZ3UDXQFF36JqGC1QCr1/bW17fHZ2fTuzo5NyjGFw/loLzV4OaSZedgWN5yIlBX+d8rlxMFq+XWLu2spFJ2+sobrx6UsfLGtIyVZe6bUKrK5JaDqoG66cpDAAWLiDgoYo+WME/D2pLZYXnLiUBOXZnDUrA4llTA+sPJ+VS+Nordu7lvYJkvhuWBXLoyh6VgcWK9rcnm+vb47CNLjzW4ueX4MSwPLFMXvuClYFGZ3tZkc2YY3zcmG5PpQdWG5YGqDIryRv73umqjYLFU6RuRg2J8sV+Mbxqyr3/SQdWG5YFF6W1NNnO/t1UdBYvs1i7trMwM11terHEcVA0sSts/YCtY1FJva7I5Hagvb7T9RdjkpGF5B1UDz6tf3Luc+z2syihYNEJ6ytUv7l327cU6x0HVwPGsXttbz/+eVV0ULBpp7dLOynSA3hOu+mY6LO+gauBJ2jwWomDRCqvX9tYVrnonDcvbewtI2rwnloJFK6UZrn4xvpn7RSaPx7A8kLT1KZaCRSesb4/Pmt+qcxxUDV3V1qdYxyhYL0fE24fy/yLi5yPiExVfdli82fktm5/WNYbloUva+OH3GAXrL8a0VP1ATAvV90bEX42Iz+//+Z+p9qpDxQ62hGjnY+qmZ/agak+3oJ3a+BTrGAXrH0XEr0XEC4f+/MWI+MX9QDvMbgdhWL6ecVA1tFPbZmaPUbB+PiJ2n/Cz6zF9ivW+BV9mqIfVa3vraVjecmL9koblHVQNzbd6bW+9Te+zzyhYvzsivhLTJcGjXA4Fiy5J5yi2cV6gHXFQNTTZoBhfzP8+spg8o2D9sZgWqI8+4ec/GhFfqOASQ/3Z7LQJmdxyUDU0S1veT59RsLZiWrA++ISffzYi/kUFlxeax7B8vTM7LG85EeqrLQPvzyhY/zQi/uMTfrYREV+NiKsVXF5oPsPy9Y5heaivNiwVPqNg/aeIuPuEn/2diPhiRPzeCi4ttEs6ysewfH2ThuUtJ0I9NH014CkF6wMxXR78oSN+9udiOvxeVHdlocV6W5NNw/J1jmF5yG3t0s5Kkz+QPqVgfTSmBevvxsEGo1sRcX//z29FxLuWcpGhzdLeW4bl65t0ULWnW7BcTZ7HekrBuhaPH5HzvyLiQUT86WVdW+gcB1XXOw6qhuXqXZ2cy/26nycOe4aac1B13XNwUHXuewXaql/cu5z/tf58UbCgQdKwvIOq6xwHVUMVBkV5I//r+/hRsKDB0rB8079t095Mh+UdVA2L0aSSpWBBSxiWr3/SsLy9t2A+a5d2VprygVLBgpZyUHW946BqmF8TnmQpWNARhuXrnoNhecuJ8Gx1L1kKFnTQ7EHVnm7VNYbl4Vn6w8n5/K/Vo6NgAQ6qrnlmD6r2dAse1bs6OVfHD4oKFvCINCzvoOr6xkHV8Kje1mSzbuMPChbwVA6qrn8My0P6hmF95rIULOC5rG+Pzzqous5xUDXddvrKG6/W4cOgggXMbXZY3nJiXTO55aBqumb12t567vNcFSxgYQzL1zuzw/KWE+mC9e3x2VxP2xUsoDJpWN5yYj2ThuUdVE3b9YeT88teNlSwgKUwLF//pGF5y4m00f4xOxeX9f6jYAFZpIOqPd2qawzL006paFU9N6pgAdk5qLr+SQdVe7pFm0w3Ka3mQ56CBdTO7EHVuYuFHFm2HvSH5U3D8rTF6rW99UU/1VKwgNpzUHXdc3BQde57BU6qtzXZXMT7jYIFNEoalndQdZ3joGraYfbosOctXAoW0GhpWN7eW3XNdFjeQdW0RW9rsjmdGR1fnM6Njm8ftbSoYAGt4aDq+sdB1XTF7/zoxW+MiA/m/ncALNzssLzlxPolDcs7qBoAGsywfN1zMCxvOREAGmj2oGpPt+oaw/IA0GgOqq53HFQNAC1gWL7eMSwPAA3noOr6x7A8ADTc+vb4rIOq6xwHVQNAo80Oy1tOrGsmtxxUDQANloblHVRdzzioGgBaYN5zzGRpheuOg6oBoMEMy9c/aVjeciIANFQ6qNrTrbrGsDwANFo6qNqwfH2zMSzvDEb3L9h7CwAaavag6tzFQo4sW4blAaDpHFRd9xwcVJ37XgEA5pCG5R1UXec4qBoAGs1B1XXPdFi+N9w9Z1geABooDcs7qLq+cVA1ADTc7LC85cT6JQ3LO6gaABrMsHzdczAsbzkRABrIQdVNiIOqAaDRDMvXOxvD8kEalrecCAANZVi+3jEsDwAN56Dq+sewPAA03Pr2+KyDquscB1UDQKM5qLr+cVA1ADRcGpZ3UHU9M7v3lm8nAkBDpWF5y4n1jMIFAA1nWL4JOTg7UeECgAbqbU02B8X4or236puNYfkgbXh6arh3xtA8ADSIYfnmZGNY3vGUCwAaaPag6tyFQp5ZuB4MRpNb/SvlltIFAA3ioOrmJT3p6o/Gr9siAgBqLg3LD4ryhmH5pqXcfecQ6+HuOXNdAFBTDqpuft4Zpi/K62mg3lIjANREGpZ3UHWbMn3q1R+WNwej+xfSkqNlRwDIZHZY3nJimzO5lZYeU1IJU8QAoGIOqpaDMvZoITuqmCloAPCc1i7trKRhecuJsqhsDMsHL738nf86Ij6V+x4HgOwMy8ui8tLLr70VETdy39MAUDuG5WXeKFgAcAwOqpbniYIFAHNIB1UblpejomABwAk5qFoOR8ECgAVLw/IOqu5uFCwAqFgalrec2J0oWACwRA6q7kaOUbA+FBFvPyW/HhEvVHs3AkBLpWF5e2+1K8coWBdiWqQ+FRGfOCLnqrvrAKBDDMu3J8coWD8WEb8WnlIBwHLNHlSduzDIwgvW5yLip5ZzJwEAT7S+PT5rWL4ZeUbBejEivhQRPxwRq0fkvUu4nQCAw2YPqjYsX788o2B9OJ4+4P4jS7iFAIBncVB1vfKMgvWpiPhKRPyJiPi2IzJYwi0DADyv9e3xWd9OrG3B+omI+HfLuxsAgErY7LRWBevzMS1ZAEBbpO0gFK4sBeu9MZ2z+stL/aUDAMuXlhT7xfimoflKC9a3xrRg/b04eoPRT0TE11T9+wYAMkhH+njKtfCCVcTTv0H438LmowDQHY8+5VK65ixYAABPt749Pjvdbf7eZd9YVLAAgIr0tiab0zMV97eJ6OC5igoWALAUjxav8kabn3gpWABAVmuXdlbSUuPBU69mly8FCwCotd7WZPPRArb/9KvGS48KFgDQaOkJ2Pr2+OzM7NfFdwbvM5QxBQsA6JTVa3vrqZClzCxPXjwoaOObBwXt8TxtqwoFCwAAAAAAANzTW4MAAABcSURBVAAAAAAAAAAAAAAAAAAAAAAAAAAAAAAAAAAAAAAAAAAAAAAAAAAAAAAAAAAAAAAAAAAAAAAAAAAAAAAAAAAAAAAAAAAAAAAAAAAAAAAAAAAAAAAAADrh/wMzB4rNocIL2wAAAABJRU5ErkJggg==",
       "scale": 55.714285714285715,
       "svg": "<?xml version=\"1.0\" standalone=\"no\"?><!DOCTYPE svg PUBLIC \"-//W3C//DTD SVG 1.1//EN\" \"http://www.w3.org/Graphics/SVG/1.1/DTD/svg11.dtd\"><svg xmlns=\"http://www.w3.org/2000/svg\" width=\"600\" height=\"400\" viewBox=\"0 0 600 400\" style=\"font-family: &quot;Helvetica Neue&quot;,Helvetica,Arial,sans-serif;\"><g class=\"sankey\" transform=\"translate(30,10)\"><g class=\"groups\"/><g class=\"links\"><g class=\"link\" style=\"opacity: 0.8;\"><path d=\"M0,208.92857142857144 A372.6554610024121 372.6554610024121 0.27010913851383567 0 1 99.4381234980767,222.44039513512175 L417.9951823342889,310.6410838518876 A344.7983181452692 344.7983181452692 0.27010913851383567 0 0 510,323.14285714285717 L510,351.00000000000006 A372.6554610024121 372.6554610024121 0.27010913851383567 0 1 410.56187650192334,337.4881762934497 L92.00481766571106,249.2874875766839 A344.7983181452692 344.7983181452692 0.27010913851383567 0 0 0,236.78571428571428 Z\" style=\"fill: rgb(31, 119, 180);\"/><title>A → E\n500m</title></g><g class=\"link\" style=\"opacity: 0.8;\"><path d=\"M0,153.21428571428572 A330.86974671669793 330.86974671669793 0.27010913851383567 0 0 88.28816474952826,141.21753763110644 L406.8452235857404,53.01684891434068 A386.5840324309836 386.5840324309836 0.27010913851383567 0 1 510,39 L510,94.71428571428572 A330.86974671669793 330.86974671669793 0.27010913851383567 0 0 421.7118352504717,106.711033797465 L103.15477641425956,194.91172251423075 A386.5840324309836 386.5840324309836 0.27010913851383567 0 1 0,208.92857142857144 Z\" style=\"fill: rgb(31, 119, 180);\"/><title>A → B\n1.00</title></g><g class=\"link\" style=\"opacity: 0.8;\"><path d=\"M510,39 A60.71428571428572 60.71428571428572 1.5707963267948966 0 1 570.7142857142858,99.71428571428572 L570.7142857142858,128.71428571428572 A60.71428571428572 60.71428571428572 1.5707963267948966 0 1 510,189.42857142857144 L510,133.71428571428572 A5.0000000000000036 5.0000000000000036 1.5707963267948966 0 0 515,128.71428571428572 L515,99.71428571428572 A5.0000000000000036 5.0000000000000036 1.5707963267948966 0 0 510,94.71428571428572 Z\" style=\"fill: rgb(31, 119, 180);\"/><title>B → C\n1.00</title></g><g class=\"link\" style=\"opacity: 0.8;\"><path d=\"M510,133.71428571428572 A60.71428571428572 60.71428571428572 1.5707963267948966 0 0 449.2857142857143,194.42857142857144 L449.2857142857143,223.42857142857142 A60.71428571428572 60.71428571428572 1.5707963267948966 0 0 510,284.1428571428571 L510,228.42857142857142 A5.0000000000000036 5.0000000000000036 1.5707963267948966 0 1 504.99999999999994,223.42857142857142 L504.99999999999994,194.42857142857144 A5.0000000000000036 5.0000000000000036 1.5707963267948966 0 1 510,189.42857142857144 Z\" style=\"fill: rgb(31, 119, 180);\"/><title>C → D\n1.00</title></g></g><g class=\"nodes\"><g class=\"node\" transform=\"translate(510,133.71428571428572)\"><title>C</title><text dy=\".35em\" text-anchor=\"start\" transform=\"translate(-4, -10)\">C</text><line x1=\"0\" x2=\"0\" y1=\"-5\" y2=\"55.714285714285715\" style=\"stroke: rgb(0, 0, 0);\"/><rect x=\"-5\" y=\"-5\" width=\"10\" style=\"fill: none; visibility: hidden; pointer-events: all;\" height=\"60.714285714285715\"/></g><g class=\"node\" transform=\"translate(510,228.42857142857144)\"><title>D</title><text dy=\".35em\" text-anchor=\"start\" transform=\"translate(4, 27.85714340209961)\">D</text><line x1=\"0\" x2=\"0\" y1=\"0\" y2=\"55.714285714285715\" style=\"stroke: rgb(0, 0, 0);\"/><rect x=\"-5\" y=\"-5\" width=\"10\" style=\"fill: none; visibility: hidden; pointer-events: all;\" height=\"60.714285714285715\"/></g><g class=\"node\" transform=\"translate(0,153.21428571428572)\"><title>A</title><text dy=\".35em\" text-anchor=\"end\" transform=\"translate(-4, 41.78571319580078)\">A</text><line x1=\"0\" x2=\"0\" y1=\"0\" y2=\"83.57142857142857\" style=\"stroke: rgb(0, 0, 0);\"/><rect x=\"-5\" y=\"-5\" width=\"10\" style=\"fill: none; visibility: hidden; pointer-events: all;\" height=\"88.57142857142857\"/></g><g class=\"node\" transform=\"translate(510,39)\"><title>B</title><text dy=\".35em\" text-anchor=\"start\" transform=\"translate(-4, -10)\">B</text><line x1=\"0\" x2=\"0\" y1=\"-5\" y2=\"55.714285714285715\" style=\"stroke: rgb(0, 0, 0);\"/><rect x=\"-5\" y=\"-5\" width=\"10\" style=\"fill: none; visibility: hidden; pointer-events: all;\" height=\"60.714285714285715\"/></g><g class=\"node\" transform=\"translate(510,323.14285714285717)\"><title>E</title><text dy=\".35em\" text-anchor=\"start\" transform=\"translate(4, 13.928571701049805)\">E</text><line x1=\"0\" x2=\"0\" y1=\"0\" y2=\"27.857142857142858\" style=\"stroke: rgb(0, 0, 0);\"/><rect x=\"-5\" y=\"-5\" width=\"10\" style=\"fill: none; visibility: hidden; pointer-events: all;\" height=\"32.85714285714286\"/></g></g><g class=\"slice-titles\"/></g></svg>"
      }
     },
     "f35b8b755e7c4d43bb1b89a523df5649": {
      "model_module": "jupyter-sankey-widget",
      "model_module_version": "^0.2.0",
      "model_name": "SankeyModel",
      "state": {
       "_dom_classes": [],
       "_model_module_version": "^0.2.0",
       "_view_module_version": "^0.2.0",
       "align_link_types": true,
       "layout": "IPY_MODEL_35061a7766894db78f3d0518afb49838",
       "links": [
        {
         "source": "A1",
         "target": "B",
         "type": "x",
         "value": 1.5
        },
        {
         "source": "A1",
         "target": "B",
         "type": "y",
         "value": 0.5
        },
        {
         "source": "A2",
         "target": "B",
         "type": "x",
         "value": 0.5
        },
        {
         "source": "A2",
         "target": "B",
         "type": "y",
         "value": 1.5
        },
        {
         "source": "B",
         "target": "C",
         "type": "x",
         "value": 2
        },
        {
         "source": "B",
         "target": "C",
         "type": "y",
         "value": 2
        }
       ],
       "margins": {
        "bottom": 0,
        "left": 30,
        "right": 60,
        "top": 10
       },
       "msg_throttle": 1,
       "order": [],
       "png": "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",
       "scale": 23.75,
       "svg": "<?xml version=\"1.0\" standalone=\"no\"?><!DOCTYPE svg PUBLIC \"-//W3C//DTD SVG 1.1//EN\" \"http://www.w3.org/Graphics/SVG/1.1/DTD/svg11.dtd\"><svg xmlns=\"http://www.w3.org/2000/svg\" width=\"300\" height=\"200\" viewBox=\"0 0 300 200\" style=\"font-family: &quot;Helvetica Neue&quot;,Helvetica,Arial,sans-serif;\"><g class=\"sankey\" transform=\"translate(30,10)\"><g class=\"groups\"/><g class=\"links\"><g class=\"link\" style=\"opacity: 0.8;\"><path d=\"M0,54.625 A68.02932952786378 68.02932952786378 0.4222262936585297 0 1 27.877891672365436,60.59941165736349 L87.70400733431308,87.47602400068646 A85.67388254643963 85.67388254643963 0.4222262936585297 0 0 122.8125,95 L122.8125,106.875 A97.54888254643963 97.54888254643963 0.4222262936585297 0 1 82.83772442506074,98.30814824513263 L23.011608763113088,71.43153590180965 A56.15432952786377 56.15432952786377 0.4222262936585297 0 0 0,66.5 Z\" style=\"fill: rgb(174, 199, 232);\"/><title>A1 → B\n500m</title></g><g class=\"link\" style=\"opacity: 0.8;\"><path d=\"M0,123.5 A56.15432952786377 56.15432952786377 0.4398219248664481 0 0 23.90929746513654,118.155651966401 L76.22218043621989,93.53914466939108 A109.42388254643963 109.42388254643963 0.4398219248664481 0 1 122.8125,83.125 L122.8125,95 A97.54888254643963 97.54888254643963 0.4398219248664481 0 0 81.2782982776343,104.28397120934653 L28.965415306550952,128.90047850635645 A68.02932952786378 68.02932952786378 0.4398219248664481 0 1 0,135.375 Z\" style=\"fill: rgb(31, 119, 180);\"/><title>A2 → B\n500m</title></g><g class=\"link\" style=\"opacity: 0.8;\"><path d=\"M0,19 A103.65432952786378 103.65432952786378 0.2806490100616008 0 1 28.710106222545637,23.055384600916284 L104.57445354007046,44.92382378556606 A65.84623766447369 65.84623766447369 0.2806490100616008 0 0 122.8125,47.5 L122.8125,83.125 A101.47123766447369 101.47123766447369 0.2806490100616008 0 1 94.70706508811733,79.15502695078159 L18.842717770592497,57.28658776613182 A68.02932952786378 68.02932952786378 0.2806490100616008 0 0 0,54.625 Z\" style=\"fill: rgb(31, 119, 180);\"/><title>A1 → B\n1.50</title></g><g class=\"link\" style=\"opacity: 0.8;\"><path d=\"M0,135.375 A68.02932952786378 68.02932952786378 0.2732821079435599 0 0 18.360653064553617,132.85044964933653 L99.68970215610526,110.05433502691255 A85.67388254643963 85.67388254643963 0.2732821079435599 0 1 122.8125,106.875 L122.8125,142.5 A50.04888254643963 50.04888254643963 0.2732821079435599 0 0 109.30464720942692,144.35730073866415 L27.975598117875272,167.15341536108812 A103.65432952786378 103.65432952786378 0.2732821079435599 0 1 0,171 Z\" style=\"fill: rgb(174, 199, 232);\"/><title>A2 → B\n1.50</title></g><g class=\"link\" style=\"opacity: 0.8;\"><path d=\"M122.8125,47.5 A0 0 0 0 0 122.8125,47.5 L210,47.5 A0 0 0 0 0 210,47.5 L210,95 A0 0 0 0 0 210,95 L122.8125,95 A0 0 0 0 0 122.8125,95 Z\" style=\"fill: rgb(31, 119, 180);\"/><title>B → C\n2.00</title></g><g class=\"link\" style=\"opacity: 0.8;\"><path d=\"M122.8125,95 A0 0 0 0 0 122.8125,95 L210,95 A0 0 0 0 0 210,95 L210,142.5 A0 0 0 0 0 210,142.5 L122.8125,142.5 A0 0 0 0 0 122.8125,142.5 Z\" style=\"fill: rgb(174, 199, 232);\"/><title>B → C\n2.00</title></g></g><g class=\"nodes\"><g class=\"node\" transform=\"translate(0,19)\"><title>A1</title><text dy=\".35em\" text-anchor=\"end\" transform=\"translate(-4, 23.75)\">A1</text><line x1=\"0\" x2=\"0\" y1=\"0\" y2=\"47.5\" style=\"stroke: rgb(0, 0, 0);\"/><rect x=\"-5\" y=\"-5\" width=\"10\" style=\"fill: none; visibility: hidden; pointer-events: all;\" height=\"52.5\"/></g><g class=\"node\" transform=\"translate(122.8125,47.5)\"><title>B</title><text dy=\".35em\" text-anchor=\"start\" transform=\"translate(-4, -10)\">B</text><line x1=\"0\" x2=\"0\" y1=\"-5\" y2=\"95\" style=\"stroke: rgb(0, 0, 0);\"/><rect x=\"-5\" y=\"-5\" width=\"10\" style=\"fill: none; visibility: hidden; pointer-events: all;\" height=\"100\"/></g><g class=\"node\" transform=\"translate(0,123.5)\"><title>A2</title><text dy=\".35em\" text-anchor=\"end\" transform=\"translate(-4, 23.75)\">A2</text><line x1=\"0\" x2=\"0\" y1=\"0\" y2=\"47.5\" style=\"stroke: rgb(0, 0, 0);\"/><rect x=\"-5\" y=\"-5\" width=\"10\" style=\"fill: none; visibility: hidden; pointer-events: all;\" height=\"52.5\"/></g><g class=\"node\" transform=\"translate(210,47.5)\"><title>C</title><text dy=\".35em\" text-anchor=\"start\" transform=\"translate(4, 47.5)\">C</text><line x1=\"0\" x2=\"0\" y1=\"0\" y2=\"95\" style=\"stroke: rgb(0, 0, 0);\"/><rect x=\"-5\" y=\"-5\" width=\"10\" style=\"fill: none; visibility: hidden; pointer-events: all;\" height=\"100\"/></g></g><g class=\"slice-titles\"/></g></svg>"
      }
     },
     "f40fa681e22b4ce0968dd286ef4c8d7f": {
      "model_module": "jupyter-sankey-widget",
      "model_module_version": "^0.2.0",
      "model_name": "SankeyModel",
      "state": {
       "_dom_classes": [],
       "_model_module_version": "^0.2.0",
       "_view_module_version": "^0.2.0",
       "align_link_types": true,
       "layout": "IPY_MODEL_35061a7766894db78f3d0518afb49838",
       "links": [
        {
         "source": "A1",
         "target": "B",
         "type": "x",
         "value": 1.5
        },
        {
         "source": "A1",
         "target": "B",
         "type": "y",
         "value": 0.5
        },
        {
         "source": "A2",
         "target": "B",
         "type": "x",
         "value": 0.5
        },
        {
         "source": "A2",
         "target": "B",
         "type": "y",
         "value": 1.5
        },
        {
         "source": "B",
         "target": "C",
         "type": "x",
         "value": 2
        },
        {
         "source": "B",
         "target": "C",
         "type": "y",
         "value": 2
        }
       ],
       "margins": {
        "bottom": 0,
        "left": 30,
        "right": 60,
        "top": 10
       },
       "msg_throttle": 1,
       "order": [
        [
         "A2",
         "A1"
        ],
        [
         "B"
        ],
        [
         "C"
        ]
       ],
       "png": "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",
       "scale": 23.75,
       "svg": "<?xml version=\"1.0\" standalone=\"no\"?><!DOCTYPE svg PUBLIC \"-//W3C//DTD SVG 1.1//EN\" \"http://www.w3.org/Graphics/SVG/1.1/DTD/svg11.dtd\"><svg xmlns=\"http://www.w3.org/2000/svg\" width=\"300\" height=\"200\" viewBox=\"0 0 300 200\" style=\"font-family: &quot;Helvetica Neue&quot;,Helvetica,Arial,sans-serif;\"><g class=\"sankey\" transform=\"translate(30,10)\"><g class=\"groups\"/><g class=\"links\"><g class=\"link\" style=\"opacity: 0.8;\"><path d=\"M0,159.125 A77.72123766447369 77.72123766447369 0.25306827522518294 0 0 19.459507730729978,156.64948210067485 L117.45533209577687,131.30650567938838 A21.396518640350877 21.396518640350877 0.25306827522518294 0 1 122.8125,130.625 L122.8125,142.5 A9.521518640350877 9.521518640350877 0.25306827522518294 0 0 120.42854329578387,142.80327218828788 L22.43271893073697,168.14624860957434 A89.59623766447369 89.59623766447369 0.25306827522518294 0 1 0,171 Z\" style=\"fill: rgb(174, 199, 232);\"/><title>A1 → B\n500m</title></g><g class=\"link\" style=\"opacity: 0.8;\"><path d=\"M0,19 A89.59623766447369 89.59623766447369 0.27957664378928837 0 1 24.723970238161634,22.478811441372063 L101.36542122772394,44.48226691351374 A77.72123766447369 77.72123766447369 0.27957664378928837 0 0 122.8125,47.5 L122.8125,59.375 A89.59623766447369 89.59623766447369 0.27957664378928837 0 1 98.08852976183837,55.89618855862794 L21.447078772276058,33.89273308648626 A77.72123766447369 77.72123766447369 0.27957664378928837 0 0 0,30.875 Z\" style=\"fill: rgb(31, 119, 180);\"/><title>A2 → B\n500m</title></g><g class=\"link\" style=\"opacity: 0.8;\"><path d=\"M0,123.5 A27.087911184210526 27.087911184210526 0.6680873534090849 0 0 16.780573032680792,117.67631466623001 L65.41930856136892,79.29326420876473 A92.64651864035088 92.64651864035088 0.6680873534090849 0 1 122.8125,59.375 L122.8125,95 A57.02151864035088 57.02151864035088 0.6680873534090849 0 0 87.48848584949124,107.25917271940367 L38.849750320803096,145.64222317686895 A62.712911184210526 62.712911184210526 0.6680873534090849 0 1 0,159.125 Z\" style=\"fill: rgb(31, 119, 180);\"/><title>A1 → B\n1.50</title></g><g class=\"link\" style=\"opacity: 0.8;\"><path d=\"M0,30.875 A62.712911184210526 62.712911184210526 0.5809703016644223 0 1 34.41905941034765,41.16427549852352 L111.06933527760921,91.48948404973275 A21.396518640350877 21.396518640350877 0.5809703016644223 0 0 122.8125,95 L122.8125,130.625 A57.02151864035088 57.02151864035088 0.5809703016644223 0 1 91.51707772267122,121.26950838661621 L14.866801855409667,70.94429983540697 A27.087911184210526 27.087911184210526 0.5809703016644223 0 0 0,66.5 Z\" style=\"fill: rgb(174, 199, 232);\"/><title>A2 → B\n1.50</title></g><g class=\"link\" style=\"opacity: 0.8;\"><path d=\"M122.8125,47.5 A0 0 0 0 0 122.8125,47.5 L210,47.5 A0 0 0 0 0 210,47.5 L210,95 A0 0 0 0 0 210,95 L122.8125,95 A0 0 0 0 0 122.8125,95 Z\" style=\"fill: rgb(31, 119, 180);\"/><title>B → C\n2.00</title></g><g class=\"link\" style=\"opacity: 0.8;\"><path d=\"M122.8125,95 A0 0 0 0 0 122.8125,95 L210,95 A0 0 0 0 0 210,95 L210,142.5 A0 0 0 0 0 210,142.5 L122.8125,142.5 A0 0 0 0 0 122.8125,142.5 Z\" style=\"fill: rgb(174, 199, 232);\"/><title>B → C\n2.00</title></g></g><g class=\"nodes\"><g class=\"node\" transform=\"translate(0,123.5)\"><title>A1</title><text dy=\".35em\" text-anchor=\"end\" transform=\"translate(-4, 23.75)\">A1</text><line x1=\"0\" x2=\"0\" y1=\"0\" y2=\"47.5\" style=\"stroke: rgb(0, 0, 0);\"/><rect x=\"-5\" y=\"-5\" width=\"10\" style=\"fill: none; visibility: hidden; pointer-events: all;\" height=\"52.5\"/></g><g class=\"node\" transform=\"translate(122.8125,47.5)\"><title>B</title><text dy=\".35em\" text-anchor=\"start\" transform=\"translate(-4, -10)\">B</text><line x1=\"0\" x2=\"0\" y1=\"-5\" y2=\"95\" style=\"stroke: rgb(0, 0, 0);\"/><rect x=\"-5\" y=\"-5\" width=\"10\" style=\"fill: none; visibility: hidden; pointer-events: all;\" height=\"100\"/></g><g class=\"node\" transform=\"translate(0,19)\"><title>A2</title><text dy=\".35em\" text-anchor=\"end\" transform=\"translate(-4, 23.75)\">A2</text><line x1=\"0\" x2=\"0\" y1=\"0\" y2=\"47.5\" style=\"stroke: rgb(0, 0, 0);\"/><rect x=\"-5\" y=\"-5\" width=\"10\" style=\"fill: none; visibility: hidden; pointer-events: all;\" height=\"52.5\"/></g><g class=\"node\" transform=\"translate(210,47.5)\"><title>C</title><text dy=\".35em\" text-anchor=\"start\" transform=\"translate(4, 47.5)\">C</text><line x1=\"0\" x2=\"0\" y1=\"0\" y2=\"95\" style=\"stroke: rgb(0, 0, 0);\"/><rect x=\"-5\" y=\"-5\" width=\"10\" style=\"fill: none; visibility: hidden; pointer-events: all;\" height=\"100\"/></g></g><g class=\"slice-titles\"/></g></svg>"
      }
     },
     "f521c2561cb749939d9b9c50cb848a85": {
      "model_module": "jupyter-sankey-widget",
      "model_module_version": "^0.2.0",
      "model_name": "SankeyModel",
      "state": {
       "_dom_classes": [],
       "_model_module_version": "^0.2.0",
       "_view_module_version": "^0.2.0",
       "layout": "IPY_MODEL_35061a7766894db78f3d0518afb49838",
       "links": [
        {
         "source": "A",
         "target": "B",
         "value": 1
        },
        {
         "source": "B",
         "target": "C",
         "value": 1
        },
        {
         "source": "A",
         "target": "D",
         "value": 1
        }
       ],
       "margins": {
        "bottom": 0,
        "left": 30,
        "right": 60,
        "top": 10
       },
       "msg_throttle": 1,
       "order": [],
       "png": "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",
       "rank_sets": [
        {
         "nodes": [
          "C",
          "D"
         ],
         "type": "same"
        }
       ],
       "scale": 47.5,
       "svg": "<?xml version=\"1.0\" standalone=\"no\"?><!DOCTYPE svg PUBLIC \"-//W3C//DTD SVG 1.1//EN\" \"http://www.w3.org/Graphics/SVG/1.1/DTD/svg11.dtd\"><svg xmlns=\"http://www.w3.org/2000/svg\" width=\"300\" height=\"200\" viewBox=\"0 0 300 200\" style=\"font-family: &quot;Helvetica Neue&quot;,Helvetica,Arial,sans-serif;\"><g class=\"sankey\" transform=\"translate(30,10)\"><g class=\"groups\"/><g class=\"links\"><g class=\"link\" style=\"opacity: 0.8;\"><path d=\"M0,47.5 A41.65014127778379 41.65014127778379 0.3170595794814113 0 0 12.9854333731973,45.42400165127536 L79.97253363867428,23.44357546945384 A89.15014127778379 89.15014127778379 0.3170595794814113 0 1 107.76723455104023,19 L107.76723455104023,66.5 A41.65014127778379 41.65014127778379 0.3170595794814113 0 0 94.78180117784292,68.57599834872462 L27.79470091236595,90.55642453054615 A89.15014127778379 89.15014127778379 0.3170595794814113 0 1 0,95 Z\" style=\"fill: rgb(31, 119, 180);\"/><title>A → B\n1.00</title></g><g class=\"link\" style=\"opacity: 0.8;\"><path d=\"M107.76723455104023,19 A0 0 0 0 0 107.76723455104023,19 L210,19 A0 0 0 0 0 210,19 L210,66.5 A0 0 0 0 0 210,66.5 L107.76723455104023,66.5 A0 0 0 0 0 107.76723455104023,66.5 Z\" style=\"fill: rgb(31, 119, 180);\"/><title>B → C\n1.00</title></g><g class=\"link\" style=\"opacity: 0.8;\"><path d=\"M0,95 A89.15014127778379 89.15014127778379 0.2988356646966688 0 1 26.24648578357839,98.95114085018942 L104.18358318207966,122.96051782194795 A12.172411517013408 12.172411517013408 0.2988356646966688 0 0 107.76723455104023,123.5 L107.76723455104023,171 A59.67241151701341 59.67241151701341 0.2988356646966688 0 1 90.1992186387264,168.3553143113982 L12.262121240225131,144.34593733963965 A41.65014127778379 41.65014127778379 0.2988356646966688 0 0 0,142.5 ZM107.76723455104023,123.5 A0 0 0 0 0 107.76723455104023,123.5 L210,123.5 A0 0 0 0 0 210,123.5 L210,171 A0 0 0 0 0 210,171 L107.76723455104023,171 A0 0 0 0 0 107.76723455104023,171 Z\" style=\"fill: rgb(31, 119, 180);\"/><title>A → D\n1.00</title></g></g><g class=\"nodes\"><g class=\"node\" transform=\"translate(0,47.5)\"><title>A</title><text dy=\".35em\" text-anchor=\"end\" transform=\"translate(-4, 47.5)\">A</text><line x1=\"0\" x2=\"0\" y1=\"0\" y2=\"95\" style=\"stroke: rgb(0, 0, 0);\"/><rect x=\"-5\" y=\"-5\" width=\"10\" style=\"fill: none; visibility: hidden; pointer-events: all;\" height=\"100\"/></g><g class=\"node\" transform=\"translate(107.76723455104023,19)\"><title>B</title><text dy=\".35em\" text-anchor=\"start\" transform=\"translate(-4, -10)\">B</text><line x1=\"0\" x2=\"0\" y1=\"-5\" y2=\"47.5\" style=\"stroke: rgb(0, 0, 0);\"/><rect x=\"-5\" y=\"-5\" width=\"10\" style=\"fill: none; visibility: hidden; pointer-events: all;\" height=\"52.5\"/></g><g class=\"node\" transform=\"translate(210,19)\"><title>C</title><text dy=\".35em\" text-anchor=\"start\" transform=\"translate(4, 23.75)\">C</text><line x1=\"0\" x2=\"0\" y1=\"0\" y2=\"47.5\" style=\"stroke: rgb(0, 0, 0);\"/><rect x=\"-5\" y=\"-5\" width=\"10\" style=\"fill: none; visibility: hidden; pointer-events: all;\" height=\"52.5\"/></g><g class=\"node\" transform=\"translate(210,123.5)\"><title>D</title><text dy=\".35em\" text-anchor=\"start\" transform=\"translate(4, 23.75)\">D</text><line x1=\"0\" x2=\"0\" y1=\"0\" y2=\"47.5\" style=\"stroke: rgb(0, 0, 0);\"/><rect x=\"-5\" y=\"-5\" width=\"10\" style=\"fill: none; visibility: hidden; pointer-events: all;\" height=\"52.5\"/></g></g><g class=\"slice-titles\"/></g></svg>"
      }
     },
     "f6d001d275cb4fb885aaf4bd236a2f03": {
      "model_module": "jupyter-js-widgets",
      "model_module_version": "~2.1.4",
      "model_name": "LayoutModel",
      "state": {
       "_model_module_version": "~2.1.4",
       "_view_module_version": "~2.1.4"
      }
     },
     "fa3b869895414ddaaf419566330aa2a4": {
      "model_module": "jupyter-sankey-widget",
      "model_module_version": "^0.2.0",
      "model_name": "SankeyModel",
      "state": {
       "_dom_classes": [],
       "_model_module_version": "^0.2.0",
       "_view_module_version": "^0.2.0",
       "layout": "IPY_MODEL_35061a7766894db78f3d0518afb49838",
       "links": [
        {
         "source": "A",
         "target": "B",
         "value": 1
        },
        {
         "source": "B",
         "target": "C",
         "value": 1
        },
        {
         "source": "A",
         "target": "D",
         "value": 1
        }
       ],
       "margins": {
        "bottom": 0,
        "left": 30,
        "right": 60,
        "top": 10
       },
       "msg_throttle": 1,
       "order": [
        [
         "A"
        ],
        [
         "D",
         "B"
        ],
        [
         "C"
        ]
       ],
       "png": "iVBORw0KGgoAAAANSUhEUgAAASwAAADICAYAAABS39xVAAAM60lEQVR4nO3dXWhkZx3H8V+0YF9S262JOJmcmfpCEVGsyd5IWzZQWxSjFFHctGJba1INVUqS80wStQnihdgBUaFsihQpbtRgWXfOmTjemJVC8aLYi4K2KtZaK14IvmFB++bFM9PNZmZ2k8x5ec453w/8L5oJu+vM5OvMP8/MSAAAAAAAAAAAAAAAAAAAAAAAAAAAAAAAAAAAAAAAAAAAAAAAAAAAAAAAAAAAAAAAAAAAAHk3stoqjfmtibLfmK7UtmcrJlir1Jonzp3w8UotfPzIjXc/M3T5m4K0/80Acm50fmt4zG9NVGrbs54f1Cu1oNEJ0X6HYAGIxchqq+TVwuMVE6xV/eDkQeNEsADEasxvTXhLwUJUgSJYACI17jeOtR9F7cQRKYIFYCBJRopgATiwtCJFsADsS3mheU17J5VapAgWgL46kTrMsQOCBSB2LkeKYAE4e07K8UgRLKCgOpGK65wUwQIwkKxHimABOTc6vzVc9hvT9jV76YeGYAE4R14jRbCAnChCpAgWkHEunDonWAD6KmqkDhiso5Je3TP/k/SkpDtiv5GAIisth5NFj9QBg/V52UjdIxuoOyV9WdJT7a9/PO7bDCiUrJw6dzRYD0n6q6ShPV+/RNLT7QEwCCIVWbCelNToc9ma7KOsKyK/AYG8G1ltlYhUpMG6TNLLsk8Be1kUwQL2L0+nzh0M1g2yQbq5z+UPSHoulhsWyAsilViwFmSDdVWfy38h6Wex3MhAlnUOdBKpRIP1A0m/63NZVdIrklZiucGBrCnaqXMHg/V7SZt9LvuGpBckvSWWGx/IAiLlTLCOyD4dvLfHZZ+UXcabOO8LgHNGVlulcb9xrFLbnuXpnlPBulk2WPfr7IHRBUnb7a+fkPS6hO4mQKKOHZm66/5KbXvWTvOEnfR/YIs+5wnWqrpfkvNPSTuSPpbcXQdI3trlR2/5S9o/nMyBggUUFsFydAgW0I1gOToEC+hGsBwdggV0I1iODsECuhEsR4dgAd0IlqNDsIBuBMvRIVhAN4Ll6BAsoBvBcnQIFtCNYDk6BAvoRrAcHYIFdCNYjg7BAroRLEeHYAHdCJajQ7CAbgTL0SFYQDeC5egQLKAbwXJ0CBbQjWC5MibcaM9cxYRzV3144auvH736zrTvIIBLCFYKUzWNTc+cXhxfOjU1stoqpX0nALKCYCU0ngnr5ZXmNIECDo9gxThV09j0/OYMkQKiQbCIFJAZBCuKMUFApPJrzG9NjPmtibLfmH7tMzxNsNb5HM8rrrv157IfaouYEaxBImVOL5YXmtekfSMiGqPzW8OdTzv3/KBeqQWN/dwXLj96y/OS1tP+9xcBwSJShdUJlLcULFT94ORh7xcEKzkE6wJTNcEZIpUfo/Nbw2W/MW0fQUVzHyFYySFYfSJVMcH6+NKpqbRvIESjtBxORhkpgpUOgkWkcmt0fmvYq4XH97uLIljuK3ywPBPWiVS+jM5vDVdq27NVP9hJ4j5EsJJTyGB1Tp2Pzm8Np30DIDojq62SPW6Q7P2JYCWnMMEiUvmW5CMqgpWeXAerahqbRCrfxpdOTcW9oyJY7shdsHhpTDGMrLZK9qR5+vc5gpWcXASLSBVLmk//CFa6shus9qlzIlUcpeVwcpAT6QQr+7IVLF4aU0ij81vD3lKwkPr9j2Clzv1gEalCG186NeXS0z+ClS4ng9U5dV5aDifTvoKQDpeW6gTLHc4Ei5fGoMO1pTrBckeqwSJS2M3VpTrBSs4dkl6V9Hyfy1MJFqfOsZvrS/UIg3WtpIcl/VnSC5J+Kek+SW+I7crNkEtlr5h/yUbr0h7fk0iw7HtKESl0y8JSPaJgfUHSS5Iek+RL+pyk78v+bD4c53WcFV+S9B9J98heKe/q8T3xBav92z2e7qGXLC3VIwjWjOzP4JKkoT2XbbQvG4/lis6IN0v6t+zDzQnZK+QjPb4vumCZIPBMWPf85gxHEHA+WVuqDxisUUn/kPTdPpffIPvU8Gj013R2PCD7dPBSSSOywbq3x/cdKlh2WW4/Vr20HE7yNA/7kdWl+oDBWpP0oqRqYld0xrxT9rnybe3/HpJ9avjtHt97brBshF4bz4T1ignnPL85U1oOJ3nkhMPI+lJ9wGD9WtIjyV3b2dOQ9ISkN0oabs/Tkpo9vnfPIyz7OWudse+BvT3r1cLjY35rgmDhoPKwVB8gWFfJPru5L9ErPUOOyV5BveapHt9/uKeEfrBjo7Y9O+a3JnhKiL3ytFQfIFjvlv3Z+3Sfq+kiSV+XdGs8t4LbXifpcUk/lXT9nvmxpP+2v2e3CH9LGDQ8P6h7tfA4j8SKLW9L9QGCVZYN1lf6XFV3ty+/Pp5bwm23SXpF0nt6XLYie8V4e74e4zmsoOEtBQvjfuNY3P/D4Ya8LtUHCNaQpD9Jek7SlXsuu0n2t4eFPIN1saQ/yh5E6+VTssGa2vP1ZA6O+sGO5wf1st/g4GgO5X2pPkCwJHsG6xVJf5C0KnsW6xFJL0v6oeyOuXCM7G8G39Hn8s5u6649X0/npTnEKzeKsFQfMFiS9EFJj0r6u+wjrtOSjqv7ECkuIN0XP/vBTsUEazxtzJ4iLdUjCBYi4s7byxCvzCjaUp1gucOZYPWKF2/g55aiLtUJljucDNa5Y3/byFGJ9BR9qU6w3JGBYBGvNLFUJ1guyViwuuPFx3zFg6U6wXJRhoN1dqp+cNKrhcdzFq/O2bnd85Kk36r/Sz0iwVKdYLkqF8HKaby+JXsS+o723Cnpa5J+Ixuv90X9F7JUJ1iuy12wdk/VD05m+IDqY7KvC93r/bLB+kRUfxFL9cGGYCUn18HaPRk7XX+R7IcU9HpbkttlX9ZxdRR/EUv1wYdgJacwwdo9GYjXtTr7KGqkPW+XjdXfZF/MPhCW6tENwUpOIYO1ezw/qDt4un5W/d/X7DuD/uEs1aMdgpWcwgerM469NOhBSc9K+sCu+ajsBxm8Kumzh/lDWarHMwQrOQSrxzgQryck/ajH14dkjzX85CB/GEv1eIdgJYdgXWCqfrCT8On6S2Q/ZaXW47Ih2TeDe3C/fxhL9fiHYCWHYB1oEnlpUOfYwk09Lrulfdn0hf4QlurJDcFKDsE69MQWry/KRmlBZw+N3iXpm7Lvy7+pC7zxG0v1ZIdgJYdgRTJBI8LT9Q+r+zeDL0r6lezb6+79IJHXsFRPfqqmsXnFdTM7sv/HgpgRrKjvwNG9NOh2Sd/bzzeyVE9uPBPWyyvNad4xJB0EK8YZMF77ChZL9YTGhHMOHzQuDIKV0HRO1x8gXucNVmk5nGSpnsDtZsJ6Dl5InxsEK4Wp+sHJzmc2nueHoStYo/Nbw2W/Mc2eKoExQcBbdLuHYDkzzRN2tmcrte3Zy977oYcuGn3ro/a/mycqtaCR/r+xIMPTP2cRLEfnyI13P3Px2yafTfvfUagx4QbLdLcRLEeHYCU3VROc8fzmTNo/jLgwguXoEKxkxjNhnad/2UGwHB2CFfOwVM8kguXoEKwYh6V6ZhEsR4dgxTAs1TOPYDk6BCu6YameHwTL0SFY0QxL9XwhWI4OwRpwWKrnEsFydAjWAMNSPbcIlqNDsA4xLNVzj2A5OgRr/8NSvTgIlqNDsPY3LNWLhWA5OgTrAmOCYHzp1FTaP0BIFsFydAhW//HM6UUeVRUTwXJ0CFb3VE1jk6V6sREsR4dgnR2W6uggWI4OwbLDe6pjt2NXTn2mXjHhXHs2KibcSPtOyhAsluo4kJHVVml86dRUxYRzVdPYTP0OXLApcrBYqmNgo/Nbw+WV5rRnwnrad+giTBGDxVIdsSBe8U+RgsVSHYnpxIunjdFOUYLFUh2pGVltlTy/OUO8Bp/cB4ulOlxCvAabPAeLpTqcNrLaKnnm9GLFBEHaPyxZmTwGi6U6Mqe80LyGeBUrWCzVkQvEK//BYqmOXCoth5MVE6xXTXAm7R8yFybzwWKpjqKwJ+yLHa8sB4ulOgqrqPHKYrBYqgNtRTtdn6VgsVQHzqMI8cpKsFiqAweQ13g5HyyW6sBg8nS63uVgsVQHIpb1eLkYLJbqQAI68crSAVWXgsVSHUhJVk7XOxMsE6yzVAcc4HK8Ug+WCTdKy+Fk2rcRgB468XLlgGpqwTJBUF5pTqd9ewDYJxdO1yceLEIFZF9a8UosWCbcIFRADiUZrziDVTXBGc+cXmSZDhTE2Z1XPOe8og5W1QRnKiZYH186NcWhT6DAdp3zWo8qYJEEywRBJ1JpX0cAHDU6vzVs35AwnPNMWD/MsYlDBcuEG545vVheaU7zdA/AQEZWW6XScjhZXmlOV0w4VzHBesWEG7unsx/bGyz7lM5+j41gOFcx4VxpOZwkTgAAAAAAAAAAAAAAAAAAAAAAAAAAAAAAAAAAAAAAAAAAACiA/wOlh5mOV+MfDgAAAABJRU5ErkJggg==",
       "scale": 47.5,
       "svg": "<?xml version=\"1.0\" standalone=\"no\"?><!DOCTYPE svg PUBLIC \"-//W3C//DTD SVG 1.1//EN\" \"http://www.w3.org/Graphics/SVG/1.1/DTD/svg11.dtd\"><svg xmlns=\"http://www.w3.org/2000/svg\" width=\"300\" height=\"200\" viewBox=\"0 0 300 200\" style=\"font-family: &quot;Helvetica Neue&quot;,Helvetica,Arial,sans-serif;\"><g class=\"sankey\" transform=\"translate(30,10)\"><g class=\"groups\"/><g class=\"links\"><g class=\"link\" style=\"opacity: 0.8;\"><path d=\"M0,95 A84.00969923423352 84.00969923423352 0.33065803274531924 0 1 27.275049749441177,99.55089716302253 L91.28284370943088,121.52222971654 A36.50969923423352 36.50969923423352 0.33065803274531924 0 0 103.13628291975802,123.5 L103.13628291975802,171 A84.00969923423352 84.00969923423352 0.33065803274531924 0 1 75.86123317031685,166.44910283697746 L11.853439210327142,144.47777028346 A36.50969923423352 36.50969923423352 0.33065803274531924 0 0 0,142.5 Z\" style=\"fill: rgb(31, 119, 180);\"/><title>A → B\n1.00</title></g><g class=\"link\" style=\"opacity: 0.8;\"><path d=\"M103.13628291975802,123.5 A16.8717699374335 16.8717699374335 0.5588572848257416 0 0 112.08199363430236,120.93315511072288 L175.86894948313412,81.0434211579677 A64.3717699374335 64.3717699374335 0.5588572848257416 0 1 210,71.25 L210,118.75 A16.8717699374335 16.8717699374335 0.5588572848257416 0 0 201.05428928545567,121.31684488927714 L137.26733343662391,161.20657884203231 A64.3717699374335 64.3717699374335 0.5588572848257416 0 1 103.13628291975802,171 Z\" style=\"fill: rgb(31, 119, 180);\"/><title>B → C\n1.00</title></g><g class=\"link\" style=\"opacity: 0.8;\"><path d=\"M0,47.5 A36.50969923423352 36.50969923423352 0.33065803274531924 0 0 11.853439210327142,45.52222971654 L75.86123317031685,23.55089716302253 A84.00969923423352 84.00969923423352 0.33065803274531924 0 1 103.13628291975802,19 L103.13628291975802,66.5 A36.50969923423352 36.50969923423352 0.33065803274531924 0 0 91.28284370943088,68.47777028346 L27.275049749441177,90.44910283697747 A84.00969923423352 84.00969923423352 0.33065803274531924 0 1 0,95 Z\" style=\"fill: rgb(31, 119, 180);\"/><title>A → D\n1.00</title></g></g><g class=\"nodes\"><g class=\"node\" transform=\"translate(0,47.5)\"><title>A</title><text dy=\".35em\" text-anchor=\"end\" transform=\"translate(-4, 47.5)\">A</text><line x1=\"0\" x2=\"0\" y1=\"0\" y2=\"95\" style=\"stroke: rgb(0, 0, 0);\"/><rect x=\"-5\" y=\"-5\" width=\"10\" style=\"fill: none; visibility: hidden; pointer-events: all;\" height=\"100\"/></g><g class=\"node\" transform=\"translate(103.13628291975802,123.5)\"><title>B</title><text dy=\".35em\" text-anchor=\"start\" transform=\"translate(-4, -10)\">B</text><line x1=\"0\" x2=\"0\" y1=\"-5\" y2=\"47.5\" style=\"stroke: rgb(0, 0, 0);\"/><rect x=\"-5\" y=\"-5\" width=\"10\" style=\"fill: none; visibility: hidden; pointer-events: all;\" height=\"52.5\"/></g><g class=\"node\" transform=\"translate(210,71.25)\"><title>C</title><text dy=\".35em\" text-anchor=\"start\" transform=\"translate(4, 23.75)\">C</text><line x1=\"0\" x2=\"0\" y1=\"0\" y2=\"47.5\" style=\"stroke: rgb(0, 0, 0);\"/><rect x=\"-5\" y=\"-5\" width=\"10\" style=\"fill: none; visibility: hidden; pointer-events: all;\" height=\"52.5\"/></g><g class=\"node\" transform=\"translate(103.13628291975802,19)\"><title>D</title><text dy=\".35em\" text-anchor=\"start\" transform=\"translate(4, 23.75)\">D</text><line x1=\"0\" x2=\"0\" y1=\"0\" y2=\"47.5\" style=\"stroke: rgb(0, 0, 0);\"/><rect x=\"-5\" y=\"-5\" width=\"10\" style=\"fill: none; visibility: hidden; pointer-events: all;\" height=\"52.5\"/></g></g><g class=\"slice-titles\"/></g></svg>"
      }
     },
     "ffcb176bc4954dbd9bd32bf8c2f7e7d7": {
      "model_module": "jupyter-sankey-widget",
      "model_module_version": "^0.2.0",
      "model_name": "SankeyModel",
      "state": {
       "_dom_classes": [],
       "_model_module_version": "^0.2.0",
       "_view_module_version": "^0.2.0",
       "layout": "IPY_MODEL_1ef2637788814dcd8a239d89bcd39ca0",
       "links": [
        {
         "source": "A",
         "target": "B",
         "value": 1
        },
        {
         "source": "B",
         "target": "C",
         "value": 1
        },
        {
         "source": "A",
         "target": "D",
         "value": 1
        }
       ],
       "margins": {
        "bottom": 0,
        "left": 30,
        "right": 60,
        "top": 10
       },
       "msg_throttle": 1,
       "order": [
        [
         "A"
        ],
        [
         "D",
         "B"
        ],
        [
         "C"
        ]
       ],
       "png": "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",
       "scale": 97.5,
       "svg": "<?xml version=\"1.0\" standalone=\"no\"?><!DOCTYPE svg PUBLIC \"-//W3C//DTD SVG 1.1//EN\" \"http://www.w3.org/Graphics/SVG/1.1/DTD/svg11.dtd\"><svg xmlns=\"http://www.w3.org/2000/svg\" width=\"600\" height=\"400\" viewBox=\"0 0 600 400\" style=\"font-family: &quot;Helvetica Neue&quot;,Helvetica,Arial,sans-serif;\"><g class=\"sankey\" transform=\"translate(30,10)\"><g class=\"groups\"/><g class=\"links\"><g class=\"link\" style=\"opacity: 0.8;\"><path d=\"M0,195 A219.2906849386106 219.2906849386106 0.28056078595397227 0 1 60.720395848146595,203.57419761763856 L217.45129838728172,248.73802207584174 A121.79068493861061 121.79068493861061 0.28056078595397227 0 0 251.1744754668717,253.5 L251.1744754668717,351 A219.2906849386106 219.2906849386106 0.28056078595397227 0 1 190.45407961872513,342.42580238236144 L33.72317707958999,297.26197792415826 A121.79068493861061 121.79068493861061 0.28056078595397227 0 0 0,292.5 Z\" style=\"fill: rgb(31, 119, 180);\"/><title>A → B\n1.00</title></g><g class=\"link\" style=\"opacity: 0.8;\"><path d=\"M251.1744754668717,253.5 A61.03071978999856 61.03071978999856 0.4823754155861175 0 0 279.48570190288126,246.53612047068538 L436.46000046400013,164.33906790075247 A158.53071978999856 158.53071978999856 0.4823754155861175 0 1 510,146.25 L510,243.75 A61.03071978999856 61.03071978999856 0.4823754155861175 0 0 481.6887735639905,250.71387952931462 L324.7144750028716,332.91093209924753 A158.53071978999856 158.53071978999856 0.4823754155861175 0 1 251.1744754668717,351 Z\" style=\"fill: rgb(31, 119, 180);\"/><title>B → C\n1.00</title></g><g class=\"link\" style=\"opacity: 0.8;\"><path d=\"M0,97.5 A121.79068493861061 121.79068493861061 0.28056078595397227 0 0 33.72317707958999,92.73802207584176 L190.45407961872513,47.57419761763859 A219.2906849386106 219.2906849386106 0.28056078595397227 0 1 251.1744754668717,39 L251.1744754668717,136.5 A121.79068493861061 121.79068493861061 0.28056078595397227 0 0 217.45129838728172,141.26197792415826 L60.720395848146595,186.42580238236144 A219.2906849386106 219.2906849386106 0.28056078595397227 0 1 0,195 Z\" style=\"fill: rgb(31, 119, 180);\"/><title>A → D\n1.00</title></g></g><g class=\"nodes\"><g class=\"node\" transform=\"translate(0,97.5)\"><title>A</title><text dy=\".35em\" text-anchor=\"end\" transform=\"translate(-4, 97.5)\">A</text><line x1=\"0\" x2=\"0\" y1=\"0\" y2=\"195\" style=\"stroke: rgb(0, 0, 0);\"/><rect x=\"-5\" y=\"-5\" width=\"10\" style=\"fill: none; visibility: hidden; pointer-events: all;\" height=\"200\"/></g><g class=\"node\" transform=\"translate(251.1744754668717,253.5)\"><title>B</title><text dy=\".35em\" text-anchor=\"start\" transform=\"translate(-4, -10)\">B</text><line x1=\"0\" x2=\"0\" y1=\"-5\" y2=\"97.5\" style=\"stroke: rgb(0, 0, 0);\"/><rect x=\"-5\" y=\"-5\" width=\"10\" style=\"fill: none; visibility: hidden; pointer-events: all;\" height=\"102.5\"/></g><g class=\"node\" transform=\"translate(510,146.25)\"><title>C</title><text dy=\".35em\" text-anchor=\"start\" transform=\"translate(4, 48.75)\">C</text><line x1=\"0\" x2=\"0\" y1=\"0\" y2=\"97.5\" style=\"stroke: rgb(0, 0, 0);\"/><rect x=\"-5\" y=\"-5\" width=\"10\" style=\"fill: none; visibility: hidden; pointer-events: all;\" height=\"102.5\"/></g><g class=\"node\" transform=\"translate(251.1744754668717,39)\"><title>D</title><text dy=\".35em\" text-anchor=\"start\" transform=\"translate(4, 48.75)\">D</text><line x1=\"0\" x2=\"0\" y1=\"0\" y2=\"97.5\" style=\"stroke: rgb(0, 0, 0);\"/><rect x=\"-5\" y=\"-5\" width=\"10\" style=\"fill: none; visibility: hidden; pointer-events: all;\" height=\"102.5\"/></g></g><g class=\"slice-titles\"/></g></svg>"
      }
     }
    },
    "version_major": 1,
    "version_minor": 0
   }
  }
 },
 "nbformat": 4,
 "nbformat_minor": 1
}

{
 "cells": [
  {
   "cell_type": "markdown",
   "metadata": {},
   "source": [
    "# More examples"
   ]
  },
  {
   "cell_type": "code",
   "execution_count": null,
   "metadata": {
    "collapsed": false
   },
   "outputs": [],
   "source": [
    "from ipysankeywidget import SankeyWidget\n",
    "\n",
    "def sankey(value, width=400):\n",
    "    \"\"\"Show SankeyWidget with default values for size and margins\"\"\"\n",
    "    return SankeyWidget(value=value, width=width, height=200,\n",
    "                        margins=dict(top=0, bottom=0))"
   ]
  },
  {
   "cell_type": "markdown",
   "metadata": {},
   "source": [
    "## Rank assignment"
   ]
  },
  {
   "cell_type": "markdown",
   "metadata": {},
   "source": [
    "### Rank sets"
   ]
  },
  {
   "cell_type": "markdown",
   "metadata": {},
   "source": [
    "You can adjust the left-right placement of nodes by putting them in rank sets: all nodes in the same set end up with the same rank."
   ]
  },
  {
   "cell_type": "code",
   "execution_count": null,
   "metadata": {
    "collapsed": false
   },
   "outputs": [],
   "source": [
    "flows = [\n",
    "    {'source': 'A', 'target': 'B', 'value': 1},\n",
    "    {'source': 'B', 'target': 'C', 'value': 1},\n",
    "    {'source': 'A', 'target': 'D', 'value': 1},\n",
    "]\n",
    "sankey({'flows': flows}, width=330)"
   ]
  },
  {
   "cell_type": "code",
   "execution_count": null,
   "metadata": {
    "collapsed": false
   },
   "outputs": [],
   "source": [
    "rank_sets = [\n",
    "    { 'type': 'same', 'nodes': ['C', 'D'] }\n",
    "]\n",
    "sankey({'flows': flows, 'rankSets': rank_sets})"
   ]
  },
  {
   "cell_type": "code",
   "execution_count": null,
   "metadata": {
    "collapsed": false
   },
   "outputs": [],
   "source": [
    "order = [\n",
    "    ['A'],\n",
    "    ['D', 'B'],\n",
    "    ['C'],\n",
    "]\n",
    "sankey({'flows': flows, 'order': order})"
   ]
  },
  {
   "cell_type": "code",
   "execution_count": null,
   "metadata": {
    "collapsed": true
   },
   "outputs": [],
   "source": [
    "order = [\n",
    "    [ [   ], ['A'], [],   ],\n",
    "    [ ['B'], [   ], ['D'] ],\n",
    "    [ [   ], ['C'], []    ],\n",
    "]\n",
    "sankey({'flows': flows, 'order': order})"
   ]
  },
  {
   "cell_type": "markdown",
   "metadata": {},
   "source": [
    "### Reversed nodes"
   ]
  },
  {
   "cell_type": "markdown",
   "metadata": {},
   "source": [
    "Most nodes are assumed to flow from left to right, but sometimes there are return flows which should be shown from right to left."
   ]
  },
  {
   "cell_type": "code",
   "execution_count": null,
   "metadata": {
    "collapsed": false
   },
   "outputs": [],
   "source": [
    "flows = [\n",
    "    {'source': 'A', 'target': 'B', 'value': 1},\n",
    "    {'source': 'B', 'target': 'C', 'value': 1},\n",
    "    {'source': 'C', 'target': 'D', 'value': 1},\n",
    "    {'source': 'A', 'target': 'E', 'value': 0.5},\n",
    "]\n",
    "\n",
    "processes = [\n",
    "    {'id': 'C', 'direction': 'l'},\n",
    "    {'id': 'D', 'direction': 'l'},\n",
    "]\n",
    "\n",
    "sankey({'flows': flows, 'processes': processes})"
   ]
  },
  {
   "cell_type": "markdown",
   "metadata": {},
   "source": [
    "Variations:"
   ]
  },
  {
   "cell_type": "code",
   "execution_count": null,
   "metadata": {
    "collapsed": true
   },
   "outputs": [],
   "source": [
    "processes = [\n",
    "    {'id': 'C', 'direction': 'r'},\n",
    "    {'id': 'D', 'direction': 'l'},\n",
    "]\n",
    "sankey({'flows': flows, 'processes': processes})"
   ]
  },
  {
   "cell_type": "code",
   "execution_count": null,
   "metadata": {
    "collapsed": true
   },
   "outputs": [],
   "source": [
    "processes = [\n",
    "    {'id': 'C', 'direction': 'l'},\n",
    "    {'id': 'D', 'direction': 'r'},\n",
    "]\n",
    "sankey({'flows': flows, 'processes': processes})"
   ]
  },
  {
   "cell_type": "markdown",
   "metadata": {},
   "source": [
    "## Styling"
   ]
  },
  {
   "cell_type": "markdown",
   "metadata": {},
   "source": [
    "By default, the flows are coloured according to their material:"
   ]
  },
  {
   "cell_type": "code",
   "execution_count": null,
   "metadata": {
    "collapsed": true
   },
   "outputs": [],
   "source": [
    "flows = [\n",
    "    {'source': 'A', 'target': 'B', 'value': 3, 'material': 'x'},\n",
    "    {'source': 'B', 'target': 'C', 'value': 2, 'material': 'y'},\n",
    "    {'source': 'B', 'target': 'D', 'value': 1, 'material': 'z'},\n",
    "]\n",
    "sankey({'flows': flows, 'processes': []})"
   ]
  },
  {
   "cell_type": "markdown",
   "metadata": {},
   "source": [
    "Process titles default to their ids, but can be overridden:"
   ]
  },
  {
   "cell_type": "code",
   "execution_count": null,
   "metadata": {
    "collapsed": true
   },
   "outputs": [],
   "source": [
    "processes = [\n",
    "    {'id': 'B', 'title': 'Middle node'},\n",
    "]\n",
    "sankey({'flows': flows, 'processes': processes})"
   ]
  },
  {
   "cell_type": "markdown",
   "metadata": {},
   "source": [
    "## Aligning materials"
   ]
  },
  {
   "cell_type": "code",
   "execution_count": null,
   "metadata": {
    "collapsed": true
   },
   "outputs": [],
   "source": [
    "flows = [\n",
    "    {'source': 'A1', 'target': 'B', 'value': 1.5, 'material': 'x'},\n",
    "    {'source': 'A1', 'target': 'B', 'value': 0.5, 'material': 'y'},\n",
    "    {'source': 'A2', 'target': 'B', 'value': 0.5, 'material': 'x'},\n",
    "    {'source': 'A2', 'target': 'B', 'value': 1.5, 'material': 'y'},\n",
    "    {'source': 'B',  'target': 'C', 'value': 2.0, 'material': 'x'},\n",
    "    {'source': 'B',  'target': 'C', 'value': 2.0, 'material': 'y'},\n",
    "]\n",
    "sankey({'flows': flows, 'processes': []})"
   ]
  },
  {
   "cell_type": "code",
   "execution_count": null,
   "metadata": {
    "collapsed": true
   },
   "outputs": [],
   "source": [
    "sankey({'flows': flows, 'processes': [], 'alignMaterials': True})"
   ]
  },
  {
   "cell_type": "code",
   "execution_count": null,
   "metadata": {
    "collapsed": true
   },
   "outputs": [],
   "source": [
    "order = [\n",
    "    ['A2', 'A1'],\n",
    "    ['B'],\n",
    "    ['C'],\n",
    "]\n",
    "sankey({'flows': flows, 'processes': [], 'alignMaterials': True, 'order': order})"
   ]
  },
  {
   "cell_type": "markdown",
   "metadata": {},
   "source": [
    "## Dynamic updating"
   ]
  },
  {
   "cell_type": "code",
   "execution_count": null,
   "metadata": {
    "collapsed": false
   },
   "outputs": [],
   "source": [
    "flows = [\n",
    "    {'source': 'A', 'target': 'B', 'value': 1},\n",
    "    {'source': 'B', 'target': 'C', 'value': 1},\n",
    "    {'source': 'A', 'target': 'D', 'value': 1},\n",
    "]\n",
    "order = [\n",
    "    ['A'],\n",
    "    ['D', 'B'],\n",
    "    ['C'],\n",
    "]\n",
    "s = sankey({'flows': flows, 'order': order})\n",
    "s"
   ]
  },
  {
   "cell_type": "code",
   "execution_count": null,
   "metadata": {
    "collapsed": true
   },
   "outputs": [],
   "source": [
    "order = [\n",
    "    ['A'],\n",
    "    ['B', 'D'],\n",
    "    ['C'],\n",
    "]\n",
    "s.value = {'flows': flows, 'order': order}"
   ]
  },
  {
   "cell_type": "code",
   "execution_count": null,
   "metadata": {
    "collapsed": true
   },
   "outputs": [],
   "source": []
  }
 ],
 "metadata": {
  "hide_input": true,
  "kernelspec": {
   "display_name": "Python 3",
   "language": "python",
   "name": "python3"
  },
  "language_info": {
   "codemirror_mode": {
    "name": "ipython",
    "version": 3
   },
   "file_extension": ".py",
   "mimetype": "text/x-python",
   "name": "python",
   "nbconvert_exporter": "python",
   "pygments_lexer": "ipython3",
   "version": "3.5.1"
  },
  "widgets": {
   "state": {
    "3372079f53fb4484a438473dca15c81b": {
     "views": []
    },
    "4b644f3117f94c278fe7393aae644995": {
     "views": []
    },
    "4b89f7cd9e6f42f790b75115c719266e": {
     "views": []
    },
    "56902a45df7541139e5837fc6303b5b1": {
     "views": []
    },
    "5cd3ac1291f34bbe839ffaa95ef399c8": {
     "views": []
    },
    "65086814a8994f7f89782062f0199c69": {
     "views": []
    },
    "6637f06a0951482d871fcac039682c66": {
     "views": []
    },
    "7a79f2a6c2e44cea8dd9a55fdb832c13": {
     "views": []
    },
    "7d3641be640349648bc3ad655b7bc481": {
     "views": []
    },
    "80eef0c50d9047e289f0739751ad1eb2": {
     "views": []
    },
    "8c9f7470cc0b4096a33106867f391176": {
     "views": []
    },
    "94c4458975be4adca0551d2f6d1901d4": {
     "views": []
    },
    "9f970fab9faa4b4fb91d8cd20aace035": {
     "views": []
    },
    "a096e9ec758949d397ce1765bd3f65a9": {
     "views": []
    },
    "a513b0d398ab4076897408da9773893f": {
     "views": []
    },
    "b5123313f6bf480b9566ae6161e599aa": {
     "views": []
    },
    "b7326fb2cad043458c9d3e8d97917ea1": {
     "views": []
    },
    "c20db08c09844f7dafd5a8f48ce7951e": {
     "views": []
    },
    "ce1383569f3d49ebaf9690126f57f588": {
     "views": []
    },
    "d1c759c422c848eab13322c1e5704a85": {
     "views": []
    },
    "d642dc6895b44a8bbc29b13847d12d72": {
     "views": []
    },
    "dd37b99a9c3b45feadebc5ed1d47dafd": {
     "views": []
    },
    "e8936bbcedb84f6da4e62f29048bd47b": {
     "views": []
    },
    "ec8b8eaf9f4d444680f797c013c68dcf": {
     "views": []
    },
    "fe247119cd1643e0a1b0608f87f5a8b0": {
     "views": []
    },
    "ff6da09b4f954c3fbf0700924d24df18": {
     "views": []
    }
   },
   "version": "1.1.2"
  }
 },
 "nbformat": 4,
 "nbformat_minor": 0
}

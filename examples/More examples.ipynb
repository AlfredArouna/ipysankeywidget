{
 "cells": [
  {
   "cell_type": "markdown",
   "metadata": {},
   "source": [
    "# More examples"
   ]
  },
  {
   "cell_type": "code",
   "execution_count": null,
   "metadata": {
    "collapsed": false
   },
   "outputs": [],
   "source": [
    "from ipysankeywidget import SankeyWidget\n",
    "\n",
    "def sankey(value, width=400):\n",
    "    \"\"\"Show SankeyWidget with default values for size and margins\"\"\"\n",
    "    return SankeyWidget(value=value, width=width, height=200,\n",
    "                        margins=dict(top=0, bottom=0))"
   ]
  },
  {
   "cell_type": "markdown",
   "metadata": {},
   "source": [
    "## Rank assignment"
   ]
  },
  {
   "cell_type": "markdown",
   "metadata": {},
   "source": [
    "### Rank sets"
   ]
  },
  {
   "cell_type": "markdown",
   "metadata": {},
   "source": [
    "You can adjust the left-right placement of nodes by putting them in rank sets: all nodes in the same set end up with the same rank."
   ]
  },
  {
   "cell_type": "code",
   "execution_count": null,
   "metadata": {
    "collapsed": false
   },
   "outputs": [],
   "source": [
    "flows = [\n",
    "    {'source': 'A', 'target': 'B', 'value': 1},\n",
    "    {'source': 'B', 'target': 'C', 'value': 1},\n",
    "    {'source': 'A', 'target': 'D', 'value': 1},\n",
    "]\n",
    "sankey({'flows': flows}, width=330)"
   ]
  },
  {
   "cell_type": "code",
   "execution_count": null,
   "metadata": {
    "collapsed": false
   },
   "outputs": [],
   "source": [
    "rank_sets = [\n",
    "    { 'type': 'same', 'nodes': ['C', 'D'] }\n",
    "]\n",
    "sankey({'flows': flows, 'rankSets': rank_sets})"
   ]
  },
  {
   "cell_type": "code",
   "execution_count": null,
   "metadata": {
    "collapsed": false
   },
   "outputs": [],
   "source": [
    "order = [\n",
    "    ['A'],\n",
    "    ['D', 'B'],\n",
    "    ['C'],\n",
    "]\n",
    "sankey({'flows': flows, 'order': order})"
   ]
  },
  {
   "cell_type": "code",
   "execution_count": null,
   "metadata": {
    "collapsed": true
   },
   "outputs": [],
   "source": [
    "order = [\n",
    "    [ [   ], ['A'], [],   ],\n",
    "    [ ['B'], [   ], ['D'] ],\n",
    "    [ [   ], ['C'], []    ],\n",
    "]\n",
    "sankey({'flows': flows, 'order': order})"
   ]
  },
  {
   "cell_type": "markdown",
   "metadata": {},
   "source": [
    "### Reversed nodes"
   ]
  },
  {
   "cell_type": "markdown",
   "metadata": {},
   "source": [
    "Most nodes are assumed to flow from left to right, but sometimes there are return flows which should be shown from right to left."
   ]
  },
  {
   "cell_type": "code",
   "execution_count": null,
   "metadata": {
    "collapsed": false
   },
   "outputs": [],
   "source": [
    "flows = [\n",
    "    {'source': 'A', 'target': 'B', 'value': 1},\n",
    "    {'source': 'B', 'target': 'C', 'value': 1},\n",
    "    {'source': 'C', 'target': 'D', 'value': 1},\n",
    "    {'source': 'A', 'target': 'E', 'value': 0.5},\n",
    "]\n",
    "\n",
    "processes = [\n",
    "    {'id': 'C', 'direction': 'l'},\n",
    "    {'id': 'D', 'direction': 'l'},\n",
    "]\n",
    "\n",
    "sankey({'flows': flows, 'processes': processes})"
   ]
  },
  {
   "cell_type": "markdown",
   "metadata": {},
   "source": [
    "Variations:"
   ]
  },
  {
   "cell_type": "code",
   "execution_count": null,
   "metadata": {
    "collapsed": true
   },
   "outputs": [],
   "source": [
    "processes = [\n",
    "    {'id': 'C', 'direction': 'r'},\n",
    "    {'id': 'D', 'direction': 'l'},\n",
    "]\n",
    "sankey({'flows': flows, 'processes': processes})"
   ]
  },
  {
   "cell_type": "code",
   "execution_count": null,
   "metadata": {
    "collapsed": true
   },
   "outputs": [],
   "source": [
    "processes = [\n",
    "    {'id': 'C', 'direction': 'l'},\n",
    "    {'id': 'D', 'direction': 'r'},\n",
    "]\n",
    "sankey({'flows': flows, 'processes': processes})"
   ]
  },
  {
   "cell_type": "markdown",
   "metadata": {},
   "source": [
    "## Styling"
   ]
  },
  {
   "cell_type": "markdown",
   "metadata": {},
   "source": [
    "By default, the flows are coloured according to their material:"
   ]
  },
  {
   "cell_type": "code",
   "execution_count": null,
   "metadata": {
    "collapsed": true
   },
   "outputs": [],
   "source": [
    "flows = [\n",
    "    {'source': 'A', 'target': 'B', 'value': 3, 'material': 'x'},\n",
    "    {'source': 'B', 'target': 'C', 'value': 2, 'material': 'y'},\n",
    "    {'source': 'B', 'target': 'D', 'value': 1, 'material': 'z'},\n",
    "]\n",
    "sankey({'flows': flows, 'processes': []})"
   ]
  },
  {
   "cell_type": "markdown",
   "metadata": {},
   "source": [
    "Process titles default to their ids, but can be overridden:"
   ]
  },
  {
   "cell_type": "code",
   "execution_count": null,
   "metadata": {
    "collapsed": true
   },
   "outputs": [],
   "source": [
    "processes = [\n",
    "    {'id': 'B', 'title': 'Middle node'},\n",
    "]\n",
    "sankey({'flows': flows, 'processes': processes})"
   ]
  },
  {
   "cell_type": "markdown",
   "metadata": {},
   "source": [
    "## Aligning materials"
   ]
  },
  {
   "cell_type": "code",
   "execution_count": null,
   "metadata": {
    "collapsed": true
   },
   "outputs": [],
   "source": [
    "flows = [\n",
    "    {'source': 'A1', 'target': 'B', 'value': 1.5, 'material': 'x'},\n",
    "    {'source': 'A1', 'target': 'B', 'value': 0.5, 'material': 'y'},\n",
    "    {'source': 'A2', 'target': 'B', 'value': 0.5, 'material': 'x'},\n",
    "    {'source': 'A2', 'target': 'B', 'value': 1.5, 'material': 'y'},\n",
    "    {'source': 'B',  'target': 'C', 'value': 2.0, 'material': 'x'},\n",
    "    {'source': 'B',  'target': 'C', 'value': 2.0, 'material': 'y'},\n",
    "]\n",
    "sankey({'flows': flows, 'processes': []})"
   ]
  },
  {
   "cell_type": "code",
   "execution_count": null,
   "metadata": {
    "collapsed": true
   },
   "outputs": [],
   "source": [
    "sankey({'flows': flows, 'processes': [], 'alignMaterials': True})"
   ]
  },
  {
   "cell_type": "code",
   "execution_count": null,
   "metadata": {
    "collapsed": true
   },
   "outputs": [],
   "source": [
    "order = [\n",
    "    ['A2', 'A1'],\n",
    "    ['B'],\n",
    "    ['C'],\n",
    "]\n",
    "sankey({'flows': flows, 'processes': [], 'alignMaterials': True, 'order': order})"
   ]
  }
 ],
 "metadata": {
  "hide_input": true,
  "kernelspec": {
   "display_name": "Python 3",
   "language": "python",
   "name": "python3"
  },
  "language_info": {
   "codemirror_mode": {
    "name": "ipython",
    "version": 3
   },
   "file_extension": ".py",
   "mimetype": "text/x-python",
   "name": "python",
   "nbconvert_exporter": "python",
   "pygments_lexer": "ipython3",
   "version": "3.5.1"
  }
 },
 "nbformat": 4,
 "nbformat_minor": 0
}

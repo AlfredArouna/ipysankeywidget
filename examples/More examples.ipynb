{
 "cells": [
  {
   "cell_type": "markdown",
   "metadata": {},
   "source": [
    "# More examples\n",
    "> [<i class=\"fa fa-2x fa-paper-plane text-info fa-fw\"> </i> Simpler example](./SankeyWidget Example.ipynb)\n",
    ">\n",
    "> [<i class=\"fa fa-2x fa-link text-info fa-fw\"> </i> Linking and Layout](./Linking and Layout.ipynb)"
   ]
  },
  {
   "cell_type": "code",
   "execution_count": 18,
   "metadata": {
    "collapsed": false
   },
   "outputs": [],
   "source": [
    "from ipysankeywidget import SankeyWidget"
   ]
  },
  {
   "cell_type": "markdown",
   "metadata": {},
   "source": [
    "> <i class=\"fa fa-gears fa-2x fa-fw text-info\"></i> A convenience factory function"
   ]
  },
  {
   "cell_type": "code",
   "execution_count": 34,
   "metadata": {
    "collapsed": true
   },
   "outputs": [],
   "source": [
    "def sankey(width=300, margin_top=10, **value):\n",
    "    \"\"\"Show SankeyWidget with default values for size and margins\"\"\"\n",
    "    return SankeyWidget(value=value, width=str(width), height=200,\n",
    "                        margins=dict(top=margin_top, bottom=0, left=30, right=60))"
   ]
  },
  {
   "cell_type": "markdown",
   "metadata": {},
   "source": [
    "## Rank assignment"
   ]
  },
  {
   "cell_type": "markdown",
   "metadata": {},
   "source": [
    "### Rank sets"
   ]
  },
  {
   "cell_type": "markdown",
   "metadata": {},
   "source": [
    "You can adjust the left-right placement of nodes by putting them in rank sets: all nodes in the same set end up with the same rank."
   ]
  },
  {
   "cell_type": "code",
   "execution_count": 19,
   "metadata": {
    "collapsed": false
   },
   "outputs": [],
   "source": [
    "links = [\n",
    "    {'source': 'A', 'target': 'B', 'value': 1},\n",
    "    {'source': 'B', 'target': 'C', 'value': 1},\n",
    "    {'source': 'A', 'target': 'D', 'value': 1},\n",
    "]\n",
    "sankey(links=links)"
   ]
  },
  {
   "cell_type": "code",
   "execution_count": 20,
   "metadata": {
    "collapsed": false
   },
   "outputs": [],
   "source": [
    "rank_sets = [\n",
    "    { 'type': 'same', 'nodes': ['C', 'D'] }\n",
    "]\n",
    "sankey(links=links, rankSets=rank_sets)"
   ]
  },
  {
   "cell_type": "code",
   "execution_count": 21,
   "metadata": {
    "collapsed": false
   },
   "outputs": [],
   "source": [
    "order = [\n",
    "    ['A'],\n",
    "    ['D', 'B'],\n",
    "    ['C'],\n",
    "]\n",
    "sankey(links=links, order=order)"
   ]
  },
  {
   "cell_type": "code",
   "execution_count": 22,
   "metadata": {
    "collapsed": true
   },
   "outputs": [],
   "source": [
    "order = [\n",
    "    [ [   ], ['A'], [],   ],\n",
    "    [ ['B'], [   ], ['D'] ],\n",
    "    [ [   ], ['C'], []    ],\n",
    "]\n",
    "sankey(links=links, order=order)"
   ]
  },
  {
   "cell_type": "markdown",
   "metadata": {},
   "source": [
    "### Reversed nodes"
   ]
  },
  {
   "cell_type": "markdown",
   "metadata": {},
   "source": [
    "Most nodes are assumed to link from left to right, but sometimes there are return links which should be shown from right to left."
   ]
  },
  {
   "cell_type": "code",
   "execution_count": 23,
   "metadata": {
    "collapsed": false
   },
   "outputs": [],
   "source": [
    "links = [\n",
    "    {'source': 'A', 'target': 'B', 'value': 1},\n",
    "    {'source': 'B', 'target': 'C', 'value': 1},\n",
    "    {'source': 'C', 'target': 'D', 'value': 1},\n",
    "    {'source': 'A', 'target': 'E', 'value': 0.5},\n",
    "]\n",
    "\n",
    "nodes = [\n",
    "    {'id': 'C', 'direction': 'l'},\n",
    "    {'id': 'D', 'direction': 'l'},\n",
    "]\n",
    "\n",
    "sankey(links=links, nodes=nodes)"
   ]
  },
  {
   "cell_type": "markdown",
   "metadata": {},
   "source": [
    "Variations:"
   ]
  },
  {
   "cell_type": "code",
   "execution_count": 24,
   "metadata": {
    "collapsed": true
   },
   "outputs": [],
   "source": [
    "nodes = [\n",
    "    {'id': 'C', 'direction': 'r'},\n",
    "    {'id': 'D', 'direction': 'l'},\n",
    "]\n",
    "sankey(links=links, nodes=nodes)"
   ]
  },
  {
   "cell_type": "code",
   "execution_count": 25,
   "metadata": {
    "collapsed": true
   },
   "outputs": [],
   "source": [
    "nodes = [\n",
    "    {'id': 'C', 'direction': 'l'},\n",
    "    {'id': 'D', 'direction': 'r'},\n",
    "]\n",
    "sankey(links=links, nodes=nodes)"
   ]
  },
  {
   "cell_type": "markdown",
   "metadata": {},
   "source": [
    "## Styling"
   ]
  },
  {
   "cell_type": "markdown",
   "metadata": {},
   "source": [
    "By default, the links are coloured according to their type:"
   ]
  },
  {
   "cell_type": "code",
   "execution_count": 35,
   "metadata": {
    "collapsed": true
   },
   "outputs": [],
   "source": [
    "links = [\n",
    "    {'source': 'A', 'target': 'B', 'value': 3, 'type': 'x'},\n",
    "    {'source': 'B', 'target': 'C', 'value': 2, 'type': 'y'},\n",
    "    {'source': 'B', 'target': 'D', 'value': 1, 'type': 'z'},\n",
    "]\n",
    "sankey(links=links)"
   ]
  },
  {
   "cell_type": "markdown",
   "metadata": {},
   "source": [
    "Process titles default to their ids, but can be overridden. There are also one built-in alternative \"style\" of node:\n",
    "- `process` is drawn with a thicker line"
   ]
  },
  {
   "cell_type": "code",
   "execution_count": 27,
   "metadata": {
    "collapsed": false
   },
   "outputs": [],
   "source": [
    "nodes = [\n",
    "    {'id': 'B', 'title': 'Middle node', 'style': 'process' },\n",
    "]\n",
    "sankey(links=links, nodes=nodes)"
   ]
  },
  {
   "cell_type": "markdown",
   "metadata": {},
   "source": [
    "## Aligning link types"
   ]
  },
  {
   "cell_type": "code",
   "execution_count": 28,
   "metadata": {
    "collapsed": true
   },
   "outputs": [],
   "source": [
    "links = [\n",
    "    {'source': 'A1', 'target': 'B', 'value': 1.5, 'type': 'x'},\n",
    "    {'source': 'A1', 'target': 'B', 'value': 0.5, 'type': 'y'},\n",
    "    {'source': 'A2', 'target': 'B', 'value': 0.5, 'type': 'x'},\n",
    "    {'source': 'A2', 'target': 'B', 'value': 1.5, 'type': 'y'},\n",
    "    {'source': 'B',  'target': 'C', 'value': 2.0, 'type': 'x'},\n",
    "    {'source': 'B',  'target': 'C', 'value': 2.0, 'type': 'y'},\n",
    "]\n",
    "sankey(links=links, nodes=[])"
   ]
  },
  {
   "cell_type": "code",
   "execution_count": 30,
   "metadata": {
    "collapsed": true
   },
   "outputs": [],
   "source": [
    "sankey(links=links, alignLinkTypes=True)"
   ]
  },
  {
   "cell_type": "code",
   "execution_count": 31,
   "metadata": {
    "collapsed": true
   },
   "outputs": [],
   "source": [
    "order = [\n",
    "    ['A2', 'A1'],\n",
    "    ['B'],\n",
    "    ['C'],\n",
    "]\n",
    "sankey(links=links, alignLinkTypes=True, order=order)"
   ]
  },
  {
   "cell_type": "markdown",
   "metadata": {},
   "source": [
    "## Dynamic updating"
   ]
  },
  {
   "cell_type": "code",
   "execution_count": 32,
   "metadata": {
    "collapsed": false
   },
   "outputs": [],
   "source": [
    "from ipywidgets import Button, VBox\n",
    "\n",
    "links = [\n",
    "    {'source': 'A', 'target': 'B', 'value': 1},\n",
    "    {'source': 'B', 'target': 'C', 'value': 1},\n",
    "    {'source': 'A', 'target': 'D', 'value': 1},\n",
    "]\n",
    "order = [\n",
    "    ['A'],\n",
    "    ['D', 'B'],\n",
    "    ['C'],\n",
    "]\n",
    "s = sankey(links=links, order=order)\n",
    "\n",
    "def swap(x):\n",
    "    global order\n",
    "    order = [list(reversed(o)) for o in order]\n",
    "    s.value = {'links': links, 'order': order}\n",
    "b = Button(description='Swap')\n",
    "b.on_click(swap)\n",
    "\n",
    "VBox([b, s])"
   ]
  },
  {
   "cell_type": "markdown",
   "metadata": {
    "collapsed": true
   },
   "source": [
    "## Node groups"
   ]
  },
  {
   "cell_type": "code",
   "execution_count": 33,
   "metadata": {
    "collapsed": true
   },
   "outputs": [],
   "source": [
    "links = [\n",
    "    {'source': 'A', 'target': 'B', 'value': 3, 'type': 'x'},\n",
    "    {'source': 'B', 'target': 'C', 'value': 2, 'type': 'y'},\n",
    "    {'source': 'B', 'target': 'D', 'value': 1, 'type': 'z'},\n",
    "]\n",
    "groups = [\n",
    "    {'id': 'G', 'title': 'Group', 'nodes': ['C', 'D']}\n",
    "]\n",
    "sankey(links=links, nodes=[], groups=groups, margin_top=50)"
   ]
  }
 ],
 "metadata": {
  "hide_input": true,
  "kernelspec": {
   "display_name": "Python 3",
   "language": "python",
   "name": "python3"
  },
  "language_info": {
   "codemirror_mode": {
    "name": "ipython",
    "version": 3
   },
   "file_extension": ".py",
   "mimetype": "text/x-python",
   "name": "python",
   "nbconvert_exporter": "python",
   "pygments_lexer": "ipython3",
   "version": "3.5.1"
  },
  "widgets": {
   "state": {
    "00dc82608f3c41608a08739ae84066b3": {
     "views": []
    },
    "065f219c16934421be09ac5b0c064461": {
     "views": []
    },
    "07c07c60fb68440ea2bae30e4b08d41d": {
     "views": []
    },
    "0961c5928eeb482bbf3edd8a0c362a76": {
     "views": []
    },
    "0a721a086b83407182f6775a4dde0ab7": {
     "views": []
    },
    "0fd8f43765ae4c27a50b9a2b4edf4605": {
     "views": []
    },
    "12739bffc3eb4ab78652ad8a2529ecfb": {
     "views": []
    },
    "1286fe4414fa40489b9fb7f86ba808e9": {
     "views": []
    },
    "128f88150cd244b6bb14d7bba704a185": {
     "views": []
    },
    "14c32bba78de43a8b587a797c849be66": {
     "views": []
    },
    "15090159110f460a8f947b9caaf40927": {
     "views": []
    },
    "17cc7aa1bfa5460cbf770b58385d4994": {
     "views": []
    },
    "2092739ae7d64775bd7672e9a62733fc": {
     "views": []
    },
    "28d45a6ce3724bf981f66d11b11f1bb7": {
     "views": []
    },
    "292646232e674ee0a936a1f17c4594b6": {
     "views": [
      {
       "cell_index": 22
      }
     ]
    },
    "30bd56cfc466413bb35e9a5d55857da4": {
     "views": [
      {
       "cell_index": 7
      }
     ]
    },
    "3de9195e0a21429c8fc8ed2757318ed9": {
     "views": []
    },
    "46cb782d21ca4503a2e3c3fe029ed047": {
     "views": []
    },
    "46e33749f71c4074bdc72efdf4cafc6c": {
     "views": []
    },
    "484be6b552174a1e9c58a91a1d00c47b": {
     "views": []
    },
    "4cc3d2e1407b4472bac8665d8f61ddf2": {
     "views": []
    },
    "50a924401773480a8c4205bfed04bdc8": {
     "views": [
      {
       "cell_index": 6
      }
     ]
    },
    "53df2ba56f7b439f9503cee5b99ce1dc": {
     "views": []
    },
    "5b73e39497474f43acbd43108ebf2e2c": {
     "views": []
    },
    "5ff668b2606148329565575511e189e6": {
     "views": []
    },
    "69510018b85e402b9e21915d0d2e7e89": {
     "views": []
    },
    "69a2ac083e3748c2b8892fac62517c51": {
     "views": []
    },
    "6ba0ecb56f1b4f878f9e4d7b5c22e68d": {
     "views": []
    },
    "6bfcd87a004741cd9f87b8c38fd2bd42": {
     "views": []
    },
    "6c14edb9798b49c7bc20eb245a282e36": {
     "views": []
    },
    "6e51af3db8ef41619b7f62046ff96088": {
     "views": []
    },
    "6ef12c2029d0423387e6ff21d6f0c62e": {
     "views": [
      {
       "cell_index": 8
      }
     ]
    },
    "747d8470e6574d6cb29af598db391562": {
     "views": []
    },
    "75cbf30c25ff4afc8362c5a7edd41ef8": {
     "views": []
    },
    "76ce81baa91148b091cd95aa9bab7035": {
     "views": []
    },
    "7878845563dd4cb28a125d31c85cc7db": {
     "views": []
    },
    "82dce31c13e8465f981cb92ea86273e7": {
     "views": []
    },
    "863042e984124dc393be861628f314ea": {
     "views": []
    },
    "8b23f7edd9a744cf907eaba56ba7834e": {
     "views": [
      {
       "cell_index": 19
      }
     ]
    },
    "8df4e2a109bd4638bea9cba47fd51721": {
     "views": []
    },
    "8dfb3806f3bd423d9a4d0d890e5208c3": {
     "views": []
    },
    "9607986b286243c19d9e89338b09322b": {
     "views": [
      {
       "cell_index": 11
      }
     ]
    },
    "987a4af4e5054272bba04e937ad62b9d": {
     "views": []
    },
    "9d9b937a197a4a2995f3601e7069e9f4": {
     "views": []
    },
    "a0733129a97045eb887e97f0bdb7ca04": {
     "views": []
    },
    "a4f7fff8d9e54f8486226a3cf98fc42e": {
     "views": []
    },
    "a89848ac18d048d78b142a808db3050a": {
     "views": []
    },
    "abf3904effdb49ecbc9c423f75fbc5bf": {
     "views": []
    },
    "b16b772fc9f1421c8996637a949a8963": {
     "views": []
    },
    "b1e8c7c55a3f4aef9a336743db29fcdd": {
     "views": []
    },
    "b5c916939d574d25820a16741322b686": {
     "views": [
      {
       "cell_index": 5
      }
     ]
    },
    "baa9bd2c8ee3485f8d5e5d153d786613": {
     "views": []
    },
    "be42bfd2ce084a71b326c5d8252782d5": {
     "views": []
    },
    "c02a6923f5c4454ead12140af2017c2b": {
     "views": []
    },
    "c043a68b1eb04f2dbdf5de55e1282da7": {
     "views": [
      {
       "cell_index": 27
      }
     ]
    },
    "c1a9d62a71c5492980826dfcc516c3cf": {
     "views": []
    },
    "c939e757e92d45d29e30c71ecf376ca4": {
     "views": []
    },
    "cfcf417ab50e45a599aaa0447adfe9b6": {
     "views": []
    },
    "d097600de39e45439d13fba5682032ff": {
     "views": []
    },
    "d30a119192294af5b38fdca6d618d91f": {
     "views": [
      {
       "cell_index": 13
      }
     ]
    },
    "d43d7a2bf8c2448dabdbf48614384260": {
     "views": [
      {
       "cell_index": 23
      }
     ]
    },
    "d8cce300d55144929cb8d76f5ccd3ff7": {
     "views": [
      {
       "cell_index": 19
      }
     ]
    },
    "dbf9fd30d2b74b0e805eab9911288727": {
     "views": [
      {
       "cell_index": 25
      }
     ]
    },
    "dc04fd43bb0b42b3a379b705c411cfeb": {
     "views": [
      {
       "cell_index": 21
      }
     ]
    },
    "dc4ba1017b9547f18d62cdd8a58f0404": {
     "views": []
    },
    "ddb739d400ad41b0873997034752e303": {
     "views": []
    },
    "e1424aba810a427981d566f846d849ff": {
     "views": []
    },
    "e3ffdfc82cc14ba9ae67486db1758e23": {
     "views": []
    },
    "ea1cade343d94555b98adc032cb7b5bc": {
     "views": []
    },
    "ec01a9ba4f4d493a870f0e057dbcc725": {
     "views": []
    },
    "f1ba26a96abf4502ba10d4c7c460e835": {
     "views": []
    },
    "f39cb5f5e1df45f98528bd6d31fc9959": {
     "views": []
    },
    "f65748fdfec247b4b8d91952bf7a5fb1": {
     "views": []
    },
    "fbd394f6bd5c4047bfed40b1209210e0": {
     "views": [
      {
       "cell_index": 14
      }
     ]
    },
    "fd40812417fe40c28976ae52ae89f699": {
     "views": []
    },
    "fdcc6e2fa480499f849c017282e49e02": {
     "views": []
    }
   },
   "version": "1.1.2"
  }
 },
 "nbformat": 4,
 "nbformat_minor": 0
}

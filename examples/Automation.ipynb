{
 "cells": [
  {
   "cell_type": "markdown",
   "metadata": {},
   "source": [
    "# Do Package Manager stuff\n",
    "> Use the right tool for the job: there are some things that aren't worth re-engineering in Python. Here are some tools in python and javascript that will help your project be more maintainable"
   ]
  },
  {
   "cell_type": "code",
   "execution_count": 1,
   "metadata": {
    "collapsed": false
   },
   "outputs": [
    {
     "name": "stdout",
     "output_type": "stream",
     "text": [
      "\u001b[33mYou are using pip version 6.0.8, however version 7.1.0 is available.\n",
      "You should consider upgrading via the 'pip install --upgrade pip' command.\u001b[0m\n",
      "Requirement already satisfied (use --upgrade to upgrade): wheel in ./venv/lib/python3.4/site-packages (from -r requirements.txt (line 1))\n",
      "Requirement already satisfied (use --upgrade to upgrade): IPython[notebook]<4.0,>=3.0 in ./venv/lib/python3.4/site-packages (from -r requirements.txt (line 2))\n",
      "Requirement already satisfied (use --upgrade to upgrade): flake8 in ./venv/lib/python3.4/site-packages (from -r requirements-dev.txt (line 2))\n",
      "Requirement already satisfied (use --upgrade to upgrade): nose in ./venv/lib/python3.4/site-packages (from -r requirements-dev.txt (line 3))\n",
      "Requirement already satisfied (use --upgrade to upgrade): requests in ./venv/lib/python3.4/site-packages (from -r requirements-dev.txt (line 4))\n",
      "Requirement already satisfied (use --upgrade to upgrade): jinja2 in ./venv/lib/python3.4/site-packages (from IPython[notebook]<4.0,>=3.0->-r requirements.txt (line 2))\n",
      "Requirement already satisfied (use --upgrade to upgrade): pygments in ./venv/lib/python3.4/site-packages (from IPython[notebook]<4.0,>=3.0->-r requirements.txt (line 2))\n",
      "Requirement already satisfied (use --upgrade to upgrade): tornado>=4.0 in ./venv/lib/python3.4/site-packages (from IPython[notebook]<4.0,>=3.0->-r requirements.txt (line 2))\n",
      "Requirement already satisfied (use --upgrade to upgrade): terminado>=0.3.3 in ./venv/lib/python3.4/site-packages (from IPython[notebook]<4.0,>=3.0->-r requirements.txt (line 2))\n",
      "Requirement already satisfied (use --upgrade to upgrade): mistune>=0.5 in ./venv/lib/python3.4/site-packages (from IPython[notebook]<4.0,>=3.0->-r requirements.txt (line 2))\n",
      "Requirement already satisfied (use --upgrade to upgrade): jsonschema>=2.0 in ./venv/lib/python3.4/site-packages (from IPython[notebook]<4.0,>=3.0->-r requirements.txt (line 2))\n",
      "Requirement already satisfied (use --upgrade to upgrade): pyzmq>=13 in ./venv/lib/python3.4/site-packages (from IPython[notebook]<4.0,>=3.0->-r requirements.txt (line 2))\n",
      "Requirement already satisfied (use --upgrade to upgrade): pyflakes<0.9,>=0.8.1 in ./venv/lib/python3.4/site-packages (from flake8->-r requirements-dev.txt (line 2))\n",
      "Requirement already satisfied (use --upgrade to upgrade): mccabe<0.4,>=0.2.1 in ./venv/lib/python3.4/site-packages (from flake8->-r requirements-dev.txt (line 2))\n",
      "Requirement already satisfied (use --upgrade to upgrade): pep8!=1.6.0,!=1.6.1,!=1.6.2,>=1.5.7 in ./venv/lib/python3.4/site-packages (from flake8->-r requirements-dev.txt (line 2))\n",
      "Requirement already satisfied (use --upgrade to upgrade): markupsafe in ./venv/lib/python3.4/site-packages (from jinja2->IPython[notebook]<4.0,>=3.0->-r requirements.txt (line 2))\n",
      "Requirement already satisfied (use --upgrade to upgrade): ptyprocess in ./venv/lib/python3.4/site-packages (from terminado>=0.3.3->IPython[notebook]<4.0,>=3.0->-r requirements.txt (line 2))\n",
      "-\u001b[0G-\u001b[0G\\\u001b[0G-\u001b[0G\\\u001b[0G|\u001b[0G/\u001b[0G-\u001b[0G\\\u001b[0G-\u001b[0G\\\u001b[0G|\u001b[0G/\u001b[0G-\u001b[0G\\\u001b[0G-\u001b[0G\\\u001b[0G|\u001b[0G/\u001b[0G-\u001b[0G\\\u001b[0G|\u001b[0G/\u001b[0G-\u001b[0G\\\u001b[0G|\u001b[0G/\u001b[0G-\u001b[0G\\\u001b[0G|\u001b[0G/\u001b[0G\n",
      "> phantomjs@1.9.17 install /home/rick/devel/ipython-foreseer-sankey-widget/node_modules/casperjs/node_modules/phantomjs\n",
      "> node install.js\n",
      "\n",
      "-\u001b[0G\\\u001b[0GLooks like an `npm install -g`; unable to check for already installed version.\n",
      "|\u001b[0GDownload already available at /tmp/phantomjs/phantomjs-1.9.8-linux-x86_64.tar.bz2\n",
      "Extracting tar contents (via spawned process)\n",
      "/\u001b[0G-\u001b[0G\\\u001b[0G|\u001b[0G/\u001b[0G-\u001b[0G\\\u001b[0G|\u001b[0G/\u001b[0G-\u001b[0G\\\u001b[0G|\u001b[0G-\u001b[0G\\\u001b[0G|\u001b[0G/\u001b[0G-\u001b[0G-\u001b[0G\\\u001b[0G|\u001b[0G/\u001b[0G-\u001b[0G\\\u001b[0G|\u001b[0G/\u001b[0G-\u001b[0G\\\u001b[0G|\u001b[0G/\u001b[0G-\u001b[0G\\\u001b[0G|\u001b[0G/\u001b[0G-\u001b[0G\\\u001b[0G|\u001b[0GRemoving /home/rick/devel/ipython-foreseer-sankey-widget/node_modules/casperjs/node_modules/phantomjs/lib/phantom\n",
      "Copying extracted folder /tmp/phantomjs/phantomjs-1.9.8-linux-x86_64.tar.bz2-extract-1437643110769/phantomjs-1.9.8-linux-x86_64 -> /home/rick/devel/ipython-foreseer-sankey-widget/node_modules/casperjs/node_modules/phantomjs/lib/phantom\n",
      "Writing location.js file\n",
      "Done. Phantomjs binary available at /home/rick/devel/ipython-foreseer-sankey-widget/node_modules/casperjs/node_modules/phantomjs/lib/phantom/bin/phantomjs\n",
      "jshint@2.8.0 node_modules/jshint\n",
      "├── strip-json-comments@1.0.2\n",
      "├── exit@0.1.2\n",
      "├── console-browserify@1.1.0 (date-now@0.1.4)\n",
      "├── shelljs@0.3.0\n",
      "├── minimatch@2.0.10 (brace-expansion@1.1.0)\n",
      "├── cli@0.6.6 (glob@3.2.11)\n",
      "├── htmlparser2@3.8.3 (domelementtype@1.3.0, entities@1.0.0, domhandler@2.3.0, readable-stream@1.1.13, domutils@1.5.1)\n",
      "└── lodash@3.7.0\n",
      "\n",
      "less@2.5.1 node_modules/less\n",
      "├── graceful-fs@3.0.8\n",
      "├── mime@1.3.4\n",
      "├── image-size@0.3.5\n",
      "├── errno@0.1.3 (prr@0.0.0)\n",
      "├── mkdirp@0.5.1 (minimist@0.0.8)\n",
      "├── source-map@0.4.4 (amdefine@1.0.0)\n",
      "├── promise@6.1.0 (asap@1.0.0)\n",
      "└── request@2.60.0 (aws-sign2@0.5.0, forever-agent@0.6.1, stringstream@0.0.4, caseless@0.11.0, oauth-sign@0.8.0, tunnel-agent@0.4.1, isstream@0.1.2, json-stringify-safe@5.0.1, extend@3.0.0, combined-stream@1.0.5, node-uuid@1.4.3, qs@4.0.0, form-data@1.0.0-rc2, mime-types@2.1.3, http-signature@0.11.0, bl@1.0.0, tough-cookie@2.0.0, hawk@3.1.0, har-validator@1.8.0)\n",
      "\n",
      "casperjs@1.1.0-beta3 node_modules/casperjs\n",
      "└── phantomjs@1.9.17 (which@1.0.9, progress@1.1.8, kew@0.4.0, request-progress@0.3.1, adm-zip@0.4.4, npmconf@2.1.1, fs-extra@0.18.4, request@2.42.0)\n",
      "\u001b[2K"
     ]
    }
   ],
   "source": [
    "!cd .. && pip install -r requirements-dev.txt\n",
    "!cd .. && npm install\n",
    "!cd .. && bower install"
   ]
  },
  {
   "cell_type": "markdown",
   "metadata": {},
   "source": [
    "# Check Style"
   ]
  },
  {
   "cell_type": "code",
   "execution_count": 2,
   "metadata": {
    "collapsed": false
   },
   "outputs": [
    {
     "name": "stdout",
     "output_type": "stream",
     "text": [
      "../setup.py:61:80: E501 line too long (87 > 79 characters)\n",
      "\n",
      "> ipythonforeseersankeywidget@0.1.0 jshint /home/rick/devel/ipython-foreseer-sankey-widget\n",
      "> ./node_modules/jshint/bin/jshint ipythonforeseersankeywidget/static/ipythonforeseersankeywidget/js/*.js\n",
      "\n",
      "ipythonforeseersankeywidget/static/ipythonforeseersankeywidget/js/d3.min.js: line 1, col 25, 'n' is already defined.\n",
      "ipythonforeseersankeywidget/static/ipythonforeseersankeywidget/js/d3.min.js: line 1, col 85, Missing semicolon.\n",
      "ipythonforeseersankeywidget/static/ipythonforeseersankeywidget/js/d3.min.js: line 1, col 186, Missing semicolon.\n",
      "ipythonforeseersankeywidget/static/ipythonforeseersankeywidget/js/d3.min.js: line 1, col 233, Missing semicolon.\n",
      "ipythonforeseersankeywidget/static/ipythonforeseersankeywidget/js/d3.min.js: line 1, col 270, Missing semicolon.\n",
      "ipythonforeseersankeywidget/static/ipythonforeseersankeywidget/js/d3.min.js: line 1, col 300, Missing semicolon.\n",
      "ipythonforeseersankeywidget/static/ipythonforeseersankeywidget/js/d3.min.js: line 1, col 423, Unexpected use of '>>>'.\n",
      "ipythonforeseersankeywidget/static/ipythonforeseersankeywidget/js/d3.min.js: line 1, col 448, Expected an assignment or function call and instead saw an expression.\n",
      "ipythonforeseersankeywidget/static/ipythonforeseersankeywidget/js/d3.min.js: line 1, col 449, Missing semicolon.\n",
      "ipythonforeseersankeywidget/static/ipythonforeseersankeywidget/js/d3.min.js: line 1, col 458, Missing semicolon.\n",
      "ipythonforeseersankeywidget/static/ipythonforeseersankeywidget/js/d3.min.js: line 1, col 562, Unexpected use of '>>>'.\n",
      "ipythonforeseersankeywidget/static/ipythonforeseersankeywidget/js/d3.min.js: line 1, col 587, Expected an assignment or function call and instead saw an expression.\n",
      "ipythonforeseersankeywidget/static/ipythonforeseersankeywidget/js/d3.min.js: line 1, col 588, Missing semicolon.\n",
      "ipythonforeseersankeywidget/static/ipythonforeseersankeywidget/js/d3.min.js: line 1, col 597, Missing semicolon.\n",
      "ipythonforeseersankeywidget/static/ipythonforeseersankeywidget/js/d3.min.js: line 1, col 599, Missing semicolon.\n",
      "ipythonforeseersankeywidget/static/ipythonforeseersankeywidget/js/d3.min.js: line 1, col 629, Missing semicolon.\n",
      "ipythonforeseersankeywidget/static/ipythonforeseersankeywidget/js/d3.min.js: line 1, col 663, Expected '{' and instead saw 't'.\n",
      "ipythonforeseersankeywidget/static/ipythonforeseersankeywidget/js/d3.min.js: line 1, col 677, Missing semicolon.\n",
      "ipythonforeseersankeywidget/static/ipythonforeseersankeywidget/js/d3.min.js: line 1, col 709, Expected '{' and instead saw 'Object'.\n",
      "ipythonforeseersankeywidget/static/ipythonforeseersankeywidget/js/d3.min.js: line 1, col 772, Missing semicolon.\n",
      "ipythonforeseersankeywidget/static/ipythonforeseersankeywidget/js/d3.min.js: line 1, col 812, Missing semicolon.\n",
      "ipythonforeseersankeywidget/static/ipythonforeseersankeywidget/js/d3.min.js: line 1, col 863, Missing semicolon.\n",
      "ipythonforeseersankeywidget/static/ipythonforeseersankeywidget/js/d3.min.js: line 1, col 912, Missing semicolon.\n",
      "ipythonforeseersankeywidget/static/ipythonforeseersankeywidget/js/d3.min.js: line 1, col 947, Missing semicolon.\n",
      "ipythonforeseersankeywidget/static/ipythonforeseersankeywidget/js/d3.min.js: line 1, col 1003, Missing semicolon.\n",
      "ipythonforeseersankeywidget/static/ipythonforeseersankeywidget/js/d3.min.js: line 1, col 1046, Expected '{' and instead saw 'n'.\n",
      "ipythonforeseersankeywidget/static/ipythonforeseersankeywidget/js/d3.min.js: line 1, col 1067, Missing semicolon.\n",
      "ipythonforeseersankeywidget/static/ipythonforeseersankeywidget/js/d3.min.js: line 1, col 1109, Expected '{' and instead saw '++'.\n",
      "ipythonforeseersankeywidget/static/ipythonforeseersankeywidget/js/d3.min.js: line 1, col 1121, Missing semicolon.\n",
      "ipythonforeseersankeywidget/static/ipythonforeseersankeywidget/js/d3.min.js: line 1, col 1155, Expected '{' and instead saw 'return'.\n",
      "ipythonforeseersankeywidget/static/ipythonforeseersankeywidget/js/d3.min.js: line 1, col 1172, Missing semicolon.\n",
      "ipythonforeseersankeywidget/static/ipythonforeseersankeywidget/js/d3.min.js: line 1, col 1212, Missing semicolon.\n",
      "ipythonforeseersankeywidget/static/ipythonforeseersankeywidget/js/d3.min.js: line 1, col 1235, Missing semicolon.\n",
      "ipythonforeseersankeywidget/static/ipythonforeseersankeywidget/js/d3.min.js: line 1, col 1315, Missing semicolon.\n",
      "ipythonforeseersankeywidget/static/ipythonforeseersankeywidget/js/d3.min.js: line 1, col 1316, Missing semicolon.\n",
      "ipythonforeseersankeywidget/static/ipythonforeseersankeywidget/js/d3.min.js: line 1, col 1343, Expected '{' and instead saw 'return'.\n",
      "ipythonforeseersankeywidget/static/ipythonforeseersankeywidget/js/d3.min.js: line 1, col 1448, Expected '{' and instead saw 'return'.\n",
      "ipythonforeseersankeywidget/static/ipythonforeseersankeywidget/js/d3.min.js: line 1, col 1456, Missing semicolon.\n",
      "ipythonforeseersankeywidget/static/ipythonforeseersankeywidget/js/d3.min.js: line 1, col 1522, 't' is already defined.\n",
      "ipythonforeseersankeywidget/static/ipythonforeseersankeywidget/js/d3.min.js: line 1, col 1550, Expected '{' and instead saw '('.\n",
      "ipythonforeseersankeywidget/static/ipythonforeseersankeywidget/js/d3.min.js: line 1, col 1585, Expected an assignment or function call and instead saw an expression.\n",
      "ipythonforeseersankeywidget/static/ipythonforeseersankeywidget/js/d3.min.js: line 1, col 1595, Missing semicolon.\n",
      "ipythonforeseersankeywidget/static/ipythonforeseersankeywidget/js/d3.min.js: line 1, col 1611, A constructor name should start with an uppercase letter.\n",
      "ipythonforeseersankeywidget/static/ipythonforeseersankeywidget/js/d3.min.js: line 1, col 1611, Missing '()' invoking a constructor.\n",
      "ipythonforeseersankeywidget/static/ipythonforeseersankeywidget/js/d3.min.js: line 1, col 1796, Missing semicolon.\n",
      "ipythonforeseersankeywidget/static/ipythonforeseersankeywidget/js/d3.min.js: line 1, col 1799, Missing semicolon.\n",
      "ipythonforeseersankeywidget/static/ipythonforeseersankeywidget/js/d3.min.js: line 1, col 1838, Missing semicolon.\n",
      "ipythonforeseersankeywidget/static/ipythonforeseersankeywidget/js/d3.min.js: line 1, col 1888, Expected a conditional expression and instead saw an assignment.\n",
      "ipythonforeseersankeywidget/static/ipythonforeseersankeywidget/js/d3.min.js: line 1, col 1890, Expected '{' and instead saw 't'.\n",
      "ipythonforeseersankeywidget/static/ipythonforeseersankeywidget/js/d3.min.js: line 1, col 1902, Missing semicolon.\n",
      "ipythonforeseersankeywidget/static/ipythonforeseersankeywidget/js/d3.min.js: line 1, col 1902, Too many errors. (20% scanned).\n",
      "\n",
      "ipythonforeseersankeywidget/static/ipythonforeseersankeywidget/js/d3-sliced-sankey.js: line 3, col 5, Expected '{' and instead saw 'module'.\n",
      "ipythonforeseersankeywidget/static/ipythonforeseersankeywidget/js/d3-sliced-sankey.js: line 5, col 5, Expected '{' and instead saw 'define'.\n",
      "ipythonforeseersankeywidget/static/ipythonforeseersankeywidget/js/d3-sliced-sankey.js: line 7, col 5, Expected '{' and instead saw 'exports'.\n",
      "ipythonforeseersankeywidget/static/ipythonforeseersankeywidget/js/d3-sliced-sankey.js: line 7, col 12, ['slicedSankey'] is better written in dot notation.\n",
      "ipythonforeseersankeywidget/static/ipythonforeseersankeywidget/js/d3-sliced-sankey.js: line 9, col 5, Expected '{' and instead saw 'root'.\n",
      "ipythonforeseersankeywidget/static/ipythonforeseersankeywidget/js/d3-sliced-sankey.js: line 9, col 9, ['slicedSankey'] is better written in dot notation.\n",
      "ipythonforeseersankeywidget/static/ipythonforeseersankeywidget/js/d3-sliced-sankey.js: line 9, col 40, ['d3'] is better written in dot notation.\n",
      "ipythonforeseersankeywidget/static/ipythonforeseersankeywidget/js/d3-sliced-sankey.js: line 20, col 16, Expected '{' and instead saw 'return'.\n",
      "ipythonforeseersankeywidget/static/ipythonforeseersankeywidget/js/d3-sliced-sankey.js: line 101, col 24, 'sankeyLayout' was used before it was defined.\n",
      "ipythonforeseersankeywidget/static/ipythonforeseersankeywidget/js/d3-sliced-sankey.js: line 102, col 5, Unnecessary directive \"use strict\".\n",
      "ipythonforeseersankeywidget/static/ipythonforeseersankeywidget/js/d3-sliced-sankey.js: line 165, col 49, Expected '{' and instead saw 'd'.\n",
      "ipythonforeseersankeywidget/static/ipythonforeseersankeywidget/js/d3-sliced-sankey.js: line 165, col 112, Expected '{' and instead saw 'd'.\n",
      "ipythonforeseersankeywidget/static/ipythonforeseersankeywidget/js/d3-sliced-sankey.js: line 165, col 135, Expected '{' and instead saw 'd'.\n",
      "ipythonforeseersankeywidget/static/ipythonforeseersankeywidget/js/d3-sliced-sankey.js: line 170, col 34, Expected '===' and instead saw '=='.\n",
      "ipythonforeseersankeywidget/static/ipythonforeseersankeywidget/js/d3-sliced-sankey.js: line 170, col 45, Expected '{' and instead saw 'edge'.\n",
      "ipythonforeseersankeywidget/static/ipythonforeseersankeywidget/js/d3-sliced-sankey.js: line 171, col 34, Expected '===' and instead saw '=='.\n",
      "ipythonforeseersankeywidget/static/ipythonforeseersankeywidget/js/d3-sliced-sankey.js: line 171, col 45, Expected '{' and instead saw 'edge'.\n",
      "ipythonforeseersankeywidget/static/ipythonforeseersankeywidget/js/d3-sliced-sankey.js: line 172, col 49, Expected '{' and instead saw 'throw'.\n",
      "ipythonforeseersankeywidget/static/ipythonforeseersankeywidget/js/d3-sliced-sankey.js: line 205, col 13, It's not necessary to initialize '_iteratorError' to 'undefined'.\n",
      "ipythonforeseersankeywidget/static/ipythonforeseersankeywidget/js/d3-sliced-sankey.js: line 220, col 47, '_iterator' used out of scope.\n",
      "ipythonforeseersankeywidget/static/ipythonforeseersankeywidget/js/d3-sliced-sankey.js: line 221, col 15, '_iterator' used out of scope.\n",
      "ipythonforeseersankeywidget/static/ipythonforeseersankeywidget/js/d3-sliced-sankey.js: line 232, col 19, 'dfs' was used before it was defined.\n",
      "ipythonforeseersankeywidget/static/ipythonforeseersankeywidget/js/d3-sliced-sankey.js: line 266, col 39, Expected '{' and instead saw 'nextDepth'.\n",
      "ipythonforeseersankeywidget/static/ipythonforeseersankeywidget/js/d3-sliced-sankey.js: line 267, col 46, Expected '{' and instead saw 'nextDepth'.\n",
      "ipythonforeseersankeywidget/static/ipythonforeseersankeywidget/js/d3-sliced-sankey.js: line 268, col 16, Expected '{' and instead saw 'nextDepth'.\n",
      "ipythonforeseersankeywidget/static/ipythonforeseersankeywidget/js/d3-sliced-sankey.js: line 303, col 27, Expected '{' and instead saw 'w'.\n",
      "ipythonforeseersankeywidget/static/ipythonforeseersankeywidget/js/d3-sliced-sankey.js: line 344, col 33, 'scaleNodeBreadths' was used before it was defined.\n",
      "ipythonforeseersankeywidget/static/ipythonforeseersankeywidget/js/d3-sliced-sankey.js: line 375, col 26, Expected '!==' and instead saw '!='.\n",
      "ipythonforeseersankeywidget/static/ipythonforeseersankeywidget/js/d3-sliced-sankey.js: line 375, col 30, Expected '{' and instead saw 'height'.\n",
      "ipythonforeseersankeywidget/static/ipythonforeseersankeywidget/js/d3-sliced-sankey.js: line 408, col 20, 'pass' was used before it was defined.\n",
      "ipythonforeseersankeywidget/static/ipythonforeseersankeywidget/js/d3-sliced-sankey.js: line 441, col 47, 'positionOffstageNodesVertically' was used before it was defined.\n",
      "ipythonforeseersankeywidget/static/ipythonforeseersankeywidget/js/d3-sliced-sankey.js: line 466, col 31, 'initializeSlice' was used before it was defined.\n",
      "ipythonforeseersankeywidget/static/ipythonforeseersankeywidget/js/d3-sliced-sankey.js: line 471, col 33, Expected '{' and instead saw 'return'.\n",
      "ipythonforeseersankeywidget/static/ipythonforeseersankeywidget/js/d3-sliced-sankey.js: line 480, col 28, Expected '{' and instead saw 'return'.\n",
      "ipythonforeseersankeywidget/static/ipythonforeseersankeywidget/js/d3-sliced-sankey.js: line 508, col 33, Expected '{' and instead saw 'return'.\n",
      "ipythonforeseersankeywidget/static/ipythonforeseersankeywidget/js/d3-sliced-sankey.js: line 525, col 49, 'positionOffstageNodesHorizontally' was used before it was defined.\n",
      "ipythonforeseersankeywidget/static/ipythonforeseersankeywidget/js/d3-sliced-sankey.js: line 536, col 39, Expected '{' and instead saw 'return'.\n",
      "ipythonforeseersankeywidget/static/ipythonforeseersankeywidget/js/d3-sliced-sankey.js: line 550, col 30, 'smartSortNodes' was used before it was defined.\n",
      "ipythonforeseersankeywidget/static/ipythonforeseersankeywidget/js/d3-sliced-sankey.js: line 552, col 24, Expected '{' and instead saw 'return'.\n",
      "ipythonforeseersankeywidget/static/ipythonforeseersankeywidget/js/d3-sliced-sankey.js: line 558, col 36, Expected '{' and instead saw 'connected'.\n",
      "ipythonforeseersankeywidget/static/ipythonforeseersankeywidget/js/d3-sliced-sankey.js: line 563, col 36, Expected '{' and instead saw 'connected'.\n",
      "ipythonforeseersankeywidget/static/ipythonforeseersankeywidget/js/d3-sliced-sankey.js: line 568, col 36, Expected '{' and instead saw 'connected'.\n",
      "ipythonforeseersankeywidget/static/ipythonforeseersankeywidget/js/d3-sliced-sankey.js: line 573, col 36, Expected '{' and instead saw 'connected'.\n",
      "ipythonforeseersankeywidget/static/ipythonforeseersankeywidget/js/d3-sliced-sankey.js: line 582, col 39, Expected '{' and instead saw 'return'.\n",
      "ipythonforeseersankeywidget/static/ipythonforeseersankeywidget/js/d3-sliced-sankey.js: line 588, col 38, 'smartSortNodesBothWays' was used before it was defined.\n",
      "ipythonforeseersankeywidget/static/ipythonforeseersankeywidget/js/d3-sliced-sankey.js: line 592, col 24, Expected '{' and instead saw 'return'.\n",
      "ipythonforeseersankeywidget/static/ipythonforeseersankeywidget/js/d3-sliced-sankey.js: line 597, col 34, Expected '===' and instead saw '=='.\n",
      "ipythonforeseersankeywidget/static/ipythonforeseersankeywidget/js/d3-sliced-sankey.js: line 616, col 26, Expected '{' and instead saw 'return'.\n",
      "ipythonforeseersankeywidget/static/ipythonforeseersankeywidget/js/d3-sliced-sankey.js: line 628, col 62, Expected '{' and instead saw 'return'.\n",
      "ipythonforeseersankeywidget/static/ipythonforeseersankeywidget/js/d3-sliced-sankey.js: line 629, col 62, Expected '{' and instead saw 'return'.\n",
      "ipythonforeseersankeywidget/static/ipythonforeseersankeywidget/js/d3-sliced-sankey.js: line 629, col 62, Too many errors. (36% scanned).\n",
      "\n",
      "102 errors\n",
      "\n",
      "\u001b[37m\u001b[40mnpm\u001b[0m \u001b[0m\u001b[31m\u001b[40mERR!\u001b[0m\u001b[35m\u001b[0m Linux 4.0.6-300.fc22.x86_64\n",
      "\u001b[0m\u001b[37m\u001b[40mnpm\u001b[0m \u001b[0m\u001b[31m\u001b[40mERR!\u001b[0m \u001b[0m\u001b[35margv\u001b[0m \"node\" \"/usr/bin/npm\" \"run\" \"jshint\"\n",
      "\u001b[0m\u001b[37m\u001b[40mnpm\u001b[0m \u001b[0m\u001b[31m\u001b[40mERR!\u001b[0m \u001b[0m\u001b[35mnode\u001b[0m v0.10.36\n",
      "\u001b[0m\u001b[37m\u001b[40mnpm\u001b[0m \u001b[0m\u001b[31m\u001b[40mERR!\u001b[0m \u001b[0m\u001b[35mnpm \u001b[0m v2.6.1\n",
      "\u001b[0m\u001b[37m\u001b[40mnpm\u001b[0m \u001b[0m\u001b[31m\u001b[40mERR!\u001b[0m \u001b[0m\u001b[35mcode\u001b[0m ELIFECYCLE\n",
      "\u001b[0m\u001b[37m\u001b[40mnpm\u001b[0m \u001b[0m\u001b[31m\u001b[40mERR!\u001b[0m\u001b[35m\u001b[0m ipythonforeseersankeywidget@0.1.0 jshint: `./node_modules/jshint/bin/jshint ipythonforeseersankeywidget/static/ipythonforeseersankeywidget/js/*.js`\n",
      "\u001b[0m\u001b[37m\u001b[40mnpm\u001b[0m \u001b[0m\u001b[31m\u001b[40mERR!\u001b[0m\u001b[35m\u001b[0m Exit status 2\n",
      "\u001b[0m\u001b[37m\u001b[40mnpm\u001b[0m \u001b[0m\u001b[31m\u001b[40mERR!\u001b[0m\u001b[35m\u001b[0m \n",
      "\u001b[0m\u001b[37m\u001b[40mnpm\u001b[0m \u001b[0m\u001b[31m\u001b[40mERR!\u001b[0m\u001b[35m\u001b[0m Failed at the ipythonforeseersankeywidget@0.1.0 jshint script './node_modules/jshint/bin/jshint ipythonforeseersankeywidget/static/ipythonforeseersankeywidget/js/*.js'.\n",
      "\u001b[0m\u001b[37m\u001b[40mnpm\u001b[0m \u001b[0m\u001b[31m\u001b[40mERR!\u001b[0m\u001b[35m\u001b[0m This is most likely a problem with the ipythonforeseersankeywidget package,\n",
      "\u001b[0m\u001b[37m\u001b[40mnpm\u001b[0m \u001b[0m\u001b[31m\u001b[40mERR!\u001b[0m\u001b[35m\u001b[0m not with npm itself.\n",
      "\u001b[0m\u001b[37m\u001b[40mnpm\u001b[0m \u001b[0m\u001b[31m\u001b[40mERR!\u001b[0m\u001b[35m\u001b[0m Tell the author that this fails on your system:\n",
      "\u001b[0m\u001b[37m\u001b[40mnpm\u001b[0m \u001b[0m\u001b[31m\u001b[40mERR!\u001b[0m\u001b[35m\u001b[0m     ./node_modules/jshint/bin/jshint ipythonforeseersankeywidget/static/ipythonforeseersankeywidget/js/*.js\n",
      "\u001b[0m\u001b[37m\u001b[40mnpm\u001b[0m \u001b[0m\u001b[31m\u001b[40mERR!\u001b[0m\u001b[35m\u001b[0m You can get their info via:\n",
      "\u001b[0m\u001b[37m\u001b[40mnpm\u001b[0m \u001b[0m\u001b[31m\u001b[40mERR!\u001b[0m\u001b[35m\u001b[0m     npm owner ls ipythonforeseersankeywidget\n",
      "\u001b[0m\u001b[37m\u001b[40mnpm\u001b[0m \u001b[0m\u001b[31m\u001b[40mERR!\u001b[0m\u001b[35m\u001b[0m There is likely additional logging output above.\n",
      "\u001b[0m\n",
      "\u001b[37m\u001b[40mnpm\u001b[0m \u001b[0m\u001b[31m\u001b[40mERR!\u001b[0m\u001b[35m\u001b[0m Please include the following file with any support request:\n",
      "\u001b[0m\u001b[37m\u001b[40mnpm\u001b[0m \u001b[0m\u001b[31m\u001b[40mERR!\u001b[0m\u001b[35m\u001b[0m     /home/rick/devel/ipython-foreseer-sankey-widget/npm-debug.log\n",
      "\u001b[0m"
     ]
    }
   ],
   "source": [
    "!flake8 ../ipythonforeseersankeywidget/*.py ../*.py\n",
    "!cd .. && npm run jshint"
   ]
  },
  {
   "cell_type": "markdown",
   "metadata": {},
   "source": [
    "# Transpile JS/CSS"
   ]
  },
  {
   "cell_type": "code",
   "execution_count": 3,
   "metadata": {
    "collapsed": false
   },
   "outputs": [
    {
     "name": "stdout",
     "output_type": "stream",
     "text": [
      "\r\n",
      "> ipythonforeseersankeywidget@0.1.0 less /home/rick/devel/ipython-foreseer-sankey-widget\r\n",
      "> ./node_modules/less/bin/lessc ipythonforeseersankeywidget/static/less/widget_nbsankey.less ipythonforeseersankeywidget/static/ipythonforeseersankeywidget/css/widget_nbsankey.css\r\n",
      "\r\n"
     ]
    }
   ],
   "source": [
    "!cd .. && npm run less"
   ]
  },
  {
   "cell_type": "markdown",
   "metadata": {},
   "source": [
    "## Run Tests"
   ]
  },
  {
   "cell_type": "code",
   "execution_count": 4,
   "metadata": {
    "collapsed": false
   },
   "outputs": [
    {
     "name": "stdout",
     "output_type": "stream",
     "text": [
      "running test\n",
      "running egg_info\n",
      "writing ipython_foreseer_sankey_widget.egg-info/PKG-INFO\n",
      "writing dependency_links to ipython_foreseer_sankey_widget.egg-info/dependency_links.txt\n",
      "writing top-level names to ipython_foreseer_sankey_widget.egg-info/top_level.txt\n",
      "writing requirements to ipython_foreseer_sankey_widget.egg-info/requires.txt\n",
      "reading manifest file 'ipython_foreseer_sankey_widget.egg-info/SOURCES.txt'\n",
      "reading manifest template 'MANIFEST.in'\n",
      "warning: no files found matching 'AUTHORS.rst'\n",
      "warning: no files found matching 'CONTRIBUTING.rst'\n",
      "warning: no files found matching 'HISTORY.rst'\n",
      "warning: no files found matching '*.rst' under directory 'docs'\n",
      "warning: no files found matching 'conf.py' under directory 'docs'\n",
      "warning: no files found matching 'Makefile' under directory 'docs'\n",
      "warning: no files found matching 'make.bat' under directory 'docs'\n",
      "warning: no previously-included files matching '__pycache__' found under directory '*'\n",
      "warning: no previously-included files matching '*.py[co]' found under directory '*'\n",
      "writing manifest file 'ipython_foreseer_sankey_widget.egg-info/SOURCES.txt'\n",
      "running build_ext\n",
      "nose.config: INFO: Ignoring files matching ['^\\\\.', '^_', '^setup\\\\.py$']\n",
      "nose.selector: INFO: /home/rick/devel/ipython-foreseer-sankey-widget/ipythonforeseersankeywidget/widgets/widget_nbsankey.py is executable; skipped\n",
      "ipythonforeseersankeywidget.tests.test_widgets.test_notebook ... ok\n",
      "\n",
      "----------------------------------------------------------------------\n",
      "Ran 1 test in 5.747s\n",
      "\n",
      "OK\n"
     ]
    }
   ],
   "source": [
    "!cd .. && PYTHONWARNINGS=ignore python setup.py test"
   ]
  },
  {
   "cell_type": "markdown",
   "metadata": {},
   "source": [
    "# Generate READMEs"
   ]
  },
  {
   "cell_type": "code",
   "execution_count": 5,
   "metadata": {
    "collapsed": false
   },
   "outputs": [
    {
     "name": "stdout",
     "output_type": "stream",
     "text": [
      "[NbConvertApp] Converting notebook README.ipynb to rst\r\n"
     ]
    }
   ],
   "source": [
    "!ipython nbconvert README.ipynb --to=rst --stdout > ../README.rst"
   ]
  },
  {
   "cell_type": "markdown",
   "metadata": {},
   "source": [
    "# PyPi: release dry run"
   ]
  },
  {
   "cell_type": "markdown",
   "metadata": {},
   "source": [
    "Just package into wheel"
   ]
  },
  {
   "cell_type": "code",
   "execution_count": 6,
   "metadata": {
    "collapsed": false
   },
   "outputs": [
    {
     "name": "stdout",
     "output_type": "stream",
     "text": [
      "running bdist_wheel\n",
      "running build\n",
      "running build_py\n",
      "creating build\n",
      "creating build/lib\n",
      "creating build/lib/ipythonforeseersankeywidget\n",
      "copying ipythonforeseersankeywidget/__init__.py -> build/lib/ipythonforeseersankeywidget\n",
      "copying ipythonforeseersankeywidget/version.py -> build/lib/ipythonforeseersankeywidget\n",
      "running egg_info\n",
      "writing top-level names to ipython_foreseer_sankey_widget.egg-info/top_level.txt\n",
      "writing requirements to ipython_foreseer_sankey_widget.egg-info/requires.txt\n",
      "writing dependency_links to ipython_foreseer_sankey_widget.egg-info/dependency_links.txt\n",
      "writing ipython_foreseer_sankey_widget.egg-info/PKG-INFO\n",
      "reading manifest file 'ipython_foreseer_sankey_widget.egg-info/SOURCES.txt'\n",
      "reading manifest template 'MANIFEST.in'\n",
      "warning: no files found matching 'AUTHORS.rst'\n",
      "warning: no files found matching 'CONTRIBUTING.rst'\n",
      "warning: no files found matching 'HISTORY.rst'\n",
      "warning: no files found matching '*.rst' under directory 'docs'\n",
      "warning: no files found matching 'conf.py' under directory 'docs'\n",
      "warning: no files found matching 'Makefile' under directory 'docs'\n",
      "warning: no files found matching 'make.bat' under directory 'docs'\n",
      "warning: no previously-included files matching '__pycache__' found under directory '*'\n",
      "writing manifest file 'ipython_foreseer_sankey_widget.egg-info/SOURCES.txt'\n",
      "creating build/lib/ipythonforeseersankeywidget/static\n",
      "creating build/lib/ipythonforeseersankeywidget/static/ipythonforeseersankeywidget\n",
      "creating build/lib/ipythonforeseersankeywidget/static/ipythonforeseersankeywidget/css\n",
      "copying ipythonforeseersankeywidget/static/ipythonforeseersankeywidget/css/widget_nbsankey.css -> build/lib/ipythonforeseersankeywidget/static/ipythonforeseersankeywidget/css\n",
      "creating build/lib/ipythonforeseersankeywidget/static/ipythonforeseersankeywidget/js\n",
      "copying ipythonforeseersankeywidget/static/ipythonforeseersankeywidget/js/.jshintrc -> build/lib/ipythonforeseersankeywidget/static/ipythonforeseersankeywidget/js\n",
      "copying ipythonforeseersankeywidget/static/ipythonforeseersankeywidget/js/d3-sliced-sankey.js -> build/lib/ipythonforeseersankeywidget/static/ipythonforeseersankeywidget/js\n",
      "copying ipythonforeseersankeywidget/static/ipythonforeseersankeywidget/js/d3.min.js -> build/lib/ipythonforeseersankeywidget/static/ipythonforeseersankeywidget/js\n",
      "copying ipythonforeseersankeywidget/static/ipythonforeseersankeywidget/js/utils.js -> build/lib/ipythonforeseersankeywidget/static/ipythonforeseersankeywidget/js\n",
      "copying ipythonforeseersankeywidget/static/ipythonforeseersankeywidget/js/widget_nbsankey.js -> build/lib/ipythonforeseersankeywidget/static/ipythonforeseersankeywidget/js\n",
      "creating build/lib/ipythonforeseersankeywidget/static/less\n",
      "copying ipythonforeseersankeywidget/static/less/widget_nbsankey.less -> build/lib/ipythonforeseersankeywidget/static/less\n",
      "creating build/lib/ipythonforeseersankeywidget/tests\n",
      "copying ipythonforeseersankeywidget/tests/__init__.py -> build/lib/ipythonforeseersankeywidget/tests\n",
      "copying ipythonforeseersankeywidget/tests/test_nbsankey.coffee -> build/lib/ipythonforeseersankeywidget/tests\n",
      "copying ipythonforeseersankeywidget/tests/test_widgets.py -> build/lib/ipythonforeseersankeywidget/tests\n",
      "installing to build/bdist.linux-x86_64/wheel\n",
      "running install\n",
      "Installing Python module...\n",
      "running install_lib\n",
      "creating build/bdist.linux-x86_64\n",
      "creating build/bdist.linux-x86_64/wheel\n",
      "creating build/bdist.linux-x86_64/wheel/ipythonforeseersankeywidget\n",
      "copying build/lib/ipythonforeseersankeywidget/__init__.py -> build/bdist.linux-x86_64/wheel/ipythonforeseersankeywidget\n",
      "creating build/bdist.linux-x86_64/wheel/ipythonforeseersankeywidget/tests\n",
      "copying build/lib/ipythonforeseersankeywidget/tests/__init__.py -> build/bdist.linux-x86_64/wheel/ipythonforeseersankeywidget/tests\n",
      "copying build/lib/ipythonforeseersankeywidget/tests/test_widgets.py -> build/bdist.linux-x86_64/wheel/ipythonforeseersankeywidget/tests\n",
      "copying build/lib/ipythonforeseersankeywidget/tests/test_nbsankey.coffee -> build/bdist.linux-x86_64/wheel/ipythonforeseersankeywidget/tests\n",
      "creating build/bdist.linux-x86_64/wheel/ipythonforeseersankeywidget/static\n",
      "creating build/bdist.linux-x86_64/wheel/ipythonforeseersankeywidget/static/less\n",
      "copying build/lib/ipythonforeseersankeywidget/static/less/widget_nbsankey.less -> build/bdist.linux-x86_64/wheel/ipythonforeseersankeywidget/static/less\n",
      "creating build/bdist.linux-x86_64/wheel/ipythonforeseersankeywidget/static/ipythonforeseersankeywidget\n",
      "creating build/bdist.linux-x86_64/wheel/ipythonforeseersankeywidget/static/ipythonforeseersankeywidget/css\n",
      "copying build/lib/ipythonforeseersankeywidget/static/ipythonforeseersankeywidget/css/widget_nbsankey.css -> build/bdist.linux-x86_64/wheel/ipythonforeseersankeywidget/static/ipythonforeseersankeywidget/css\n",
      "creating build/bdist.linux-x86_64/wheel/ipythonforeseersankeywidget/static/ipythonforeseersankeywidget/js\n",
      "copying build/lib/ipythonforeseersankeywidget/static/ipythonforeseersankeywidget/js/d3.min.js -> build/bdist.linux-x86_64/wheel/ipythonforeseersankeywidget/static/ipythonforeseersankeywidget/js\n",
      "copying build/lib/ipythonforeseersankeywidget/static/ipythonforeseersankeywidget/js/.jshintrc -> build/bdist.linux-x86_64/wheel/ipythonforeseersankeywidget/static/ipythonforeseersankeywidget/js\n",
      "copying build/lib/ipythonforeseersankeywidget/static/ipythonforeseersankeywidget/js/d3-sliced-sankey.js -> build/bdist.linux-x86_64/wheel/ipythonforeseersankeywidget/static/ipythonforeseersankeywidget/js\n",
      "copying build/lib/ipythonforeseersankeywidget/static/ipythonforeseersankeywidget/js/widget_nbsankey.js -> build/bdist.linux-x86_64/wheel/ipythonforeseersankeywidget/static/ipythonforeseersankeywidget/js\n",
      "copying build/lib/ipythonforeseersankeywidget/static/ipythonforeseersankeywidget/js/utils.js -> build/bdist.linux-x86_64/wheel/ipythonforeseersankeywidget/static/ipythonforeseersankeywidget/js\n",
      "copying build/lib/ipythonforeseersankeywidget/version.py -> build/bdist.linux-x86_64/wheel/ipythonforeseersankeywidget\n",
      "running install_egg_info\n",
      "Copying ipython_foreseer_sankey_widget.egg-info to build/bdist.linux-x86_64/wheel/ipython_foreseer_sankey_widget-0.1.0-py3.4.egg-info\n",
      "running install_scripts\n",
      "Installing nbextension ...\n",
      "creating build/bdist.linux-x86_64/wheel/ipython_foreseer_sankey_widget-0.1.0.dist-info/WHEEL\n"
     ]
    }
   ],
   "source": [
    "!cd .. && python setup.py bdist_wheel"
   ]
  },
  {
   "cell_type": "code",
   "execution_count": null,
   "metadata": {
    "collapsed": true
   },
   "outputs": [],
   "source": [
    "!cd .. && python setup.py register -r pypitest\n",
    "!cd .. && python setup.py sdist\n",
    "!cd .. && python setup.py bdist_wheel\n",
    "!cd .. && python setup.py sdist upload -r pypitest\n",
    "!cd .. && python setup.py bdist_wheel upload -r pypitest"
   ]
  },
  {
   "cell_type": "markdown",
   "metadata": {},
   "source": [
    "# PyPi: release"
   ]
  },
  {
   "cell_type": "code",
   "execution_count": null,
   "metadata": {
    "collapsed": false
   },
   "outputs": [],
   "source": [
    "!cd .. && python setup.py register -r pypi\n",
    "!cd .. && python setup.py sdist\n",
    "!cd .. && python setup.py bdist_wheel\n",
    "!cd .. && python setup.py sdist upload -r pypi\n",
    "!cd .. && python setup.py bdist_wheel upload -r pypi"
   ]
  }
 ],
 "metadata": {
  "kernelspec": {
   "display_name": "Python 3",
   "language": "python",
   "name": "python3"
  },
  "language_info": {
   "codemirror_mode": {
    "name": "ipython",
    "version": 3
   },
   "file_extension": ".py",
   "mimetype": "text/x-python",
   "name": "python",
   "nbconvert_exporter": "python",
   "pygments_lexer": "ipython3",
   "version": "3.4.3"
  }
 },
 "nbformat": 4,
 "nbformat_minor": 0
}

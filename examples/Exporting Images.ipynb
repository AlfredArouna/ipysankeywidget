{
 "cells": [
  {
   "cell_type": "markdown",
   "metadata": {},
   "source": [
    "# Exporting Images\n",
    "\n",
    "> [<i class=\"fa fa-2x fa-paper-plane text-info fa-fw\"> </i> Simple example](./Simple example.ipynb)\n",
    ">\n",
    "> [<i class=\"fa fa-2x fa-space-shuttle text-info fa-fw\"> </i> Advanced examples](./More examples.ipynb)\n",
    ">\n",
    "> [<i class=\"fa fa-2x fa-link text-info fa-fw\"> </i> Linking and Layout](./Linking and Layout.ipynb)\n",
    ">\n",
    "> <i class=\"fa fa-2x fa-image text-info fa-fw\"> </i> Exporting Images\n",
    "\n",
    "Any `SankeyWidget` can be exported as either an raster (PNG) or vector (SVG) image."
   ]
  },
  {
   "cell_type": "code",
   "execution_count": 1,
   "metadata": {
    "collapsed": true
   },
   "outputs": [],
   "source": [
    "from ipysankeywidget import SankeyWidget\n",
    "from ipywidgets import Layout"
   ]
  },
  {
   "cell_type": "code",
   "execution_count": 2,
   "metadata": {
    "collapsed": true
   },
   "outputs": [],
   "source": [
    "links = [\n",
    "    {'source': 'start', 'target': 'A', 'value': 2},\n",
    "    {'source': 'A', 'target': 'B', 'value': 2},\n",
    "    {'source': 'B', 'target': 'start', 'value': 0.2},\n",
    "    {'source': 'C', 'target': 'A', 'value': 2},\n",
    "    {'source': 'A', 'target': 'C', 'value': 2},\n",
    "]"
   ]
  },
  {
   "cell_type": "code",
   "execution_count": 3,
   "metadata": {
    "collapsed": false
   },
   "outputs": [],
   "source": [
    "layout = Layout(width=500, height=200)\n",
    "sankey = SankeyWidget(links=links, layout=layout)\n",
    "sankey"
   ]
  },
  {
   "cell_type": "markdown",
   "metadata": {},
   "source": [
    "You can use `IPython.display` classes to ensure embedded versions of your diagram will persist in your notebook, even without JavaScript!"
   ]
  },
  {
   "cell_type": "code",
   "execution_count": 4,
   "metadata": {
    "collapsed": true
   },
   "outputs": [],
   "source": [
    "from IPython.display import (\n",
    "    Image,\n",
    "    SVG\n",
    ")"
   ]
  },
  {
   "cell_type": "code",
   "execution_count": 5,
   "metadata": {
    "collapsed": false
   },
   "outputs": [
    {
     "data": {
      "image/png": "[encoded data removed]",
      "text/plain": [
       "<IPython.core.display.Image object>"
      ]
     },
     "execution_count": 5,
     "metadata": {},
     "output_type": "execute_result"
    }
   ],
   "source": [
    "Image(sankey.png)"
   ]
  },
  {
   "cell_type": "code",
   "execution_count": 6,
   "metadata": {
    "collapsed": false
   },
   "outputs": [
    {
     "data": {
      "image/svg+xml": [
       "<svg height=\"200\" viewBox=\"0 0 500 200\" width=\"500\" xmlns=\"http://www.w3.org/2000/svg\"><g class=\"sankey\" transform=\"translate(100,10)\"><g class=\"groups\"/><g class=\"links\"><g class=\"link\" style=\"opacity: 0.8;\"><path d=\"M300,18 A7.903225806451612 7.903225806451612 1.5707963267948966 0 1 307.9032258064516,25.903225806451612 L307.9032258064516,107.06451612903226 A7.903225806451612 7.903225806451612 1.5707963267948966 0 1 300,114.96774193548387 L300,112.06451612903226 A5 5 1.5707963267948966 0 0 305,107.06451612903226 L305,25.903225806451612 A5 5 1.5707963267948966 0 0 300,20.903225806451616 ZM138.61061888945824,103.06451612903226 A55.2480732734064 55.2480732734064 0.05678078176026635 0 1 141.74596229235146,103.15355367691481 L297.0294154627114,111.98015740687956 A52.34484746695478 52.34484746695478 0.05678078176026635 0 0 300,112.06451612903226 L300,114.96774193548387 A55.2480732734064 55.2480732734064 0.05678078176026635 0 1 296.8646565971068,114.87870438760132 L141.58120342674687,106.05210065763657 A52.34484746695478 52.34484746695478 0.05678078176026635 0 0 138.61061888945824,105.96774193548387 ZM0,159.09677419354838 A44.7519267265936 44.7519267265936 0.4441665565456554 0 0 19.23014707793411,154.75445510057855 L118.1329398426862,107.68853779377238 A47.65515253304522 47.65515253304522 0.4441665565456554 0 1 138.61061888945824,103.06451612903226 L138.61061888945824,105.96774193548387 A44.7519267265936 44.7519267265936 0.4441665565456554 0 0 119.38047181152413,110.3100610284537 L20.477679046772042,157.37597833525987 A47.65515253304522 47.65515253304522 0.4441665565456554 0 1 0,161.99999999999997 ZM0,159.09677419354838 A5 5 1.5707963267948966 0 1 -5,154.09677419354838 L-5,25.903225806451612 A5 5 1.5707963267948966 0 1 0,20.903225806451616 L0,18 A7.903225806451612 7.903225806451612 1.5707963267948966 0 0 -7.903225806451612,25.903225806451612 L-7.903225806451612,154.09677419354838 A7.903225806451612 7.903225806451612 1.5707963267948966 0 0 0,161.99999999999997 Z\" style=\"fill: rgb(31, 119, 180);\"/><title>B → start\n",
       "200m</title></g><g class=\"link\" style=\"opacity: 0.8;\"><path d=\"M0,18 A0 0 0 0 0 0,18 L138.61061888945824,18 A0 0 0 0 0 138.61061888945824,18 L138.61061888945824,47.03225806451613 A0 0 0 0 0 138.61061888945824,47.03225806451613 L0,47.03225806451613 A0 0 0 0 0 0,47.03225806451613 Z\" style=\"fill: rgb(31, 119, 180);\"/><title>start → A\n",
       "2.00</title></g><g class=\"link\" style=\"opacity: 0.8;\"><path d=\"M138.61061888945824,18 A0 0 0 0 0 138.61061888945824,18 L300,18 A0 0 0 0 0 300,18 L300,47.03225806451613 A0 0 0 0 0 300,47.03225806451613 L138.61061888945824,47.03225806451613 A0 0 0 0 0 138.61061888945824,47.03225806451613 Z\" style=\"fill: rgb(31, 119, 180);\"/><title>A → B\n",
       "2.00</title></g><g class=\"link\" style=\"opacity: 0.8;\"><path d=\"M300,65.03225806451613 A34.03225806451613 34.03225806451613 1.5707963267948966 0 1 334.0322580645161,99.06451612903226 L334.0322580645161,127.96774193548389 A34.03225806451613 34.03225806451613 1.5707963267948966 0 1 300,162 L300,132.9677419354839 A5 5 1.5707963267948966 0 0 305,127.96774193548389 L305,99.06451612903226 A5 5 1.5707963267948966 0 0 300,94.06451612903226 ZM138.61061888945824,132.9677419354839 A0 0 0 0 0 138.61061888945824,132.9677419354839 L300,132.9677419354839 A0 0 0 0 0 300,132.9677419354839 L300,162 A0 0 0 0 0 300,162 L138.61061888945824,162 A0 0 0 0 0 138.61061888945824,162 ZM138.61061888945824,132.9677419354839 A5 5 1.5707963267948966 0 1 133.61061888945824,127.96774193548389 L133.61061888945824,81.06451612903226 A5 5 1.5707963267948966 0 1 138.61061888945824,76.06451612903226 L138.61061888945824,47.03225806451613 A34.03225806451613 34.03225806451613 1.5707963267948966 0 0 104.57836082494211,81.06451612903226 L104.57836082494211,127.96774193548389 A34.03225806451613 34.03225806451613 1.5707963267948966 0 0 138.61061888945824,162 Z\" style=\"fill: rgb(31, 119, 180);\"/><title>C → A\n",
       "2.00</title></g><g class=\"link\" style=\"opacity: 0.8;\"><path d=\"M138.61061888945824,47.03225806451613 A234.27056515928882 234.27056515928882 0.13610466913903574 0 1 170.39758462939582,49.19878080079882 L272.1522717473768,63.13422423182077 A205.23830709477272 205.23830709477272 0.13610466913903574 0 0 300,65.03225806451613 L300,94.06451612903226 A234.27056515928882 234.27056515928882 0.13610466913903574 0 1 268.21303426006244,91.89799339274957 L166.4583471420814,77.96254996172763 A205.23830709477272 205.23830709477272 0.13610466913903574 0 0 138.61061888945824,76.06451612903226 Z\" style=\"fill: rgb(31, 119, 180);\"/><title>A → C\n",
       "2.00</title></g></g><g class=\"nodes\"><g class=\"node\" transform=\"translate(0,18)\"><title>start</title><text dy=\".35em\" text-anchor=\"start\" transform=\"translate(-4, -10)\">start</text><line style=\"stroke: rgb(0, 0, 0);\" x1=\"0\" x2=\"0\" y1=\"-5\" y2=\"29.032258064516128\"/><rect height=\"34.03225806451613\" style=\"fill: none; visibility: hidden; pointer-events: all;\" width=\"10\" x=\"-5\" y=\"-5\"/></g><g class=\"node\" transform=\"translate(138.61061888945824,18)\"><title>A</title><text dy=\".35em\" text-anchor=\"start\" transform=\"translate(-4, -10)\">A</text><line style=\"stroke: rgb(0, 0, 0);\" x1=\"0\" x2=\"0\" y1=\"-5\" y2=\"58.064516129032256\"/><rect height=\"63.064516129032256\" style=\"fill: none; visibility: hidden; pointer-events: all;\" width=\"10\" x=\"-5\" y=\"-5\"/></g><g class=\"node\" transform=\"translate(300,18)\"><title>B</title><text dy=\".35em\" text-anchor=\"start\" transform=\"translate(-4, -10)\">B</text><line style=\"stroke: rgb(0, 0, 0);\" x1=\"0\" x2=\"0\" y1=\"-5\" y2=\"29.032258064516128\"/><rect height=\"34.03225806451613\" style=\"fill: none; visibility: hidden; pointer-events: all;\" width=\"10\" x=\"-5\" y=\"-5\"/></g><g class=\"node\" transform=\"translate(300,65.03225806451613)\"><title>C</title><text dy=\".35em\" text-anchor=\"start\" transform=\"translate(4, 14.516129493713379)\">C</text><line style=\"stroke: rgb(0, 0, 0);\" x1=\"0\" x2=\"0\" y1=\"0\" y2=\"29.032258064516128\"/><rect height=\"34.03225806451613\" style=\"fill: none; visibility: hidden; pointer-events: all;\" width=\"10\" x=\"-5\" y=\"-5\"/></g></g><g class=\"slice-titles\"/></g></svg>"
      ],
      "text/plain": [
       "<IPython.core.display.SVG object>"
      ]
     },
     "execution_count": 6,
     "metadata": {},
     "output_type": "execute_result"
    }
   ],
   "source": [
    "SVG(sankey.svg)"
   ]
  },
  {
   "cell_type": "markdown",
   "metadata": {},
   "source": [
    "## Saving images to files\n",
    "\n",
    "One way of saving images of the diagrams is to display them as above, then right-click and download.\n",
    "\n",
    "You can also save the image data to disk using `save_png` and `save_svg`:"
   ]
  },
  {
   "cell_type": "code",
   "execution_count": 7,
   "metadata": {
    "collapsed": false
   },
   "outputs": [],
   "source": [
    "!rm test.svg test.png"
   ]
  },
  {
   "cell_type": "code",
   "execution_count": 8,
   "metadata": {
    "collapsed": false
   },
   "outputs": [],
   "source": [
    "sankey.save_svg('test.svg')"
   ]
  },
  {
   "cell_type": "code",
   "execution_count": 9,
   "metadata": {
    "collapsed": false
   },
   "outputs": [
    {
     "data": {
      "text/html": [
       "<img src=\"test.svg\" />"
      ],
      "text/plain": [
       "<IPython.core.display.HTML object>"
      ]
     },
     "metadata": {},
     "output_type": "display_data"
    }
   ],
   "source": [
    "%%html\n",
    "<img src=\"test.svg\" />"
   ]
  },
  {
   "cell_type": "markdown",
   "metadata": {},
   "source": [
    "Because the diagram is actually drawn in the browser, it is not immediately available to save to disk. It can be convenient to display the diagram in the notebook and simultaneously save it, so `auto_save_png` and `auto_save_svg` methods are available which save the images as soon as they are available:"
   ]
  },
  {
   "cell_type": "code",
   "execution_count": 10,
   "metadata": {
    "collapsed": false
   },
   "outputs": [
    {
     "name": "stderr",
     "output_type": "stream",
     "text": [
      "/home/rick/ownCloud/devel/ipysankeywidget/ipysankeywidget/sankey_widget.py:94: UserWarning: No png image available! Try auto_save_png() instead?\n",
      "  warnings.warn('No png image available! Try auto_save_png() instead?')\n"
     ]
    }
   ],
   "source": [
    "# This won't work\n",
    "s = SankeyWidget(links=links, layout=layout)\n",
    "s.save_png('test.png')\n",
    "s"
   ]
  },
  {
   "cell_type": "code",
   "execution_count": 11,
   "metadata": {
    "collapsed": false
   },
   "outputs": [
    {
     "data": {
      "text/html": [
       "<img src=\"test.png\" />"
      ],
      "text/plain": [
       "<IPython.core.display.HTML object>"
      ]
     },
     "metadata": {},
     "output_type": "display_data"
    }
   ],
   "source": [
    "%%html\n",
    "<img src=\"test.png\" />"
   ]
  },
  {
   "cell_type": "code",
   "execution_count": 12,
   "metadata": {
    "collapsed": true
   },
   "outputs": [],
   "source": [
    "# This does work\n",
    "SankeyWidget(links=links, layout=layout).auto_save_png('test.png')"
   ]
  },
  {
   "cell_type": "code",
   "execution_count": 13,
   "metadata": {
    "collapsed": false
   },
   "outputs": [
    {
     "data": {
      "text/html": [
       "<img src=\"test.png\" />"
      ],
      "text/plain": [
       "<IPython.core.display.HTML object>"
      ]
     },
     "metadata": {},
     "output_type": "display_data"
    }
   ],
   "source": [
    "%%html\n",
    "<img src=\"test.png\" />"
   ]
  }
 ],
 "metadata": {
  "anaconda-cloud": {},
  "kernelspec": {
   "display_name": "Python [default]",
   "language": "python",
   "name": "python3"
  },
  "language_info": {
   "codemirror_mode": {
    "name": "ipython",
    "version": 3
   },
   "file_extension": ".py",
   "mimetype": "text/x-python",
   "name": "python",
   "nbconvert_exporter": "python",
   "pygments_lexer": "ipython3",
   "version": "3.5.2"
  },
  "widgets": {
   "state": {
    "427052c423b74125b84744f093c8ea2c": {
     "views": [
      {
       "cell_index": 3
      }
     ]
    },
    "44233e16667b4e21a4edfffa943a3e8d": {
     "views": [
      {
       "cell_index": 15
      }
     ]
    },
    "c9fa5d48cc994cbaa4ff0cebf3c44c03": {
     "views": [
      {
       "cell_index": 13
      }
     ]
    }
   },
   "version": "1.2.0"
  }
 },
 "nbformat": 4,
 "nbformat_minor": 0
}

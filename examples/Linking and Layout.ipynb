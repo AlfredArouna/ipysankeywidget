{
 "cells": [
  {
   "cell_type": "markdown",
   "metadata": {},
   "source": [
    "# Linking and Layout\n",
    "\n",
    "> [<i class=\"fa fa-2x fa-paper-plane text-info fa-fw\"> </i> Simple example](./Simple example.ipynb)\n",
    ">\n",
    "> [<i class=\"fa fa-2x fa-space-shuttle text-info fa-fw\"> </i> Advanced examples](./More examples.ipynb)\n",
    ">\n",
    "> <i class=\"fa fa-2x fa-link text-info fa-fw\"> </i> Linking and Layout\n",
    ">\n",
    "> [<i class=\"fa fa-2x fa-image text-info fa-fw\"> </i> Exporting Images](./Exporting Images.ipynb)\n"
   ]
  },
  {
   "cell_type": "code",
   "execution_count": 1,
   "metadata": {
    "collapsed": true
   },
   "outputs": [],
   "source": [
    "from ipysankeywidget import SankeyWidget"
   ]
  },
  {
   "cell_type": "markdown",
   "metadata": {},
   "source": [
    "> <i class=\"fa fa-info-circle fa-2x fa-fw text-primary\"></i> This uses the base [ipywidgets](https://github.com/ipython/ipywidgets) for layout and data, but you can use any widgets!"
   ]
  },
  {
   "cell_type": "code",
   "execution_count": 2,
   "metadata": {
    "collapsed": true
   },
   "outputs": [],
   "source": [
    "from ipywidgets import (\n",
    "    VBox,\n",
    "    HBox,\n",
    "    IntSlider,\n",
    ")"
   ]
  },
  {
   "cell_type": "code",
   "execution_count": 3,
   "metadata": {
    "collapsed": true
   },
   "outputs": [],
   "source": [
    "links = [\n",
    "    {'source': 'start', 'target': 'A', 'value': 10},\n",
    "    {'source': 'A', 'target': 'B', 'value': 10},\n",
    "    {'source': 'C', 'target': 'A', 'value': 10},\n",
    "    {'source': 'A', 'target': 'C', 'value': 10},\n",
    "]"
   ]
  },
  {
   "cell_type": "code",
   "execution_count": 4,
   "metadata": {},
   "outputs": [
    {
     "data": {
      "application/vnd.jupyter.widget-view+json": {
       "model_id": "76a8e5e9c52744129616ad54a3419c47"
      }
     },
     "metadata": {},
     "output_type": "display_data"
    }
   ],
   "source": [
    "sankey = SankeyWidget(links=links)\n",
    "sankey"
   ]
  },
  {
   "cell_type": "markdown",
   "metadata": {},
   "source": [
    "> <i class=\"fa fa-gears fa-2x fa-fw text-info\"></i> A convenience factory function"
   ]
  },
  {
   "cell_type": "code",
   "execution_count": 5,
   "metadata": {
    "collapsed": true
   },
   "outputs": [],
   "source": [
    "def slider(link, i, sankey):\n",
    "    value = IntSlider(description=\"{source} → {target}\".format(**link), min=0, max=10, step=1, value=10)\n",
    "\n",
    "    def _change(change):\n",
    "        sankey.links[i][\"value\"] = value.value\n",
    "        sankey.send_state()\n",
    "    \n",
    "    value.observe(_change)\n",
    "    \n",
    "    return value"
   ]
  },
  {
   "cell_type": "markdown",
   "metadata": {},
   "source": [
    "Build up a slider per link to control the value:"
   ]
  },
  {
   "cell_type": "code",
   "execution_count": 6,
   "metadata": {},
   "outputs": [],
   "source": [
    "sliders = [slider(link, i, sankey) for i, link in enumerate(links)]"
   ]
  },
  {
   "cell_type": "code",
   "execution_count": 7,
   "metadata": {},
   "outputs": [
    {
     "data": {
      "application/vnd.jupyter.widget-view+json": {
       "model_id": "9d1d5c44db7642829ffe47403ec5805b"
      }
     },
     "metadata": {},
     "output_type": "display_data"
    }
   ],
   "source": [
    "box = HBox(children=[sankey, VBox(children=sliders)])\n",
    "box"
   ]
  }
 ],
 "metadata": {
  "anaconda-cloud": {},
  "kernelspec": {
   "display_name": "Python 3",
   "language": "python",
   "name": "python3"
  },
  "language_info": {
   "codemirror_mode": {
    "name": "ipython",
    "version": 3
   },
   "file_extension": ".py",
   "mimetype": "text/x-python",
   "name": "python",
   "nbconvert_exporter": "python",
   "pygments_lexer": "ipython3",
   "version": "3.5.2"
  },
  "widgets": {
   "application/vnd.jupyter.widget-state+json": {
    "state": {
     "02adfdb911b94933a54b739d47c054e7": {
      "model_module": "jupyter-js-widgets",
      "model_module_version": "~2.1.4",
      "model_name": "IntSliderModel",
      "state": {
       "_model_module_version": "~2.1.4",
       "_view_module_version": "~2.1.4",
       "description": "C → A",
       "layout": "IPY_MODEL_dabf4b34578446a787cb2d87508bc51c",
       "max": 10,
       "style": "IPY_MODEL_5a9f804788ed403caecb93e289a6eb47",
       "value": 10
      }
     },
     "0cbe7abb613c4c98bb80a191ea002e10": {
      "model_module": "jupyter-js-widgets",
      "model_module_version": "~2.1.4",
      "model_name": "LayoutModel",
      "state": {
       "_model_module_version": "~2.1.4",
       "_view_module_version": "~2.1.4"
      }
     },
     "192571b84f51422daacf854e8ec703a0": {
      "model_module": "jupyter-js-widgets",
      "model_module_version": "~2.1.4",
      "model_name": "LayoutModel",
      "state": {
       "_model_module_version": "~2.1.4",
       "_view_module_version": "~2.1.4"
      }
     },
     "1aabbaef571f4516a73a546d725d9963": {
      "model_module": "jupyter-js-widgets",
      "model_module_version": "~2.1.4",
      "model_name": "IntSliderModel",
      "state": {
       "_model_module_version": "~2.1.4",
       "_view_module_version": "~2.1.4",
       "description": "A → B",
       "layout": "IPY_MODEL_3975f88ed94d4a3aa64e695e5b1a7cb2",
       "max": 10,
       "style": "IPY_MODEL_254b2b280a4a4b81b4ab3ddc1baddd98",
       "value": 10
      }
     },
     "21edf00eb5a24306a40aa4e0fc090e10": {
      "model_module": "jupyter-js-widgets",
      "model_module_version": "~2.1.4",
      "model_name": "IntSliderModel",
      "state": {
       "_model_module_version": "~2.1.4",
       "_view_module_version": "~2.1.4",
       "description": "A → B",
       "layout": "IPY_MODEL_22a5466862bd4b0baa7870e6debedaa1",
       "max": 10,
       "style": "IPY_MODEL_812a72c08e854def8df331de04f89bca",
       "value": 10
      }
     },
     "22a5466862bd4b0baa7870e6debedaa1": {
      "model_module": "jupyter-js-widgets",
      "model_module_version": "~2.1.4",
      "model_name": "LayoutModel",
      "state": {
       "_model_module_version": "~2.1.4",
       "_view_module_version": "~2.1.4"
      }
     },
     "254b2b280a4a4b81b4ab3ddc1baddd98": {
      "model_module": "jupyter-js-widgets",
      "model_module_version": "~2.1.4",
      "model_name": "SliderStyleModel",
      "state": {
       "_model_module_version": "~2.1.4",
       "_view_module_version": "~2.1.4"
      }
     },
     "2f7a00807f384ae89aa4bb67a5422744": {
      "model_module": "jupyter-js-widgets",
      "model_module_version": "~2.1.4",
      "model_name": "SliderStyleModel",
      "state": {
       "_model_module_version": "~2.1.4",
       "_view_module_version": "~2.1.4"
      }
     },
     "3975f88ed94d4a3aa64e695e5b1a7cb2": {
      "model_module": "jupyter-js-widgets",
      "model_module_version": "~2.1.4",
      "model_name": "LayoutModel",
      "state": {
       "_model_module_version": "~2.1.4",
       "_view_module_version": "~2.1.4"
      }
     },
     "3d9ca6a8f20843dfb87a3e5dcbd12f6e": {
      "model_module": "jupyter-js-widgets",
      "model_module_version": "~2.1.4",
      "model_name": "LayoutModel",
      "state": {
       "_model_module_version": "~2.1.4",
       "_view_module_version": "~2.1.4"
      }
     },
     "4159a9df83d64c13924082d7c60468ae": {
      "model_module": "jupyter-js-widgets",
      "model_module_version": "~2.1.4",
      "model_name": "LayoutModel",
      "state": {
       "_model_module_version": "~2.1.4",
       "_view_module_version": "~2.1.4"
      }
     },
     "45d11821479f4fdcbd59447dadc66240": {
      "model_module": "jupyter-js-widgets",
      "model_module_version": "~2.1.4",
      "model_name": "SliderStyleModel",
      "state": {
       "_model_module_version": "~2.1.4",
       "_view_module_version": "~2.1.4"
      }
     },
     "4898e5eefa994822a7bad0d537487796": {
      "model_module": "jupyter-js-widgets",
      "model_module_version": "~2.1.4",
      "model_name": "HBoxModel",
      "state": {
       "_model_module_version": "~2.1.4",
       "_view_module_version": "~2.1.4",
       "children": [
        "IPY_MODEL_4fd4d8ae8e8c461fa7e6ee7e200faa13",
        "IPY_MODEL_7aa293c98a4946f6bea44a00a409a17c"
       ],
       "layout": "IPY_MODEL_bb906d880a714da1999e57db6bad0eb8"
      }
     },
     "4fd4d8ae8e8c461fa7e6ee7e200faa13": {
      "model_module": "jupyter-sankey-widget",
      "model_module_version": "^0.2.0",
      "model_name": "SankeyModel",
      "state": {
       "_dom_classes": [],
       "_model_module_version": "^0.2.0",
       "_view_module_version": "^0.2.0",
       "layout": "IPY_MODEL_192571b84f51422daacf854e8ec703a0",
       "links": [
        {
         "source": "start",
         "target": "A",
         "value": 10
        },
        {
         "source": "A",
         "target": "B",
         "value": 10
        },
        {
         "source": "C",
         "target": "A",
         "value": 10
        },
        {
         "source": "A",
         "target": "C",
         "value": 10
        }
       ],
       "msg_throttle": 1,
       "order": [],
       "png": "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",
       "scale": 6.333333333333333,
       "svg": "<?xml version=\"1.0\" standalone=\"no\"?><!DOCTYPE svg PUBLIC \"-//W3C//DTD SVG 1.1//EN\" \"http://www.w3.org/Graphics/SVG/1.1/DTD/svg11.dtd\"><svg xmlns=\"http://www.w3.org/2000/svg\" width=\"600\" height=\"400\" viewBox=\"0 0 600 400\" style=\"font-family: &quot;Helvetica Neue&quot;,Helvetica,Arial,sans-serif;\"><g class=\"sankey\" transform=\"translate(100,10)\"><g class=\"groups\"/><g class=\"links\"><g class=\"link\" style=\"opacity: 0.8;\"><path d=\"M0,158.33333333333334 A36.244829178208654 36.244829178208654 0.7222308283568708 0 0 23.96001327797061,149.284191421252 L112.96040971559677,70.87283672656193 A131.66666666666666 131.66666666666666 0.7222308283568708 0 1 199.99999999999997,37.99999999999999 L199.99999999999997,101.33333333333331 A68.33333333333334 68.33333333333334 0.7222308283568708 0 0 154.82755440936035,118.39391948256167 L65.82715797173418,196.8052741772517 A99.57816251154199 99.57816251154199 0.7222308283568708 0 1 0,221.66666666666666 Z\" style=\"fill: rgb(31, 119, 180);\"/><title>start → A\n10.0</title></g><g class=\"link\" style=\"opacity: 0.8;\"><path d=\"M199.99999999999997,37.99999999999999 A0 0 0 0 0 199.99999999999997,37.99999999999999 L400,37.99999999999999 A0 0 0 0 0 400,37.99999999999999 L400,101.33333333333331 A0 0 0 0 0 400,101.33333333333331 L199.99999999999997,101.33333333333331 A0 0 0 0 0 199.99999999999997,101.33333333333331 Z\" style=\"fill: rgb(31, 119, 180);\"/><title>A → B\n10.0</title></g><g class=\"link\" style=\"opacity: 0.8;\"><path d=\"M400,158.33333333333331 A68.33333333333333 68.33333333333333 1.5707963267948966 0 1 468.33333333333337,226.66666666666663 L468.33333333333337,273.66666666666663 A68.33333333333333 68.33333333333333 1.5707963267948966 0 1 400,342 L400,278.66666666666663 A5 5 1.5707963267948966 0 0 405,273.66666666666663 L405,226.66666666666663 A5 5 1.5707963267948966 0 0 400,221.66666666666663 ZM199.99999999999997,278.66666666666663 A0 0 0 0 0 199.99999999999997,278.66666666666663 L400,278.66666666666663 A0 0 0 0 0 400,278.66666666666663 L400,342 A0 0 0 0 0 400,342 L199.99999999999997,342 A0 0 0 0 0 199.99999999999997,342 ZM199.99999999999997,278.66666666666663 A5 5 1.5707963267948966 0 1 194.99999999999997,273.66666666666663 L194.99999999999997,169.66666666666666 A5 5 1.5707963267948966 0 1 199.99999999999997,164.66666666666666 L199.99999999999997,101.33333333333334 A68.33333333333333 68.33333333333333 1.5707963267948966 0 0 131.66666666666666,169.66666666666666 L131.66666666666666,273.66666666666663 A68.33333333333333 68.33333333333333 1.5707963267948966 0 0 199.99999999999997,342 Z\" style=\"fill: rgb(31, 119, 180);\"/><title>C → A\n10.0</title></g><g class=\"link\" style=\"opacity: 0.8;\"><path d=\"M199.99999999999997,101.33333333333334 A145.4798245614036 145.4798245614036 0.34053304075283597 0 1 248.5887442520895,109.68725484785887 L372.5639286030171,153.61621642394832 A82.14649122807026 82.14649122807026 0.34053304075283597 0 0 400,158.33333333333331 L400,221.66666666666663 A145.4798245614036 145.4798245614036 0.34053304075283597 0 1 351.41125574791045,213.3127451521411 L227.43607139698292,169.38378357605166 A82.14649122807026 82.14649122807026 0.34053304075283597 0 0 199.99999999999997,164.66666666666666 Z\" style=\"fill: rgb(31, 119, 180);\"/><title>A → C\n10.0</title></g></g><g class=\"nodes\"><g class=\"node\" transform=\"translate(0, 158.3333282470703)\"><title>start</title><text dy=\".35em\" text-anchor=\"end\" transform=\"translate(-4, 31.66666603088379)\">start</text><line x1=\"0\" x2=\"0\" y1=\"0\" y2=\"63.33333333333333\" style=\"stroke: rgb(0, 0, 0);\"/><rect x=\"-5\" y=\"-5\" width=\"10\" style=\"fill: none; visibility: hidden; pointer-events: all;\" height=\"68.33333333333333\"/></g><g class=\"node\" transform=\"translate(200, 38)\"><title>A</title><text dy=\".35em\" text-anchor=\"start\" transform=\"translate(-4, -10)\">A</text><line x1=\"0\" x2=\"0\" y1=\"-5\" y2=\"126.66666666666666\" style=\"stroke: rgb(0, 0, 0);\"/><rect x=\"-5\" y=\"-5\" width=\"10\" style=\"fill: none; visibility: hidden; pointer-events: all;\" height=\"131.66666666666666\"/></g><g class=\"node\" transform=\"translate(400,38)\"><title>B</title><text dy=\".35em\" text-anchor=\"start\" transform=\"translate(4, 31.66666603088379)\">B</text><line x1=\"0\" x2=\"0\" y1=\"0\" y2=\"63.33333333333333\" style=\"stroke: rgb(0, 0, 0);\"/><rect x=\"-5\" y=\"-5\" width=\"10\" style=\"fill: none; visibility: hidden; pointer-events: all;\" height=\"68.33333333333333\"/></g><g class=\"node\" transform=\"translate(400,158.33333333333331)\"><title>C</title><text dy=\".35em\" text-anchor=\"start\" transform=\"translate(-4, -10)\">C</text><line x1=\"0\" x2=\"0\" y1=\"-5\" y2=\"63.33333333333333\" style=\"stroke: rgb(0, 0, 0);\"/><rect x=\"-5\" y=\"-5\" width=\"10\" style=\"fill: none; visibility: hidden; pointer-events: all;\" height=\"68.33333333333333\"/></g></g><g class=\"slice-titles\"/></g></svg>"
      }
     },
     "5a9f804788ed403caecb93e289a6eb47": {
      "model_module": "jupyter-js-widgets",
      "model_module_version": "~2.1.4",
      "model_name": "SliderStyleModel",
      "state": {
       "_model_module_version": "~2.1.4",
       "_view_module_version": "~2.1.4"
      }
     },
     "5e148d0ece0c435d8eccadcc83bf2fd4": {
      "model_module": "jupyter-js-widgets",
      "model_module_version": "~2.1.4",
      "model_name": "LayoutModel",
      "state": {
       "_model_module_version": "~2.1.4",
       "_view_module_version": "~2.1.4"
      }
     },
     "70dfb8bace2e48beb8f313825cc90b39": {
      "model_module": "jupyter-js-widgets",
      "model_module_version": "~2.1.4",
      "model_name": "LayoutModel",
      "state": {
       "_model_module_version": "~2.1.4",
       "_view_module_version": "~2.1.4"
      }
     },
     "76a8e5e9c52744129616ad54a3419c47": {
      "model_module": "jupyter-sankey-widget",
      "model_module_version": "^0.2.0",
      "model_name": "SankeyModel",
      "state": {
       "_dom_classes": [],
       "_model_module_version": "^0.2.0",
       "_view_module_version": "^0.2.0",
       "layout": "IPY_MODEL_d7b66e65196842bd9aa71524dca8d320",
       "links": [
        {
         "source": "start",
         "target": "A",
         "value": 10
        },
        {
         "source": "A",
         "target": "B",
         "value": 10
        },
        {
         "source": "C",
         "target": "A",
         "value": 10
        },
        {
         "source": "A",
         "target": "C",
         "value": 10
        }
       ],
       "msg_throttle": 1,
       "order": [],
       "png": "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",
       "scale": 6.333333333333333,
       "svg": "<?xml version=\"1.0\" standalone=\"no\"?><!DOCTYPE svg PUBLIC \"-//W3C//DTD SVG 1.1//EN\" \"http://www.w3.org/Graphics/SVG/1.1/DTD/svg11.dtd\"><svg xmlns=\"http://www.w3.org/2000/svg\" width=\"600\" height=\"400\" viewBox=\"0 0 600 400\" style=\"font-family: &quot;Helvetica Neue&quot;,Helvetica,Arial,sans-serif;\"><g class=\"sankey\" transform=\"translate(100,10)\"><g class=\"groups\"/><g class=\"links\"><g class=\"link\" style=\"opacity: 0.8;\"><path d=\"M0,158.33333333333334 A36.244829178208654 36.244829178208654 0.7222308283568708 0 0 23.96001327797061,149.284191421252 L112.96040971559677,70.87283672656193 A131.66666666666666 131.66666666666666 0.7222308283568708 0 1 199.99999999999997,37.99999999999999 L199.99999999999997,101.33333333333331 A68.33333333333334 68.33333333333334 0.7222308283568708 0 0 154.82755440936035,118.39391948256167 L65.82715797173418,196.8052741772517 A99.57816251154199 99.57816251154199 0.7222308283568708 0 1 0,221.66666666666666 Z\" style=\"fill: rgb(31, 119, 180);\"/><title>start → A\n10.0</title></g><g class=\"link\" style=\"opacity: 0.8;\"><path d=\"M199.99999999999997,37.99999999999999 A0 0 0 0 0 199.99999999999997,37.99999999999999 L400,37.99999999999999 A0 0 0 0 0 400,37.99999999999999 L400,101.33333333333331 A0 0 0 0 0 400,101.33333333333331 L199.99999999999997,101.33333333333331 A0 0 0 0 0 199.99999999999997,101.33333333333331 Z\" style=\"fill: rgb(31, 119, 180);\"/><title>A → B\n10.0</title></g><g class=\"link\" style=\"opacity: 0.8;\"><path d=\"M400,158.33333333333331 A68.33333333333333 68.33333333333333 1.5707963267948966 0 1 468.33333333333337,226.66666666666663 L468.33333333333337,273.66666666666663 A68.33333333333333 68.33333333333333 1.5707963267948966 0 1 400,342 L400,278.66666666666663 A5 5 1.5707963267948966 0 0 405,273.66666666666663 L405,226.66666666666663 A5 5 1.5707963267948966 0 0 400,221.66666666666663 ZM199.99999999999997,278.66666666666663 A0 0 0 0 0 199.99999999999997,278.66666666666663 L400,278.66666666666663 A0 0 0 0 0 400,278.66666666666663 L400,342 A0 0 0 0 0 400,342 L199.99999999999997,342 A0 0 0 0 0 199.99999999999997,342 ZM199.99999999999997,278.66666666666663 A5 5 1.5707963267948966 0 1 194.99999999999997,273.66666666666663 L194.99999999999997,169.66666666666666 A5 5 1.5707963267948966 0 1 199.99999999999997,164.66666666666666 L199.99999999999997,101.33333333333334 A68.33333333333333 68.33333333333333 1.5707963267948966 0 0 131.66666666666666,169.66666666666666 L131.66666666666666,273.66666666666663 A68.33333333333333 68.33333333333333 1.5707963267948966 0 0 199.99999999999997,342 Z\" style=\"fill: rgb(31, 119, 180);\"/><title>C → A\n10.0</title></g><g class=\"link\" style=\"opacity: 0.8;\"><path d=\"M199.99999999999997,101.33333333333334 A145.4798245614036 145.4798245614036 0.34053304075283597 0 1 248.5887442520895,109.68725484785887 L372.5639286030171,153.61621642394832 A82.14649122807026 82.14649122807026 0.34053304075283597 0 0 400,158.33333333333331 L400,221.66666666666663 A145.4798245614036 145.4798245614036 0.34053304075283597 0 1 351.41125574791045,213.3127451521411 L227.43607139698292,169.38378357605166 A82.14649122807026 82.14649122807026 0.34053304075283597 0 0 199.99999999999997,164.66666666666666 Z\" style=\"fill: rgb(31, 119, 180);\"/><title>A → C\n10.0</title></g></g><g class=\"nodes\"><g class=\"node\" transform=\"translate(0,158.33333333333334)\"><title>start</title><text dy=\".35em\" text-anchor=\"end\" transform=\"translate(-4, 31.66666603088379)\">start</text><line x1=\"0\" x2=\"0\" y1=\"0\" y2=\"63.33333333333333\" style=\"stroke: rgb(0, 0, 0);\"/><rect x=\"-5\" y=\"-5\" width=\"10\" style=\"fill: none; visibility: hidden; pointer-events: all;\" height=\"68.33333333333333\"/></g><g class=\"node\" transform=\"translate(199.99999999999997,38)\"><title>A</title><text dy=\".35em\" text-anchor=\"start\" transform=\"translate(-4, -10)\">A</text><line x1=\"0\" x2=\"0\" y1=\"-5\" y2=\"126.66666666666666\" style=\"stroke: rgb(0, 0, 0);\"/><rect x=\"-5\" y=\"-5\" width=\"10\" style=\"fill: none; visibility: hidden; pointer-events: all;\" height=\"131.66666666666666\"/></g><g class=\"node\" transform=\"translate(400,38)\"><title>B</title><text dy=\".35em\" text-anchor=\"start\" transform=\"translate(4, 31.66666603088379)\">B</text><line x1=\"0\" x2=\"0\" y1=\"0\" y2=\"63.33333333333333\" style=\"stroke: rgb(0, 0, 0);\"/><rect x=\"-5\" y=\"-5\" width=\"10\" style=\"fill: none; visibility: hidden; pointer-events: all;\" height=\"68.33333333333333\"/></g><g class=\"node\" transform=\"translate(400,158.33333333333331)\"><title>C</title><text dy=\".35em\" text-anchor=\"start\" transform=\"translate(-4, -10)\">C</text><line x1=\"0\" x2=\"0\" y1=\"-5\" y2=\"63.33333333333333\" style=\"stroke: rgb(0, 0, 0);\"/><rect x=\"-5\" y=\"-5\" width=\"10\" style=\"fill: none; visibility: hidden; pointer-events: all;\" height=\"68.33333333333333\"/></g></g><g class=\"slice-titles\"/></g></svg>"
      }
     },
     "7aa293c98a4946f6bea44a00a409a17c": {
      "model_module": "jupyter-js-widgets",
      "model_module_version": "~2.1.4",
      "model_name": "BoxModel",
      "state": {
       "_model_module_version": "~2.1.4",
       "_view_module_version": "~2.1.4",
       "children": [
        "IPY_MODEL_9623ecea0fed4a009284ba989a4ea0b9",
        "IPY_MODEL_1aabbaef571f4516a73a546d725d9963",
        "IPY_MODEL_02adfdb911b94933a54b739d47c054e7",
        "IPY_MODEL_a646faac06b24462a8eb27e6de9b372e"
       ],
       "layout": "IPY_MODEL_4159a9df83d64c13924082d7c60468ae"
      }
     },
     "812a72c08e854def8df331de04f89bca": {
      "model_module": "jupyter-js-widgets",
      "model_module_version": "~2.1.4",
      "model_name": "SliderStyleModel",
      "state": {
       "_model_module_version": "~2.1.4",
       "_view_module_version": "~2.1.4"
      }
     },
     "8b2b566326b4433c9329a70cb3106e57": {
      "model_module": "jupyter-js-widgets",
      "model_module_version": "~2.1.4",
      "model_name": "VBoxModel",
      "state": {
       "_model_module_version": "~2.1.4",
       "_view_module_version": "~2.1.4",
       "children": [
        "IPY_MODEL_d50fcca018d74c84888d761ac7aa5e7d",
        "IPY_MODEL_21edf00eb5a24306a40aa4e0fc090e10",
        "IPY_MODEL_dcf1f2b431d54efcad92e97d8f129498",
        "IPY_MODEL_dc413d664d3140339f640622f01639e8"
       ],
       "layout": "IPY_MODEL_cf15199a80354354896042b8246a7da2"
      }
     },
     "8c5117111b644d48a1e294984d6ce506": {
      "model_module": "jupyter-js-widgets",
      "model_module_version": "~2.1.4",
      "model_name": "LayoutModel",
      "state": {
       "_model_module_version": "~2.1.4",
       "_view_module_version": "~2.1.4"
      }
     },
     "94bfc67053ea4e72b2d192c996c280dc": {
      "model_module": "jupyter-js-widgets",
      "model_module_version": "~2.1.4",
      "model_name": "LayoutModel",
      "state": {
       "_model_module_version": "~2.1.4",
       "_view_module_version": "~2.1.4"
      }
     },
     "9623ecea0fed4a009284ba989a4ea0b9": {
      "model_module": "jupyter-js-widgets",
      "model_module_version": "~2.1.4",
      "model_name": "IntSliderModel",
      "state": {
       "_model_module_version": "~2.1.4",
       "_view_module_version": "~2.1.4",
       "description": "start → A",
       "layout": "IPY_MODEL_e0bb9f27b9ec4eb7a67d0400eb188960",
       "max": 10,
       "style": "IPY_MODEL_e1c4b430cd82476690cca28760b3d4b2",
       "value": 10
      }
     },
     "9d1d5c44db7642829ffe47403ec5805b": {
      "model_module": "jupyter-js-widgets",
      "model_module_version": "~2.1.4",
      "model_name": "HBoxModel",
      "state": {
       "_model_module_version": "~2.1.4",
       "_view_module_version": "~2.1.4",
       "children": [
        "IPY_MODEL_76a8e5e9c52744129616ad54a3419c47",
        "IPY_MODEL_8b2b566326b4433c9329a70cb3106e57"
       ],
       "layout": "IPY_MODEL_8c5117111b644d48a1e294984d6ce506"
      }
     },
     "a646faac06b24462a8eb27e6de9b372e": {
      "model_module": "jupyter-js-widgets",
      "model_module_version": "~2.1.4",
      "model_name": "IntSliderModel",
      "state": {
       "_model_module_version": "~2.1.4",
       "_view_module_version": "~2.1.4",
       "description": "A → C",
       "layout": "IPY_MODEL_3d9ca6a8f20843dfb87a3e5dcbd12f6e",
       "max": 10,
       "style": "IPY_MODEL_c9dea8c8c37a4d268b1b06d546327199",
       "value": 10
      }
     },
     "aa998225645345b0b4c64bb075efadd3": {
      "model_module": "jupyter-js-widgets",
      "model_module_version": "~2.1.4",
      "model_name": "LayoutModel",
      "state": {
       "_model_module_version": "~2.1.4",
       "_view_module_version": "~2.1.4"
      }
     },
     "bb906d880a714da1999e57db6bad0eb8": {
      "model_module": "jupyter-js-widgets",
      "model_module_version": "~2.1.4",
      "model_name": "LayoutModel",
      "state": {
       "_model_module_version": "~2.1.4",
       "_view_module_version": "~2.1.4"
      }
     },
     "c9dea8c8c37a4d268b1b06d546327199": {
      "model_module": "jupyter-js-widgets",
      "model_module_version": "~2.1.4",
      "model_name": "SliderStyleModel",
      "state": {
       "_model_module_version": "~2.1.4",
       "_view_module_version": "~2.1.4"
      }
     },
     "cf15199a80354354896042b8246a7da2": {
      "model_module": "jupyter-js-widgets",
      "model_module_version": "~2.1.4",
      "model_name": "LayoutModel",
      "state": {
       "_model_module_version": "~2.1.4",
       "_view_module_version": "~2.1.4"
      }
     },
     "d50fcca018d74c84888d761ac7aa5e7d": {
      "model_module": "jupyter-js-widgets",
      "model_module_version": "~2.1.4",
      "model_name": "IntSliderModel",
      "state": {
       "_model_module_version": "~2.1.4",
       "_view_module_version": "~2.1.4",
       "description": "start → A",
       "layout": "IPY_MODEL_94bfc67053ea4e72b2d192c996c280dc",
       "max": 10,
       "style": "IPY_MODEL_2f7a00807f384ae89aa4bb67a5422744",
       "value": 10
      }
     },
     "d7b66e65196842bd9aa71524dca8d320": {
      "model_module": "jupyter-js-widgets",
      "model_module_version": "~2.1.4",
      "model_name": "LayoutModel",
      "state": {
       "_model_module_version": "~2.1.4",
       "_view_module_version": "~2.1.4"
      }
     },
     "dabf4b34578446a787cb2d87508bc51c": {
      "model_module": "jupyter-js-widgets",
      "model_module_version": "~2.1.4",
      "model_name": "LayoutModel",
      "state": {
       "_model_module_version": "~2.1.4",
       "_view_module_version": "~2.1.4"
      }
     },
     "dc091939c914414e8d28d18cc3155bc1": {
      "model_module": "jupyter-js-widgets",
      "model_module_version": "~2.1.4",
      "model_name": "VBoxModel",
      "state": {
       "_model_module_version": "~2.1.4",
       "_view_module_version": "~2.1.4",
       "children": [
        "IPY_MODEL_9623ecea0fed4a009284ba989a4ea0b9",
        "IPY_MODEL_1aabbaef571f4516a73a546d725d9963",
        "IPY_MODEL_02adfdb911b94933a54b739d47c054e7",
        "IPY_MODEL_a646faac06b24462a8eb27e6de9b372e"
       ],
       "layout": "IPY_MODEL_70dfb8bace2e48beb8f313825cc90b39"
      }
     },
     "dc413d664d3140339f640622f01639e8": {
      "model_module": "jupyter-js-widgets",
      "model_module_version": "~2.1.4",
      "model_name": "IntSliderModel",
      "state": {
       "_model_module_version": "~2.1.4",
       "_view_module_version": "~2.1.4",
       "description": "A → C",
       "layout": "IPY_MODEL_aa998225645345b0b4c64bb075efadd3",
       "max": 10,
       "style": "IPY_MODEL_45d11821479f4fdcbd59447dadc66240",
       "value": 10
      }
     },
     "dcf1f2b431d54efcad92e97d8f129498": {
      "model_module": "jupyter-js-widgets",
      "model_module_version": "~2.1.4",
      "model_name": "IntSliderModel",
      "state": {
       "_model_module_version": "~2.1.4",
       "_view_module_version": "~2.1.4",
       "description": "C → A",
       "layout": "IPY_MODEL_0cbe7abb613c4c98bb80a191ea002e10",
       "max": 10,
       "style": "IPY_MODEL_ee61a9456bfc4deb8f37a5c4b2ad8873",
       "value": 10
      }
     },
     "e0bb9f27b9ec4eb7a67d0400eb188960": {
      "model_module": "jupyter-js-widgets",
      "model_module_version": "~2.1.4",
      "model_name": "LayoutModel",
      "state": {
       "_model_module_version": "~2.1.4",
       "_view_module_version": "~2.1.4"
      }
     },
     "e1c4b430cd82476690cca28760b3d4b2": {
      "model_module": "jupyter-js-widgets",
      "model_module_version": "~2.1.4",
      "model_name": "SliderStyleModel",
      "state": {
       "_model_module_version": "~2.1.4",
       "_view_module_version": "~2.1.4"
      }
     },
     "e50e75536abe47a4bfc4e7cf32043088": {
      "model_module": "jupyter-js-widgets",
      "model_module_version": "~2.1.4",
      "model_name": "HBoxModel",
      "state": {
       "_model_module_version": "~2.1.4",
       "_view_module_version": "~2.1.4",
       "children": [
        "IPY_MODEL_4fd4d8ae8e8c461fa7e6ee7e200faa13",
        "IPY_MODEL_dc091939c914414e8d28d18cc3155bc1"
       ],
       "layout": "IPY_MODEL_5e148d0ece0c435d8eccadcc83bf2fd4"
      }
     },
     "ee61a9456bfc4deb8f37a5c4b2ad8873": {
      "model_module": "jupyter-js-widgets",
      "model_module_version": "~2.1.4",
      "model_name": "SliderStyleModel",
      "state": {
       "_model_module_version": "~2.1.4",
       "_view_module_version": "~2.1.4"
      }
     }
    },
    "version_major": 1,
    "version_minor": 0
   }
  }
 },
 "nbformat": 4,
 "nbformat_minor": 1
}
